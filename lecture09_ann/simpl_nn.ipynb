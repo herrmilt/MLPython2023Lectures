{
 "cells": [
  {
   "cell_type": "markdown",
   "id": "09799df3",
   "metadata": {},
   "source": [
    "# Simply surfaces fitting"
   ]
  },
  {
   "cell_type": "code",
   "execution_count": null,
   "id": "b137ccb8",
   "metadata": {
    "scrolled": true
   },
   "outputs": [],
   "source": [
    "import numpy as np\n",
    "import pandas as pd\n",
    "import os\n",
    "\n",
    "os.environ['TF_CPP_MIN_LOG_LEVEL'] = '3'\n",
    "import warnings\n",
    "warnings.filterwarnings(\"ignore\")\n",
    "import os\n",
    "os.environ['TF_CPP_MIN_LOG_LEVEL'] = '3'\n",
    "import tensorflow as tf\n",
    "from tensorflow import keras\n",
    "gpus = tf.config.experimental.list_physical_devices('GPU')\n",
    "\n",
    "if gpus:\n",
    "    tf.config.experimental.set_visible_devices(gpus[0], 'GPU')\n",
    "    tf.config.experimental.set_memory_growth(gpus[0], True)\n",
    "    print('GPU', tf.test.gpu_device_name(), 'configured')"
   ]
  },
  {
   "cell_type": "code",
   "execution_count": null,
   "id": "e2abc493",
   "metadata": {},
   "outputs": [],
   "source": [
    "points = [\n",
    "    (0, 0),\n",
    "    (0.1, 0),\n",
    "    (0.2, 0), \n",
    "    (0.5, 1),\n",
    "    (0.6, 1),\n",
    "    (0.55, 1),\n",
    "    (0.8, 0),\n",
    "    (0.83, 0),\n",
    "    (0.9, 0)\n",
    "]\n",
    "\n",
    "data = np.array(points, dtype=float)\n",
    "\n",
    "# Create the dataset\n",
    "X = data[:, 0]\n",
    "y = data[:, 1]"
   ]
  },
  {
   "cell_type": "code",
   "execution_count": null,
   "id": "73341eb9",
   "metadata": {},
   "outputs": [],
   "source": [
    "import matplotlib.pyplot as plt\n",
    "# Plot the points with colors based on y-values\n",
    "fig = plt.figure(figsize=(5, 2))\n",
    "plt.scatter(X, y, c=y, cmap='coolwarm')\n",
    "\n",
    "# Set labels and title\n",
    "plt.xlabel('X')\n",
    "plt.ylabel('Y')\n",
    "plt.title('Plot of Points with Colors')\n",
    "plt.show()"
   ]
  },
  {
   "cell_type": "code",
   "execution_count": null,
   "id": "04efc21b",
   "metadata": {},
   "outputs": [],
   "source": [
    "# Define the model architecture\n",
    "model = keras.Sequential([\n",
    "    keras.layers.Dense(2, activation='softplus', input_shape=[1]),\n",
    "    keras.layers.Dense(1)\n",
    "])\n",
    "\n",
    "# Compile the model\n",
    "optimizer = keras.optimizers.Adam(learning_rate=0.1)\n",
    "model.compile(optimizer=optimizer, loss='mean_squared_error')\n",
    "\n",
    "# Train the model\n",
    "history = model.fit(X, y, epochs=1000, verbose=0)"
   ]
  },
  {
   "cell_type": "code",
   "execution_count": null,
   "id": "e5b4bb60",
   "metadata": {
    "scrolled": true
   },
   "outputs": [],
   "source": [
    "# Make predictions\n",
    "y_pred = model.predict(X)\n",
    "# Print the predictions\n",
    "print(y_pred)"
   ]
  },
  {
   "cell_type": "code",
   "execution_count": null,
   "id": "2e5136ec",
   "metadata": {
    "scrolled": true
   },
   "outputs": [],
   "source": [
    "x_plot = np.linspace(0, 1, 100)\n",
    "y_plot = model.predict(x_plot)\n",
    "\n",
    "fig = plt.figure(figsize=(5, 2))\n",
    "plt.scatter(X, y, c=y, cmap='coolwarm', label='Original Data')\n",
    "plt.plot(x_plot, y_plot, color='green', label='Predicted Output')\n",
    "plt.show()"
   ]
  },
  {
   "cell_type": "code",
   "execution_count": null,
   "id": "891635b3",
   "metadata": {},
   "outputs": [],
   "source": [
    "from sklearn import metrics \n",
    "y_pred = np.where(y_pred > 0.5, 1, 0)\n",
    "metrics.accuracy_score(y, y_pred)"
   ]
  },
  {
   "cell_type": "markdown",
   "id": "c4423ee9",
   "metadata": {},
   "source": [
    "Lets see the evolution of the loss value on time"
   ]
  },
  {
   "cell_type": "code",
   "execution_count": null,
   "id": "424fb8f1",
   "metadata": {},
   "outputs": [],
   "source": [
    "# Get the loss values from the training history\n",
    "loss_values = history.history['loss']\n",
    "\n",
    "# Plot the loss function over time\n",
    "plt.plot(loss_values)\n",
    "plt.xlabel('Epochs')\n",
    "plt.ylabel('Loss')\n",
    "plt.title('Loss Function over Time')\n",
    "plt.show()"
   ]
  },
  {
   "cell_type": "markdown",
   "id": "f5f0b4db",
   "metadata": {},
   "source": [
    "## A little more complex example"
   ]
  },
  {
   "cell_type": "code",
   "execution_count": null,
   "id": "2e9d01d9",
   "metadata": {},
   "outputs": [],
   "source": [
    "points = [\n",
    "    (0, 0),\n",
    "    (0.1, 0),\n",
    "    (0.2, 0), \n",
    "    (0.5, 1),\n",
    "    (0.6, 1),\n",
    "    (0.55, 1),\n",
    "    (0.8, 0),\n",
    "    (0.83, 0),\n",
    "    (0.9, 0),\n",
    "    (1.5, 1),\n",
    "    (1.6, 1),\n",
    "    (1.55, 1),\n",
    "    (1.8, 0),\n",
    "    (1.83, 0),\n",
    "    (1.9, 0)\n",
    "]\n",
    "\n",
    "data = np.array(points, dtype=float)\n",
    "\n",
    "# Create the dataset\n",
    "X = data[:, 0]\n",
    "y = data[:, 1]\n",
    "\n",
    "import matplotlib.pyplot as plt\n",
    "# Plot the points with colors based on y-values\n",
    "fig = plt.figure(figsize=(5, 2))\n",
    "plt.scatter(X, y, c=y, cmap='coolwarm')"
   ]
  },
  {
   "cell_type": "code",
   "execution_count": null,
   "id": "7fe9e619",
   "metadata": {},
   "outputs": [],
   "source": [
    "# Define the model architecture\n",
    "model = keras.Sequential([\n",
    "    keras.layers.Dense(20, activation='softplus', input_shape=[1]),\n",
    "    keras.layers.Dense(1)\n",
    "])\n",
    "\n",
    "# Compile the model\n",
    "optimizer = keras.optimizers.Adam(learning_rate=0.1)\n",
    "model.compile(optimizer=optimizer, loss='mean_squared_error')\n",
    "\n",
    "# Train the model\n",
    "model.fit(X, y, epochs=1000, verbose=0)\n",
    "\n",
    "# Make predictions\n",
    "y_pred = model.predict(X)"
   ]
  },
  {
   "cell_type": "code",
   "execution_count": null,
   "id": "f34db39d",
   "metadata": {},
   "outputs": [],
   "source": [
    "y_pred = np.where(y_pred > 0.5, 1, 0)\n",
    "metrics.accuracy_score(y, y_pred)"
   ]
  },
  {
   "cell_type": "code",
   "execution_count": null,
   "id": "e1bcc8c1",
   "metadata": {},
   "outputs": [],
   "source": [
    "x_plot = np.linspace(0, 2, 100)\n",
    "y_plot = model.predict(x_plot)\n",
    "\n",
    "fig = plt.figure(figsize=(5, 2))\n",
    "plt.scatter(X, y, c=y, cmap='coolwarm', label='Original Data')\n",
    "plt.plot(x_plot, y_plot, color='green', label='Predicted Output')\n",
    "plt.show()"
   ]
  },
  {
   "cell_type": "markdown",
   "id": "2b8cc5df",
   "metadata": {},
   "source": [
    "The network was not able to deal with the complexity of the problem\n",
    "- Probably underfited\n",
    "\n",
    "We need to modify the network structure of the parameters in order to perform better\n",
    "\n",
    "## More epochs"
   ]
  },
  {
   "cell_type": "code",
   "execution_count": null,
   "id": "2a6e2c92",
   "metadata": {},
   "outputs": [],
   "source": [
    "# Define the model architecture\n",
    "model = keras.Sequential([\n",
    "    keras.layers.Dense(2, activation='softplus', input_shape=[1]),\n",
    "    keras.layers.Dense(1)\n",
    "])\n",
    "\n",
    "# Compile the model\n",
    "optimizer = keras.optimizers.Adam(learning_rate=0.1)\n",
    "model.compile(optimizer=optimizer, loss='mean_squared_error')\n",
    "\n",
    "# Train the model\n",
    "model.fit(X, y, epochs=3000, verbose=0)\n",
    "\n",
    "# Make predictions\n",
    "y_pred = model.predict(X)\n",
    "\n",
    "y_pred = np.where(y_pred > 0.5, 1, 0)\n",
    "metrics.accuracy_score(y, y_pred)"
   ]
  },
  {
   "cell_type": "markdown",
   "id": "4f0f0182",
   "metadata": {},
   "source": [
    "It is not improving\n",
    "\n",
    "Lets add more neurons to the layer"
   ]
  },
  {
   "cell_type": "code",
   "execution_count": null,
   "id": "1f6f977e",
   "metadata": {},
   "outputs": [],
   "source": [
    "results = []\n",
    "for neurons in range(2, 20, 3):\n",
    "    # Define the model architecture\n",
    "    model = keras.Sequential([\n",
    "        keras.layers.Dense(neurons, activation='softplus', input_shape=[1]),\n",
    "        keras.layers.Dense(1)\n",
    "    ])\n",
    "\n",
    "    # Compile the model\n",
    "    optimizer = keras.optimizers.Adam(learning_rate=0.1)\n",
    "    model.compile(optimizer=optimizer, loss='mean_squared_error')\n",
    "\n",
    "    # Train the model\n",
    "    model.fit(X, y, epochs=1000, verbose=0)\n",
    "\n",
    "    # Make predictions\n",
    "    y_pred = model.predict(X)\n",
    "\n",
    "    y_pred = np.where(y_pred > 0.5, 1, 0)\n",
    "    acc = metrics.accuracy_score(y, y_pred)\n",
    "    \n",
    "    results.append((neurons, acc))\n",
    "    \n",
    "to_show = np.array(results)\n",
    "plt.scatter(to_show[:,0], to_show[:,1])"
   ]
  },
  {
   "cell_type": "markdown",
   "id": "a4aa07d7",
   "metadata": {},
   "source": [
    "Lets add one more layer"
   ]
  },
  {
   "cell_type": "code",
   "execution_count": null,
   "id": "626538ae",
   "metadata": {},
   "outputs": [],
   "source": [
    "# Define the model architecture\n",
    "model = keras.Sequential([\n",
    "    keras.layers.Dense(10, activation='softplus', input_shape=[1]),\n",
    "    keras.layers.Dense(10, activation='softplus'),\n",
    "    keras.layers.Dense(1)\n",
    "])\n",
    "\n",
    "# Compile the model\n",
    "optimizer = keras.optimizers.Adam(learning_rate=0.1)\n",
    "model.compile(optimizer=optimizer, loss='mean_squared_error')\n",
    "\n",
    "# Train the model\n",
    "model.fit(X, y, epochs=1000, verbose=0)\n",
    "\n",
    "# Make predictions\n",
    "y_pred = model.predict(X)\n",
    "\n",
    "y_pred = np.where(y_pred > 0.5, 1, 0)\n",
    "metrics.accuracy_score(y, y_pred)"
   ]
  },
  {
   "cell_type": "code",
   "execution_count": null,
   "id": "bff88380",
   "metadata": {
    "scrolled": false
   },
   "outputs": [],
   "source": [
    "x_plot = np.linspace(0, 2, 100)\n",
    "y_plot = model.predict(x_plot)\n",
    "\n",
    "fig = plt.figure(figsize=(5, 2))\n",
    "plt.scatter(X, y, c=y, cmap='coolwarm', label='Original Data')\n",
    "plt.plot(x_plot, y_plot, color='green', label='Predicted Output')\n",
    "plt.show()"
   ]
  },
  {
   "cell_type": "markdown",
   "id": "94ae56eb",
   "metadata": {},
   "source": [
    "You can see that the result changes with different executions of the network. Lets create more objects."
   ]
  },
  {
   "cell_type": "code",
   "execution_count": null,
   "id": "593b480f",
   "metadata": {},
   "outputs": [],
   "source": [
    "k = 10\n",
    "# Repeat X and y vectors\n",
    "X = np.repeat(X, k)\n",
    "y = np.repeat(y, k)"
   ]
  },
  {
   "cell_type": "code",
   "execution_count": null,
   "id": "0053e863",
   "metadata": {},
   "outputs": [],
   "source": [
    "# Train the model\n",
    "model.fit(X, y, epochs=1000, verbose=0)\n",
    "\n",
    "# Make predictions\n",
    "y_pred = model.predict(X)\n",
    "\n",
    "y_pred = np.where(y_pred > 0.5, 1, 0)\n",
    "metrics.accuracy_score(y, y_pred)"
   ]
  },
  {
   "cell_type": "markdown",
   "id": "6e04ebac",
   "metadata": {},
   "source": [
    "Conclusion:\n",
    "- Give me enough neurons and layers, enough epochs, and I will fit anything\n",
    "- The more degrees of freedom, the more objects are necessary for a good fit."
   ]
  }
 ],
 "metadata": {
  "kernelspec": {
   "display_name": "Python [conda env:python_lectures]",
   "language": "python",
   "name": "conda-env-python_lectures-py"
  },
  "language_info": {
   "codemirror_mode": {
    "name": "ipython",
    "version": 3
   },
   "file_extension": ".py",
   "mimetype": "text/x-python",
   "name": "python",
   "nbconvert_exporter": "python",
   "pygments_lexer": "ipython3",
   "version": "3.8.16"
  }
 },
 "nbformat": 4,
 "nbformat_minor": 5
}
