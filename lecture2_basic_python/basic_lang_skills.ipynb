{
 "cells": [
  {
   "cell_type": "markdown",
   "id": "6ade308e",
   "metadata": {},
   "source": [
    "# Basic language skills\n",
    "<a id='sec_basic_lang_skills'></a>\n",
    "\n",
    "### Expressions\n",
    "In Python, an expression is a combination of values, variables, and operators that evaluates to a result. Here's an example of an expression:"
   ]
  },
  {
   "cell_type": "code",
   "execution_count": null,
   "id": "a70e8b5d",
   "metadata": {
    "scrolled": true
   },
   "outputs": [],
   "source": [
    "2 + 3 * 4"
   ]
  },
  {
   "cell_type": "markdown",
   "id": "d4cff2be",
   "metadata": {},
   "source": [
    "In this expression, we have the values 2, 3, and 4, and the operators + and *. The expression will be evaluated, and the result will be returned.\n",
    "\n",
    "### Data Types\n",
    "Python has several built-in data types, including:\n",
    "\n",
    "- Integer: Represents whole numbers without decimals. Example: 42\n",
    "- Float: Represents real numbers with decimals. Example: 3.14\n",
    "- String: Represents a sequence of characters. Example: 'Hello, World!'\n",
    "- Boolean: Represents either True or False.\n",
    "- List: Represents an ordered collection of items. Example: [1, 2, 3]\n",
    "- Tuple: Similar to a list, but immutable (cannot be modified). Example: (1, 2, 3)\n",
    "- Dictionary: Represents a collection of key-value pairs. Example: {'name': 'John', 'age': 25}\n",
    "\n",
    "Here's an example of using different data types in a Jupyter Notebook:"
   ]
  },
  {
   "cell_type": "code",
   "execution_count": null,
   "id": "a19afd70",
   "metadata": {},
   "outputs": [],
   "source": [
    "age = 25\n",
    "height = 1.75\n",
    "name = 'John Doe'\n",
    "is_student = True\n",
    "\n",
    "name"
   ]
  },
  {
   "cell_type": "markdown",
   "id": "c0065737",
   "metadata": {},
   "source": [
    "### Operations\n",
    "Python supports various operations that can be performed on different data types. Some common operations include:\n",
    "\n",
    "- Arithmetic operators: +, -, *, /, % (modulus), ** (exponentiation)\n",
    "- Comparison operators: == (equal to), != (not equal to), >, <, >=, <=\n",
    "- Logical operators: and, or, not\n",
    "- String concatenation: +\n",
    "- List operations: indexing, slicing, appending, extending, etc."
   ]
  },
  {
   "cell_type": "code",
   "execution_count": null,
   "id": "0f4a8d30",
   "metadata": {},
   "outputs": [],
   "source": [
    "x = 5\n",
    "y = 3\n",
    "x + y"
   ]
  },
  {
   "cell_type": "code",
   "execution_count": null,
   "id": "eb510850",
   "metadata": {},
   "outputs": [],
   "source": [
    "name1 = 'John'\n",
    "name2 = 'Doe'\n",
    "full_name = name1 + ' ' + name2\n",
    "full_name"
   ]
  },
  {
   "cell_type": "markdown",
   "id": "508a6cbe",
   "metadata": {},
   "source": [
    "### Identation\n",
    "\n",
    "In Python, indentation plays a crucial role in defining the structure and scope of your code. It is used to group statements together and indicate the blocks of code that should be executed together. \n",
    "\n",
    "#### Indentation in Control Structures\n",
    "Indentation is particularly important when working with control structures such as loops and conditionals. "
   ]
  },
  {
   "cell_type": "code",
   "execution_count": null,
   "id": "e4e1c2fc",
   "metadata": {},
   "outputs": [],
   "source": [
    "fruits = ['apple', 'banana', 'orange']\n",
    "\n",
    "for fruit in fruits:\n",
    "    print(\"*\" * 10)\n",
    "    print(fruit)  # Indented block of code within the loop\n",
    "\n",
    "if len(fruits) > 3:\n",
    "    print(\"There are more than 3 fruits!\")  # Indented block of code within the if statement\n",
    "    print()"
   ]
  },
  {
   "cell_type": "markdown",
   "id": "80a45a8b",
   "metadata": {},
   "source": [
    "Nesting in identation"
   ]
  },
  {
   "cell_type": "code",
   "execution_count": null,
   "id": "7bfc697c",
   "metadata": {},
   "outputs": [],
   "source": [
    "x = 10\n",
    "y = 5\n",
    "\n",
    "if x > y:\n",
    "    print(\"x is greater than y\")\n",
    "    if x > 10:\n",
    "        print(\"x is also greater than 10\")\n",
    "    else:\n",
    "        print(\"x is not greater than 10\")\n",
    "else:\n",
    "    print(\"x is less than or equal to y\")\n"
   ]
  },
  {
   "cell_type": "markdown",
   "id": "e418b50c",
   "metadata": {},
   "source": [
    "#### Indentation in Function Definitions\n",
    "Indentation is also used in defining functions. The indented block following the function declaration represents the function body. \n",
    "\n"
   ]
  },
  {
   "cell_type": "code",
   "execution_count": null,
   "id": "8afc81e2",
   "metadata": {},
   "outputs": [],
   "source": [
    "def greet(name):\n",
    "    print(\"greet function called!\")\n",
    "    print(\"Hello, \" + name + \"!\")  \n",
    "\n",
    "greet(\"Alice\")  "
   ]
  },
  {
   "cell_type": "markdown",
   "id": "f98841c2",
   "metadata": {},
   "source": [
    "### Variables\n",
    "\n",
    "In Python, variables are dynamically typed, which means you can assign values of different types to the same variable, and the type of the variable can change dynamically. "
   ]
  },
  {
   "cell_type": "code",
   "execution_count": null,
   "id": "52b5214e",
   "metadata": {},
   "outputs": [],
   "source": [
    "x = 5  # Assigning an integer value to variable x\n",
    "print(x)  \n",
    "\n",
    "y = \"Hello\"  \n",
    "print(y)  \n"
   ]
  },
  {
   "cell_type": "markdown",
   "id": "71b89ce3",
   "metadata": {},
   "source": [
    "You can change the type of a variable by assigning a value of a different type to it. Here's an example:"
   ]
  },
  {
   "cell_type": "code",
   "execution_count": null,
   "id": "26d845d1",
   "metadata": {},
   "outputs": [],
   "source": [
    "x = 5  # x is an integer\n",
    "print(x)  \n",
    "\n",
    "x = \"Hello\"  # Assigning a string value to x, changing its type\n",
    "print(x)  \n"
   ]
  },
  {
   "cell_type": "markdown",
   "id": "3407343c",
   "metadata": {},
   "source": [
    "Python dynamically infers the type of a variable based on the assigned value. Here's an example:"
   ]
  },
  {
   "cell_type": "code",
   "execution_count": null,
   "id": "654ee307",
   "metadata": {},
   "outputs": [],
   "source": [
    "x = 5  # x is inferred as an integer\n",
    "print(type(x)) \n",
    "\n",
    "x = 3.14  # x is inferred as a float\n",
    "print(type(x))  \n",
    "\n",
    "x = \"Cat\" # x is inferred as a string\n",
    "print(type(x))  "
   ]
  },
  {
   "cell_type": "markdown",
   "id": "29aa87b3",
   "metadata": {},
   "source": [
    "In Python, **None** is a special value that represents the absence of a value or the lack of a specific object. It is often used to indicate that a variable or object does not have a meaningful value or has not been assigned yet"
   ]
  },
  {
   "cell_type": "code",
   "execution_count": null,
   "id": "34584b78",
   "metadata": {},
   "outputs": [],
   "source": [
    "name = None\n",
    "print(name)  \n",
    "\n",
    "if name is None:\n",
    "    print(\"The name is not assigned.\")\n",
    "else:\n",
    "    print(\"The name is:\", name)\n"
   ]
  },
  {
   "cell_type": "markdown",
   "id": "2577508c",
   "metadata": {},
   "source": [
    "### Assignments\n",
    "\n",
    "In Python, you can perform assignments to variables, including assigning multiple values simultaneously and chaining assignments"
   ]
  },
  {
   "cell_type": "code",
   "execution_count": null,
   "id": "03efbc15",
   "metadata": {
    "scrolled": true
   },
   "outputs": [],
   "source": [
    "x, y, z = 10, 'Hello', 3.14\n",
    "print(x)\n",
    "print(y)\n",
    "print(z)"
   ]
  },
  {
   "cell_type": "markdown",
   "id": "da531a7c",
   "metadata": {},
   "source": [
    "Python allows you to chain assignments, where the value of one variable is assigned to multiple variables simultaneously."
   ]
  },
  {
   "cell_type": "code",
   "execution_count": null,
   "id": "b170e53c",
   "metadata": {},
   "outputs": [],
   "source": [
    "x = y = z = 20\n",
    "print(x)\n",
    "print(y)\n",
    "print(z)"
   ]
  },
  {
   "cell_type": "markdown",
   "id": "978151a6",
   "metadata": {},
   "source": [
    "Python also allows you to swap values between variables using a single line of code without needing an intermediate variable"
   ]
  },
  {
   "cell_type": "code",
   "execution_count": null,
   "id": "6b9a4d70",
   "metadata": {},
   "outputs": [],
   "source": [
    "x = 10\n",
    "y = \"red\"\n",
    "\n",
    "x, y = y, x  # Swap the values of x and y\n",
    "\n",
    "print(x)\n",
    "print(y)"
   ]
  },
  {
   "cell_type": "markdown",
   "id": "1478a1ce",
   "metadata": {},
   "source": [
    "In Python, a fundamental concept is that everything is an object. This means that all data, including numbers, strings, functions, and even classes, are objects with their own properties and methods. "
   ]
  },
  {
   "cell_type": "code",
   "execution_count": null,
   "id": "f54a9fc8",
   "metadata": {},
   "outputs": [],
   "source": [
    "x = 10\n",
    "print(x.bit_length())"
   ]
  },
  {
   "cell_type": "markdown",
   "id": "474552f7",
   "metadata": {},
   "source": [
    "Python follows the principle of \"assignment does not duplicate objects,\" which means that assigning a variable does not create a new copy of the object.\n",
    "- In Python, when you assign a variable to a value, it creates a reference to the existing object rather than creating a new copy of the object. "
   ]
  },
  {
   "cell_type": "code",
   "execution_count": null,
   "id": "195e8065",
   "metadata": {},
   "outputs": [],
   "source": [
    "x = [1, 2, 3]\n",
    "y = x\n",
    "\n",
    "x.append(4)\n",
    "\n",
    "print(x)  \n",
    "print(y)  "
   ]
  },
  {
   "cell_type": "markdown",
   "id": "42778b98",
   "metadata": {},
   "source": [
    "The concept of reference is important to understand in Python. Variables are references to objects rather than containers that hold values.\n",
    "\n",
    "By understanding that everything is an object and that assignment does not duplicate objects, you can work effectively with data in Python. This knowledge is particularly useful when dealing with mutable objects like lists, dictionaries, or custom classes."
   ]
  },
  {
   "cell_type": "markdown",
   "id": "b2ce4049",
   "metadata": {},
   "source": [
    "## Solved exercises"
   ]
  },
  {
   "cell_type": "markdown",
   "id": "c312531d",
   "metadata": {},
   "source": [
    "### Tips"
   ]
  },
  {
   "cell_type": "code",
   "execution_count": null,
   "id": "92eaa493",
   "metadata": {
    "scrolled": true
   },
   "outputs": [],
   "source": [
    "# In Python, to iterate over all values from 0 to n-1, you can use range(n).\n",
    "for idx in range(5):\n",
    "    print(idx)"
   ]
  },
  {
   "cell_type": "code",
   "execution_count": null,
   "id": "1026ac72",
   "metadata": {},
   "outputs": [],
   "source": [
    "# To check if an element is not present in a list, you can use **not in**.\n",
    "print('a' not in ['b', 'c', 'd'])"
   ]
  },
  {
   "cell_type": "code",
   "execution_count": null,
   "id": "cf66bac9",
   "metadata": {
    "scrolled": false
   },
   "outputs": [],
   "source": [
    "# To input data from the keyboard, you can use input().\n",
    "v = float(input(\"enter value\"))\n",
    "print(v)\n",
    "v2 = int(input(\"enter other value\"))\n",
    "print(v2)"
   ]
  },
  {
   "cell_type": "markdown",
   "id": "c0c08c8c",
   "metadata": {},
   "source": [
    "### Exercises"
   ]
  },
  {
   "cell_type": "markdown",
   "id": "c48359fb",
   "metadata": {},
   "source": [
    "1. Given the quantity of existing worlds, implement a \"Hello World\" program that greets each one of them. The worlds are named World 1, Worls 2, etc..."
   ]
  },
  {
   "cell_type": "code",
   "execution_count": null,
   "id": "619921fd",
   "metadata": {},
   "outputs": [],
   "source": [
    "worlds_count = 3\n",
    "for i in range(worlds_count):\n",
    "    print(\"Hello world\", i +1, \"!\")"
   ]
  },
  {
   "cell_type": "markdown",
   "id": "deb3de35",
   "metadata": {},
   "source": [
    "2. Enter the name of a person and greet them."
   ]
  },
  {
   "cell_type": "code",
   "execution_count": null,
   "id": "0eafc2a3",
   "metadata": {},
   "outputs": [],
   "source": [
    "name = input(\"Enter name:\")\n",
    "print(\"Hello \" + name + \"!\")"
   ]
  },
  {
   "cell_type": "markdown",
   "id": "6050266f",
   "metadata": {},
   "source": [
    "3. Please enter the amount of money for a person and the currency you want to convert. You should use variables to store the conversion rates."
   ]
  },
  {
   "cell_type": "code",
   "execution_count": null,
   "id": "5f0ad287",
   "metadata": {},
   "outputs": [],
   "source": [
    "rate_euro = 8.3\n",
    "rate_usd = 7.1\n",
    "rate_cup = 0.15\n",
    "\n",
    "rmb = float(input(\"Enter the amount in RMB\"))\n",
    "currency = input(\"Entre destination currency(eur,usd,cup):\")\n",
    "rate = 0\n",
    "if currency.lower() == 'eur':\n",
    "    rate = rate_euro\n",
    "elif currency.lower() == 'usd':\n",
    "    rate = rate_usd\n",
    "elif currency.lower() == 'cup':\n",
    "    rate = rate_cup\n",
    "if rate > 0:\n",
    "    converted = rmb / rate\n",
    "    print(\"Result is\", converted, currency)\n",
    "else:\n",
    "    print(\"Wrong currency:\", moneda)\n"
   ]
  },
  {
   "cell_type": "markdown",
   "id": "7a3ca349",
   "metadata": {},
   "source": [
    "4. Enter two integer numbers and print their quotient and remainder of the division.\n",
    "Always divide the larger number by the smaller one."
   ]
  },
  {
   "cell_type": "code",
   "execution_count": null,
   "id": "56d3770f",
   "metadata": {},
   "outputs": [],
   "source": [
    "n = int(input(\"Enter the first number: \"))\n",
    "m = int(input(\"Enter the second number: \"))\n",
    "if m > n:\n",
    "    m, n = n, m\n",
    "r = n % m\n",
    "c = n // m\n",
    "print(\"quotient =\", c, \", remainder =\", r)\n"
   ]
  },
  {
   "cell_type": "markdown",
   "id": "3fe52bb3",
   "metadata": {},
   "source": [
    "5. Enter the maximum current demand and the set of energy contributions  (ends with a negative value).\n",
    "If the demand is greater than the total contribution, print 'Blackout!'.\n",
    "In all cases, print the generation shortfall or excess."
   ]
  },
  {
   "cell_type": "code",
   "execution_count": null,
   "id": "e01a5617",
   "metadata": {},
   "outputs": [],
   "source": [
    "demand = float(input(\"Enter maximum demand: \"))\n",
    "contribution = 0\n",
    "total_contribution = 0\n",
    "\n",
    "while contribution >= 0:\n",
    "    contribution = float(input(\"Enter contribution (negative to finish): \"))\n",
    "    if contribution > 0:\n",
    "        total_contribution += contribution\n",
    "\n",
    "if total_contribution < demand:\n",
    "    print(\"Blackout! Shortfall:\", demand - total_contribution)\n",
    "elif demand < total_contribution:\n",
    "    print(\"Excess:\", total_contribution - demand)\n",
    "else:\n",
    "    print(\"Contribution equal to demand.\")\n"
   ]
  }
 ],
 "metadata": {
  "kernelspec": {
   "display_name": "python_lectures",
   "language": "python",
   "name": "python_lectures"
  },
  "language_info": {
   "codemirror_mode": {
    "name": "ipython",
    "version": 3
   },
   "file_extension": ".py",
   "mimetype": "text/x-python",
   "name": "python",
   "nbconvert_exporter": "python",
   "pygments_lexer": "ipython3",
   "version": "3.8.16"
  }
 },
 "nbformat": 4,
 "nbformat_minor": 5
}
