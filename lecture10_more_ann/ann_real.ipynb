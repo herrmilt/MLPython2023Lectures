{
 "cells": [
  {
   "cell_type": "markdown",
   "id": "29a56342",
   "metadata": {},
   "source": [
    "# Artificial Neural Networks on Real Examples"
   ]
  },
  {
   "cell_type": "code",
   "execution_count": null,
   "id": "97667eff",
   "metadata": {},
   "outputs": [],
   "source": [
    "import os\n",
    "os.environ['TF_CPP_MIN_LOG_LEVEL'] = '3'\n",
    "import warnings\n",
    "warnings.filterwarnings(\"ignore\")\n",
    "import os\n",
    "os.environ['TF_CPP_MIN_LOG_LEVEL'] = '3'\n",
    "import tensorflow as tf\n",
    "from tensorflow import keras\n",
    "gpus = tf.config.experimental.list_physical_devices('GPU')\n",
    "\n",
    "if gpus:\n",
    "    tf.config.experimental.set_visible_devices(gpus[0], 'GPU')\n",
    "    tf.config.experimental.set_memory_growth(gpus[0], True)\n",
    "    print('GPU', tf.test.gpu_device_name(), 'configured')"
   ]
  },
  {
   "cell_type": "code",
   "execution_count": null,
   "id": "a5cf1c34",
   "metadata": {},
   "outputs": [],
   "source": [
    "from sklearn.datasets import load_iris\n",
    "\n",
    "iris = load_iris()\n",
    "X = iris.data\n",
    "y = iris.target"
   ]
  },
  {
   "cell_type": "code",
   "execution_count": null,
   "id": "216048c6",
   "metadata": {},
   "outputs": [],
   "source": [
    "import matplotlib.pyplot as plt\n",
    "\n",
    "class_names = iris.target_names\n",
    "\n",
    "plt.figure(figsize=(5, 5))\n",
    "plt.scatter(X[:, 0], X[:, 2], c=y, cmap=plt.cm.Set1, edgecolor='k')\n",
    "plt.xlabel(iris.feature_names[0])\n",
    "plt.ylabel(iris.feature_names[2])\n",
    "plt.show()"
   ]
  },
  {
   "cell_type": "code",
   "execution_count": null,
   "id": "b2dc32b7",
   "metadata": {},
   "outputs": [],
   "source": [
    "from sklearn.model_selection import train_test_split\n",
    "from sklearn.preprocessing import OneHotEncoder\n",
    "from sklearn.compose import ColumnTransformer"
   ]
  },
  {
   "cell_type": "markdown",
   "id": "f442994e",
   "metadata": {},
   "source": [
    "First, we need to modify the output structures"
   ]
  },
  {
   "cell_type": "code",
   "execution_count": null,
   "id": "c66e9279",
   "metadata": {},
   "outputs": [],
   "source": [
    "y[:5]"
   ]
  },
  {
   "cell_type": "code",
   "execution_count": null,
   "id": "1ed615ce",
   "metadata": {},
   "outputs": [],
   "source": [
    "y = y.reshape(-1, 1)\n",
    "ct = ColumnTransformer([(\"one-hot\", OneHotEncoder(), [0])], remainder=\"passthrough\")\n",
    "y = ct.fit_transform(y)"
   ]
  },
  {
   "cell_type": "code",
   "execution_count": null,
   "id": "774b9bb2",
   "metadata": {},
   "outputs": [],
   "source": [
    "y"
   ]
  },
  {
   "cell_type": "code",
   "execution_count": null,
   "id": "e2f2dfe8",
   "metadata": {},
   "outputs": [],
   "source": [
    "# Split the dataset into training and testing sets\n",
    "X_train, X_test, y_train, y_test = train_test_split(X, y, test_size=0.2, random_state=42)\n",
    "\n",
    "# Define the model architecture\n",
    "model = keras.Sequential([\n",
    "    keras.layers.Dense(10, activation='relu', input_shape=[4]),\n",
    "    keras.layers.Dense(10, activation='relu'),\n",
    "    keras.layers.Dense(3, activation='softmax')\n",
    "])\n",
    "\n",
    "# Compile the model\n",
    "model.compile(optimizer='adam', loss='categorical_crossentropy', metrics=['accuracy'])\n",
    "\n",
    "# Train the model\n",
    "history = model.fit(X_train, y_train, epochs=100, verbose=0, \n",
    "                   validation_data=(X_test, y_test))\n",
    "\n",
    "# Evaluate the model on the test set\n",
    "loss, accuracy = model.evaluate(X_test, y_test)\n",
    "print(\"Loss:\", loss)\n",
    "print(\"Accuracy:\", accuracy)"
   ]
  },
  {
   "cell_type": "markdown",
   "id": "ad7ec960",
   "metadata": {},
   "source": [
    "Lets plot the training and testing loss values per epoch"
   ]
  },
  {
   "cell_type": "code",
   "execution_count": null,
   "id": "a315d01c",
   "metadata": {},
   "outputs": [],
   "source": [
    "train_loss = history.history['loss']\n",
    "val_loss = history.history['val_loss']\n",
    "\n",
    "# Plot the training and testing loss\n",
    "plt.plot(train_loss, label='Training Loss')\n",
    "plt.plot(val_loss, label='Testing Loss')\n",
    "plt.xlabel('Epochs')\n",
    "plt.ylabel('Loss')\n",
    "plt.title('Loss Function over Time')\n",
    "plt.legend()\n",
    "plt.show()"
   ]
  },
  {
   "cell_type": "markdown",
   "id": "005d7f32",
   "metadata": {},
   "source": [
    "... and the training and testing accuracy values per epoch"
   ]
  },
  {
   "cell_type": "code",
   "execution_count": null,
   "id": "fb7c5f89",
   "metadata": {
    "scrolled": false
   },
   "outputs": [],
   "source": [
    "train_accuracy = history.history['accuracy']\n",
    "val_accuracy = history.history['val_accuracy']\n",
    "# Plot the training and testing accuracy\n",
    "plt.plot(train_accuracy, label='Training Accuracy')\n",
    "plt.plot(val_accuracy, label='Testing Accuracy')\n",
    "plt.xlabel('Epochs')\n",
    "plt.ylabel('Accuracy')\n",
    "plt.title('Accuracy over Time')\n",
    "plt.legend()\n",
    "plt.show()"
   ]
  },
  {
   "cell_type": "markdown",
   "id": "579141c3",
   "metadata": {},
   "source": [
    "Now, lets select the best two features for plotting the decision boundaries..."
   ]
  },
  {
   "cell_type": "code",
   "execution_count": null,
   "id": "ce0b8049",
   "metadata": {},
   "outputs": [],
   "source": [
    "selected_features = [0, 2]\n",
    "\n",
    "X_train_2 = X_train[:, selected_features]\n",
    "X_test_2 = X_test[:, selected_features]\n",
    "\n",
    "# Define the model architecture\n",
    "model = keras.Sequential([\n",
    "    keras.layers.Dense(10, activation='relu', input_shape=[2]),\n",
    "    keras.layers.Dense(10, activation='relu'),\n",
    "    keras.layers.Dense(3, activation='softmax')\n",
    "])\n",
    "\n",
    "# Compile the model\n",
    "model.compile(optimizer='adam', loss='categorical_crossentropy', metrics=['accuracy'])\n",
    "# Train the classifier\n",
    "model.fit(X_train_2, y_train, epochs=100, verbose=0)"
   ]
  },
  {
   "cell_type": "code",
   "execution_count": null,
   "id": "5d699e61",
   "metadata": {
    "scrolled": true
   },
   "outputs": [],
   "source": [
    "import numpy as np\n",
    "\n",
    "def plot_surface(X, y, clf, plain_y=True):\n",
    "\n",
    "    # Plot the separation hyperplane\n",
    "    # Generate a grid of points that span the feature space\n",
    "    x_min, x_max = X[:, 0].min() - 1, X[:, 0].max() + 1\n",
    "    y_min, y_max = X[:, 1].min() - 1, X[:, 1].max() + 1\n",
    "    xx, yy = np.meshgrid(np.arange(x_min, x_max, 0.02),\n",
    "                         np.arange(y_min, y_max, 0.02))\n",
    "\n",
    "    # Obtain the predicted labels for each point in the grid\n",
    "    Z = clf.predict(np.c_[xx.ravel(), yy.ravel()])\n",
    "\n",
    "    if plain_y:\n",
    "        # Convert the three output into the selected one ...\n",
    "        Z = np.argmax(Z, axis=1)\n",
    "\n",
    "    # Reshape the predicted labels into the grid shape\n",
    "    Z = Z.reshape(xx.shape)\n",
    "\n",
    "    # Plot the contour filled with the predicted labels\n",
    "    plt.contourf(xx, yy, Z, alpha=0.8, cmap=plt.cm.Paired)\n",
    "\n",
    "    # Plot the original data points\n",
    "    plt.scatter(X[:, 0], X[:, 1], c=y, edgecolors='k', cmap=plt.cm.Paired)\n",
    "\n",
    "    # Show the plot\n",
    "    plt.show()\n",
    "\n",
    "plot_surface(X_train_2, y_train, model)\n"
   ]
  },
  {
   "cell_type": "markdown",
   "id": "3e58a59c",
   "metadata": {},
   "source": [
    "## Moon dataset\n",
    "This is a synthetic dataset, so it is very good for testing and learning"
   ]
  },
  {
   "cell_type": "code",
   "execution_count": null,
   "id": "04d6724d",
   "metadata": {
    "scrolled": false
   },
   "outputs": [],
   "source": [
    "from sklearn.datasets import make_moons\n",
    "\n",
    "# Generate the moon dataset\n",
    "X, y = make_moons(n_samples=1000, noise=0.1, random_state=42)\n",
    "\n",
    "# Plot the moon dataset\n",
    "plt.scatter(X[:, 0], X[:, 1], c=y, cmap='coolwarm')\n",
    "plt.xlabel('Feature 1')\n",
    "plt.ylabel('Feature 2')\n",
    "plt.title('Moon Dataset')\n",
    "plt.show()"
   ]
  },
  {
   "cell_type": "code",
   "execution_count": null,
   "id": "c26f7d60",
   "metadata": {},
   "outputs": [],
   "source": [
    "# Split the dataset into training and testing sets\n",
    "X_train, X_test, y_train, y_test = train_test_split(X, y, test_size=0.2, random_state=42)\n",
    "\n",
    "# Define the model architecture\n",
    "model = keras.Sequential([\n",
    "    keras.layers.Dense(10, activation='relu', input_shape=[2]),\n",
    "    keras.layers.Dense(1, activation='sigmoid')\n",
    "])\n",
    "\n",
    "# Compile the model\n",
    "model.compile(optimizer='adam', loss='binary_crossentropy', metrics=['accuracy'])\n",
    "\n",
    "# Train the model\n",
    "model.fit(X_train, y_train, epochs=100, batch_size=32, verbose=0)\n",
    "\n",
    "# Evaluate the model on the test set\n",
    "loss, accuracy = model.evaluate(X_test, y_test)\n",
    "print(\"Loss:\", loss)\n",
    "print(\"Accuracy:\", accuracy)"
   ]
  },
  {
   "cell_type": "code",
   "execution_count": null,
   "id": "15e8bb42",
   "metadata": {},
   "outputs": [],
   "source": [
    "def plot_classification_regions(X, y, clf, border=1, step=0.02):\n",
    "    # Plot the separation hyperplane\n",
    "    # Generate a grid of points that span the feature space\n",
    "    x_min, x_max = X[:, 0].min() - border, X[:, 0].max() + border\n",
    "    y_min, y_max = X[:, 1].min() - border, X[:, 1].max() + border\n",
    "    xx, yy = np.meshgrid(np.arange(x_min, x_max, step),\n",
    "                         np.arange(y_min, y_max, step))\n",
    "\n",
    "    # Obtain the predicted labels for each point in the grid\n",
    "    Z = clf.predict(np.c_[xx.ravel(), yy.ravel()])\n",
    "\n",
    "    # Reshape the predicted labels into the grid shape\n",
    "    Z = Z.reshape(xx.shape)\n",
    "\n",
    "    # Plot the contour filled with the predicted labels\n",
    "    plt.contourf(xx, yy, Z, alpha=0.8, cmap=plt.cm.Reds)\n",
    "\n",
    "    # Plot the original data points\n",
    "    plt.scatter(X[:, 0], X[:, 1], c=y, edgecolors='k', cmap=plt.cm.Reds)\n",
    "\n",
    "    # Show the plot\n",
    "    plt.colorbar()\n",
    "    plt.show()"
   ]
  },
  {
   "cell_type": "code",
   "execution_count": null,
   "id": "04b95399",
   "metadata": {},
   "outputs": [],
   "source": [
    "plot_classification_regions(X_test, y_test, model, 0.1)"
   ]
  },
  {
   "cell_type": "markdown",
   "id": "5b215a1d",
   "metadata": {},
   "source": [
    "Lets try another architecture to see if we can improve the result"
   ]
  },
  {
   "cell_type": "code",
   "execution_count": null,
   "id": "3e04b981",
   "metadata": {},
   "outputs": [],
   "source": [
    "# Define the model architecture\n",
    "model = keras.Sequential([\n",
    "    keras.layers.Dense(10, activation='relu', input_shape=[2]),\n",
    "    keras.layers.Dense(10, activation='relu', input_shape=[2]),\n",
    "    keras.layers.Dense(1, activation='sigmoid')\n",
    "])\n",
    "\n",
    "# Compile the model\n",
    "model.compile(optimizer='adam', loss='binary_crossentropy', metrics=['accuracy'])\n",
    "\n",
    "# Train the model\n",
    "model.fit(X_train, y_train, epochs=100, batch_size=32, verbose=0)\n",
    "\n",
    "# Evaluate the model on the test set\n",
    "loss, accuracy = model.evaluate(X_test, y_test)\n",
    "print(\"Loss:\", loss)\n",
    "print(\"Accuracy:\", accuracy)"
   ]
  },
  {
   "cell_type": "code",
   "execution_count": null,
   "id": "6848adb0",
   "metadata": {},
   "outputs": [],
   "source": [
    "plot_classification_regions(X_test, y_test, model, 0.1)"
   ]
  },
  {
   "cell_type": "markdown",
   "id": "bf8883bf",
   "metadata": {},
   "source": [
    "## Circle dataset\n",
    "- Also synthetic"
   ]
  },
  {
   "cell_type": "code",
   "execution_count": null,
   "id": "b6f4b737",
   "metadata": {},
   "outputs": [],
   "source": [
    "from sklearn.datasets import make_circles\n",
    "\n",
    "# Generate the circles dataset\n",
    "X, y = make_circles(n_samples=1000, noise=0.1, factor=0.5, random_state=42)\n",
    "\n",
    "# Plot the moon dataset\n",
    "plt.scatter(X[:, 0], X[:, 1], c=y, cmap='coolwarm')\n",
    "plt.xlabel('Feature 1')\n",
    "plt.ylabel('Feature 2')\n",
    "plt.title('Circle')\n",
    "plt.show()\n"
   ]
  },
  {
   "cell_type": "markdown",
   "id": "3f343c42",
   "metadata": {},
   "source": [
    "Since it is more complex than the previous one, lets test directly the 2 hidden layers model"
   ]
  },
  {
   "cell_type": "code",
   "execution_count": null,
   "id": "22074005",
   "metadata": {},
   "outputs": [],
   "source": [
    "# Split the dataset into training and testing sets\n",
    "X_train, X_test, y_train, y_test = train_test_split(X, y, test_size=0.2, random_state=42)\n",
    "\n",
    "# Define the model architecture\n",
    "model = keras.Sequential([\n",
    "    keras.layers.Dense(10, activation='relu', input_shape=[2]),\n",
    "    keras.layers.Dense(10, activation='relu'),\n",
    "    keras.layers.Dense(1, activation='sigmoid')\n",
    "])\n",
    "\n",
    "# Compile the model\n",
    "model.compile(optimizer='adam', loss='binary_crossentropy', metrics=['accuracy'])\n",
    "\n",
    "# Train the model\n",
    "model.fit(X_train, y_train, epochs=100, batch_size=32, verbose=0)\n",
    "\n",
    "# Evaluate the model on the test set\n",
    "loss, accuracy = model.evaluate(X_test, y_test)\n",
    "print(\"Loss:\", loss)\n",
    "print(\"Accuracy:\", accuracy)"
   ]
  },
  {
   "cell_type": "code",
   "execution_count": null,
   "id": "71bd744d",
   "metadata": {
    "scrolled": false
   },
   "outputs": [],
   "source": [
    "plot_classification_regions(X_test, y_test, model, 0.1)"
   ]
  },
  {
   "cell_type": "markdown",
   "id": "cf5e77dd",
   "metadata": {},
   "source": [
    "## Spiral dataset"
   ]
  },
  {
   "cell_type": "code",
   "execution_count": null,
   "id": "a6b62fcd",
   "metadata": {},
   "outputs": [],
   "source": [
    "def generate_spiral(n_samples, n_classes, radius, laps, noise, start_angle=0):\n",
    "    angles = np.linspace(start_angle, 2 * np.pi * laps, n_samples)\n",
    "    radius_diff = radius / n_classes\n",
    "    data = []\n",
    "    labels = []\n",
    "    \n",
    "    for class_index in range(n_classes):\n",
    "        class_radius = radius - class_index * radius_diff\n",
    "        class_noise = noise * class_index / n_classes\n",
    "        \n",
    "        for angle in angles:\n",
    "            r = class_radius * angle / (2 * np.pi)\n",
    "            x = r * np.cos(angle) + np.random.randn() * class_noise\n",
    "            y = r * np.sin(angle) + np.random.randn() * class_noise\n",
    "            label = class_index\n",
    "            \n",
    "            data.append([x, y])\n",
    "            labels.append(label)\n",
    "    \n",
    "    return np.array(data), np.array(labels)\n",
    "\n",
    "# Generate the spiral dataset\n",
    "X1, y1 = generate_spiral(n_samples=500, n_classes=1, radius=2, laps=3, noise=0.1, start_angle=0)\n",
    "X2, y2 = generate_spiral(n_samples=500, n_classes=1, radius=4, laps=3, noise=0.1, start_angle=1.78)\n",
    "y2[:] = 1\n",
    "\n",
    "X = np.concatenate([X1, X2], axis=0)\n",
    "y = np.concatenate([y1, y2], axis=0)\n",
    "\n",
    "# Plot the spiral dataset\n",
    "plt.scatter(X[:, 0], X[:, 1], c=y, cmap='coolwarm')\n",
    "plt.xlabel('Feature 1')\n",
    "plt.ylabel('Feature 2')\n",
    "plt.title('Spiral Dataset')\n",
    "plt.show()"
   ]
  },
  {
   "cell_type": "code",
   "execution_count": null,
   "id": "f0157ef2",
   "metadata": {},
   "outputs": [],
   "source": [
    "# Split the dataset into training and testing sets\n",
    "X_train, X_test, y_train, y_test = train_test_split(X, y, test_size=0.2, random_state=42)\n",
    "\n",
    "# Define the model architecture\n",
    "model = keras.Sequential([\n",
    "    keras.layers.Dense(20, activation='relu', input_shape=[2]),\n",
    "    keras.layers.Dense(20, activation='relu'),\n",
    "    keras.layers.Dense(1, activation='sigmoid')\n",
    "])\n",
    "\n",
    "# Compile the model\n",
    "model.compile(optimizer='adam', loss='binary_crossentropy', metrics=['accuracy'])\n",
    "\n",
    "# Train the model\n",
    "model.fit(X_train, y_train, epochs=1000, batch_size=32, verbose=0)\n",
    "\n",
    "# Evaluate the model on the test set\n",
    "loss, accuracy = model.evaluate(X_test, y_test)\n",
    "print(\"Loss:\", loss)\n",
    "print(\"Accuracy:\", accuracy)"
   ]
  },
  {
   "cell_type": "code",
   "execution_count": null,
   "id": "bce0ce5b",
   "metadata": {},
   "outputs": [],
   "source": [
    "plot_classification_regions(X_test, y_test, model, 0.1, step=0.1)"
   ]
  }
 ],
 "metadata": {
  "kernelspec": {
   "display_name": "Python [conda env:python_lectures]",
   "language": "python",
   "name": "conda-env-python_lectures-py"
  },
  "language_info": {
   "codemirror_mode": {
    "name": "ipython",
    "version": 3
   },
   "file_extension": ".py",
   "mimetype": "text/x-python",
   "name": "python",
   "nbconvert_exporter": "python",
   "pygments_lexer": "ipython3",
   "version": "3.8.16"
  }
 },
 "nbformat": 4,
 "nbformat_minor": 5
}
