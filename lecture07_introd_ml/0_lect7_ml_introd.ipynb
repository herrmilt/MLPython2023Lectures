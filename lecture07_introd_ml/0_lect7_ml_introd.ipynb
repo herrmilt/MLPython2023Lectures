{
 "cells": [
  {
   "cell_type": "markdown",
   "id": "9911371c",
   "metadata": {},
   "source": [
    "# Lecture 7. Introduction to Machine Learning\n",
    "\n",
    "Outline:\n",
    "- Machine Learning Fundamentals:\n",
    "    - [Basic Terminology](basic_terms.ipynb)\n",
    "    - [Model Quality Estimation](quality_estimation.ipynb)\n",
    "    - [The confusion Matrix](conf_mat.ipynb)\n",
    "- [Linear classifiers](lin_classif.ipynb)"
   ]
  }
 ],
 "metadata": {
  "kernelspec": {
   "display_name": "python_lectures",
   "language": "python",
   "name": "python_lectures"
  },
  "language_info": {
   "codemirror_mode": {
    "name": "ipython",
    "version": 3
   },
   "file_extension": ".py",
   "mimetype": "text/x-python",
   "name": "python",
   "nbconvert_exporter": "python",
   "pygments_lexer": "ipython3",
   "version": "3.8.16"
  }
 },
 "nbformat": 4,
 "nbformat_minor": 5
}
