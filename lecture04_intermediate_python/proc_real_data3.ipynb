{
 "cells": [
  {
   "cell_type": "markdown",
   "id": "cef5d934",
   "metadata": {},
   "source": [
    "# Processing real data with comprehensions and enumerators"
   ]
  },
  {
   "cell_type": "code",
   "execution_count": 27,
   "id": "0a3ed60d",
   "metadata": {},
   "outputs": [],
   "source": [
    "import csv"
   ]
  },
  {
   "cell_type": "code",
   "execution_count": 28,
   "id": "7b91f35d",
   "metadata": {},
   "outputs": [],
   "source": [
    "with open(\"data/pop_year.csv\") as f:\n",
    "    reader = csv.reader(f)\n",
    "    raw_data = [r for r in reader]"
   ]
  },
  {
   "cell_type": "code",
   "execution_count": 29,
   "id": "eed66756",
   "metadata": {
    "scrolled": true
   },
   "outputs": [
    {
     "data": {
      "text/plain": [
       "[['year', 'total', 'male', 'female'],\n",
       " ['  1960', '7077190 ', '3633812 ', '3443378 '],\n",
       " ['  1965', '7907113 ', '4052583 ', '3854530 '],\n",
       " ['  1970', '8603165 ', '4410996 ', '4192169 '],\n",
       " ['  1975', '9365972 ', '4782387 ', '4583585 '],\n",
       " ['  1980', '9693907 ', '4899368 ', '4794539 '],\n",
       " ['  1985', '10138642 ', '5107555 ', '5031087 '],\n",
       " ['  1990', '10662148 ', '5364342 ', '5297806 '],\n",
       " ['  1991', '10756829 ', '5410665 ', '5346164 '],\n",
       " ['  1992', '10829320 ', '5444568 ', '5384752 '],\n",
       " ['  1993', '10895987 ', '5476547 ', '5419440 '],\n",
       " ['  1994', '10912924 ', '5483699 ', '5429225 '],\n",
       " ['  1995', '10947119 ', '5495292 ', '5451827 '],\n",
       " ['  1996', '10983326 ', '5501084 ', '5482242 '],\n",
       " ['  1997', '11033993 ', '5523195 ', '5510798 '],\n",
       " ['  1998', '11076817 ', '5539960 ', '5536857 '],\n",
       " ['  1999', '11113128 ', '5553233 ', '5559895 '],\n",
       " ['  2000', '11146203 ', '5580916 ', '5565287 '],\n",
       " ['  2001', '11168526 ', '5592762 ', '5575764 '],\n",
       " ['  2002 ', '11200388 ', '5608565 ', '5591823 '],\n",
       " ['  2003 ', '11215388 ', '5613301 ', '5602087 '],\n",
       " ['  2004 ', '11217590 ', '5612160 ', '5605430 '],\n",
       " ['  2005 ', '11218623 ', '5617802 ', '5600821 '],\n",
       " ['  2006', '11202632 ', '5610040 ', '5592592 '],\n",
       " ['  2007', '11188028 ', '5601472 ', '5586556 '],\n",
       " ['  2008', '11173996 ', '5593875 ', '5580121 '],\n",
       " ['  2009', '11174952 ', '5595132 ', '5579820 '],\n",
       " ['  2010', '11167934 ', '5590326 ', '5577608 '],\n",
       " ['  2011', '11175423 ', '5594337 ', '5581086 '],\n",
       " ['  2012 ', '11173151 ', '5572275 ', '5600876 '],\n",
       " ['  2013', '11210064 ', '5589345 ', '5620719 '],\n",
       " ['  2014', '11238317 ', '5601414 ', '5636903 '],\n",
       " ['  2015', '11239004 ', '5600393 ', '5638611 '],\n",
       " ['  2016', '11239224 ', '5598165 ', '5641059 '],\n",
       " ['  2017', '11221060 ', '5584885 ', '5636175 '],\n",
       " ['  2018', '11209628 ', '5575988 ', '5633640 '],\n",
       " ['  2019', '11193470 ', '5564173 ', '5629297 '],\n",
       " ['  2020', '11181595 ', '5554048 ', '5627547 ']]"
      ]
     },
     "execution_count": 29,
     "metadata": {},
     "output_type": "execute_result"
    }
   ],
   "source": [
    "raw_data"
   ]
  },
  {
   "cell_type": "code",
   "execution_count": 30,
   "id": "6558ff4e",
   "metadata": {
    "scrolled": true
   },
   "outputs": [
    {
     "data": {
      "text/plain": [
       "[[1960, 7077190, 3633812, 3443378],\n",
       " [1965, 7907113, 4052583, 3854530],\n",
       " [1970, 8603165, 4410996, 4192169],\n",
       " [1975, 9365972, 4782387, 4583585],\n",
       " [1980, 9693907, 4899368, 4794539],\n",
       " [1985, 10138642, 5107555, 5031087],\n",
       " [1990, 10662148, 5364342, 5297806],\n",
       " [1991, 10756829, 5410665, 5346164],\n",
       " [1992, 10829320, 5444568, 5384752],\n",
       " [1993, 10895987, 5476547, 5419440],\n",
       " [1994, 10912924, 5483699, 5429225],\n",
       " [1995, 10947119, 5495292, 5451827],\n",
       " [1996, 10983326, 5501084, 5482242],\n",
       " [1997, 11033993, 5523195, 5510798],\n",
       " [1998, 11076817, 5539960, 5536857],\n",
       " [1999, 11113128, 5553233, 5559895],\n",
       " [2000, 11146203, 5580916, 5565287],\n",
       " [2001, 11168526, 5592762, 5575764],\n",
       " [2002, 11200388, 5608565, 5591823],\n",
       " [2003, 11215388, 5613301, 5602087],\n",
       " [2004, 11217590, 5612160, 5605430],\n",
       " [2005, 11218623, 5617802, 5600821],\n",
       " [2006, 11202632, 5610040, 5592592],\n",
       " [2007, 11188028, 5601472, 5586556],\n",
       " [2008, 11173996, 5593875, 5580121],\n",
       " [2009, 11174952, 5595132, 5579820],\n",
       " [2010, 11167934, 5590326, 5577608],\n",
       " [2011, 11175423, 5594337, 5581086],\n",
       " [2012, 11173151, 5572275, 5600876],\n",
       " [2013, 11210064, 5589345, 5620719],\n",
       " [2014, 11238317, 5601414, 5636903],\n",
       " [2015, 11239004, 5600393, 5638611],\n",
       " [2016, 11239224, 5598165, 5641059],\n",
       " [2017, 11221060, 5584885, 5636175],\n",
       " [2018, 11209628, 5575988, 5633640],\n",
       " [2019, 11193470, 5564173, 5629297],\n",
       " [2020, 11181595, 5554048, 5627547]]"
      ]
     },
     "execution_count": 30,
     "metadata": {},
     "output_type": "execute_result"
    }
   ],
   "source": [
    "# Remove the first row, and convert other rows to numbers\n",
    "data = []\n",
    "for row in raw_data[1:]:\n",
    "    data.append([int(r) for r in row])\n",
    "data"
   ]
  },
  {
   "cell_type": "code",
   "execution_count": 31,
   "id": "4bace235",
   "metadata": {
    "scrolled": true
   },
   "outputs": [
    {
     "data": {
      "text/plain": [
       "[[1960, 7077190, 3633812, 3443378],\n",
       " [1965, 7907113, 4052583, 3854530],\n",
       " [1970, 8603165, 4410996, 4192169],\n",
       " [1975, 9365972, 4782387, 4583585],\n",
       " [1980, 9693907, 4899368, 4794539],\n",
       " [1985, 10138642, 5107555, 5031087],\n",
       " [1990, 10662148, 5364342, 5297806],\n",
       " [1991, 10756829, 5410665, 5346164],\n",
       " [1992, 10829320, 5444568, 5384752],\n",
       " [1993, 10895987, 5476547, 5419440],\n",
       " [1994, 10912924, 5483699, 5429225],\n",
       " [1995, 10947119, 5495292, 5451827],\n",
       " [1996, 10983326, 5501084, 5482242],\n",
       " [1997, 11033993, 5523195, 5510798],\n",
       " [1998, 11076817, 5539960, 5536857],\n",
       " [1999, 11113128, 5553233, 5559895],\n",
       " [2000, 11146203, 5580916, 5565287],\n",
       " [2001, 11168526, 5592762, 5575764],\n",
       " [2002, 11200388, 5608565, 5591823],\n",
       " [2003, 11215388, 5613301, 5602087],\n",
       " [2004, 11217590, 5612160, 5605430],\n",
       " [2005, 11218623, 5617802, 5600821],\n",
       " [2006, 11202632, 5610040, 5592592],\n",
       " [2007, 11188028, 5601472, 5586556],\n",
       " [2008, 11173996, 5593875, 5580121],\n",
       " [2009, 11174952, 5595132, 5579820],\n",
       " [2010, 11167934, 5590326, 5577608],\n",
       " [2011, 11175423, 5594337, 5581086],\n",
       " [2012, 11173151, 5572275, 5600876],\n",
       " [2013, 11210064, 5589345, 5620719],\n",
       " [2014, 11238317, 5601414, 5636903],\n",
       " [2015, 11239004, 5600393, 5638611],\n",
       " [2016, 11239224, 5598165, 5641059],\n",
       " [2017, 11221060, 5584885, 5636175],\n",
       " [2018, 11209628, 5575988, 5633640],\n",
       " [2019, 11193470, 5564173, 5629297],\n",
       " [2020, 11181595, 5554048, 5627547]]"
      ]
     },
     "execution_count": 31,
     "metadata": {},
     "output_type": "execute_result"
    }
   ],
   "source": [
    "# or better ....\n",
    "data = [[int(r) for r in row] for row in raw_data[1:]]\n",
    "data"
   ]
  },
  {
   "cell_type": "code",
   "execution_count": 32,
   "id": "8811cd6c",
   "metadata": {},
   "outputs": [
    {
     "name": "stdout",
     "output_type": "stream",
     "text": [
      "[1960, 1965, 1970, 1975, 1980, 1985, 1990, 1991, 1992, 1993, 1994, 1995, 1996, 1997, 1998, 1999, 2000, 2001, 2002, 2003, 2004, 2005, 2006, 2007, 2008, 2009, 2010, 2011, 2012, 2013, 2014, 2015, 2016, 2017, 2018, 2019, 2020]\n"
     ]
    }
   ],
   "source": [
    "# Extract all columns to different lists\n",
    "all_years = []\n",
    "all_total = []\n",
    "all_male = []\n",
    "all_female = []\n",
    "for year, total, male, female in data:\n",
    "    all_years.append(year)\n",
    "    all_total.append(total)\n",
    "    all_male.append(male)\n",
    "    all_female.append(female)\n",
    "print(all_years)"
   ]
  },
  {
   "cell_type": "code",
   "execution_count": 33,
   "id": "4a9093a9",
   "metadata": {},
   "outputs": [
    {
     "name": "stdout",
     "output_type": "stream",
     "text": [
      "No Errors\n"
     ]
    }
   ],
   "source": [
    "# Verify if all totals are correctly calculated\n",
    "if any(male+female != total for male, female, total \n",
    "        in zip(all_male, all_female, all_total)):\n",
    "    print(\"ERRORS\")\n",
    "else:\n",
    "    print(\"No Errors\")"
   ]
  },
  {
   "cell_type": "code",
   "execution_count": 34,
   "id": "6499dc2b",
   "metadata": {},
   "outputs": [
    {
     "data": {
      "text/plain": [
       "11239224"
      ]
     },
     "execution_count": 34,
     "metadata": {},
     "output_type": "execute_result"
    }
   ],
   "source": [
    "# Largest total population\n",
    "max(all_total)"
   ]
  },
  {
   "cell_type": "code",
   "execution_count": 35,
   "id": "81573ccd",
   "metadata": {},
   "outputs": [
    {
     "data": {
      "text/plain": [
       "5617802"
      ]
     },
     "execution_count": 35,
     "metadata": {},
     "output_type": "execute_result"
    }
   ],
   "source": [
    "# Largest male population\n",
    "max(all_male)"
   ]
  },
  {
   "cell_type": "code",
   "execution_count": 36,
   "id": "c9cd7e58",
   "metadata": {},
   "outputs": [
    {
     "data": {
      "text/plain": [
       "3633812"
      ]
     },
     "execution_count": 36,
     "metadata": {},
     "output_type": "execute_result"
    }
   ],
   "source": [
    "# Smallest male population\n",
    "min(all_male)"
   ]
  },
  {
   "cell_type": "code",
   "execution_count": 37,
   "id": "cf8b60a0",
   "metadata": {},
   "outputs": [
    {
     "data": {
      "text/plain": [
       "(11239224, 2016)"
      ]
     },
     "execution_count": 37,
     "metadata": {},
     "output_type": "execute_result"
    }
   ],
   "source": [
    "# Year with larger total population\n",
    "idx_of_max, _ = max(enumerate(all_total), key=lambda x:x[1])\n",
    "\n",
    "all_total[idx_of_max], all_years[idx_of_max]"
   ]
  },
  {
   "cell_type": "code",
   "execution_count": 38,
   "id": "47afdc4f",
   "metadata": {
    "scrolled": true
   },
   "outputs": [
    {
     "data": {
      "text/plain": [
       "418771"
      ]
     },
     "execution_count": 38,
     "metadata": {},
     "output_type": "execute_result"
    }
   ],
   "source": [
    "# Maximum difference between two male populations\n",
    "max((abs(v - v2) for v, v2 in zip(all_male, all_male[1:])))"
   ]
  },
  {
   "cell_type": "code",
   "execution_count": 39,
   "id": "f4b61f64",
   "metadata": {},
   "outputs": [
    {
     "data": {
      "text/plain": [
       "(418771, (1960, 1965))"
      ]
     },
     "execution_count": 39,
     "metadata": {},
     "output_type": "execute_result"
    }
   ],
   "source": [
    "# Which are the years of the maximum difference in total population?\n",
    "all_delta = ((abs(v - v2), (y, y2)) for v, v2, y, y2\n",
    "     in zip(all_male, all_male[1:], all_years, all_years[1:]))\n",
    "max(all_delta, key= lambda x:x[0])"
   ]
  },
  {
   "cell_type": "code",
   "execution_count": 40,
   "id": "f04687ba",
   "metadata": {},
   "outputs": [
    {
     "data": {
      "text/plain": [
       "218827"
      ]
     },
     "execution_count": 40,
     "metadata": {},
     "output_type": "execute_result"
    }
   ],
   "source": [
    "# What is the largest difference between the male and female population\n",
    "max((abs(m-f) for m, f in zip(all_male, all_female)))"
   ]
  }
 ],
 "metadata": {
  "kernelspec": {
   "display_name": "Python [conda env:python_lectures]",
   "language": "python",
   "name": "conda-env-python_lectures-py"
  },
  "language_info": {
   "codemirror_mode": {
    "name": "ipython",
    "version": 3
   },
   "file_extension": ".py",
   "mimetype": "text/x-python",
   "name": "python",
   "nbconvert_exporter": "python",
   "pygments_lexer": "ipython3",
   "version": "3.8.16"
  }
 },
 "nbformat": 4,
 "nbformat_minor": 5
}
