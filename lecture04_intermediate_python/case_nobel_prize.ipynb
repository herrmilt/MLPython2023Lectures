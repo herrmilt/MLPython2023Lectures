{
 "cells": [
  {
   "cell_type": "markdown",
   "id": "86fef4d6",
   "metadata": {},
   "source": [
    "# Nobel Prize Winners (1900-2020)"
   ]
  },
  {
   "cell_type": "code",
   "execution_count": null,
   "id": "19a35b4e",
   "metadata": {},
   "outputs": [],
   "source": [
    "import csv\n",
    "with open(\"data/nobel_prize_by_winner.csv\", encoding=\"cp1256\") as f:\n",
    "    reader = csv.reader(f)\n",
    "    raw_data = [r for r in reader]\n",
    "raw_data[:2]"
   ]
  },
  {
   "cell_type": "code",
   "execution_count": null,
   "id": "e6a24c2b",
   "metadata": {},
   "outputs": [],
   "source": [
    "# lets parse the information\n",
    "from datetime import datetime \n",
    "import re\n",
    "\n",
    "def parse_data(data, cols_to_use, convert_fn):\n",
    "    col_idxs = {r: idx for idx, r in enumerate(data[0])}\n",
    "    result = []\n",
    "    for d in data[1:]:\n",
    "        if d[1] == \"\" or d[3] == \"\":\n",
    "            continue\n",
    "        row = []\n",
    "        for col_name in cols_to_use:\n",
    "            raw_value = d[col_idxs[col_name]] \n",
    "            row.append(convert_fn(col_name, raw_value))\n",
    "        result.append(row)\n",
    "    return result, {col_name: idx for idx, col_name in enumerate(cols_to_use)}\n",
    "            \n",
    "def convert_field_fn(field_name, value):\n",
    "    if field_name in {'born', 'died'}:\n",
    "        comps = re.split(r'[/-]', value)\n",
    "        if comps[0] == '0000' and comps[1] == '00' and comps[2] == '00':\n",
    "            return None\n",
    "        return int(comps[-1])\n",
    "    if field_name == 'year':\n",
    "        return int(value)\n",
    "    return value\n",
    "\n",
    "data, col_idx = parse_data(raw_data, ['firstname',\n",
    "                      'surname',\n",
    "                      'born',\n",
    "                      'died',\n",
    "                      'bornCountry',\n",
    "                      'bornCountryCode',\n",
    "                      'diedCountry',\n",
    "                      'diedCountryCode',\n",
    "                      'gender',\n",
    "                      'year',\n",
    "                      'category'], convert_field_fn)\n",
    "data[:3]"
   ]
  },
  {
   "cell_type": "code",
   "execution_count": null,
   "id": "e6978007",
   "metadata": {
    "scrolled": true
   },
   "outputs": [],
   "source": [
    "col_idx.keys()"
   ]
  },
  {
   "cell_type": "code",
   "execution_count": null,
   "id": "8de2d236",
   "metadata": {},
   "outputs": [],
   "source": [
    "# A algunos les falta el año de nacimiento ... pasa siempre con datos reales\n",
    "data = [d for d in data if d[col_idx['born']] is not None]"
   ]
  },
  {
   "cell_type": "code",
   "execution_count": null,
   "id": "b7ea8e28",
   "metadata": {},
   "outputs": [],
   "source": [
    "# distribucion por sexo\n",
    "from collections import Counter\n",
    "\n",
    "def get_column_values(data, col_name):\n",
    "    return [d[col_idx[col_name]] for d in data]\n",
    "    \n",
    "Counter(get_column_values(data, 'gender'))"
   ]
  },
  {
   "cell_type": "code",
   "execution_count": null,
   "id": "827d807b",
   "metadata": {},
   "outputs": [],
   "source": [
    "# Idem, pero antes y despues de 1990\n",
    "def filter_rows(data, fn_select):\n",
    "    return [d for d in data if fn_select(d)]\n",
    "\n",
    "rows_before = filter_rows(data, lambda row: row[col_idx['year']] <= 1990)\n",
    "Counter(get_column_values(rows_before, 'gender'))"
   ]
  },
  {
   "cell_type": "code",
   "execution_count": null,
   "id": "245c48a6",
   "metadata": {},
   "outputs": [],
   "source": [
    "rows_after = filter_rows(data, lambda row: row[col_idx['year']] > 1990)\n",
    "Counter(get_column_values(rows_after, 'gender'))"
   ]
  },
  {
   "cell_type": "code",
   "execution_count": null,
   "id": "d3c02d2d",
   "metadata": {},
   "outputs": [],
   "source": [
    "# histograma de edades al recibir el Nobel\n",
    "all_ages = [row[col_idx['year']] - row[col_idx['born']] for row in data ]\n",
    "all_ages[:5]"
   ]
  },
  {
   "cell_type": "code",
   "execution_count": null,
   "id": "80f3db90",
   "metadata": {
    "scrolled": false
   },
   "outputs": [],
   "source": [
    "import matplotlib.pyplot as plt\n",
    "\n",
    "def create_histogram(data, min_value, max_value):\n",
    "    result = list((0 for _ in range(max_value + min_value + 1)))\n",
    "    for d in data:\n",
    "        if d < min_value:\n",
    "            idx = 0\n",
    "        elif d >= max_value:\n",
    "            idx = -1\n",
    "        else:\n",
    "            idx = d - min_value\n",
    "        result[idx] += 1\n",
    "    return result\n",
    "                  \n",
    "age_hist = create_histogram(all_ages, 1, 90)\n",
    "plt.plot(age_hist)\n"
   ]
  },
  {
   "cell_type": "code",
   "execution_count": null,
   "id": "62f822f5",
   "metadata": {
    "scrolled": true
   },
   "outputs": [],
   "source": [
    "# Por cada categoria, edad promedio al alcanzar el Nobel\n",
    "from collections import defaultdict\n",
    "\n",
    "by_category = defaultdict(lambda: [])\n",
    "for d in data:\n",
    "    category = d[col_idx['category']]\n",
    "    age = d[col_idx['year']] - d[col_idx['born']]\n",
    "    by_category[category].append(age)\n",
    "by_category"
   ]
  },
  {
   "cell_type": "code",
   "execution_count": null,
   "id": "810100ab",
   "metadata": {},
   "outputs": [],
   "source": [
    "[(cat, sum(ages) / len(ages), min(ages), max(ages)) for cat, ages in by_category.items()]"
   ]
  }
 ],
 "metadata": {
  "kernelspec": {
   "display_name": "Python [conda env:python_lectures]",
   "language": "python",
   "name": "conda-env-python_lectures-py"
  },
  "language_info": {
   "codemirror_mode": {
    "name": "ipython",
    "version": 3
   },
   "file_extension": ".py",
   "mimetype": "text/x-python",
   "name": "python",
   "nbconvert_exporter": "python",
   "pygments_lexer": "ipython3",
   "version": "3.8.16"
  }
 },
 "nbformat": 4,
 "nbformat_minor": 5
}
