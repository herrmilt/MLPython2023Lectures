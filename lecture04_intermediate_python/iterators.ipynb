{
 "cells": [
  {
   "cell_type": "markdown",
   "id": "d360f9ef",
   "metadata": {},
   "source": [
    "# Iterators\n",
    "\n",
    "In computer science, an iterator is a programming construct that represents a sequence of elements and provides an interface for accessing those elements sequentially. It is an object or data structure that allows traversal and processing of a collection of items one at a time.\n",
    "\n",
    "In Python, an iterator is an object that implements the iterator protocol, which consists of the \\_\\_iter\\_\\_() and \\_\\_next\\_\\_() methods. Iterators are used to loop over a collection of elements or to generate a sequence of values on the fly."
   ]
  },
  {
   "cell_type": "code",
   "execution_count": null,
   "id": "866ff4b9",
   "metadata": {},
   "outputs": [],
   "source": [
    "r = range(5)"
   ]
  },
  {
   "cell_type": "code",
   "execution_count": null,
   "id": "42e8d2cb",
   "metadata": {},
   "outputs": [],
   "source": [
    "type(r)"
   ]
  },
  {
   "cell_type": "markdown",
   "id": "41173c0e",
   "metadata": {},
   "source": [
    "you can iterate range values, one at a time, with a for loop"
   ]
  },
  {
   "cell_type": "code",
   "execution_count": null,
   "id": "a983ce5b",
   "metadata": {},
   "outputs": [],
   "source": [
    "for v in r:\n",
    "    print(v, end=\", \")"
   ]
  },
  {
   "cell_type": "markdown",
   "id": "abd26a8a",
   "metadata": {},
   "source": [
    "What does the **for** method do?"
   ]
  },
  {
   "cell_type": "code",
   "execution_count": null,
   "id": "dce86b50",
   "metadata": {},
   "outputs": [],
   "source": [
    "it = iter(r)\n",
    "try:\n",
    "    while True:\n",
    "        v = next(it)\n",
    "        print(v, end=\", \")\n",
    "except StopIteration:\n",
    "    pass\n",
    "    "
   ]
  },
  {
   "cell_type": "markdown",
   "id": "a80d7072",
   "metadata": {},
   "source": [
    "By providing a standardized interface for iterating over collections, iterators promote modular and reusable code. They decouple the traversal logic from the specific collection implementation, allowing different types of collections to be traversed uniformly using the same iteration constructs.\n",
    "\n",
    "As iterators traverse elements one by one, they enable the creation of dynamic element generation without requiring additional storage. \n",
    "- This feature is exemplified by methods like range, where elements are generated on-the-fly as needed during the iteration process. \n",
    "- By avoiding the need for extra storage, iterators provide an efficient and memory-friendly approach to handle large or dynamically generated collections."
   ]
  },
  {
   "cell_type": "code",
   "execution_count": null,
   "id": "6120bebd",
   "metadata": {},
   "outputs": [],
   "source": [
    "# Sum the squares a large collection of numbers without actually creating the numbers list\n",
    "t = 0\n",
    "for v in range(10000):\n",
    "    t += v * v\n",
    "print(t)"
   ]
  },
  {
   "cell_type": "markdown",
   "id": "14924b73",
   "metadata": {},
   "source": [
    "## Common Python iterators\n",
    "\n",
    "**enumerate** enhances the iteration process by transforming each iterated element into a tuple consisting of its position (index) and the element itself"
   ]
  },
  {
   "cell_type": "code",
   "execution_count": null,
   "id": "10a6a6ff",
   "metadata": {},
   "outputs": [],
   "source": [
    "l = ['a', 'b', 'c', 'd', 'e', 'f', 'g', 'h']\n",
    "for idx, v in enumerate(l):\n",
    "    print(idx, v)"
   ]
  },
  {
   "cell_type": "code",
   "execution_count": null,
   "id": "6fc64368",
   "metadata": {},
   "outputs": [],
   "source": [
    "# Select elements in even positions\n",
    "[v for idx, v in enumerate(l) if idx % 2 == 0]"
   ]
  },
  {
   "cell_type": "markdown",
   "id": "ebddeb16",
   "metadata": {},
   "source": [
    "**map** applies a given function to each item of an iterable (e.g., a list, tuple, or string) and returns an iterator with the results. It takes two arguments: the function to apply and the iterable to process"
   ]
  },
  {
   "cell_type": "code",
   "execution_count": null,
   "id": "59c74ab6",
   "metadata": {},
   "outputs": [],
   "source": [
    "def double(x):\n",
    "    return 2 * x\n",
    "\n",
    "numbers = [1, 2, 3, 4, 5]\n",
    "\n",
    "for n in map(double, numbers):\n",
    "    print(n)"
   ]
  },
  {
   "cell_type": "markdown",
   "id": "9dc3a6cc",
   "metadata": {},
   "source": [
    "Note that you can convert a finite enumerator to a list using a comprehensionr or the list constructor"
   ]
  },
  {
   "cell_type": "code",
   "execution_count": null,
   "id": "30c7980d",
   "metadata": {},
   "outputs": [],
   "source": [
    "[x for x in map(double, numbers)]"
   ]
  },
  {
   "cell_type": "code",
   "execution_count": null,
   "id": "c5107315",
   "metadata": {},
   "outputs": [],
   "source": [
    "list(map(double, numbers))"
   ]
  },
  {
   "cell_type": "markdown",
   "id": "384e4e4f",
   "metadata": {},
   "source": [
    "**filter** creates an iterator from elements of an iterable that satisfy a certain condition. It takes two arguments: the filtering function and the iterable to process."
   ]
  },
  {
   "cell_type": "code",
   "execution_count": null,
   "id": "ca64e02e",
   "metadata": {},
   "outputs": [],
   "source": [
    "def is_even(x):\n",
    "    return x % 2 == 0\n",
    "\n",
    "numbers = [1, 2, 3, 4, 5, 6, 7, 8, 9, 10]\n",
    "even_numbers = filter(is_even, numbers)\n",
    "\n",
    "list(even_numbers)"
   ]
  },
  {
   "cell_type": "markdown",
   "id": "cd98cc36",
   "metadata": {},
   "source": [
    "map and filter can be combined together"
   ]
  },
  {
   "cell_type": "code",
   "execution_count": null,
   "id": "40c975d4",
   "metadata": {},
   "outputs": [],
   "source": [
    "list(map(double, filter(is_even, numbers)))"
   ]
  },
  {
   "cell_type": "markdown",
   "id": "526b7f60",
   "metadata": {},
   "source": [
    "**Note**. List comprehensions are only syntactic sugar of using map() and filter() functions."
   ]
  },
  {
   "cell_type": "markdown",
   "id": "348cd94d",
   "metadata": {},
   "source": [
    "**zip** function in Python is a built-in function that allows you to combine elements from multiple iterables into tuples. It returns an iterator that produces tuples containing elements from each input iterable, until the shortest iterable is exhausted."
   ]
  },
  {
   "cell_type": "code",
   "execution_count": null,
   "id": "c19c9c13",
   "metadata": {},
   "outputs": [],
   "source": [
    "numbers = [1, 2, 3]\n",
    "letters = ['a', 'b', 'c']\n",
    "list(zip(numbers, letters))"
   ]
  },
  {
   "cell_type": "code",
   "execution_count": null,
   "id": "85973a68",
   "metadata": {},
   "outputs": [],
   "source": [
    "numbers = [2, 4, 5, 6]\n",
    "numbers2 = [5, 6, 7, 10]\n",
    "result = []\n",
    "for n1, n2 in zip(numbers, numbers2):\n",
    "    result.append(n1+n)\n",
    "result"
   ]
  },
  {
   "cell_type": "code",
   "execution_count": null,
   "id": "28b7ef33",
   "metadata": {},
   "outputs": [],
   "source": [
    "[n1 + n2 for n1, n2 in zip(numbers, numbers2)]"
   ]
  },
  {
   "cell_type": "markdown",
   "id": "d63bb2d8",
   "metadata": {},
   "source": [
    "Select which elements to consider using a mask"
   ]
  },
  {
   "cell_type": "code",
   "execution_count": null,
   "id": "9e8dd9a2",
   "metadata": {},
   "outputs": [],
   "source": [
    "elements = [23, 34, 12, 1, 6, 8, 27, 12]\n",
    "mask = [True, False, True, True, False, False, True, True]\n",
    "\n",
    "[e for e, m in zip(elements, mask) if m]"
   ]
  },
  {
   "cell_type": "markdown",
   "id": "cda999eb",
   "metadata": {},
   "source": [
    "Implement 'enumerate'"
   ]
  },
  {
   "cell_type": "code",
   "execution_count": null,
   "id": "c71886f3",
   "metadata": {},
   "outputs": [],
   "source": [
    "elements = [23, 34, 12, 1, 6, 8, 27, 12]\n",
    "for v in zip(range(len(elements)), elements):\n",
    "    print(v)"
   ]
  },
  {
   "cell_type": "markdown",
   "id": "4f2b0cde",
   "metadata": {},
   "source": [
    "## itertools package\n",
    "\n",
    "itertools is a module in Python's standard library that provides a collection of functions for creating and working with iterators efficiently. It offers various tools for combinatorial iterators and looping constructs beyond what the built-in functions and libraries offer."
   ]
  },
  {
   "cell_type": "code",
   "execution_count": null,
   "id": "35b7faa0",
   "metadata": {},
   "outputs": [],
   "source": [
    "import itertools as it"
   ]
  },
  {
   "cell_type": "markdown",
   "id": "3bdeb067",
   "metadata": {},
   "source": [
    "**Permutations**"
   ]
  },
  {
   "cell_type": "code",
   "execution_count": null,
   "id": "71a14406",
   "metadata": {},
   "outputs": [],
   "source": [
    "p = it.permutations(range(3))\n",
    "print(*p)"
   ]
  },
  {
   "cell_type": "markdown",
   "id": "9a5c90f5",
   "metadata": {},
   "source": [
    "What is the mistery asterisk??"
   ]
  },
  {
   "cell_type": "code",
   "execution_count": null,
   "id": "9e39963b",
   "metadata": {},
   "outputs": [],
   "source": [
    "def test(a, b, c):\n",
    "    print(a)\n",
    "    print(b)\n",
    "    print(c)"
   ]
  },
  {
   "cell_type": "code",
   "execution_count": null,
   "id": "7a86b8d1",
   "metadata": {},
   "outputs": [],
   "source": [
    "test([3, 3, 4])"
   ]
  },
  {
   "cell_type": "code",
   "execution_count": null,
   "id": "4929b612",
   "metadata": {
    "scrolled": true
   },
   "outputs": [],
   "source": [
    "test(*[3, 3, 4])"
   ]
  },
  {
   "cell_type": "code",
   "execution_count": null,
   "id": "7bca3313",
   "metadata": {
    "scrolled": false
   },
   "outputs": [],
   "source": [
    "print(*range(10))"
   ]
  },
  {
   "cell_type": "markdown",
   "id": "f02b9d91",
   "metadata": {},
   "source": [
    "Similarly, ** expands dictionaries .."
   ]
  },
  {
   "cell_type": "code",
   "execution_count": null,
   "id": "129b9c25",
   "metadata": {},
   "outputs": [],
   "source": [
    "def test2(param1, param2):\n",
    "    print(param1)\n",
    "    print(param2)"
   ]
  },
  {
   "cell_type": "code",
   "execution_count": null,
   "id": "0435f8fb",
   "metadata": {},
   "outputs": [],
   "source": [
    "test2(**{'param1': 12, 'param2': 'cleopatra'})"
   ]
  },
  {
   "cell_type": "markdown",
   "id": "1c25acee",
   "metadata": {},
   "source": [
    "Example. upose you are playing scrabble, and you want to know the possible words that you can form with the letters you actually have with maximum size: matrs"
   ]
  },
  {
   "cell_type": "code",
   "execution_count": null,
   "id": "3660976d",
   "metadata": {},
   "outputs": [],
   "source": [
    "def word_exists(w):\n",
    "    return True\n",
    "\n",
    "[\"\".join(p) for p in it.permutations('matrs') if word_exists(\"\".join(p))]"
   ]
  },
  {
   "cell_type": "markdown",
   "id": "36457cfe",
   "metadata": {},
   "source": [
    "**combinations**"
   ]
  },
  {
   "cell_type": "code",
   "execution_count": null,
   "id": "1cb8ec5d",
   "metadata": {},
   "outputs": [],
   "source": [
    "list(it.combinations(range(4), 2))"
   ]
  },
  {
   "cell_type": "markdown",
   "id": "87748a57",
   "metadata": {},
   "source": [
    "Example, find all the pairs of numbers in a collection which sum is 12"
   ]
  },
  {
   "cell_type": "code",
   "execution_count": null,
   "id": "15a837ca",
   "metadata": {},
   "outputs": [],
   "source": [
    "a_list = [1, 2, 4, 5, 7, 8, 9, 10, 12]\n",
    "s = 12\n",
    "[(x, y) for x, y in it.combinations(a_list, 2) if x+y == 12]"
   ]
  },
  {
   "cell_type": "markdown",
   "id": "95226ff9",
   "metadata": {},
   "source": [
    "Other iterators ..."
   ]
  },
  {
   "cell_type": "code",
   "execution_count": null,
   "id": "810ca4a5",
   "metadata": {},
   "outputs": [],
   "source": [
    "# Cartesian product\n",
    "p = it.product('abc', range(3))\n",
    "print(*p)"
   ]
  },
  {
   "cell_type": "code",
   "execution_count": null,
   "id": "8bae7d5a",
   "metadata": {},
   "outputs": [],
   "source": [
    "# Cyclical generator\n",
    "for a, b in zip(range(15), it.cycle('abcd')):\n",
    "    print(a, b)"
   ]
  },
  {
   "cell_type": "code",
   "execution_count": null,
   "id": "4c3701cc",
   "metadata": {},
   "outputs": [],
   "source": [
    "# example: given a list, change the sign of elements in even positions\n",
    "base_list = [3, 5, 7, 2, 3, 5, 7, 23, 45, 23]\n",
    "[x*y for x, y in zip(base_list, it.cycle((1, -1)))]"
   ]
  },
  {
   "cell_type": "code",
   "execution_count": null,
   "id": "0f17ca44",
   "metadata": {},
   "outputs": [],
   "source": [
    "# acumulador\n",
    "def add(x, y):\n",
    "    return x+y\n",
    "\n",
    "print(list(range(20)))\n",
    "print(*it.accumulate(range(20), add))"
   ]
  },
  {
   "cell_type": "code",
   "execution_count": null,
   "id": "c66b9348",
   "metadata": {},
   "outputs": [],
   "source": [
    "print(*it.accumulate('abcdefg', add))"
   ]
  },
  {
   "cell_type": "code",
   "execution_count": null,
   "id": "01db774a",
   "metadata": {},
   "outputs": [],
   "source": [
    "import random\n",
    "random.seed(10)\n",
    "l = [random.randint(5, 100) for _ in range(20)]\n",
    "print(l)\n",
    "# running max\n",
    "print('run_max', *it.accumulate(l, max))\n",
    "print('run_min', *it.accumulate(l, min))"
   ]
  },
  {
   "cell_type": "code",
   "execution_count": null,
   "id": "26090a9c",
   "metadata": {},
   "outputs": [],
   "source": [
    "# groupby\n",
    "def reminder(x):\n",
    "    return x % 5\n",
    "\n",
    "l = [random.randint(5, 100) for _ in range(20)]\n",
    "print(l)\n",
    "l.sort(key = lambda x: x % 5)\n",
    "for k, g in it.groupby(l, reminder):\n",
    "    print(\"rest\", k)\n",
    "    print(\"-\", *g)\n"
   ]
  },
  {
   "cell_type": "markdown",
   "id": "8ab70643",
   "metadata": {},
   "source": [
    "### Generator expressions\n",
    "\n",
    "In Python, generator expressions are a concise and memory-efficient way to create iterators. They are similar to list comprehensions but with a subtle difference: instead of creating a list, they generate values on-the-fly as you iterate over them.\n",
    "\n",
    "For example, to calculate the sum of the squared values of numbers between 1 and 100, you can do this:"
   ]
  },
  {
   "cell_type": "code",
   "execution_count": null,
   "id": "3fdeb2b1",
   "metadata": {},
   "outputs": [],
   "source": [
    "values = [x**2 for x in range(101)]\n",
    "sum(values)"
   ]
  },
  {
   "cell_type": "markdown",
   "id": "4dff8be5",
   "metadata": {},
   "source": [
    "Note that the list of squared values was created for single use of each values, so using a generator expressions is more memory-efficient"
   ]
  },
  {
   "cell_type": "code",
   "execution_count": null,
   "id": "451e7bbc",
   "metadata": {},
   "outputs": [],
   "source": [
    "values_generator = (x **2 for x in range(101))\n",
    "print(values_generator)\n",
    "sum(values_generator)"
   ]
  },
  {
   "cell_type": "markdown",
   "id": "3468df80",
   "metadata": {},
   "source": [
    "Example: calculate the sum of the products of elements in two lists"
   ]
  },
  {
   "cell_type": "code",
   "execution_count": null,
   "id": "b3bed654",
   "metadata": {},
   "outputs": [],
   "source": [
    "l1 = range(0, 120, 5)\n",
    "l2 = range(2, 1000, 3)\n",
    "gen = (x*y for x, y in zip(l1, l2))\n",
    "print(sum(gen))"
   ]
  },
  {
   "cell_type": "markdown",
   "id": "42c08795",
   "metadata": {},
   "source": [
    "A generator is a recipe for constructing values, instead of a list, which is a collection of values."
   ]
  },
  {
   "cell_type": "markdown",
   "id": "0bc36f89",
   "metadata": {},
   "source": [
    "## Generator functions with yield\n",
    "\n",
    "The yield keyword is used in Python to create generator functions. Generator functions are a convenient way to create iterators without having to implement the iterator protocol explicitly. "
   ]
  },
  {
   "cell_type": "code",
   "execution_count": null,
   "id": "fc561329",
   "metadata": {},
   "outputs": [],
   "source": [
    "def my_generator(limit):\n",
    "    current = 0\n",
    "    while current < limit:\n",
    "        yield current\n",
    "        current += 1\n",
    "\n",
    "# Using the generator\n",
    "generator = my_generator(5)\n",
    "for num in generator:\n",
    "    print(num)"
   ]
  },
  {
   "cell_type": "markdown",
   "id": "87404601",
   "metadata": {},
   "source": [
    "Another example, Fibonacci generator"
   ]
  },
  {
   "cell_type": "code",
   "execution_count": null,
   "id": "57619c3a",
   "metadata": {},
   "outputs": [],
   "source": [
    "def fib_generator(max_value):\n",
    "    n1 = 0\n",
    "    n2 = 1\n",
    "    yield n1\n",
    "    yield n2\n",
    "    while True:\n",
    "        n1, n2 = n2, n1+n2\n",
    "        if n2 > max_value:\n",
    "            return\n",
    "        yield n2\n",
    "\n",
    "list(fib_generator(100))"
   ]
  },
  {
   "cell_type": "markdown",
   "id": "7511bd1c",
   "metadata": {},
   "source": [
    "## Solved Exercises"
   ]
  },
  {
   "cell_type": "markdown",
   "id": "9a1aa28a",
   "metadata": {},
   "source": [
    "Using iterators, return the elements in odd positions in a list"
   ]
  },
  {
   "cell_type": "code",
   "execution_count": null,
   "id": "79ef094e",
   "metadata": {},
   "outputs": [],
   "source": [
    "l = [83, 53, 10, 79, 5, 35, 22, 29, 43, 73, 51, 35, 45, 90, 75, 62, 60, 65, 13, 88]\n",
    "[v for idx, v in enumerate(l) if idx % 2 == 0]"
   ]
  },
  {
   "cell_type": "markdown",
   "id": "de4d77e9",
   "metadata": {},
   "source": [
    "From every number in a list, substract its position in the list."
   ]
  },
  {
   "cell_type": "code",
   "execution_count": null,
   "id": "dad50e19",
   "metadata": {},
   "outputs": [],
   "source": [
    "[v - idx for idx, v in enumerate(l)]"
   ]
  },
  {
   "cell_type": "markdown",
   "id": "17d0f2a1",
   "metadata": {},
   "source": [
    "**Exercise**. Write a Python program to convert two lists into a dictionary in a way that item from list1 is the key and item from list2 is the value"
   ]
  },
  {
   "cell_type": "code",
   "execution_count": null,
   "id": "f8709c17",
   "metadata": {},
   "outputs": [],
   "source": [
    "keys = ['Ten', 'Twenty', 'Thirty']\n",
    "values = [10, 20, 30]\n",
    "{k: v for k, v in zip(keys, values)}"
   ]
  },
  {
   "cell_type": "markdown",
   "id": "11abce5c",
   "metadata": {},
   "source": [
    "**Exercise**. Given two lists, find the difference between the elements which are in the same positions"
   ]
  },
  {
   "cell_type": "code",
   "execution_count": null,
   "id": "17e57778",
   "metadata": {},
   "outputs": [],
   "source": [
    "l1 = [16, 21, 29, 98, 14, 88, 47, 34, 93] \n",
    "l2 = [97, 5, 68, 31, 18, 98, 29, 77, 70]\n",
    "[x - y for x, y in zip(l1, l2)]"
   ]
  },
  {
   "cell_type": "markdown",
   "id": "626efaec",
   "metadata": {},
   "source": [
    "**Exercise**. From a given list, return a new list by adding every element with the element next to it"
   ]
  },
  {
   "cell_type": "code",
   "execution_count": null,
   "id": "da1b61c3",
   "metadata": {},
   "outputs": [],
   "source": [
    "l = [83, 10, 5, 22, 43, 51, 45, 75, 60, 13]\n",
    "\n",
    "[e1 + e2 for e1, e2 in zip(l, l[1:])]"
   ]
  },
  {
   "cell_type": "markdown",
   "id": "28958fb2",
   "metadata": {},
   "source": [
    "**Exercise**. Using **map** and **filter**, obtain a list with the triple of all odd numbers from 0 to 100"
   ]
  },
  {
   "cell_type": "code",
   "execution_count": null,
   "id": "0de901ec",
   "metadata": {},
   "outputs": [],
   "source": [
    "list(map(lambda x: 3*x, filter(lambda x: x % 2 == 1, range(101))))"
   ]
  },
  {
   "cell_type": "code",
   "execution_count": null,
   "id": "35a6b840",
   "metadata": {},
   "outputs": [],
   "source": [
    "l1 = [16, 21, 29, 98, 14, 88, 47, 34, 93] \n",
    "list(x-y for x, y in zip(l1, l1[1:]))"
   ]
  },
  {
   "cell_type": "markdown",
   "id": "9d86dafd",
   "metadata": {},
   "source": [
    "**Exercise**. Given the following list of numbers"
   ]
  },
  {
   "cell_type": "code",
   "execution_count": null,
   "id": "be7a0f79",
   "metadata": {},
   "outputs": [],
   "source": [
    "vals = [16, 21, 29, 98, 14, 88, 47, 34, 93, 19, 17, 37, 84, 61, \n",
    "     97, 5, 68, 31, 18, 98, 29, 77, 70, 21, 15, 16, 62, 3, 54, 73]"
   ]
  },
  {
   "cell_type": "markdown",
   "id": "639804b1",
   "metadata": {},
   "source": [
    "a) Find the maximum sum between two consecutive elements"
   ]
  },
  {
   "cell_type": "code",
   "execution_count": null,
   "id": "17a5b2bf",
   "metadata": {},
   "outputs": [],
   "source": [
    "max(v1 + v2 for v1, v2 in zip(vals, vals[1:]))"
   ]
  },
  {
   "cell_type": "markdown",
   "id": "6876601b",
   "metadata": {},
   "source": [
    "b) find the maximum sum among three consecutive elements"
   ]
  },
  {
   "cell_type": "code",
   "execution_count": null,
   "id": "56ffb64b",
   "metadata": {},
   "outputs": [],
   "source": [
    "max(v1 + v2 + v3 for v1, v2, v3 in zip(vals, vals[1:], vals[2:]))"
   ]
  },
  {
   "cell_type": "markdown",
   "id": "0c797d27",
   "metadata": {},
   "source": [
    "c) Find the consecutive elements with maximum sum"
   ]
  },
  {
   "cell_type": "code",
   "execution_count": null,
   "id": "4ac991dd",
   "metadata": {},
   "outputs": [],
   "source": [
    "ordered = sorted(((v1, v2, v1 + v2) for v1, v2 in zip(vals, vals[1:])), \n",
    "      key=lambda x: -x[2])\n",
    "ordered[0]"
   ]
  },
  {
   "cell_type": "markdown",
   "id": "b748dc6a",
   "metadata": {},
   "source": [
    "d) Generate a new list by alternatingly multiplying the numbers by 1 and -1 to switch their signs."
   ]
  },
  {
   "cell_type": "code",
   "execution_count": null,
   "id": "fde968b6",
   "metadata": {},
   "outputs": [],
   "source": [
    "print([x*sgn for x,sgn in zip(vals, it.cycle([1, -1]))])"
   ]
  },
  {
   "cell_type": "markdown",
   "id": "4583cc15",
   "metadata": {},
   "source": [
    "**Exercise**. Having a list of numbers and a 3x1 kernel, convolute the values using the kernel values"
   ]
  },
  {
   "cell_type": "code",
   "execution_count": null,
   "id": "dde2e4a2",
   "metadata": {},
   "outputs": [],
   "source": [
    "def apply_kernel(values, kernel):\n",
    "    return [sum((v1 * v2 for v1, v2 in zip((e1, e2, e3), kernel))) \n",
    "            for e1, e2, e3 in zip(values, values[1:], values[2:])]"
   ]
  },
  {
   "cell_type": "code",
   "execution_count": null,
   "id": "f942b04d",
   "metadata": {},
   "outputs": [],
   "source": [
    "l = [83, 10, 5, 22, 43, 51, 45, 75, 60, 13]\n",
    "print(apply_kernel(l, [1/3, 1/3, 1/3]))"
   ]
  },
  {
   "cell_type": "code",
   "execution_count": null,
   "id": "72b476ac",
   "metadata": {},
   "outputs": [],
   "source": [
    "print(apply_kernel(l, [0.5, 0, 0.5]))"
   ]
  },
  {
   "cell_type": "code",
   "execution_count": null,
   "id": "19567095",
   "metadata": {},
   "outputs": [],
   "source": [
    "print(apply_kernel(l, [1, -1, 0]))"
   ]
  },
  {
   "cell_type": "markdown",
   "id": "5da7dc26",
   "metadata": {},
   "source": [
    "**Exercise**. Create an iterator from several iterables in a sequence"
   ]
  },
  {
   "cell_type": "code",
   "execution_count": null,
   "id": "00349bf5",
   "metadata": {},
   "outputs": [],
   "source": [
    "def my_chain_it(*args):\n",
    "    for iterator in args:\n",
    "        for value in iterator:\n",
    "            yield value\n",
    "        \n",
    "list(my_chain_it([1,2,3], ['a','b','c','d'], [4,5,6,7,8,9]))"
   ]
  },
  {
   "cell_type": "markdown",
   "id": "89405b26",
   "metadata": {},
   "source": [
    "There is an itertool for doing so"
   ]
  },
  {
   "cell_type": "code",
   "execution_count": null,
   "id": "da7881b6",
   "metadata": {},
   "outputs": [],
   "source": [
    "import itertools as it\n",
    "for v in it.chain([1,2,3], ['a','b','c','d'], [4,5,6,7,8,9]):\n",
    "    print(v)"
   ]
  },
  {
   "cell_type": "markdown",
   "id": "6aea78cc",
   "metadata": {},
   "source": [
    "**Exercise**. Generates the running product of elements in an iterable"
   ]
  },
  {
   "cell_type": "code",
   "execution_count": null,
   "id": "cb1aa51d",
   "metadata": {},
   "outputs": [],
   "source": [
    "def running_product(source):\n",
    "    accumulator = 1\n",
    "    for v in source:\n",
    "        accumulator *= v\n",
    "        yield accumulator\n",
    "list(running_product([3, 4, 5, 6]))"
   ]
  },
  {
   "cell_type": "markdown",
   "id": "257417fd",
   "metadata": {},
   "source": [
    "**Exercise**. Other solution doing iteration _manually_ "
   ]
  },
  {
   "cell_type": "code",
   "execution_count": null,
   "id": "3d493ab0",
   "metadata": {},
   "outputs": [],
   "source": [
    "def running_product(source):\n",
    "    my_iter = iter(source)\n",
    "    try:\n",
    "        accumulator = next(my_iter)\n",
    "        yield accumulator\n",
    "        while True:\n",
    "            v = next(my_iter)\n",
    "            accumulator *= v\n",
    "            yield accumulator\n",
    "    except StopIteration:\n",
    "        pass\n",
    "        \n",
    "list(running_product([3, 4, 5, 6]))"
   ]
  },
  {
   "cell_type": "markdown",
   "id": "ccff8cc4",
   "metadata": {},
   "source": [
    "**Exercise**. Modify previous code to allow passing an accumulating function (min, max, etc)"
   ]
  },
  {
   "cell_type": "code",
   "execution_count": null,
   "id": "e55fd0a4",
   "metadata": {},
   "outputs": [],
   "source": [
    "def running_function(source, fn):\n",
    "    accumulator = None\n",
    "    for v in source:\n",
    "        if accumulator is None:\n",
    "            accumulator = v\n",
    "        else:\n",
    "            accumulator = fn(accumulator, v)\n",
    "        yield accumulator\n",
    "        \n",
    "def max_of_two(x, y):\n",
    "    return max(x, y)\n",
    "\n",
    "list(running_function([3, 4, 5, 6, 5, 2, 1, 12, 8], max_of_two))"
   ]
  },
  {
   "cell_type": "markdown",
   "id": "d7bd3c63",
   "metadata": {},
   "source": [
    "We can already use the python builtin max or min functions"
   ]
  },
  {
   "cell_type": "code",
   "execution_count": null,
   "id": "2bf33ce5",
   "metadata": {},
   "outputs": [],
   "source": [
    "print(list(running_function([3, 4, 5, 6, 5, 2, 1, 12, 8], max)))\n",
    "print(list(running_function([3, 4, 5, 6, 5, 2, 1, 12, 8], min)))"
   ]
  },
  {
   "cell_type": "markdown",
   "id": "ea593372",
   "metadata": {},
   "source": [
    "Note that we can use it to calculate the running product if proper function is passed"
   ]
  },
  {
   "cell_type": "code",
   "execution_count": null,
   "id": "c254c4ce",
   "metadata": {},
   "outputs": [],
   "source": [
    "import operator\n",
    "\n",
    "list(running_function([3, 4, 5, 6, 5, 2, 1, 12, 8], operator.mul))"
   ]
  },
  {
   "cell_type": "code",
   "execution_count": null,
   "id": "16a8dc4f",
   "metadata": {},
   "outputs": [],
   "source": [
    "list(running_function([3, 4, 5, 6, 5, 2, 1, 12, 8], operator.add))"
   ]
  }
 ],
 "metadata": {
  "kernelspec": {
   "display_name": "Python [conda env:python_lectures]",
   "language": "python",
   "name": "conda-env-python_lectures-py"
  },
  "language_info": {
   "codemirror_mode": {
    "name": "ipython",
    "version": 3
   },
   "file_extension": ".py",
   "mimetype": "text/x-python",
   "name": "python",
   "nbconvert_exporter": "python",
   "pygments_lexer": "ipython3",
   "version": "3.8.16"
  }
 },
 "nbformat": 4,
 "nbformat_minor": 5
}
