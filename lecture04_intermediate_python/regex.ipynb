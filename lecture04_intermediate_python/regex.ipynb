{
 "cells": [
  {
   "cell_type": "markdown",
   "id": "68ab7c4f",
   "metadata": {},
   "source": [
    "# Regular Expressions\n",
    "\n",
    "Regular expressions, often referred to as regex or regexp, are powerful and flexible patterns used to match and manipulate text. They provide a concise and efficient way to search, extract, and modify specific patterns of characters within strings.\n",
    "Python, being a versatile programming language, integrates regular expressions through the re module. \n",
    "\n",
    "## Regular expressions in action"
   ]
  },
  {
   "cell_type": "markdown",
   "id": "219e09b2",
   "metadata": {},
   "source": [
    "Validating email"
   ]
  },
  {
   "cell_type": "code",
   "execution_count": null,
   "id": "789c420f",
   "metadata": {},
   "outputs": [],
   "source": [
    "import re\n",
    "\n",
    "def is_valid_email(email):\n",
    "    pattern = r'^[\\w\\.-]+@[\\w\\.-]+\\.\\w+$'\n",
    "    return re.match(pattern, email) is not None"
   ]
  },
  {
   "cell_type": "code",
   "execution_count": null,
   "id": "352e6975",
   "metadata": {},
   "outputs": [],
   "source": [
    "is_valid_email(\"john.doe@example.com\")"
   ]
  },
  {
   "cell_type": "code",
   "execution_count": null,
   "id": "0a4fa06d",
   "metadata": {},
   "outputs": [],
   "source": [
    "is_valid_email(\"invalid_email@dasdad\") "
   ]
  },
  {
   "cell_type": "code",
   "execution_count": null,
   "id": "ea7a1aae",
   "metadata": {},
   "outputs": [],
   "source": [
    "is_valid_email(\"@dasdad.com\") "
   ]
  },
  {
   "cell_type": "markdown",
   "id": "127e3923",
   "metadata": {},
   "source": [
    "Validating phone numbers"
   ]
  },
  {
   "cell_type": "code",
   "execution_count": null,
   "id": "e6e12c13",
   "metadata": {},
   "outputs": [],
   "source": [
    "def is_valid_phone_number(phone_number):\n",
    "    pattern = r'^\\d{3}-\\d{3}-\\d{4}(-\\d{2})?$'\n",
    "    return re.match(pattern, phone_number) is not None"
   ]
  },
  {
   "cell_type": "code",
   "execution_count": null,
   "id": "f30334a3",
   "metadata": {},
   "outputs": [],
   "source": [
    "is_valid_phone_number(\"123-456-7890-34\")"
   ]
  },
  {
   "cell_type": "code",
   "execution_count": null,
   "id": "6046a02f",
   "metadata": {},
   "outputs": [],
   "source": [
    "is_valid_phone_number(\"9876543210\")  "
   ]
  },
  {
   "cell_type": "code",
   "execution_count": null,
   "id": "44b0643f",
   "metadata": {},
   "outputs": [],
   "source": [
    "is_valid_phone_number(\"123-456-7890\")  "
   ]
  },
  {
   "cell_type": "markdown",
   "id": "7541ab1d",
   "metadata": {},
   "source": [
    "Extract URLs from text"
   ]
  },
  {
   "cell_type": "code",
   "execution_count": null,
   "id": "97f3d33c",
   "metadata": {},
   "outputs": [],
   "source": [
    "text = \"Visit my website at https://www.example.com or https://blog.example.com\"\n",
    "\n",
    "pattern = r'https?://[\\w\\.-]+'\n",
    "urls = re.findall(pattern, text)\n",
    "\n",
    "urls "
   ]
  },
  {
   "cell_type": "markdown",
   "id": "753d6aa4",
   "metadata": {},
   "source": [
    "Parsing log files"
   ]
  },
  {
   "cell_type": "code",
   "execution_count": null,
   "id": "5a6c40d9",
   "metadata": {},
   "outputs": [],
   "source": [
    "log_line = \"Error: File not found (filename.txt)\"\n",
    "\n",
    "pattern = r'Error: (.+) \\((.+)\\)'\n",
    "match = re.search(pattern, log_line)\n",
    "\n",
    "if match:\n",
    "    error_type = match.group(1)\n",
    "    file_name = match.group(2)\n",
    "    print(f\"Error Type: {error_type}\")\n",
    "    print(f\"File Name: {file_name}\")\n",
    "else:\n",
    "    print(\"No match found.\")"
   ]
  },
  {
   "cell_type": "markdown",
   "id": "10dab716",
   "metadata": {},
   "source": [
    "Data cleaning"
   ]
  },
  {
   "cell_type": "code",
   "execution_count": null,
   "id": "11b93e5c",
   "metadata": {},
   "outputs": [],
   "source": [
    "text = \"This text contains! some@ unwanted# characters$\"\n",
    "\n",
    "pattern = r'[!@#$]'\n",
    "cleaned_text = re.sub(pattern, '', text)\n",
    "\n",
    "cleaned_text"
   ]
  },
  {
   "cell_type": "markdown",
   "id": "3b22a6a0",
   "metadata": {},
   "source": [
    "Tokenizing a sentence"
   ]
  },
  {
   "cell_type": "code",
   "execution_count": null,
   "id": "c570e6d0",
   "metadata": {},
   "outputs": [],
   "source": [
    "sentence = \"Hello, how   are you  doing today?\"\n",
    "\n",
    "pattern = r'\\w+'\n",
    "tokens = re.findall(pattern, sentence)\n",
    "\n",
    "tokens"
   ]
  },
  {
   "cell_type": "markdown",
   "id": "84e53f11",
   "metadata": {},
   "source": [
    "Find words that ends with \"ful\" or \"full\""
   ]
  },
  {
   "cell_type": "code",
   "execution_count": null,
   "id": "7b60b420",
   "metadata": {},
   "outputs": [],
   "source": [
    "sentence = \"The colorful brown fox jumps over the colorfull lazy dog.\"\n",
    "\n",
    "pattern = r'\\b\\w+full?\\b'\n",
    "result = re.findall(pattern, sentence)\n",
    "\n",
    "print(result)  "
   ]
  },
  {
   "cell_type": "markdown",
   "id": "67d8e402",
   "metadata": {},
   "source": [
    "## Basics of Regular Expressions\n",
    "\n",
    "### Matching functions\n",
    "\n",
    "**match** function attempts to match RE pattern to string with optional flags. Here is the syntax for this function:\n",
    "\n",
    "re.match(pattern, string, flags=0)\n",
    "\n",
    "match function returns a **match** objects on success, or **None** on failure. We get *group(idx)* or *groups* to get the expression\n"
   ]
  },
  {
   "cell_type": "code",
   "execution_count": null,
   "id": "bf9f75ce",
   "metadata": {},
   "outputs": [],
   "source": [
    "line = \"Cats are smarter than dogs\"\n",
    "\n",
    "matchObj = re.match( r'(\\w+) are (\\w+)', line)\n",
    "\n",
    "if matchObj:\n",
    "    print(matchObj.group(0))\n",
    "    print(matchObj.group(1))\n",
    "    print(matchObj.group(2))\n",
    "else:\n",
    "    print(\"No match!!\")"
   ]
  },
  {
   "cell_type": "code",
   "execution_count": null,
   "id": "50488b18",
   "metadata": {},
   "outputs": [],
   "source": [
    "line = \"Cats arex smarter than dogs\"\n",
    "\n",
    "matchObj = re.match( r'(\\w+) are (\\w+)', line)\n",
    "print(matchObj)"
   ]
  },
  {
   "cell_type": "markdown",
   "id": "0e0b7998",
   "metadata": {},
   "source": [
    "Search vs Match: match checks for a match only at the beginning of the string, while search checks for a match anywhere in the string"
   ]
  },
  {
   "cell_type": "code",
   "execution_count": null,
   "id": "f110e2c1",
   "metadata": {},
   "outputs": [],
   "source": [
    "line = \"I think that cats are smarter than dogs\"\n",
    "\n",
    "matchObj = re.match( r'(\\w+) are (\\w+)', line)\n",
    "print(matchObj)"
   ]
  },
  {
   "cell_type": "code",
   "execution_count": null,
   "id": "f42f57e3",
   "metadata": {},
   "outputs": [],
   "source": [
    "matchObj = re.search( r'(\\w+) are (\\w+)', line)\n",
    "print(matchObj.group(0))"
   ]
  },
  {
   "cell_type": "markdown",
   "id": "865eed20",
   "metadata": {},
   "source": [
    "**findall** returns all the ocurrences of the matching pattern"
   ]
  },
  {
   "cell_type": "code",
   "execution_count": null,
   "id": "e8f06338",
   "metadata": {},
   "outputs": [],
   "source": [
    "line = \"She sells seashells by the seashore. The shells she sells are surely seashells\"\n",
    "re.findall(r's\\w+', line)"
   ]
  },
  {
   "cell_type": "markdown",
   "id": "51b50bcd",
   "metadata": {},
   "source": [
    "### Search and replace with **sub**"
   ]
  },
  {
   "cell_type": "code",
   "execution_count": null,
   "id": "bb01551a",
   "metadata": {},
   "outputs": [],
   "source": [
    "text = \"She sells seashells by the seashore. The shells she sells are surely seashells.\"\n",
    "re.sub(r\"shells\", \"pebbles\", text)"
   ]
  },
  {
   "cell_type": "code",
   "execution_count": null,
   "id": "a6bed225",
   "metadata": {},
   "outputs": [],
   "source": [
    "text = \"The total cost is $99.99. The discount is 20%.\"\n",
    "new_text = re.sub(r\"\\d+(\\.\\d+)?\", \"[NUMBER]\", text)\n",
    "\n",
    "new_text"
   ]
  },
  {
   "cell_type": "markdown",
   "id": "3980e063",
   "metadata": {},
   "source": [
    "### Splitting strings with re"
   ]
  },
  {
   "cell_type": "code",
   "execution_count": null,
   "id": "704381e8",
   "metadata": {},
   "outputs": [],
   "source": [
    "text = \"Hello World to everybody\"\n",
    "text.split(' ')"
   ]
  },
  {
   "cell_type": "code",
   "execution_count": null,
   "id": "0058e81d",
   "metadata": {},
   "outputs": [],
   "source": [
    "text = \"Hello   World     Python    Regex\"\n",
    "text.split(' ')"
   ]
  },
  {
   "cell_type": "code",
   "execution_count": null,
   "id": "eb5167c1",
   "metadata": {},
   "outputs": [],
   "source": [
    "words = re.split(r'\\s+', text)\n",
    "print(words)"
   ]
  },
  {
   "cell_type": "code",
   "execution_count": null,
   "id": "8caaa3c2",
   "metadata": {},
   "outputs": [],
   "source": [
    "text = \"Hello, World! How are you? I am nice, thank you\"\n",
    "segments = re.split(r'\\s?[\\.,\\?!]\\s?', text)\n",
    "print(segments)"
   ]
  },
  {
   "cell_type": "markdown",
   "id": "e3608fcf",
   "metadata": {},
   "source": [
    "### Regular expression patterns\n",
    "\n",
    "Except for control characters, (+ ? . * ^ $ ( ) [ ] { } | \\), all characters match themselves. You can escape a control character by preceding it with a backslash."
   ]
  },
  {
   "cell_type": "markdown",
   "id": "0cf1201f",
   "metadata": {},
   "source": [
    "^, matches beginning of line"
   ]
  },
  {
   "cell_type": "code",
   "execution_count": null,
   "id": "364a09cd",
   "metadata": {},
   "outputs": [],
   "source": [
    "text = \"Hello, World! Welcome to High Python.\"\n",
    "\n",
    "print(re.findall(r'^H\\w+', text))\n",
    "print(re.findall(r'H\\w+', text))"
   ]
  },
  {
   "cell_type": "markdown",
   "id": "b18d8704",
   "metadata": {},
   "source": [
    "Why findall and not simply match"
   ]
  },
  {
   "cell_type": "code",
   "execution_count": null,
   "id": "cfcca7ec",
   "metadata": {},
   "outputs": [],
   "source": [
    "print(re.findall(r'^H\\w+', \"Hello\\nHi Honey\\nHeritage\", flags=re.MULTILINE))"
   ]
  },
  {
   "cell_type": "markdown",
   "id": "65ef75bd",
   "metadata": {},
   "source": [
    "$, matches end of line"
   ]
  },
  {
   "cell_type": "code",
   "execution_count": null,
   "id": "87dcda6c",
   "metadata": {},
   "outputs": [],
   "source": [
    "print(re.findall(r'\\w+g$', \"Hello\\ndog fog\\nrog\", flags=re.MULTILINE))"
   ]
  },
  {
   "cell_type": "markdown",
   "id": "ac2fff16",
   "metadata": {},
   "source": [
    "., matches any single character except newline"
   ]
  },
  {
   "cell_type": "code",
   "execution_count": null,
   "id": "5f16ef7f",
   "metadata": {},
   "outputs": [],
   "source": [
    "line = \"Cats are smarter than dogs, said the cat\"\n",
    "\n",
    "print(re.findall( r'are .* dogs', line))"
   ]
  },
  {
   "cell_type": "markdown",
   "id": "d3c14121",
   "metadata": {},
   "source": [
    "[] Matches any single character in the brackets"
   ]
  },
  {
   "cell_type": "code",
   "execution_count": null,
   "id": "ed171e72",
   "metadata": {},
   "outputs": [],
   "source": [
    "text = \"The cat sat on the mat.\"\n",
    "\n",
    "pattern = r'[cms]\\w+'\n",
    "\n",
    "matches = re.findall(pattern, text)\n",
    "print(matches)"
   ]
  },
  {
   "cell_type": "markdown",
   "id": "db6eea65",
   "metadata": {},
   "source": [
    "We can also use ranges with -"
   ]
  },
  {
   "cell_type": "code",
   "execution_count": null,
   "id": "347c8b5a",
   "metadata": {},
   "outputs": [],
   "source": [
    "text = \"The cat sat on the mat.\"\n",
    "\n",
    "pattern = r'\\b[o-s]\\w+\\b'\n",
    "\n",
    "matches = re.findall(pattern, text)\n",
    "print(matches)"
   ]
  },
  {
   "cell_type": "markdown",
   "id": "caab5d92",
   "metadata": {},
   "source": [
    "[^] Matches any single character NOT in the brackets"
   ]
  },
  {
   "cell_type": "code",
   "execution_count": null,
   "id": "45cce740",
   "metadata": {},
   "outputs": [],
   "source": [
    "text = \"12345678912345678\"\n",
    "\n",
    "print(re.findall(r'[34]', text))\n",
    "print(re.findall(r'[^34]', text))"
   ]
  },
  {
   "cell_type": "markdown",
   "id": "315a75b9",
   "metadata": {},
   "source": [
    "| matches one expression or the other"
   ]
  },
  {
   "cell_type": "code",
   "execution_count": null,
   "id": "226e473f",
   "metadata": {},
   "outputs": [],
   "source": [
    "text = \"The cat rest in a pest sat on the mat.\"\n",
    "\n",
    "pattern = r'((re|pe)st)'\n",
    "\n",
    "matches = re.findall(pattern, text)\n",
    "print(matches)"
   ]
  },
  {
   "cell_type": "markdown",
   "id": "363b9d37",
   "metadata": {},
   "source": [
    "### Character classes\n",
    "- \\w, word characters\n",
    "- \\W, nonword characters\n",
    "- \\s, whitespaces, equivalent to [\\t\\n\\r\\f]\n",
    "- \\S, non whitespaces\n",
    "- \\d, digits\n",
    "- \\D, nondigits\n",
    "- \\b, word boundaries\n",
    "- \\B, nonword boundaries\n",
    "- \\n, \\t, newlines, tabs"
   ]
  },
  {
   "cell_type": "markdown",
   "id": "c6370225",
   "metadata": {},
   "source": [
    "### Repetition clases"
   ]
  },
  {
   "cell_type": "markdown",
   "id": "35e346e7",
   "metadata": {},
   "source": [
    "?, optional"
   ]
  },
  {
   "cell_type": "code",
   "execution_count": null,
   "id": "87e1c279",
   "metadata": {},
   "outputs": [],
   "source": [
    "text = \"1234 124 1256 1244 12334\"\n",
    "\n",
    "print(re.findall(r'\\b123?4\\b', text))"
   ]
  },
  {
   "cell_type": "markdown",
   "id": "495d623d",
   "metadata": {},
   "source": [
    "*, cero or more"
   ]
  },
  {
   "cell_type": "code",
   "execution_count": null,
   "id": "59c19a93",
   "metadata": {},
   "outputs": [],
   "source": [
    "text = \"1234 124 1256 1244 12334\"\n",
    "\n",
    "print(re.findall(r'\\b123*4\\b', text))"
   ]
  },
  {
   "cell_type": "markdown",
   "id": "10eb27ad",
   "metadata": {},
   "source": [
    "+, one or more"
   ]
  },
  {
   "cell_type": "code",
   "execution_count": null,
   "id": "4e976489",
   "metadata": {},
   "outputs": [],
   "source": [
    "text = \"1234 124 1256 1244 12334\"\n",
    "\n",
    "print(re.findall(r'\\b123+4\\b', text))"
   ]
  },
  {
   "cell_type": "markdown",
   "id": "0d0a6182",
   "metadata": {},
   "source": [
    "{n}, {n,}, {n1,n2}"
   ]
  },
  {
   "cell_type": "code",
   "execution_count": null,
   "id": "af568a7e",
   "metadata": {},
   "outputs": [],
   "source": [
    "text = \"1234 124 1256 1244 12334 123334 1233334 12333334\"\n",
    "\n",
    "print(re.findall(r'\\b123{1}4\\b', text))\n",
    "print(re.findall(r'\\b123{3}4\\b', text))\n",
    "print(re.findall(r'\\b123{2,}4\\b', text))\n",
    "print(re.findall(r'\\b123{1,3}4\\b', text))"
   ]
  },
  {
   "cell_type": "markdown",
   "id": "2f3c8113",
   "metadata": {},
   "source": [
    "### Anchors"
   ]
  },
  {
   "cell_type": "code",
   "execution_count": null,
   "id": "effabc47",
   "metadata": {},
   "outputs": [],
   "source": [
    "text = \"Hello World\\nHi to Python Huge World\\nHub is High bold\"\n",
    "\n",
    "print(\"Matches with ^:\")\n",
    "print(re.findall(r'^H\\w+', text, re.MULTILINE))\n",
    "\n",
    "print(\"Matches with \\A:\")\n",
    "print(re.findall(r'\\AH\\w+', text, re.MULTILINE))\n",
    "\n",
    "print(\"Matches with \\b:\")\n",
    "print(re.findall(r'\\bH\\w+', text, re.MULTILINE))"
   ]
  },
  {
   "cell_type": "code",
   "execution_count": null,
   "id": "74274a17",
   "metadata": {},
   "outputs": [],
   "source": [
    "text = \"Hello World\\nHi to old Python Huge World\\nHub is High bold\"\n",
    "\n",
    "print(\"Matches with $:\")\n",
    "print(re.findall(r'\\w+d$', text, re.MULTILINE))\n",
    "\n",
    "print(\"Matches with \\Z:\")\n",
    "print(re.findall(r'\\w+d\\Z', text, re.MULTILINE))\n",
    "\n",
    "print(\"Matches with \\b:\")\n",
    "print(re.findall(r'\\w+d\\b', text, re.MULTILINE))"
   ]
  },
  {
   "cell_type": "markdown",
   "id": "7a2bb15d",
   "metadata": {},
   "source": [
    "## Regular expressions in action ... again ..."
   ]
  },
  {
   "cell_type": "code",
   "execution_count": null,
   "id": "bd9fab88",
   "metadata": {},
   "outputs": [],
   "source": [
    "text = \"Hello123 World456\"\n",
    "letters = re.findall(r'[A-Za-z]+', text)\n",
    "letters"
   ]
  },
  {
   "cell_type": "code",
   "execution_count": null,
   "id": "34c00882",
   "metadata": {},
   "outputs": [],
   "source": [
    "digits = re.findall(r'\\d+', text)\n",
    "digits"
   ]
  },
  {
   "cell_type": "code",
   "execution_count": null,
   "id": "c23bce31",
   "metadata": {},
   "outputs": [],
   "source": [
    "alphanumeric = re.findall(r'\\w+', text)\n",
    "alphanumeric"
   ]
  },
  {
   "cell_type": "markdown",
   "id": "6b18d2da",
   "metadata": {},
   "source": [
    "Extracting email and phone number"
   ]
  },
  {
   "cell_type": "code",
   "execution_count": null,
   "id": "d3e27163",
   "metadata": {},
   "outputs": [],
   "source": [
    "text = \"Contact us at support@example.com or call +1-555-123-4567 for assistance.\""
   ]
  },
  {
   "cell_type": "code",
   "execution_count": null,
   "id": "7d50c1d5",
   "metadata": {},
   "outputs": [],
   "source": [
    "phone_numbers = re.findall(r'\\+1-\\d{3}-\\d{3}-\\d{4}', text)\n",
    "phone_numbers"
   ]
  },
  {
   "cell_type": "code",
   "execution_count": null,
   "id": "ef440ad4",
   "metadata": {},
   "outputs": [],
   "source": [
    "email_addresses = re.findall(r'\\b[\\w.-]+@[\\w.-]+\\.\\w+\\b', text)\n",
    "email_addresses"
   ]
  },
  {
   "cell_type": "markdown",
   "id": "6ebe1261",
   "metadata": {},
   "source": [
    "Can you find some text that matches with the email pattern and that are invalid emails?"
   ]
  },
  {
   "cell_type": "code",
   "execution_count": null,
   "id": "4caad35a",
   "metadata": {},
   "outputs": [],
   "source": [
    "text = \"Contact support@.example.com\"\n",
    "re.findall(r'\\b[\\w.-]+@[\\w.-]+\\.\\w+\\b', text)"
   ]
  },
  {
   "cell_type": "markdown",
   "id": "cb44d26e",
   "metadata": {},
   "source": [
    "Matching date and times"
   ]
  },
  {
   "cell_type": "code",
   "execution_count": null,
   "id": "3212fc68",
   "metadata": {},
   "outputs": [],
   "source": [
    "text = \"Today is 2023-05-23 and the time is 12:30 PM.\""
   ]
  },
  {
   "cell_type": "code",
   "execution_count": null,
   "id": "78115c63",
   "metadata": {},
   "outputs": [],
   "source": [
    "dates = re.findall(r'\\d{4}-\\d{2}-\\d{2}', text)\n",
    "dates"
   ]
  },
  {
   "cell_type": "code",
   "execution_count": null,
   "id": "017b7d8f",
   "metadata": {},
   "outputs": [],
   "source": [
    "times = re.findall(r'\\d{1,2}:\\d{2}\\s(?:AM|PM)', text)\n",
    "times"
   ]
  },
  {
   "cell_type": "markdown",
   "id": "ca849c76",
   "metadata": {},
   "source": [
    "Extracting data from text"
   ]
  },
  {
   "cell_type": "code",
   "execution_count": null,
   "id": "f555b9f7",
   "metadata": {},
   "outputs": [],
   "source": [
    "text = \"Hello, my name is John Doe. I am a worker in Alaska\"\n",
    "match = re.search(r'my name is (\\w+)\\s+(\\w+)', text)\n",
    "\n",
    "if match:\n",
    "    name = match.group(1)\n",
    "    last_name = match.group(2)\n",
    "    print(\"Name:\", name)\n",
    "    print(\"Last name:\", last_name)"
   ]
  },
  {
   "cell_type": "code",
   "execution_count": null,
   "id": "67742311",
   "metadata": {},
   "outputs": [],
   "source": [
    "text = \"Contact: John Doe (john.doe@example.com)\"\n",
    "pattern = r'Contact: (\\w+ \\w+) \\(([\\w.]+@\\w+\\.\\w+)\\)'\n",
    "\n",
    "match = re.search(pattern, text)\n",
    "if match:\n",
    "    name = match.group(1)\n",
    "    email = match.group(2)\n",
    "    print(\"Name:\", name)\n",
    "    print(\"Email:\", email)\n"
   ]
  },
  {
   "cell_type": "markdown",
   "id": "dd425c7f",
   "metadata": {},
   "source": [
    "**Using backreferences**"
   ]
  },
  {
   "cell_type": "code",
   "execution_count": null,
   "id": "8eca177f",
   "metadata": {},
   "outputs": [],
   "source": [
    "text = \"The quick brown fox fox jumps over the lazy dog dog.\"\n",
    "\n",
    "pattern = r'(\\b\\w+\\b) \\1'\n",
    "matches = re.findall(pattern, text)\n",
    "print(\"Repeated Words:\", matches)"
   ]
  },
  {
   "cell_type": "markdown",
   "id": "bf38c58b",
   "metadata": {},
   "source": [
    "**Non-capturing groups**\n",
    "\n",
    "I want to extract the words that are preceded by the words 'new' or 'old'"
   ]
  },
  {
   "cell_type": "code",
   "execution_count": null,
   "id": "742d8a8a",
   "metadata": {},
   "outputs": [],
   "source": [
    "text = \"I bought a new car, but I don't have a driver's license.\"\n",
    "\n",
    "pattern = r'new|old\\s(\\w+)'\n",
    "matches = re.findall(pattern, text)\n",
    "print(\"Car Type:\", matches)"
   ]
  },
  {
   "cell_type": "markdown",
   "id": "b947f075",
   "metadata": {},
   "source": [
    "No match .... lets see what happens"
   ]
  },
  {
   "cell_type": "code",
   "execution_count": null,
   "id": "b87e5388",
   "metadata": {},
   "outputs": [],
   "source": [
    "re.findall(\"new|old\\s\\w+\", \"new car old car\")"
   ]
  },
  {
   "cell_type": "markdown",
   "id": "a69f86dc",
   "metadata": {},
   "source": [
    "the problem is a word grouping issue, so lets use parenthesis"
   ]
  },
  {
   "cell_type": "code",
   "execution_count": null,
   "id": "0490e86e",
   "metadata": {},
   "outputs": [],
   "source": [
    "pattern = r'(new|old)\\s(\\w+)'\n",
    "matches = re.findall(pattern, text)\n",
    "print(\"Car Type:\", matches)"
   ]
  },
  {
   "cell_type": "markdown",
   "id": "0e515ea2",
   "metadata": {},
   "source": [
    "Now we have a problem, because the parenthesis used for grouping words are now understood as groups to capture"
   ]
  },
  {
   "cell_type": "markdown",
   "id": "6fa5e644",
   "metadata": {},
   "source": [
    "The solution: non capturing groups"
   ]
  },
  {
   "cell_type": "code",
   "execution_count": null,
   "id": "a6aead82",
   "metadata": {},
   "outputs": [],
   "source": [
    "pattern = r'(?:new|old) (\\w+)'\n",
    "matches = re.findall(pattern, text)\n",
    "print(\"Car Type:\", matches)\n"
   ]
  },
  {
   "cell_type": "markdown",
   "id": "aaf07195",
   "metadata": {},
   "source": [
    "## Some more complex regular expresions to play with..."
   ]
  },
  {
   "cell_type": "markdown",
   "id": "45b3b430",
   "metadata": {},
   "source": [
    "### Phone numbers"
   ]
  },
  {
   "cell_type": "code",
   "execution_count": null,
   "id": "19549d4c",
   "metadata": {},
   "outputs": [],
   "source": [
    "def process_expressions(expression, to_match, failed_list):\n",
    "    for v in to_match:\n",
    "        if re.match(expression, v):\n",
    "            print(\"Matched: \", v)\n",
    "        else:\n",
    "            print(\"*******  \", v)\n",
    "\n",
    "    failed_list = [v for v in to_ignore if re.match(expression, v)]\n",
    "    if len(failed_list) > 0:\n",
    "        print(\"Failed ignore list\")\n",
    "        for f in failed_list:\n",
    "            print(f)"
   ]
  },
  {
   "cell_type": "code",
   "execution_count": null,
   "id": "9a96d953",
   "metadata": {},
   "outputs": [],
   "source": [
    "to_match = [\n",
    "    \"(123) 456-7890\",\n",
    "    \"(123)456-7890\",\n",
    "    \"123-456-7890\",\n",
    "    \"123.456.7890\",\n",
    "    \"1234567890\",\n",
    "    \"+31636363634\",\n",
    "    \"+91 (123) 456-7890\",\n",
    "    \"+91 (123)456-7890\",\n",
    "    \"+91 123-456-7890\",\n",
    "    \"+91 123.456.7890\",\n",
    "    \"+91 1234567890\",\n",
    "    \"+91 123 456 7890\",\n",
    "]\n",
    "\n",
    "to_ignore = [\n",
    "    \"(123)456-780\",    \n",
    "    \"12-456-7890\",\n",
    "    \"12.456.7890\",\n",
    "    \"123.45.7890\",\n",
    "    \"123.456.790\",\n",
    "    \"123/456/7908\",\n",
    "    \"123/456-7908\",\n",
    "    \"123456789\",\n",
    "    \"+1234567890\"\n",
    "]\n",
    "\n",
    "expression = r\"^\\d{3}-\\d{3}-\\d{4}$\"\n",
    "process_expressions(expression, to_match, to_ignore)"
   ]
  },
  {
   "cell_type": "markdown",
   "id": "4f4b3140",
   "metadata": {},
   "source": [
    "### Dates"
   ]
  },
  {
   "cell_type": "code",
   "execution_count": null,
   "id": "aa90edd7",
   "metadata": {},
   "outputs": [],
   "source": [
    "to_match = [\n",
    "    \"01.01.2023\",\n",
    "    \"01/01/23\",\n",
    "    \"01-01-23\",\n",
    "    \"01.01.23\",\n",
    "    \"01/01/2019\",\n",
    "    \"01-01-2019\",\n",
    "    \"01.01.2019\",\n",
    "    \"01/01/19\",\n",
    "    \"01-01-19\",\n",
    "    \"01.01.19\",\n",
    "    \"01/01/2023\",\n",
    "    \"01-01-2023\",\n",
    "    \"01.01.2023\",\n",
    "    \"01/01/23\",\n",
    "    \"01-01-23\",\n",
    "    \"01.01.23\",\n",
    "    \"01/01/2019\",\n",
    "]\n",
    "to_ignore = [\n",
    "    \"01\\\\01\\\\2023\",\n",
    "    \"01\\\\01\\\\23\",\n",
    "    \"01-01-123\",\n",
    "    \"01.01.123\",\n",
    "    \"1/01/2019\",\n",
    "    \"1-01-2019\",\n",
    "    \"01.1.2019\",\n",
    "    \"01/1/19\",\n",
    "    \"01-01-19ac\",\n",
    "]\n",
    "\n",
    "expression = r\"^\\d{2}-\\d{2}-\\d{2}$\"\n",
    "process_expressions(expression, to_match, to_ignore)"
   ]
  },
  {
   "cell_type": "markdown",
   "id": "84681213",
   "metadata": {},
   "source": [
    "### Times"
   ]
  },
  {
   "cell_type": "code",
   "execution_count": null,
   "id": "69727897",
   "metadata": {},
   "outputs": [],
   "source": [
    "to_match = [\n",
    "    \"1:00 am\",\n",
    "    \"1:00 pm\",\n",
    "    \"01:00 am\",\n",
    "    \"01:00 pm\",\n",
    "    \"01:00 PM\",\n",
    "    \"1:00am\",\n",
    "    \"1:00pm\",\n",
    "    \"1:00PM\",\n",
    "    \"01:00am\",\n",
    "    \"01:00pm\",\n",
    "    \"1400\",\n",
    "    \"0800\"\n",
    "]\n",
    "to_ignore = [\n",
    "    \"01:00 xm\",\n",
    "    \"01:00 ym\",\n",
    "    \"1:00xm\",\n",
    "    \"1:00tm\",\n",
    "]\n",
    "\n",
    "expression = r\"^\\d{1,2}:\\d{2}\\sam$\"\n",
    "process_expressions(expression, to_match, to_ignore)"
   ]
  },
  {
   "cell_type": "markdown",
   "id": "58e7e711",
   "metadata": {},
   "source": [
    "### Urls"
   ]
  },
  {
   "cell_type": "code",
   "execution_count": null,
   "id": "a09fba41",
   "metadata": {},
   "outputs": [],
   "source": [
    "to_match = [\n",
    "    \"http://www.google.com\",\n",
    "    \"https://www.google.com\",\n",
    "    \"http://google.com\",\n",
    "    \"https://google.com\",\n",
    "    \"http://www.google.com/\",\n",
    "    \"https://www.google.com/\",\n",
    "    \"http://google.com/\",\n",
    "    \"http://yahoo.com/\",\n",
    "    \"https://google.com/\",\n",
    "    \"https://google.cu/\",\n",
    "    \"http://www.google.com/index.html\",\n",
    "    \"https://www.google.com/index.html\",\n",
    "    \"http://google.com/index.html\",\n",
    "    \"https://google.com/start.html\",\n",
    "    \"google.com/index.html\"\n",
    "]\n",
    "to_ignore = [\n",
    "    \"htp://www.google.com\",\n",
    "    \"httpx://www.google.com\",\n",
    "    \"htps://www.google.com\",\n",
    "    \"http://.google.com\",\n",
    "    \"https://#google.com\",\n",
    "    \"http://www.google./\",\n",
    "    \"https://www..com/\",\n",
    "]\n",
    "\n",
    "expression = r\"^http://www\\.\\w+\\.com$\"\n",
    "process_expressions(expression, to_match, to_ignore)"
   ]
  }
 ],
 "metadata": {
  "kernelspec": {
   "display_name": "Python [conda env:python_lectures]",
   "language": "python",
   "name": "conda-env-python_lectures-py"
  },
  "language_info": {
   "codemirror_mode": {
    "name": "ipython",
    "version": 3
   },
   "file_extension": ".py",
   "mimetype": "text/x-python",
   "name": "python",
   "nbconvert_exporter": "python",
   "pygments_lexer": "ipython3",
   "version": "3.8.16"
  }
 },
 "nbformat": 4,
 "nbformat_minor": 5
}
