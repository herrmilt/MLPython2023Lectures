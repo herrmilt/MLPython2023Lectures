{
 "cells": [
  {
   "cell_type": "markdown",
   "id": "9911371c",
   "metadata": {},
   "source": [
    "# Lecture 4. Intermediate Python\n",
    "\n",
    "Outline:\n",
    "- [Comprehensions](comprehensions.ipynb)\n",
    "- [Iterators](iterators.ipynb)\n",
    "- [Functional Programming](funct_program.ipynb)\n",
    "- [Regular Expressions](regex.ipynb)\n",
    "- [Processing Real Data Example](proc_real_data3.ipynb)\n",
    "- Estudio de casos:\n",
    "    - [Nobel Prize Winners (1900-2020)](case_nobel_prize.ipynb)"
   ]
  }
 ],
 "metadata": {
  "kernelspec": {
   "display_name": "python_lectures",
   "language": "python",
   "name": "python_lectures"
  },
  "language_info": {
   "codemirror_mode": {
    "name": "ipython",
    "version": 3
   },
   "file_extension": ".py",
   "mimetype": "text/x-python",
   "name": "python",
   "nbconvert_exporter": "python",
   "pygments_lexer": "ipython3",
   "version": "3.8.16"
  }
 },
 "nbformat": 4,
 "nbformat_minor": 5
}
