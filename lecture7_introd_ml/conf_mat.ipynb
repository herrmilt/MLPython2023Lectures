{
 "cells": [
  {
   "cell_type": "markdown",
   "id": "16d8db64",
   "metadata": {},
   "source": [
    "# The Confusion Matrix"
   ]
  },
  {
   "cell_type": "markdown",
   "id": "0945a895",
   "metadata": {},
   "source": [
    "I want to predict if a person will get a heart failure based on some personal and medical information. "
   ]
  },
  {
   "cell_type": "code",
   "execution_count": null,
   "id": "942e57fd",
   "metadata": {
    "scrolled": true
   },
   "outputs": [],
   "source": [
    "from sklearn.preprocessing import LabelEncoder\n",
    "import pandas as pd\n",
    "\n",
    "data = pd.read_csv('data/heart.csv')\n",
    "label_encoder = LabelEncoder()\n",
    "data[\"Sex\"] = label_encoder.fit_transform(data[\"Sex\"])\n",
    "data[\"ChestPainType\"] = label_encoder.fit_transform(data[\"ChestPainType\"])\n",
    "data[\"RestingECG\"] = label_encoder.fit_transform(data[\"RestingECG\"])\n",
    "data[\"ExerciseAngina\"] = label_encoder.fit_transform(data[\"ExerciseAngina\"])\n",
    "data[\"ST_Slope\"] = label_encoder.fit_transform(data[\"ST_Slope\"])"
   ]
  },
  {
   "cell_type": "code",
   "execution_count": null,
   "id": "59c1cf1f",
   "metadata": {
    "scrolled": true
   },
   "outputs": [],
   "source": [
    "X = data.iloc[:, :-1]\n",
    "y = data.iloc[:, -1]\n",
    "X.head()"
   ]
  },
  {
   "cell_type": "markdown",
   "id": "839a39f8",
   "metadata": {},
   "source": [
    "I want to solve the machine learning problem, so I decide to use a SVC classifier"
   ]
  },
  {
   "cell_type": "code",
   "execution_count": null,
   "id": "d01dfe42",
   "metadata": {},
   "outputs": [],
   "source": [
    "from sklearn.svm import SVC\n",
    "from sklearn.model_selection import train_test_split\n",
    "from sklearn.metrics import accuracy_score\n",
    "\n",
    "X_train, X_test, y_train, y_test = train_test_split(X, y, test_size=0.2, random_state=42)\n",
    "\n",
    "svm = SVC()\n",
    "svm.fit(X_train, y_train)\n",
    "\n",
    "y_pred = svm.predict(X_test)\n",
    "accuracy = accuracy_score(y_test, y_pred)\n",
    "\n",
    "print(\"Accuracy:\", accuracy)"
   ]
  },
  {
   "cell_type": "markdown",
   "id": "26346bc6",
   "metadata": {},
   "source": [
    "The accuracy is way to sumarize the classification result, but it hides the per-class details of the result. For showing it, we need the **Confusion Matrix**.\n"
   ]
  },
  {
   "cell_type": "code",
   "execution_count": null,
   "id": "6251bbea",
   "metadata": {},
   "outputs": [],
   "source": [
    "from sklearn.metrics import confusion_matrix\n",
    "import matplotlib.pyplot as plt\n",
    "import numpy as np\n",
    "\n",
    "cm = confusion_matrix(y_test, y_pred)\n",
    "\n",
    "print(cm)"
   ]
  },
  {
   "cell_type": "markdown",
   "id": "8fa55602",
   "metadata": {},
   "source": [
    "Let show it using matplotlib"
   ]
  },
  {
   "cell_type": "code",
   "execution_count": null,
   "id": "951efec3",
   "metadata": {},
   "outputs": [],
   "source": [
    "def show_confusion_matrix(m, classes, figsize=(4,4), ax=None, title=None):\n",
    "\n",
    "    if ax is None:\n",
    "        fig, ax = plt.subplots(figsize=figsize)\n",
    "    if title is None:\n",
    "        Title = \"Confusion Matrix\"\n",
    "\n",
    "    # Plot the confusion matrix\n",
    "    ax.imshow(cm, interpolation='nearest', cmap=plt.cm.Blues)\n",
    "    ax.set_title(title)\n",
    "    tick_marks = np.arange(len(classes))\n",
    "    ax.set_xticks(tick_marks)\n",
    "    ax.set_yticks(tick_marks)\n",
    "    ax.set_xticklabels(classes, rotation=45)\n",
    "    ax.set_yticklabels(classes)\n",
    "\n",
    "    # Add labels to each cell in the matrix\n",
    "    thresh = m.max() / 2.\n",
    "    for i in range(m.shape[0]):\n",
    "        for j in range(m.shape[1]):\n",
    "            ax.text(j, i, m[i, j],\n",
    "                     horizontalalignment=\"center\",\n",
    "                     color=\"white\" if cm[i, j] > thresh else \"black\")\n",
    "\n",
    "    plt.tight_layout()\n",
    "    plt.ylabel('True label')\n",
    "    plt.xlabel('Predicted label')"
   ]
  },
  {
   "cell_type": "code",
   "execution_count": null,
   "id": "433199fc",
   "metadata": {},
   "outputs": [],
   "source": [
    "from functools import partial\n",
    "show_cm_heart = partial(show_confusion_matrix, classes=['normal', 'heart_disease'])"
   ]
  },
  {
   "cell_type": "code",
   "execution_count": null,
   "id": "e3aa5504",
   "metadata": {},
   "outputs": [],
   "source": [
    "show_cm_heart(cm)"
   ]
  },
  {
   "cell_type": "code",
   "execution_count": null,
   "id": "026a87cb",
   "metadata": {},
   "outputs": [],
   "source": [
    "# Real counts per class\n",
    "y_test.value_counts()"
   ]
  },
  {
   "cell_type": "markdown",
   "id": "cecfeade",
   "metadata": {},
   "source": [
    "When interpreting the confusion matrix for class 0, it is important to consider that class 0 represents the positive class, while class 1 represents the negative class"
   ]
  },
  {
   "cell_type": "raw",
   "id": "53bbf431",
   "metadata": {},
   "source": [
    "                Predicted Class\n",
    "              |  Class 0  |  Class 1  \n",
    "Actual Class  |---------------------\n",
    "    Class 0   |    TP     |    FP    \n",
    "    Class 1   |    FN     |    TN       "
   ]
  },
  {
   "cell_type": "markdown",
   "id": "0d16ec5c",
   "metadata": {},
   "source": [
    "Note that the accuracy (ratio of correct classifications) can be calculted as:\n",
    "\n",
    "Accuracy: (TP + TN) / N"
   ]
  },
  {
   "cell_type": "code",
   "execution_count": null,
   "id": "7699b4c3",
   "metadata": {},
   "outputs": [],
   "source": [
    "(54+72) / len(X_test)"
   ]
  },
  {
   "cell_type": "markdown",
   "id": "07bf24f4",
   "metadata": {},
   "source": [
    "Now, we can compare the behavior of different models in the dataset."
   ]
  },
  {
   "cell_type": "code",
   "execution_count": null,
   "id": "390f86eb",
   "metadata": {},
   "outputs": [],
   "source": [
    "# A decision tree\n",
    "from sklearn.tree import DecisionTreeClassifier \n",
    "from sklearn import metrics \n",
    "\n",
    "clf = DecisionTreeClassifier()\n",
    "clf = clf.fit(X_train, y_train)\n",
    "\n",
    "y_pred = clf.predict(X_test)\n",
    "cm_tree = confusion_matrix(y_test, y_pred)"
   ]
  },
  {
   "cell_type": "code",
   "execution_count": null,
   "id": "2a6745d3",
   "metadata": {},
   "outputs": [],
   "source": [
    "# A KNN classifier\n",
    "from sklearn.neighbors import KNeighborsClassifier\n",
    "knn = KNeighborsClassifier(n_neighbors=3)\n",
    "knn.fit(X_train, y_train)\n",
    "y_pred = knn.predict(X_test)\n",
    "cm_knn = confusion_matrix(y_test, y_pred)"
   ]
  },
  {
   "cell_type": "code",
   "execution_count": null,
   "id": "158db09c",
   "metadata": {},
   "outputs": [],
   "source": [
    "fig, axes = plt.subplots(2, 2, figsize=(5, 5))\n",
    "show_cm_heart(cm, ax=axes[0, 0], title=\"SVM\")\n",
    "show_cm_heart(cm_tree, ax=axes[0, 1], title=\"Tree\")\n",
    "show_cm_heart(cm_knn, ax=axes[1, 0], title=\"KNN\")\n",
    "axes[1, 1].axis('off')\n",
    "plt.tight_layout()\n",
    "plt.show()\n"
   ]
  },
  {
   "cell_type": "markdown",
   "id": "f720c35c",
   "metadata": {},
   "source": [
    "There are certain problems, such as the one mentioned, where the significance of errors is not equal:\n",
    "\n",
    "- Misdiagnosing a healthy person as sick can be rectified through additional analysis.\n",
    "- Misdiagnosing a sick person as healthy may lead to a lack of appropriate treatment, potentially worsening their condition.\n",
    "\n",
    "To modify the algorith behavior in those classes, we need to assign weights to classes, like in this example:"
   ]
  },
  {
   "cell_type": "code",
   "execution_count": null,
   "id": "b448c867",
   "metadata": {},
   "outputs": [],
   "source": [
    "# Class normal is more important\n",
    "class_weights = {0: 0.7, 1: 0.3}\n",
    "clf = SVC(class_weight=class_weights)\n",
    "clf = clf.fit(X_train, y_train)\n",
    "\n",
    "y_pred = clf.predict(X_test)\n",
    "cm_tree = confusion_matrix(y_test, y_pred)\n",
    "show_cm_heart(cm_tree)"
   ]
  },
  {
   "cell_type": "code",
   "execution_count": null,
   "id": "7ac4c9e2",
   "metadata": {},
   "outputs": [],
   "source": [
    "# Lets play with different importances:\n",
    "for d in np.arange(0.3, 0.7, 0.05):\n",
    "    class_weights = {0: d, 1: 1-d}\n",
    "    clf = SVC(class_weight=class_weights)\n",
    "    clf = clf.fit(X_train, y_train)\n",
    "\n",
    "    y_pred = clf.predict(X_test)\n",
    "    cm_tree = confusion_matrix(y_test, y_pred)\n",
    "    show_cm_heart(cm_tree, title=str(d))"
   ]
  },
  {
   "cell_type": "markdown",
   "id": "a5ef214a",
   "metadata": {},
   "source": [
    "Note: This analysis can be performed using the confusion matrix\n",
    "\n",
    "## Confusion matrixes with more than two classes\n",
    "\n",
    "Lets use dataset Vehicle, from the UCI repository. The task is to classify a given silhouette as one of four types of vehicle, using  a set of features extracted from the silhouette. The vehicle may be viewed from one of many different angles. "
   ]
  },
  {
   "cell_type": "code",
   "execution_count": null,
   "id": "8535983e",
   "metadata": {
    "scrolled": false
   },
   "outputs": [],
   "source": [
    "db = pd.read_csv('data/vehicle.txt', header=None)\n",
    "db.head(3)"
   ]
  },
  {
   "cell_type": "code",
   "execution_count": null,
   "id": "756adc88",
   "metadata": {
    "scrolled": true
   },
   "outputs": [],
   "source": [
    "X = db.iloc[:, 1:]\n",
    "y = db.iloc[:, 0]\n",
    "X.head(3)"
   ]
  },
  {
   "cell_type": "code",
   "execution_count": null,
   "id": "8f259484",
   "metadata": {
    "scrolled": true
   },
   "outputs": [],
   "source": [
    "y.value_counts()"
   ]
  },
  {
   "cell_type": "markdown",
   "id": "9d2ac6de",
   "metadata": {},
   "source": [
    "Lets train a SVM classifier"
   ]
  },
  {
   "cell_type": "code",
   "execution_count": null,
   "id": "d59929fb",
   "metadata": {},
   "outputs": [],
   "source": [
    "X_train, X_test, y_train, y_test = train_test_split(X, y, test_size=0.3, random_state=42)\n",
    "\n",
    "clf = SVC()\n",
    "clf = clf.fit(X_train, y_train)\n",
    "y_pred = clf.predict(X_test)\n",
    "\n",
    "cm = confusion_matrix(y_test, y_pred)\n",
    "\n",
    "show_confusion_matrix(cm, classes=[\"bus\",\"opel\",\"saab\",\"van\"])"
   ]
  },
  {
   "cell_type": "code",
   "execution_count": null,
   "id": "35461e1c",
   "metadata": {
    "scrolled": true
   },
   "outputs": [],
   "source": [
    "y_test.value_counts()"
   ]
  },
  {
   "cell_type": "markdown",
   "id": "457053b3",
   "metadata": {},
   "source": [
    "**Note**: \n",
    "- No car is assigned to the saab class\n",
    "- The largest confusion appears betwen saab and open, what makes sense"
   ]
  }
 ],
 "metadata": {
  "kernelspec": {
   "display_name": "Python [conda env:python_lectures]",
   "language": "python",
   "name": "conda-env-python_lectures-py"
  },
  "language_info": {
   "codemirror_mode": {
    "name": "ipython",
    "version": 3
   },
   "file_extension": ".py",
   "mimetype": "text/x-python",
   "name": "python",
   "nbconvert_exporter": "python",
   "pygments_lexer": "ipython3",
   "version": "3.8.16"
  }
 },
 "nbformat": 4,
 "nbformat_minor": 5
}
