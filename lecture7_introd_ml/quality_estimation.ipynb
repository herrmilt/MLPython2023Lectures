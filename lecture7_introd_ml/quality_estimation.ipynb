{
 "cells": [
  {
   "cell_type": "markdown",
   "id": "d5883b5a",
   "metadata": {},
   "source": [
    "# Model quality estimation"
   ]
  },
  {
   "cell_type": "code",
   "execution_count": null,
   "id": "1e26af9a",
   "metadata": {},
   "outputs": [],
   "source": [
    "import numpy as np\n",
    "import pandas as pd"
   ]
  },
  {
   "cell_type": "markdown",
   "id": "0945a895",
   "metadata": {},
   "source": [
    "Supose I want to predict if a person will get a heart failure based on some personal and medical information. Here is data:"
   ]
  },
  {
   "cell_type": "code",
   "execution_count": null,
   "id": "942e57fd",
   "metadata": {
    "scrolled": false
   },
   "outputs": [],
   "source": [
    "data = pd.read_csv('data/heart.csv')\n",
    "data.head()"
   ]
  },
  {
   "cell_type": "markdown",
   "id": "d7d1a580",
   "metadata": {},
   "source": [
    "Attribute information:\n",
    "- Age: age of the patient (years)\n",
    "- Sex: sex of the patient (M: Male, F: Female)\n",
    "- ChestPainType: chest pain type (TA: Typical Angina, ATA: Atypical Angina, NAP: Non-Anginal Pain, ASY: Asymptomatic)\n",
    "- RestingBP: resting blood pressure (mm Hg)\n",
    "- Cholesterol: serum cholesterol (mm/dl)\n",
    "- FastingBS: fasting blood sugar (1: if FastingBS > 120 mg/dl, 0: otherwise)\n",
    "- RestingECG: resting electrocardiogram results (Normal: Normal, ST: having ST-T wave abnormality (T wave inversions and/or ST elevation or depression of > 0.05 mV), LVH: showing probable or definite left ventricular hypertrophy by Estes' criteria)\n",
    "- MaxHR: maximum heart rate achieved (Numeric value between 60 and 202)\n",
    "- ExerciseAngina: exercise-induced angina (Y: Yes, N: No)\n",
    "- Oldpeak: oldpeak = ST (Numeric value measured in depression)\n",
    "- ST_Slope: the slope of the peak exercise ST segment (Up: upsloping, Flat: flat, Down: downsloping)\n",
    "- HeartDisease: output class (1: heart disease, 0: Normal)\n"
   ]
  },
  {
   "cell_type": "markdown",
   "id": "9bec69fb",
   "metadata": {},
   "source": [
    "Converting all features to numerical"
   ]
  },
  {
   "cell_type": "code",
   "execution_count": null,
   "id": "6898db58",
   "metadata": {},
   "outputs": [],
   "source": [
    "from sklearn.preprocessing import LabelEncoder\n",
    "import pandas as pd\n",
    "\n",
    "label_encoder = LabelEncoder()\n",
    "data[\"Sex\"] = label_encoder.fit_transform(data[\"Sex\"])\n",
    "data[\"ChestPainType\"] = label_encoder.fit_transform(data[\"ChestPainType\"])\n",
    "data[\"RestingECG\"] = label_encoder.fit_transform(data[\"RestingECG\"])\n",
    "data[\"ExerciseAngina\"] = label_encoder.fit_transform(data[\"ExerciseAngina\"])\n",
    "data[\"ST_Slope\"] = label_encoder.fit_transform(data[\"ST_Slope\"])"
   ]
  },
  {
   "cell_type": "code",
   "execution_count": null,
   "id": "6fed1b5c",
   "metadata": {},
   "outputs": [],
   "source": [
    "data.head(5)"
   ]
  },
  {
   "cell_type": "markdown",
   "id": "76c64330",
   "metadata": {},
   "source": [
    "Now, I have a new patient with some feature values and I need to predict if it will have a heart attack.\n",
    "\n",
    "In order to do that, I need to build a supervised classification model, that link features with the value to predict.\n",
    "\n",
    "Which of the large collection of available machine learning methods should I use?\n",
    "\n",
    "## Cross validation\n",
    "\n",
    "Cross Validation allows us to compare different machine learning methods and get a sense of how well will work in practice. \n",
    "- The main purpose of cross-validation is to obtain a more reliable estimate of how well a model will perform on unseen data. \n",
    "- It helps assess the model's ability to generalize by simulating the scenario of applying the model to new, independent datasets.\n",
    "\n",
    "For solving our original problem, I need to use the available data."
   ]
  },
  {
   "cell_type": "code",
   "execution_count": null,
   "id": "1fb62486",
   "metadata": {},
   "outputs": [],
   "source": [
    "print(\"Available objects: \", len(data))\n",
    "data.head()"
   ]
  },
  {
   "cell_type": "markdown",
   "id": "bab07433",
   "metadata": {},
   "source": [
    "I need to use the objects for two things:\n",
    "1. Training the model, estimating their inner parameters of the method. \n",
    "- If I am using a linear classifier, I need to estimate the coefficients and bias.\n",
    "- If I am using a decision tree, I need to build the tree nodes and relate them together.\n",
    "2. Evaluate how well the model built works.\n",
    "\n",
    "But:\n",
    "- I need to use as much data as I can in order to train a better model\n",
    "- I need to use as much data as I can in order to accuratelly estimate how well the model works\n",
    "- I have a simple set of data and I cannot get more\n",
    "\n",
    "### Use all data for training and all for testing"
   ]
  },
  {
   "cell_type": "code",
   "execution_count": null,
   "id": "3c09012b",
   "metadata": {},
   "outputs": [],
   "source": [
    "from sklearn.tree import DecisionTreeClassifier \n",
    "from sklearn import metrics "
   ]
  },
  {
   "cell_type": "code",
   "execution_count": null,
   "id": "2a1fdc31",
   "metadata": {},
   "outputs": [],
   "source": [
    "X = data.iloc[:, :-1]\n",
    "y = data.iloc[:, -1]\n",
    "\n",
    "clf = DecisionTreeClassifier()\n",
    "clf = clf.fit(X,y)\n",
    "\n",
    "y_pred = clf.predict(X)\n",
    "metrics.accuracy_score(y, y_pred)"
   ]
  },
  {
   "cell_type": "markdown",
   "id": "cc7c15a8",
   "metadata": {},
   "source": [
    "It looks suspicious, and we already know that when an algorithm performs too well on training data ....\n",
    "- **Yes, overtraining**\n",
    "\n",
    "**We need to use different data to train and to test the models!!**\n",
    "\n",
    "But how can we split the data?"
   ]
  },
  {
   "cell_type": "markdown",
   "id": "1a54238e",
   "metadata": {},
   "source": [
    "### Shuffle-Split Cross-Validation\n",
    "This technique randomly shuffles the dataset and splits it into train and test sets multiple times. It allows for control over the train-test split size and the number of iterations."
   ]
  },
  {
   "cell_type": "code",
   "execution_count": null,
   "id": "ac79f21b",
   "metadata": {},
   "outputs": [],
   "source": [
    "from sklearn.model_selection import ShuffleSplit\n",
    "from sklearn.model_selection import cross_val_score\n",
    "\n",
    "n_samples = X.shape[0]\n",
    "cv = ShuffleSplit(n_splits=5, test_size=0.3, random_state=0)\n",
    "scores = cross_val_score(clf, X, y, cv=cv)\n",
    "print(scores)\n",
    "scores.mean()"
   ]
  },
  {
   "cell_type": "markdown",
   "id": "a374d4aa",
   "metadata": {},
   "source": [
    "Results depends on the ratio of training/testing objects taken."
   ]
  },
  {
   "cell_type": "code",
   "execution_count": null,
   "id": "445352c0",
   "metadata": {},
   "outputs": [],
   "source": [
    "import matplotlib.pyplot as plt\n",
    "\n",
    "thresholds = []\n",
    "values = []\n",
    "for s in range(1, 10):\n",
    "    cv = ShuffleSplit(n_splits=5, test_size=s/10, random_state=0)\n",
    "    v = cross_val_score(clf, X, y, cv=cv).mean()\n",
    "    thresholds.append(s/10)\n",
    "    values.append(v)\n",
    "\n",
    "pd.DataFrame(values, index=thresholds).plot()\n",
    "plt.xlabel('Test Size')\n",
    "plt.ylabel('Estimated Accuracy')\n",
    "plt.show()"
   ]
  },
  {
   "cell_type": "markdown",
   "id": "a8a18a9a",
   "metadata": {},
   "source": [
    "Note:\n",
    "- The larger the test size, the smaller the train size\n",
    "- In general, the accuracy drops when smaller train size\n",
    "- Around 0.4 we get the highest estimation. It is usual to take 70% of data to Train, and 30% to test"
   ]
  },
  {
   "cell_type": "markdown",
   "id": "f8c9676a",
   "metadata": {},
   "source": [
    "Stability of results"
   ]
  },
  {
   "cell_type": "code",
   "execution_count": null,
   "id": "8e4f613e",
   "metadata": {},
   "outputs": [],
   "source": [
    "thresholds = [0.1, 0.3, 0.5, 0.7]\n",
    "\n",
    "fig, axes = plt.subplots(2, 2, figsize=(5, 5))\n",
    "for i, ax in enumerate(axes.flatten()):\n",
    "    values = []\n",
    "    threshold = thresholds[i]\n",
    "    for _ in range(20):\n",
    "        cv = ShuffleSplit(n_splits=5, test_size=threshold, random_state=0)\n",
    "        v = cross_val_score(clf, X, y, cv=cv).mean()\n",
    "        values.append(v)\n",
    "    pd.DataFrame(values).plot(ax=ax)\n",
    "    ax.set_title(f'Value of s: {threshold}')\n",
    "    ax.set_ylabel('Estimated Accuracy')\n",
    "    \n",
    "plt.tight_layout()\n",
    "plt.show()\n"
   ]
  },
  {
   "cell_type": "markdown",
   "id": "ec9d4503",
   "metadata": {},
   "source": [
    "### K-fold cross validation\n",
    "\n",
    "K-fold involves splitting the dataset into K equally sized folds, where K-1 folds are used for training the model, and the remaining fold is used for testing the model. This process is repeated K times, with each fold serving as the test set once."
   ]
  },
  {
   "cell_type": "code",
   "execution_count": null,
   "id": "37290012",
   "metadata": {},
   "outputs": [],
   "source": [
    "from sklearn.model_selection import cross_val_score\n",
    "\n",
    "scores = cross_val_score(clf, X, y, cv=10, scoring='accuracy')\n",
    "scores.mean()"
   ]
  },
  {
   "cell_type": "markdown",
   "id": "cc9ea5f5",
   "metadata": {},
   "source": [
    "### Stratisfied cross validation\n",
    "It take cares of the class of the objects while performing cross validation"
   ]
  },
  {
   "cell_type": "code",
   "execution_count": null,
   "id": "5f4867c8",
   "metadata": {},
   "outputs": [],
   "source": [
    "from sklearn.model_selection import StratifiedKFold\n",
    "cv = StratifiedKFold(n_splits=10)\n",
    "scores = cross_val_score(clf, X, y, cv=cv)\n",
    "print(scores)\n",
    "scores.mean()"
   ]
  },
  {
   "cell_type": "markdown",
   "id": "7275caf0",
   "metadata": {},
   "source": [
    "### Leave one out\n",
    "It performs a n-1 cross validation. It is very time consuming and optimistic"
   ]
  },
  {
   "cell_type": "code",
   "execution_count": null,
   "id": "cb1bc261",
   "metadata": {},
   "outputs": [],
   "source": [
    "from sklearn.model_selection import LeaveOneOut\n",
    "cv = LeaveOneOut()\n",
    "scores = cross_val_score(clf, X, y, cv=cv)\n",
    "print(scores)\n",
    "scores.mean()"
   ]
  }
 ],
 "metadata": {
  "kernelspec": {
   "display_name": "Python [conda env:python_lectures]",
   "language": "python",
   "name": "conda-env-python_lectures-py"
  },
  "language_info": {
   "codemirror_mode": {
    "name": "ipython",
    "version": 3
   },
   "file_extension": ".py",
   "mimetype": "text/x-python",
   "name": "python",
   "nbconvert_exporter": "python",
   "pygments_lexer": "ipython3",
   "version": "3.8.16"
  }
 },
 "nbformat": 4,
 "nbformat_minor": 5
}
