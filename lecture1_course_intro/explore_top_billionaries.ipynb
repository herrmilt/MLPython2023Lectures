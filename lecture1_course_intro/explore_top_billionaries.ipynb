{
 "cells": [
  {
   "cell_type": "markdown",
   "id": "c6b76d66",
   "metadata": {},
   "source": [
    "# Exploratory Analysis. Top World Billionaries"
   ]
  },
  {
   "cell_type": "code",
   "execution_count": null,
   "id": "29f5d306",
   "metadata": {},
   "outputs": [],
   "source": [
    "import numpy as np \n",
    "import pandas as pd\n",
    "import seaborn as sns \n",
    "import matplotlib.pyplot as plt "
   ]
  },
  {
   "cell_type": "code",
   "execution_count": null,
   "id": "b8350535",
   "metadata": {
    "scrolled": true
   },
   "outputs": [],
   "source": [
    "data=pd.read_csv(\"data/billionaires.csv\")\n",
    "data.head()"
   ]
  },
  {
   "cell_type": "code",
   "execution_count": null,
   "id": "653d20ca",
   "metadata": {},
   "outputs": [],
   "source": [
    "data.columns"
   ]
  },
  {
   "cell_type": "code",
   "execution_count": null,
   "id": "3f2db565",
   "metadata": {},
   "outputs": [],
   "source": [
    "data.shape"
   ]
  },
  {
   "cell_type": "code",
   "execution_count": null,
   "id": "8c0856f2",
   "metadata": {
    "scrolled": true
   },
   "outputs": [],
   "source": [
    "data.info()"
   ]
  },
  {
   "cell_type": "code",
   "execution_count": null,
   "id": "1db6d608",
   "metadata": {
    "scrolled": true
   },
   "outputs": [],
   "source": [
    "data.describe()"
   ]
  },
  {
   "cell_type": "code",
   "execution_count": null,
   "id": "e5dfd92c",
   "metadata": {},
   "outputs": [],
   "source": [
    "data.nunique()"
   ]
  },
  {
   "cell_type": "markdown",
   "id": "3a68ed60",
   "metadata": {},
   "source": [
    "Remove columns,there is no use because it have only one unique values"
   ]
  },
  {
   "cell_type": "code",
   "execution_count": null,
   "id": "526626ab",
   "metadata": {},
   "outputs": [],
   "source": [
    "print(data['Wealth How Was Political'].unique())\n",
    "print(data['Wealth How Was Founder'].unique())\n",
    "print(data['Wealth How From Emerging'].unique())"
   ]
  },
  {
   "cell_type": "code",
   "execution_count": null,
   "id": "4c57b4ee",
   "metadata": {},
   "outputs": [],
   "source": [
    "# Extract the column containing categorical data\n",
    "column_values = data['Wealth Type']\n",
    "\n",
    "# Calculate the count of each category\n",
    "category_counts = column_values.value_counts()\n",
    "\n",
    "# Plotting\n",
    "plt.figure(figsize=(5, 5))  # Optional: Adjust the figure size\n",
    "plt.pie(category_counts, labels=category_counts.index, autopct='%1.1f%%')\n",
    "plt.title('Wealth Type')\n",
    "plt.show()"
   ]
  },
  {
   "cell_type": "code",
   "execution_count": null,
   "id": "a8640301",
   "metadata": {},
   "outputs": [],
   "source": [
    "# Extract the column containing categorical data\n",
    "column_values = data['Demographics Gender']\n",
    "\n",
    "# Calculate the count of each category\n",
    "category_counts = column_values.value_counts()\n",
    "\n",
    "# Plotting\n",
    "plt.figure(figsize=(5, 5))  # Optional: Adjust the figure size\n",
    "plt.pie(category_counts, labels=category_counts.index, autopct='%1.1f%%')\n",
    "plt.title('Demographics Gender')\n",
    "plt.show()"
   ]
  },
  {
   "cell_type": "code",
   "execution_count": null,
   "id": "f7644918",
   "metadata": {},
   "outputs": [],
   "source": [
    "# Top 5 countries in each year\n",
    "\n",
    "counts_1996 = data[data['Year'] == 1996]['Location Citizenship'].value_counts()\n",
    "counts_2001 = data[data['Year'] == 2001]['Location Citizenship'].value_counts()\n",
    "counts_2014 = data[data['Year'] == 2014]['Location Citizenship'].value_counts()\n",
    "\n",
    "fig, axs = plt.subplots(1, 3, figsize=(10, 5))\n",
    "\n",
    "axs[0].pie(counts_1996[:5], labels=counts_1996[:5].index, autopct='%1.1f%%')\n",
    "axs[0].set_title('Billionaires in 1996')\n",
    "\n",
    "axs[1].pie(counts_2001[:5], labels=counts_2001[:5].index, autopct='%1.1f%%')\n",
    "axs[1].set_title('Billionaires in 2001')\n",
    "\n",
    "axs[2].pie(counts_2014[:5], labels=counts_2014[:5].index, autopct='%1.1f%%')\n",
    "axs[2].set_title('Billionaires in 2014')\n",
    "\n",
    "plt.show()"
   ]
  },
  {
   "cell_type": "code",
   "execution_count": null,
   "id": "b23e2b71",
   "metadata": {},
   "outputs": [],
   "source": [
    "from wordcloud import WordCloud\n",
    "\n",
    "df = data.loc[:, ['Wealth Worth In Billions', 'Company Sector']]\n",
    "df_grouped = df.groupby('Company Sector').sum()\n",
    "\n",
    "wordcloud = (WordCloud(width=800, height=800, background_color='white').\n",
    "             generate_from_frequencies(df_grouped['Wealth Worth In Billions']))\n",
    "plt.figure(figsize=(8,8))\n",
    "plt.imshow(wordcloud)\n",
    "plt.axis('off')\n",
    "plt.show()"
   ]
  },
  {
   "cell_type": "code",
   "execution_count": null,
   "id": "6097545b",
   "metadata": {},
   "outputs": [],
   "source": [
    "# Top 5 company sectors\n",
    "\n",
    "df_sorted = df_grouped.sort_values(by='Wealth Worth In Billions', ascending = False)\n",
    "df_sorted.head()"
   ]
  },
  {
   "cell_type": "code",
   "execution_count": null,
   "id": "be5b42d3",
   "metadata": {},
   "outputs": [],
   "source": [
    "# Top 10 industries\n",
    "\n",
    "df = data.loc[:, ['Wealth Worth In Billions', 'Wealth How Industry']]\n",
    "df_grouped = df.groupby('Wealth How Industry').sum()\n",
    "df_sorted = df_grouped.sort_values(by='Wealth Worth In Billions', ascending = False)\n",
    "df_sorted[:10].plot.bar(color='green')\n",
    "plt.title('Top 10 Industries with Highest Wealth Worth')\n",
    "plt.xlabel('Industry')\n",
    "plt.ylabel('SUM')\n",
    "plt.show()"
   ]
  },
  {
   "cell_type": "code",
   "execution_count": null,
   "id": "3f993533",
   "metadata": {},
   "outputs": [],
   "source": [
    "# Mean wealth by gender\n",
    "\n",
    "mean_wealth = data.groupby('Demographics Gender')['Wealth Worth In Billions'].mean()\n",
    "ax = mean_wealth.plot(kind='bar', color=['blue', 'orange', 'green', 'pink'])\n",
    "ax.set_ylabel('wealth worth in billions')\n",
    "ax.set_xlabel('gender')\n",
    "ax.set_title('Mean Wealth by Gender')\n",
    "plt.show()"
   ]
  },
  {
   "cell_type": "code",
   "execution_count": null,
   "id": "7bab5e17",
   "metadata": {},
   "outputs": [],
   "source": [
    "# Top 5 industries founded by women\n",
    "\n",
    "result = data[data['Demographics Gender'] == 'female'].groupby('Wealth How Industry').size()\n",
    "sorted_result = result.sort_values(ascending = False)\n",
    "sorted_result.head()"
   ]
  },
  {
   "cell_type": "code",
   "execution_count": null,
   "id": "d3f84cf0",
   "metadata": {
    "scrolled": false
   },
   "outputs": [],
   "source": [
    "# Creating group ages\n",
    "\n",
    "age_labels = ['10-19', '20-29', '30-39', '40-49', '50-59', '60-69', '70-79', '80-89', '90-99']\n",
    "age_bins = [9, 19, 29, 39, 49, 59, 69, 79, 89, 99]\n",
    "data['Age_Group'] = pd.cut(data['Demographics Age'], bins=age_bins, labels=age_labels)\n",
    "age_groups = data[\"Age_Group\"].value_counts()\n",
    "age_groups.sort_index().plot(kind='bar')"
   ]
  },
  {
   "cell_type": "code",
   "execution_count": null,
   "id": "dddb8d35",
   "metadata": {},
   "outputs": [],
   "source": [
    "counts_1996 = data[data['Year'] == 1996]['Age_Group'].value_counts()\n",
    "counts_2001 = data[data['Year'] == 2001]['Age_Group'].value_counts()\n",
    "counts_2014 = data[data['Year'] == 2014]['Age_Group'].value_counts()\n",
    "\n",
    "fig, axs = plt.subplots(1, 3, figsize=(10, 5))\n",
    "\n",
    "axs[0].pie(counts_1996[:5], labels=counts_1996[:5].index, autopct='%1.1f%%')\n",
    "axs[0].set_title('Top 5 Age Groups in 1996')\n",
    "\n",
    "axs[1].pie(counts_2001[:5], labels=counts_2001[:5].index, autopct='%1.1f%%')\n",
    "axs[1].set_title('Top 5 Age Groups in 2001')\n",
    "\n",
    "axs[2].pie(counts_2014[:5], labels=counts_2014[:5].index, autopct='%1.1f%%')\n",
    "axs[2].set_title('Top 5 Age Groups in 2014')\n",
    "\n",
    "plt.show()"
   ]
  },
  {
   "cell_type": "code",
   "execution_count": null,
   "id": "3180ce9f",
   "metadata": {},
   "outputs": [],
   "source": [
    "# Calculate the correlation matrix\n",
    "corr_matrix = data[['Demographics Age', 'Wealth Worth In Billions', 'Location GDP']].corr()\n",
    "\n",
    "# Create a heatmap\n",
    "plt.figure(figsize=(5, 5))\n",
    "sns.heatmap(corr_matrix, annot=True, cmap='coolwarm')\n",
    "plt.title('Correlation Matrix')\n",
    "plt.show()"
   ]
  }
 ],
 "metadata": {
  "kernelspec": {
   "display_name": "python_lectures",
   "language": "python",
   "name": "python_lectures"
  },
  "language_info": {
   "codemirror_mode": {
    "name": "ipython",
    "version": 3
   },
   "file_extension": ".py",
   "mimetype": "text/x-python",
   "name": "python",
   "nbconvert_exporter": "python",
   "pygments_lexer": "ipython3",
   "version": "3.8.16"
  }
 },
 "nbformat": 4,
 "nbformat_minor": 5
}
