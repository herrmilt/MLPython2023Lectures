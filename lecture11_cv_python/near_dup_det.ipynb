{
 "cells": [
  {
   "cell_type": "code",
   "execution_count": null,
   "id": "52aff63a",
   "metadata": {},
   "outputs": [],
   "source": [
    "import cv2\n",
    "import numpy as np\n",
    "import os"
   ]
  },
  {
   "cell_type": "code",
   "execution_count": null,
   "id": "aa0b0b07",
   "metadata": {
    "scrolled": true
   },
   "outputs": [],
   "source": [
    "!ls data/near_dup"
   ]
  },
  {
   "cell_type": "code",
   "execution_count": null,
   "id": "509668ed",
   "metadata": {
    "scrolled": false
   },
   "outputs": [],
   "source": [
    "!ls data/near_dup/wo0001/"
   ]
  },
  {
   "cell_type": "code",
   "execution_count": null,
   "id": "81aa79da",
   "metadata": {},
   "outputs": [],
   "source": [
    "!ls data/near_dup/wo0002/"
   ]
  },
  {
   "cell_type": "code",
   "execution_count": null,
   "id": "ad68e7cd",
   "metadata": {},
   "outputs": [],
   "source": [
    "from IPython.display import display, HTML\n",
    "from IPython.display import Image as IPImage\n",
    "from math import ceil\n",
    "\n",
    "def show_images_in(image_folder, images_per_row=4):\n",
    "\n",
    "    image_files = sorted([f for f in os.listdir(image_folder) if f.lower().endswith(('.png', '.jpg', '.jpeg', '.gif'))])\n",
    "\n",
    "    # Calculate the number of rows\n",
    "    num_rows = int(ceil(len(image_files) / images_per_row))\n",
    "\n",
    "    # Create an HTML string to display the images\n",
    "    html_str = \"<table>\"\n",
    "\n",
    "    for i in range(num_rows):\n",
    "        html_str += \"<tr>\"\n",
    "        for j in range(images_per_row):\n",
    "            index = i * images_per_row + j\n",
    "            if index < len(image_files):\n",
    "                img_path = os.path.join(image_folder, image_files[index])\n",
    "                # Display the image with filename\n",
    "                html_str += f\"<td><img src='{img_path}'><br>{image_files[index]}</td>\"\n",
    "        html_str += \"</tr>\"\n",
    "\n",
    "    html_str += \"</table>\"\n",
    "\n",
    "    display(HTML(html_str))"
   ]
  },
  {
   "cell_type": "code",
   "execution_count": null,
   "id": "b65468d0",
   "metadata": {
    "scrolled": false
   },
   "outputs": [],
   "source": [
    "show_images_in(\"data/near_dup/wo0001\")"
   ]
  },
  {
   "cell_type": "code",
   "execution_count": null,
   "id": "e4d77caf",
   "metadata": {},
   "outputs": [],
   "source": [
    "show_images_in(\"data/near_dup/wo0002\")"
   ]
  },
  {
   "cell_type": "code",
   "execution_count": null,
   "id": "cca07cc5",
   "metadata": {},
   "outputs": [],
   "source": [
    "def show_matches(image_path1, image_path2, print_distances=True):\n",
    "    # Load the two images\n",
    "    img1 = cv2.imread(image_path1, cv2.IMREAD_GRAYSCALE)\n",
    "    img2 = cv2.imread(image_path2, cv2.IMREAD_GRAYSCALE)\n",
    "\n",
    "    # Initialize the ORB detector\n",
    "    orb = cv2.ORB_create()\n",
    "\n",
    "    # Detect ORB keypoints and descriptors for both images\n",
    "    kp1, des1 = orb.detectAndCompute(img1, None)\n",
    "    kp2, des2 = orb.detectAndCompute(img2, None)\n",
    "\n",
    "    # Create a Brute Force Matcher\n",
    "    bf = cv2.BFMatcher(cv2.NORM_HAMMING, crossCheck=True)\n",
    "\n",
    "    # Match descriptors\n",
    "    matches = bf.match(des1, des2)\n",
    "\n",
    "    # Sort them in ascending order of distance\n",
    "    matches = sorted(matches, key=lambda x: x.distance)\n",
    "\n",
    "    # Draw matches and calculate matching distances\n",
    "    result_img = cv2.drawMatches(img1, kp1, img2, kp2, matches[:60], None, flags=2)\n",
    "\n",
    "    matching_distances = [match.distance for match in matches]\n",
    "\n",
    "    if print_distances:\n",
    "        print(\"Matching Distances:\", matching_distances[:60])\n",
    "\n",
    "    fig, ax = plt.subplots(figsize=(10, 8))\n",
    "    plt.imshow(cv2.cvtColor(result_img, cv2.COLOR_BGR2RGB))\n",
    "    plt.show()\n",
    "    print(f\"MatchRatio:{sum((1 if match.distance < max_dist else 0 for match in matches)) / len(matches)}\")"
   ]
  },
  {
   "cell_type": "code",
   "execution_count": null,
   "id": "09ba39c5",
   "metadata": {},
   "outputs": [],
   "source": [
    "import matplotlib.pyplot as plt\n",
    "max_dist = 30\n",
    "min_match_count = 40"
   ]
  },
  {
   "cell_type": "code",
   "execution_count": null,
   "id": "67b61fc8",
   "metadata": {},
   "outputs": [],
   "source": [
    "show_matches(\"data/near_dup/wo0001/wo0001003_1.jpg\", \"data/near_dup/wo0002/wo0002003_1.jpg\")"
   ]
  },
  {
   "cell_type": "code",
   "execution_count": null,
   "id": "e4a4adcc",
   "metadata": {},
   "outputs": [],
   "source": [
    "import itertools as it\n",
    "\n",
    "base_path = \"/mnt/hdd/__Docencia/DataAnalysisWithPython/!!2023SepUH/challenges/NearDupImgDet/Images\"\n",
    "\n",
    "# Initialize the ORB detector\n",
    "orb = cv2.ORB_create()\n",
    "# Create a Brute Force Matcher\n",
    "bf = cv2.BFMatcher(cv2.NORM_HAMMING, crossCheck=True)\n",
    "\n",
    "image_data = []    \n",
    "\n",
    "for folder_name in os.listdir(base_path):\n",
    "    folder_path = os.path.join(base_path, folder_name)\n",
    "    if not os.path.isdir(folder_path):\n",
    "        continue\n",
    "    for img_file in os.listdir(folder_path):\n",
    "        file_name = os.path.join(folder_path, img_file)\n",
    "        img = cv2.imread(os.path.join(folder_path, img_file), cv2.IMREAD_GRAYSCALE)\n",
    "        kp, des = orb.detectAndCompute(img, None)\n",
    "        image_data.append({\n",
    "            'folder': folder_name,\n",
    "            'file': img_file,\n",
    "            'file_name': file_name,\n",
    "            'image': img,\n",
    "            'keypoints': kp,\n",
    "            'descriptors': des\n",
    "        })"
   ]
  },
  {
   "cell_type": "code",
   "execution_count": null,
   "id": "605cc248",
   "metadata": {},
   "outputs": [],
   "source": [
    "len(image_data)"
   ]
  },
  {
   "cell_type": "code",
   "execution_count": null,
   "id": "96044bf8",
   "metadata": {},
   "outputs": [],
   "source": [
    "matched_images = []\n",
    "\n",
    "for d1, d2 in it.combinations(image_data,2):\n",
    "    matches = bf.match(d1['descriptors'], d2['descriptors'])\n",
    "#     matches = sorted(matches, key=lambda x: x.distance)\n",
    "    match_in_dist = sum((1 if m.distance < max_dist else 0 for m in matches))\n",
    "    if match_in_dist >= min_match_count:\n",
    "        matched_images.append((d1, d2, matches))"
   ]
  },
  {
   "cell_type": "code",
   "execution_count": null,
   "id": "497a23a0",
   "metadata": {},
   "outputs": [],
   "source": [
    "len(matched_images)"
   ]
  },
  {
   "cell_type": "code",
   "execution_count": null,
   "id": "12b2ace1",
   "metadata": {},
   "outputs": [],
   "source": [
    "d1, d2, _ = matched_images[0]\n",
    "show_matches(d1['file_name'], d2['file_name'])"
   ]
  },
  {
   "cell_type": "code",
   "execution_count": null,
   "id": "fc09b449",
   "metadata": {},
   "outputs": [],
   "source": [
    "d1, d2, _ = matched_images[1]\n",
    "show_matches(d1['file_name'], d2['file_name'])"
   ]
  },
  {
   "cell_type": "code",
   "execution_count": null,
   "id": "a2ce59c2",
   "metadata": {},
   "outputs": [],
   "source": [
    "d1, d2, _ = matched_images[2]\n",
    "show_matches(d1['file_name'], d2['file_name'])"
   ]
  },
  {
   "cell_type": "code",
   "execution_count": null,
   "id": "13913514",
   "metadata": {},
   "outputs": [],
   "source": [
    "d1, d2, matches = matched_images[2]\n",
    "match_in_dist = [m for m in matches if m.distance <= max_dist]"
   ]
  },
  {
   "cell_type": "code",
   "execution_count": null,
   "id": "ac3beefb",
   "metadata": {},
   "outputs": [],
   "source": [
    "src_pts = np.float32([d1['keypoints'][m.queryIdx].pt for m in match_in_dist]).reshape(-1, 1, 2)\n",
    "dst_pts = np.float32([d2['keypoints'][m.trainIdx].pt for m in match_in_dist]).reshape(-1, 1, 2)\n",
    "trans_mat, _ = cv2.estimateAffinePartial2D(src_pts, dst_pts)"
   ]
  },
  {
   "cell_type": "code",
   "execution_count": null,
   "id": "fd21f507",
   "metadata": {},
   "outputs": [],
   "source": [
    "scale_x = trans_mat[0,0]\n",
    "scale_y = trans_mat[1,1]\n",
    "shear_x = trans_mat[0,1]\n",
    "shear_y = trans_mat[1,0]\n",
    "trans_x = trans_mat[0,2]\n",
    "trans_y = trans_mat[1,2]\n",
    "rotation_angle_rad = -np.arctan2(trans_mat[1, 0], trans_mat[0, 0])\n",
    "rotation_angle_deg = np.degrees(rotation_angle_rad)\n",
    "print(f'Scale: {scale_x:.2f}, {scale_y:.2f}')\n",
    "print(f'Shear: {shear_x:.2f}, {shear_y:.2f}')\n",
    "print(f'Translation: {trans_x:.2f}, {trans_y:.2f}')\n",
    "print(f'Rotation: {rotation_angle_deg}')"
   ]
  },
  {
   "cell_type": "code",
   "execution_count": null,
   "id": "bf2b9062",
   "metadata": {},
   "outputs": [],
   "source": [
    "def print_transforms(match):\n",
    "    d1, d2, matches = match\n",
    "    match_in_dist = [m for m in matches if m.distance <= max_dist]\n",
    "    src_pts = np.float32([d1['keypoints'][m.queryIdx].pt for m in match_in_dist]).reshape(-1, 1, 2)\n",
    "    dst_pts = np.float32([d2['keypoints'][m.trainIdx].pt for m in match_in_dist]).reshape(-1, 1, 2)\n",
    "    trans_mat, _ = cv2.estimateAffinePartial2D(src_pts, dst_pts)\n",
    "    \n",
    "    scale_x = trans_mat[0,0]\n",
    "    scale_y = trans_mat[1,1]\n",
    "    shear_x = trans_mat[0,1]\n",
    "    shear_y = trans_mat[1,0]\n",
    "    trans_x = trans_mat[0,2]\n",
    "    trans_y = trans_mat[1,2]\n",
    "    rotation_angle_rad = -np.arctan2(trans_mat[1, 0], trans_mat[0, 0])\n",
    "    rotation_angle_deg = np.degrees(rotation_angle_rad)\n",
    "    print(f'Scale: {scale_x:.2f}, {scale_y:.2f}')\n",
    "    print(f'Shear: {shear_x:.2f}, {shear_y:.2f}')\n",
    "    print(f'Translation: {trans_x:.2f}, {trans_y:.2f}')\n",
    "    print(f'Rotation: {rotation_angle_deg}')"
   ]
  },
  {
   "cell_type": "code",
   "execution_count": null,
   "id": "5f9f8234",
   "metadata": {
    "scrolled": false
   },
   "outputs": [],
   "source": [
    "for m in matched_images:\n",
    "    d1, d2, _ = m\n",
    "    show_matches(d1['file_name'], d2['file_name'], print_distances=False)\n",
    "    print_transforms(m)"
   ]
  },
  {
   "cell_type": "code",
   "execution_count": null,
   "id": "7c62ccc3",
   "metadata": {},
   "outputs": [],
   "source": []
  }
 ],
 "metadata": {
  "kernelspec": {
   "display_name": "Python [conda env:python_lectures]",
   "language": "python",
   "name": "conda-env-python_lectures-py"
  },
  "language_info": {
   "codemirror_mode": {
    "name": "ipython",
    "version": 3
   },
   "file_extension": ".py",
   "mimetype": "text/x-python",
   "name": "python",
   "nbconvert_exporter": "python",
   "pygments_lexer": "ipython3",
   "version": "3.8.16"
  }
 },
 "nbformat": 4,
 "nbformat_minor": 5
}
