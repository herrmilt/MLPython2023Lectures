{
 "cells": [
  {
   "cell_type": "markdown",
   "id": "9911371c",
   "metadata": {},
   "source": [
    "# Lecture 11. Computer Vision in Python\n",
    "\n",
    "Outline:\n",
    "- [Introduction to OpenCV in Python](opencv_intro.ipynb)\n",
    "     - [Bacillus challenge](show_bacillus.ipynb)\n",
    "    \n",
    "- [A simple image classification for a store](image_classif_store.ipynb)\n"
   ]
  }
 ],
 "metadata": {
  "kernelspec": {
   "display_name": "python_lectures",
   "language": "python",
   "name": "python_lectures"
  },
  "language_info": {
   "codemirror_mode": {
    "name": "ipython",
    "version": 3
   },
   "file_extension": ".py",
   "mimetype": "text/x-python",
   "name": "python",
   "nbconvert_exporter": "python",
   "pygments_lexer": "ipython3",
   "version": "3.8.16"
  }
 },
 "nbformat": 4,
 "nbformat_minor": 5
}
