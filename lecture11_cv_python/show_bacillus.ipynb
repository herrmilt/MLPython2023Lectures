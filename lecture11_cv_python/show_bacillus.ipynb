{
 "cells": [
  {
   "cell_type": "code",
   "execution_count": null,
   "id": "f7f12caa",
   "metadata": {},
   "outputs": [],
   "source": [
    "# These imports let you use opencv\n",
    "import cv2 #opencv itself\n",
    "import numpy as np # matrix manipulations\n",
    "\n",
    "#the following are to do with this interactive notebook code\n",
    "%matplotlib inline\n",
    "from matplotlib import pyplot as plt # this lets you draw inline pictures in the notebooks\n",
    "import pylab # this allows you to control figure size\n",
    "pylab.rcParams['figure.figsize'] = (5, 5) # this controls figure size in the notebook"
   ]
  },
  {
   "cell_type": "code",
   "execution_count": null,
   "id": "5c27f3ca",
   "metadata": {
    "scrolled": false
   },
   "outputs": [],
   "source": [
    "image=cv2.imread('data/bacillus/22727.jpg')\n",
    "image = cv2.cvtColor(image, cv2.COLOR_BGR2RGB)\n",
    "\n",
    "plt.imshow(image)\n",
    "plt.show()"
   ]
  },
  {
   "cell_type": "code",
   "execution_count": null,
   "id": "e19ed74b",
   "metadata": {
    "scrolled": true
   },
   "outputs": [],
   "source": [
    "import json\n",
    "annot_file_name = \"data/bacillus/22727.json\"\n",
    "with open(annot_file_name, 'r') as json_file:\n",
    "    data = json.load(json_file)\n",
    "data"
   ]
  },
  {
   "cell_type": "code",
   "execution_count": null,
   "id": "c9eff6e2",
   "metadata": {
    "scrolled": true
   },
   "outputs": [],
   "source": [
    "data['userAddedAnnotations']"
   ]
  },
  {
   "cell_type": "code",
   "execution_count": null,
   "id": "54392cbb",
   "metadata": {
    "scrolled": true
   },
   "outputs": [],
   "source": [
    "to_show = image.copy()\n",
    "for r in data['userAddedAnnotations']:\n",
    "    t, l, w, h = int(r['top']), int(r['left']), int(r['width']), int(r['height']) \n",
    "    cv2.rectangle(to_show, (l, t), (l+w, t+h), (255, 255, 0), 2)\n",
    "    \n",
    "plt.imshow(to_show)\n",
    "plt.show()"
   ]
  },
  {
   "cell_type": "code",
   "execution_count": null,
   "id": "c20a3d7a",
   "metadata": {
    "scrolled": true
   },
   "outputs": [],
   "source": [
    "# Zoom a region\n",
    "region = to_show[:300, :300]\n",
    "region = cv2.resize(region, (600, 600))\n",
    "plt.imshow(region)\n",
    "plt.show()"
   ]
  },
  {
   "cell_type": "markdown",
   "id": "d85f129b",
   "metadata": {},
   "source": [
    "## Detect bacillus"
   ]
  },
  {
   "cell_type": "code",
   "execution_count": null,
   "id": "b050e1d5",
   "metadata": {
    "scrolled": false
   },
   "outputs": [],
   "source": [
    "transformed = cv2.cvtColor(image, cv2.COLOR_RGB2HSV)\n",
    "h, s, v=cv2.split(transformed)\n",
    "plt.imshow(image)\n",
    "plt.show()\n",
    "plt.imshow(h)"
   ]
  },
  {
   "cell_type": "code",
   "execution_count": null,
   "id": "1446e7ff",
   "metadata": {},
   "outputs": [],
   "source": [
    "is_bacillus = cv2.inRange(h, 130, 160)\n",
    "plt.imshow(is_bacillus)"
   ]
  },
  {
   "cell_type": "code",
   "execution_count": null,
   "id": "3070aa85",
   "metadata": {
    "scrolled": false
   },
   "outputs": [],
   "source": [
    "num_labels, labels, stats, centroids = cv2.connectedComponentsWithStats(is_bacillus, connectivity=8)\n",
    "\n",
    "# Define los valores mínimo y máximo para el número de elementos en una componente conectada\n",
    "min_area = 30  # Valor mínimo\n",
    "max_area = 300  # Valor máximo\n",
    "\n",
    "# Itera sobre las etiquetas\n",
    "for label in range(1, num_labels):\n",
    "    area = stats[label, cv2.CC_STAT_AREA]\n",
    "    if min_area <= area <= max_area:\n",
    "        # La componente conectada está dentro del rango deseado\n",
    "        continue\n",
    "    else:\n",
    "        # Elimina la componente conectada configurando todos los píxeles en 0\n",
    "        is_bacillus[labels == label] = 0\n",
    "\n",
    "plt.imshow(image)\n",
    "plt.show()\n",
    "plt.imshow(is_bacillus)"
   ]
  },
  {
   "cell_type": "code",
   "execution_count": null,
   "id": "1fbd7b83",
   "metadata": {
    "scrolled": true
   },
   "outputs": [],
   "source": [
    "num_labels, labels, stats, centroids = cv2.connectedComponentsWithStats(is_bacillus, connectivity=8)\n",
    "\n",
    "# Define los valores mínimo y máximo para el número de elementos en una componente conectada\n",
    "min_area = 30  # Valor mínimo\n",
    "max_area = 300  # Valor máximo\n",
    "\n",
    "boxes = []\n",
    "\n",
    "# Itera sobre las etiquetas\n",
    "for label in range(1, num_labels):\n",
    "    area = stats[label, cv2.CC_STAT_AREA]\n",
    "    if min_area <= area <= max_area:\n",
    "        left = stats[label, cv2.CC_STAT_LEFT]\n",
    "        top = stats[label, cv2.CC_STAT_TOP]\n",
    "        width = stats[label, cv2.CC_STAT_WIDTH]\n",
    "        height = stats[label, cv2.CC_STAT_HEIGHT]\n",
    "        boxes.append((left, top, width, height))\n",
    "        # La componente conectada está dentro del rango deseado\n",
    "        continue\n",
    "    else:\n",
    "        # Elimina la componente conectada configurando todos los píxeles en 0\n",
    "        is_bacillus[labels == label] = 0\n",
    "\n",
    "delta = 3\n",
    "to_show = image.copy()\n",
    "for l, t, w, h in boxes:\n",
    "    cv2.rectangle(to_show, (l-delta, t-delta, w+2*delta, h+2*delta), (255, 255, 0), 1)\n",
    "plt.imshow(to_show)\n"
   ]
  },
  {
   "cell_type": "markdown",
   "id": "3a8e14a0",
   "metadata": {},
   "source": [
    "Is there a parameter combination that performs better with most images?\n",
    "\n",
    "You need first to label many images, so you can automatically evaluate configurations, and use gradient descent on the parameters??"
   ]
  }
 ],
 "metadata": {
  "kernelspec": {
   "display_name": "Python [conda env:python_lectures]",
   "language": "python",
   "name": "conda-env-python_lectures-py"
  },
  "language_info": {
   "codemirror_mode": {
    "name": "ipython",
    "version": 3
   },
   "file_extension": ".py",
   "mimetype": "text/x-python",
   "name": "python",
   "nbconvert_exporter": "python",
   "pygments_lexer": "ipython3",
   "version": "3.8.16"
  }
 },
 "nbformat": 4,
 "nbformat_minor": 5
}
