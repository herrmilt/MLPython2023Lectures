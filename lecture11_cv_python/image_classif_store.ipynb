{
 "cells": [
  {
   "cell_type": "markdown",
   "id": "755f7801",
   "metadata": {},
   "source": [
    "# An image classifier for a store"
   ]
  },
  {
   "cell_type": "code",
   "execution_count": null,
   "id": "b863d73f",
   "metadata": {
    "scrolled": true
   },
   "outputs": [],
   "source": [
    "import numpy as np\n",
    "import pandas as pd\n",
    "import os\n",
    "\n",
    "os.environ['TF_CPP_MIN_LOG_LEVEL'] = '3'\n",
    "import warnings\n",
    "warnings.filterwarnings(\"ignore\")\n",
    "import os\n",
    "os.environ['TF_CPP_MIN_LOG_LEVEL'] = '3'\n",
    "import tensorflow as tf\n",
    "from tensorflow import keras\n",
    "import tensorflow_datasets as tfds\n",
    "gpus = tf.config.experimental.list_physical_devices('GPU')\n",
    "\n",
    "if gpus:\n",
    "    tf.config.experimental.set_visible_devices(gpus[0], 'GPU')\n",
    "    tf.config.experimental.set_memory_growth(gpus[0], True)\n",
    "    print('GPU', tf.test.gpu_device_name(), 'configured')"
   ]
  },
  {
   "cell_type": "markdown",
   "id": "19d30632",
   "metadata": {},
   "source": [
    "Lets load the data and see the available information"
   ]
  },
  {
   "cell_type": "code",
   "execution_count": null,
   "id": "0e046c67",
   "metadata": {},
   "outputs": [],
   "source": [
    "data, metadata = tfds.load('fashion_mnist', as_supervised=True, with_info=True)"
   ]
  },
  {
   "cell_type": "code",
   "execution_count": null,
   "id": "ea0362ea",
   "metadata": {
    "scrolled": false
   },
   "outputs": [],
   "source": [
    "metadata"
   ]
  },
  {
   "cell_type": "markdown",
   "id": "daae2a8a",
   "metadata": {},
   "source": [
    "Preparing to train network"
   ]
  },
  {
   "cell_type": "code",
   "execution_count": null,
   "id": "e3800c3a",
   "metadata": {},
   "outputs": [],
   "source": [
    "train, test = data['train'], data['test']"
   ]
  },
  {
   "cell_type": "code",
   "execution_count": null,
   "id": "1f02c609",
   "metadata": {
    "scrolled": true
   },
   "outputs": [],
   "source": [
    "class_names = metadata.features['label'].names\n",
    "class_names"
   ]
  },
  {
   "cell_type": "code",
   "execution_count": null,
   "id": "ff9f8537",
   "metadata": {},
   "outputs": [],
   "source": [
    "# normalize data\n",
    "def normalize(images, labels):\n",
    "    images = tf.cast(images, tf.float32)\n",
    "    images /= 255 #Aqui lo pasa de 0-255 a 0-1\n",
    "    return images, labels\n",
    "\n",
    "# Normalize train and test\n",
    "train = train.map(normalize)\n",
    "test = test.map(normalize)\n",
    "\n",
    "# Cache data to memory for improving speed\n",
    "train = train.cache()\n",
    "test = test.cache()"
   ]
  },
  {
   "cell_type": "code",
   "execution_count": null,
   "id": "e6c10291",
   "metadata": {},
   "outputs": [],
   "source": [
    "#Show training data\n",
    "image, label = next(iter(train.take(1)))\n",
    "image = image.numpy().reshape((28,28)) \n",
    "print(class_names[label])"
   ]
  },
  {
   "cell_type": "code",
   "execution_count": null,
   "id": "df555fb6",
   "metadata": {},
   "outputs": [],
   "source": [
    "for image, label in train.take(1):\n",
    "    break\n",
    "image = image.numpy().reshape((28,28)) #Redimensionar, cosas de tensores, lo veremos despues\n",
    "\n",
    "import matplotlib.pyplot as plt\n",
    "\n",
    "#Dibujar dibujar\n",
    "plt.figure()\n",
    "plt.imshow(image, cmap=plt.cm.binary)\n",
    "plt.colorbar()\n",
    "plt.grid(False)\n",
    "plt.show()"
   ]
  },
  {
   "cell_type": "code",
   "execution_count": null,
   "id": "ba5bf631",
   "metadata": {},
   "outputs": [],
   "source": [
    "plt.figure(figsize=(10,10))\n",
    "for i, (image, label) in enumerate(train.take(25)):\n",
    "    image = image.numpy().reshape((28,28))\n",
    "    plt.subplot(5,5,i+1)\n",
    "    plt.xticks([])\n",
    "    plt.yticks([])\n",
    "    plt.grid(False)\n",
    "    plt.imshow(image, cmap=plt.cm.binary)\n",
    "    plt.xlabel(class_names[label])\n",
    "plt.show()"
   ]
  },
  {
   "cell_type": "code",
   "execution_count": null,
   "id": "1998b6c9",
   "metadata": {},
   "outputs": [],
   "source": [
    "model = tf.keras.Sequential([\n",
    "  tf.keras.layers.Flatten(input_shape=(28,28,1)), \n",
    "  tf.keras.layers.Dense(50, activation=tf.nn.relu),\n",
    "  tf.keras.layers.Dense(50, activation=tf.nn.relu),\n",
    "  tf.keras.layers.Dense(10, activation=tf.nn.softmax) \n",
    "])"
   ]
  },
  {
   "cell_type": "code",
   "execution_count": null,
   "id": "ee01b771",
   "metadata": {},
   "outputs": [],
   "source": [
    "model.compile(\n",
    "    optimizer='adam',\n",
    "    loss=tf.keras.losses.SparseCategoricalCrossentropy(),\n",
    "    metrics=['accuracy']\n",
    ")"
   ]
  },
  {
   "cell_type": "code",
   "execution_count": null,
   "id": "1b139105",
   "metadata": {},
   "outputs": [],
   "source": [
    "train_count = metadata.splits[\"train\"].num_examples\n",
    "test_count = metadata.splits[\"test\"].num_examples\n",
    "train_count, test_count"
   ]
  },
  {
   "cell_type": "code",
   "execution_count": null,
   "id": "468d7b57",
   "metadata": {},
   "outputs": [],
   "source": [
    "batch_size = 32\n",
    "\n",
    "#Shuffle y repeat hacen que los datos esten mezclados de manera aleatoria para que la red\n",
    "#no se vaya a aprender el orden de las cosas\n",
    "train = train.repeat().shuffle(train_count).batch(batch_size)\n",
    "test = test.batch(batch_size)"
   ]
  },
  {
   "cell_type": "code",
   "execution_count": null,
   "id": "2911a8be",
   "metadata": {},
   "outputs": [],
   "source": [
    "import math\n",
    "\n",
    "#Entrenar\n",
    "history = model.fit(train, epochs=5, steps_per_epoch= math.ceil(train_count/batch_size))"
   ]
  },
  {
   "cell_type": "code",
   "execution_count": null,
   "id": "9078fa29",
   "metadata": {},
   "outputs": [],
   "source": [
    "plt.xlabel(\"Epoch\")\n",
    "plt.ylabel(\"Loss\")\n",
    "plt.plot(history.history[\"loss\"])"
   ]
  },
  {
   "cell_type": "code",
   "execution_count": null,
   "id": "a2f64336",
   "metadata": {},
   "outputs": [],
   "source": [
    "plt.xlabel(\"Epoch\")\n",
    "plt.ylabel(\"Loss\")\n",
    "plt.plot(history.history[\"accuracy\"])"
   ]
  },
  {
   "cell_type": "code",
   "execution_count": null,
   "id": "8fb5eec5",
   "metadata": {
    "scrolled": false
   },
   "outputs": [],
   "source": [
    "# Paint a grid with multiple predictions and mark them as correct (blue) or incorrect (red)\n",
    "import numpy as np\n",
    "\n",
    "for test_images, test_labels in test.take(1):\n",
    "    test_images = test_images.numpy()\n",
    "    test_labels = test_labels.numpy()\n",
    "    predictions = model.predict(test_images)\n",
    "  \n",
    "def plot_image(i, prediction_array, true_labels, images):\n",
    "    prediction_array, true_label, img = prediction_array[i], true_labels[i], images[i]\n",
    "    plt.grid(False)\n",
    "    plt.xticks([])\n",
    "    plt.yticks([])\n",
    "\n",
    "    plt.imshow(img[...,0], cmap=plt.cm.binary)\n",
    "\n",
    "    predicted_label = np.argmax(prediction_array)\n",
    "    if predicted_label == true_label:\n",
    "        color = 'blue'\n",
    "    else:\n",
    "        color = 'red'\n",
    "\n",
    "    plt.xlabel(\"{} {:2.0f}% ({})\".format(class_names[predicted_label],\n",
    "                                100*np.max(prediction_array),\n",
    "                                class_names[true_label]),\n",
    "                                color=color)\n",
    "  \n",
    "def plot_value_array(i, prediction_array, true_label):\n",
    "    prediction_array, true_label = prediction_array[i], true_label[i]\n",
    "    plt.grid(False)\n",
    "    plt.xticks([])\n",
    "    plt.yticks([])\n",
    "    bar_plot = plt.bar(range(10), prediction_array, color=\"#777777\")\n",
    "    plt.ylim([0, 1]) \n",
    "    predicted_label = np.argmax(prediction_array)\n",
    "\n",
    "    bar_plot[predicted_label].set_color('red')\n",
    "    bar_plot[true_label].set_color('blue')\n",
    "  \n",
    "rows = 5\n",
    "columns = 5\n",
    "num_images = rows * columns\n",
    "plt.figure(figsize=(2*2*columns, 2*rows))\n",
    "for i in range(num_images):\n",
    "    plt.subplot(rows, 2*columns, 2*i+1)\n",
    "    plot_image(i, predictions, test_labels, test_images)\n",
    "    plt.subplot(rows, 2*columns, 2*i+2)\n",
    "    plot_value_array(i, predictions, test_labels)\n"
   ]
  },
  {
   "cell_type": "code",
   "execution_count": null,
   "id": "2dab9314",
   "metadata": {},
   "outputs": [],
   "source": [
    "model.fit(train, epochs=10, steps_per_epoch= math.ceil(train_count/batch_size))"
   ]
  },
  {
   "cell_type": "code",
   "execution_count": null,
   "id": "08ca1f00",
   "metadata": {},
   "outputs": [],
   "source": [
    "from PIL import ImageTk, Image, ImageDraw\n",
    "import PIL\n",
    "from tkinter import *\n",
    "\n",
    "def paint_and_model():\n",
    "\n",
    "    width = 200  # canvas width\n",
    "    height = 200 # canvas height\n",
    "    center = height//2\n",
    "    white = (255, 255, 255) # canvas back\n",
    "\n",
    "    def paint(event):\n",
    "        x1, y1 = (event.x - 1), (event.y - 1)\n",
    "        x2, y2 = (event.x + 1), (event.y + 1)\n",
    "        canvas.create_oval(x1, y1, x2, y2, fill=\"black\",width=15)\n",
    "        draw.line([x1, y1, x2, y2],fill=\"black\",width=15)\n",
    "\n",
    "    master = Tk()\n",
    "\n",
    "    def close_window():\n",
    "        master.destroy()\n",
    "        \n",
    "    def clear_window():\n",
    "        canvas.delete(\"all\")\n",
    "        output_image.paste((255, 255, 255), (0, 0, width, height))        \n",
    "    \n",
    "    def do_classify():\n",
    "        resized_image = output_image.resize((28, 28))\n",
    "        # Convert the image to grayscale\n",
    "        grayscale_image = resized_image.convert(\"L\")\n",
    "\n",
    "        # Convert the image to a NumPy array\n",
    "        image_array = np.array(grayscale_image)\n",
    "\n",
    "        normalized_image = image_array / 255.0\n",
    "        predictions = model.predict(1 - normalized_image)\n",
    "\n",
    "        # Get the predicted class index\n",
    "        predicted_class_index = np.argmax(predictions)\n",
    "        classification_label.config(text=f\"{class_names[predicted_class_index]}\")\n",
    "\n",
    "\n",
    "    # create a tkinter canvas to draw on\n",
    "    canvas = Canvas(master, width=width, height=height, bg='white')\n",
    "    canvas.pack()\n",
    "\n",
    "    # create an empty PIL image and draw object to draw on\n",
    "    output_image = PIL.Image.new(\"RGB\", (width, height), white)\n",
    "    draw = ImageDraw.Draw(output_image)\n",
    "    canvas.pack(expand=YES, fill=BOTH)\n",
    "    canvas.bind(\"<B1-Motion>\", paint)\n",
    "    \n",
    "    classification_label = Label(master, text=\"\", font=(\"Courier Bold\", 15))\n",
    "    classification_label.pack()\n",
    "\n",
    "    b1=Button(text=\"classify\",command=do_classify)\n",
    "    b1.pack(side=LEFT)\n",
    "    \n",
    "    button=Button(text=\"clear\",command=clear_window)\n",
    "    button.pack(side=LEFT)\n",
    "        \n",
    "    button=Button(text=\"close\",command=close_window)\n",
    "    button.pack(side=LEFT)\n",
    "    \n",
    "    master.mainloop()\n",
    "    \n",
    "paint_and_model()"
   ]
  },
  {
   "cell_type": "markdown",
   "id": "3f4b339d",
   "metadata": {},
   "source": [
    "The problem here are that the pixel positions are features, so you cannot move the images, because the features are changed. For that, we need to deal with other type of network ... CNNs"
   ]
  },
  {
   "cell_type": "code",
   "execution_count": null,
   "id": "8dd1de07",
   "metadata": {},
   "outputs": [],
   "source": []
  }
 ],
 "metadata": {
  "kernelspec": {
   "display_name": "Python [conda env:python_lectures]",
   "language": "python",
   "name": "conda-env-python_lectures-py"
  },
  "language_info": {
   "codemirror_mode": {
    "name": "ipython",
    "version": 3
   },
   "file_extension": ".py",
   "mimetype": "text/x-python",
   "name": "python",
   "nbconvert_exporter": "python",
   "pygments_lexer": "ipython3",
   "version": "3.8.16"
  }
 },
 "nbformat": 4,
 "nbformat_minor": 5
}
