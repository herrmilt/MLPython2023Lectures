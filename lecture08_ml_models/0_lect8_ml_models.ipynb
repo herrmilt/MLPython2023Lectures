{
 "cells": [
  {
   "cell_type": "markdown",
   "id": "9911371c",
   "metadata": {},
   "source": [
    "# Lecture 8. Machine Learning Models\n",
    "\n",
    "Outline:\n",
    "- Nearest Neighbors rule:\n",
    "    - [Principal Components Analysis (PCA)](pca.ipynb)\n",
    "    - [Nearest Neighbors Classifier](knn.ipynb)\n",
    "- Decision Tree Classifiers:\n",
    "    - Introduction (presentation)\n",
    "    - [DT in sklearn](dt.ipynb)\n",
    "- Support Vector Machine classifier:\n",
    "    - Introduction (presentation)\n",
    "    - [SVM in sklearn](svm.ipynb)"
   ]
  }
 ],
 "metadata": {
  "kernelspec": {
   "display_name": "python_lectures",
   "language": "python",
   "name": "python_lectures"
  },
  "language_info": {
   "codemirror_mode": {
    "name": "ipython",
    "version": 3
   },
   "file_extension": ".py",
   "mimetype": "text/x-python",
   "name": "python",
   "nbconvert_exporter": "python",
   "pygments_lexer": "ipython3",
   "version": "3.8.16"
  }
 },
 "nbformat": 4,
 "nbformat_minor": 5
}
