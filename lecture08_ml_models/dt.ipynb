{
 "cells": [
  {
   "cell_type": "markdown",
   "id": "f6941d6d",
   "metadata": {},
   "source": [
    "# Decision trees with ScikitLearn\n",
    "\n",
    "Lets create a decision tree using the popular Iris dataset."
   ]
  },
  {
   "cell_type": "code",
   "execution_count": null,
   "id": "533532d1",
   "metadata": {},
   "outputs": [],
   "source": [
    "from sklearn.datasets import load_iris\n",
    "\n",
    "iris = load_iris()\n",
    "X = iris.data\n",
    "y = iris.target"
   ]
  },
  {
   "cell_type": "code",
   "execution_count": null,
   "id": "07350dfa",
   "metadata": {
    "scrolled": true
   },
   "outputs": [],
   "source": [
    "import matplotlib.pyplot as plt\n",
    "\n",
    "class_names = iris.target_names\n",
    "\n",
    "# Create a scatter plot for each pair of features\n",
    "for i in range(4):\n",
    "    for j in range(i + 1, 4):\n",
    "        plt.figure(figsize=(5, 5))\n",
    "        plt.scatter(X[:, i], X[:, j], c=y, cmap=plt.cm.Set1, edgecolor='k')\n",
    "        plt.xlabel(iris.feature_names[i])\n",
    "        plt.ylabel(iris.feature_names[j])\n",
    "        plt.title(f\"{iris.feature_names[i]} vs {iris.feature_names[j]}\")\n",
    "        plt.show()"
   ]
  },
  {
   "cell_type": "code",
   "execution_count": null,
   "id": "42fa6720",
   "metadata": {},
   "outputs": [],
   "source": [
    "from sklearn.model_selection import train_test_split\n",
    "from sklearn.tree import DecisionTreeClassifier, export_text\n",
    "\n",
    "X_train, X_test, y_train, y_test = train_test_split(X, y, test_size=0.3, random_state=1)\n",
    "\n",
    "clf = DecisionTreeClassifier()\n",
    "\n",
    "clf = clf.fit(X_train, y_train)"
   ]
  },
  {
   "cell_type": "markdown",
   "id": "90977bef",
   "metadata": {},
   "source": [
    "Now, lets show the obtained tree"
   ]
  },
  {
   "cell_type": "code",
   "execution_count": null,
   "id": "05492c8b",
   "metadata": {},
   "outputs": [],
   "source": [
    "print(iris.target_names)\n",
    "tree_rules = export_text(clf, feature_names=iris.feature_names)\n",
    "print(tree_rules)"
   ]
  },
  {
   "cell_type": "markdown",
   "id": "4cf6fac8",
   "metadata": {},
   "source": [
    "And calculate its accuracy"
   ]
  },
  {
   "cell_type": "code",
   "execution_count": null,
   "id": "1dd410d4",
   "metadata": {
    "scrolled": true
   },
   "outputs": [],
   "source": [
    "from sklearn import metrics\n",
    "\n",
    "y_pred = clf.predict(X_test)\n",
    "\n",
    "accuracy = metrics.accuracy_score(y_test, y_pred)\n",
    "print(\"Accuracy:\", accuracy)"
   ]
  },
  {
   "cell_type": "markdown",
   "id": "66fafb22",
   "metadata": {},
   "source": [
    "Lets select the best two features in order to visualize the results"
   ]
  },
  {
   "cell_type": "code",
   "execution_count": null,
   "id": "ad6a2841",
   "metadata": {},
   "outputs": [],
   "source": [
    "selected_features = [0, 2]\n",
    "\n",
    "X_train_2 = X_train[:, selected_features]\n",
    "X_test_2 = X_test[:, selected_features]\n",
    "\n",
    "# Create the SVM classifier\n",
    "clf = DecisionTreeClassifier()\n",
    "\n",
    "# Train the classifier\n",
    "clf.fit(X_train_2, y_train)"
   ]
  },
  {
   "cell_type": "code",
   "execution_count": null,
   "id": "21406f67",
   "metadata": {},
   "outputs": [],
   "source": [
    "import numpy as np\n",
    "\n",
    "def plot_classification_regions(X, y, clf):\n",
    "    # Plot the separation hyperplane\n",
    "    # Generate a grid of points that span the feature space\n",
    "    x_min, x_max = X[:, 0].min() - 1, X[:, 0].max() + 1\n",
    "    y_min, y_max = X[:, 1].min() - 1, X[:, 1].max() + 1\n",
    "    xx, yy = np.meshgrid(np.arange(x_min, x_max, 0.02),\n",
    "                         np.arange(y_min, y_max, 0.02))\n",
    "\n",
    "    # Obtain the predicted labels for each point in the grid\n",
    "    Z = clf.predict(np.c_[xx.ravel(), yy.ravel()])\n",
    "\n",
    "    # Reshape the predicted labels into the grid shape\n",
    "    Z = Z.reshape(xx.shape)\n",
    "\n",
    "    # Plot the contour filled with the predicted labels\n",
    "    plt.contourf(xx, yy, Z, alpha=0.8, cmap=plt.cm.Paired)\n",
    "\n",
    "    # Plot the original data points\n",
    "    plt.scatter(X[:, 0], X[:, 1], c=y, edgecolors='k', cmap=plt.cm.Paired)\n",
    "\n",
    "    # Show the plot\n",
    "    plt.show()\n",
    "    \n",
    "plot_classification_regions(X_train_2, y_train, clf)"
   ]
  },
  {
   "cell_type": "markdown",
   "id": "ea1ad585",
   "metadata": {},
   "source": [
    "### Limiting the minimum number of elements in leaf"
   ]
  },
  {
   "cell_type": "code",
   "execution_count": null,
   "id": "092dc308",
   "metadata": {
    "scrolled": false
   },
   "outputs": [],
   "source": [
    "clf = DecisionTreeClassifier(min_samples_leaf=5)\n",
    "\n",
    "clf = clf.fit(X_train, y_train)\n",
    "\n",
    "tree_rules = export_text(clf, feature_names=iris.feature_names)\n",
    "print(tree_rules)"
   ]
  },
  {
   "cell_type": "code",
   "execution_count": null,
   "id": "92c01aed",
   "metadata": {
    "scrolled": true
   },
   "outputs": [],
   "source": [
    "y_pred = clf.predict(X_test)\n",
    "\n",
    "accuracy = metrics.accuracy_score(y_test, y_pred)\n",
    "print(\"Accuracy:\", accuracy)"
   ]
  },
  {
   "cell_type": "markdown",
   "id": "87c74fa8",
   "metadata": {},
   "source": [
    "This tree is simpler, but as accurate as the original one:\n",
    "- The removed branches constains information particular to the training set"
   ]
  },
  {
   "cell_type": "markdown",
   "id": "8de3edb1",
   "metadata": {},
   "source": [
    "Lets see the classification regions now"
   ]
  },
  {
   "cell_type": "code",
   "execution_count": null,
   "id": "0504f7c4",
   "metadata": {},
   "outputs": [],
   "source": [
    "clf = DecisionTreeClassifier(min_samples_leaf=5)\n",
    "clf.fit(X_train_2, y_train)\n",
    "plot_classification_regions(X_train_2, y_train, clf)"
   ]
  },
  {
   "cell_type": "markdown",
   "id": "f04bd681",
   "metadata": {},
   "source": [
    "### Limiting the tree height"
   ]
  },
  {
   "cell_type": "code",
   "execution_count": null,
   "id": "a1386052",
   "metadata": {
    "scrolled": false
   },
   "outputs": [],
   "source": [
    "clf = DecisionTreeClassifier(max_depth=2)\n",
    "\n",
    "clf = clf.fit(X_train, y_train)\n",
    "\n",
    "tree_rules = export_text(clf, feature_names=iris.feature_names)\n",
    "print(tree_rules)"
   ]
  },
  {
   "cell_type": "code",
   "execution_count": null,
   "id": "0cba96b4",
   "metadata": {
    "scrolled": true
   },
   "outputs": [],
   "source": [
    "y_pred = clf.predict(X_test)\n",
    "\n",
    "accuracy = metrics.accuracy_score(y_test, y_pred)\n",
    "print(\"Accuracy:\", accuracy)"
   ]
  },
  {
   "cell_type": "markdown",
   "id": "fbd4e70d",
   "metadata": {},
   "source": [
    "The tree is more simple, and it is as accurate as before. It has limits ..."
   ]
  },
  {
   "cell_type": "code",
   "execution_count": null,
   "id": "258223c0",
   "metadata": {
    "scrolled": true
   },
   "outputs": [],
   "source": [
    "clf = DecisionTreeClassifier(max_depth=1)\n",
    "\n",
    "clf = clf.fit(X_train, y_train)\n",
    "\n",
    "tree_rules = export_text(clf, feature_names=iris.feature_names)\n",
    "print(tree_rules)"
   ]
  },
  {
   "cell_type": "code",
   "execution_count": null,
   "id": "09073210",
   "metadata": {
    "scrolled": true
   },
   "outputs": [],
   "source": [
    "y_pred = clf.predict(X_test)\n",
    "\n",
    "accuracy = metrics.accuracy_score(y_test, y_pred)\n",
    "print(\"Accuracy:\", accuracy)"
   ]
  },
  {
   "cell_type": "code",
   "execution_count": null,
   "id": "f1b8293d",
   "metadata": {},
   "outputs": [],
   "source": [
    "y_pred = clf.predict(X_train)\n",
    "accuracy = metrics.accuracy_score(y_train, y_pred)\n",
    "print(\"Accuracy on Training:\", accuracy)"
   ]
  },
  {
   "cell_type": "markdown",
   "id": "32338636",
   "metadata": {},
   "source": [
    "Now, we have a clear example of **underfitting**"
   ]
  }
 ],
 "metadata": {
  "kernelspec": {
   "display_name": "Python [conda env:python_lectures]",
   "language": "python",
   "name": "conda-env-python_lectures-py"
  },
  "language_info": {
   "codemirror_mode": {
    "name": "ipython",
    "version": 3
   },
   "file_extension": ".py",
   "mimetype": "text/x-python",
   "name": "python",
   "nbconvert_exporter": "python",
   "pygments_lexer": "ipython3",
   "version": "3.8.16"
  }
 },
 "nbformat": 4,
 "nbformat_minor": 5
}
