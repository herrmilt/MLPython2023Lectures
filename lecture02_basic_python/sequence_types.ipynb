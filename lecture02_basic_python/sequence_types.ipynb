{
 "cells": [
  {
   "cell_type": "markdown",
   "id": "324bb2f2",
   "metadata": {},
   "source": [
    "# Sequence types\n",
    "\n",
    "<a id='seq_sequence_types'></a>"
   ]
  },
  {
   "cell_type": "markdown",
   "id": "92566a65",
   "metadata": {},
   "source": [
    "In Python, sequence types are data types that represent a sequence or an ordered collection of elements. The three primary built-in sequence types in Python are tuples, strings, and lists\n",
    "- All sequences are zero-based"
   ]
  },
  {
   "cell_type": "markdown",
   "id": "bd04dd18",
   "metadata": {},
   "source": [
    "## Tuples\n",
    "A tuple is an ordered and immutable heterogeneous sequence. Tuples can be initialized with comma-separated values, and the use of parentheses can enhance legibility."
   ]
  },
  {
   "cell_type": "code",
   "execution_count": null,
   "id": "b0fe4c18",
   "metadata": {},
   "outputs": [],
   "source": [
    "my_tuple = (1, 'Hello', 3.14, True)\n",
    "my_tuple"
   ]
  },
  {
   "cell_type": "code",
   "execution_count": null,
   "id": "d656ca0f",
   "metadata": {},
   "outputs": [],
   "source": [
    "other_tuple = False, 4, \"things\"\n",
    "other_tuple"
   ]
  },
  {
   "cell_type": "markdown",
   "id": "690ab2a5",
   "metadata": {},
   "source": [
    "Once created, tuples cannot be chanded (inmutability)"
   ]
  },
  {
   "cell_type": "code",
   "execution_count": null,
   "id": "9bcbbb8b",
   "metadata": {},
   "outputs": [],
   "source": [
    "my_tuple[2] = 12"
   ]
  },
  {
   "cell_type": "markdown",
   "id": "a0b106d9",
   "metadata": {},
   "source": [
    "## Strings\n",
    "Strings are immutable sequences of characters.\n",
    "- Strings are defined using single quotes (') or double quotes (\") around the text. \n",
    "- Characters can be accessed using index numbers\n",
    "- Various string operations and methods are available."
   ]
  },
  {
   "cell_type": "code",
   "execution_count": null,
   "id": "0509533b",
   "metadata": {},
   "outputs": [],
   "source": [
    "my_string = \"Hello, World!\"\n",
    "my_string"
   ]
  },
  {
   "cell_type": "markdown",
   "id": "13f6fd62",
   "metadata": {},
   "source": [
    "String are also inmutable, so once created you cannot change it."
   ]
  },
  {
   "cell_type": "code",
   "execution_count": null,
   "id": "a2b3942b",
   "metadata": {},
   "outputs": [],
   "source": [
    "my_string[2] = 'a'"
   ]
  },
  {
   "cell_type": "markdown",
   "id": "41d9a101",
   "metadata": {},
   "source": [
    "## Lists\n",
    "\n",
    "Lists are mutable sequences of heterogeneous values.\n",
    "- Elements can be modified after creation.\n",
    "- Lists are defined using square brackets [] and can contain elements of different data types.\n",
    "- Elements in a list are ordered and can be accessed using index.\n",
    "- Lists support various operations, such as appending, removing, or modifying elements."
   ]
  },
  {
   "cell_type": "code",
   "execution_count": null,
   "id": "6e014d91",
   "metadata": {},
   "outputs": [],
   "source": [
    "my_list = [1, 'Hello', 3.14, True]\n",
    "my_list"
   ]
  },
  {
   "cell_type": "markdown",
   "id": "4afe7515",
   "metadata": {},
   "source": [
    "Lists are mutable"
   ]
  },
  {
   "cell_type": "code",
   "execution_count": null,
   "id": "fb03a446",
   "metadata": {},
   "outputs": [],
   "source": [
    "my_list[2] = \"Buddy\"\n",
    "my_list"
   ]
  },
  {
   "cell_type": "markdown",
   "id": "13eef1c7",
   "metadata": {},
   "source": [
    "#### Common operations on sequences\n",
    "\n",
    "Accessing elements using brackets ([]) with 0-based indexing"
   ]
  },
  {
   "cell_type": "code",
   "execution_count": null,
   "id": "7f8564cd",
   "metadata": {},
   "outputs": [],
   "source": [
    "t = (15, 'Hello', 3.14, True)\n",
    "s = \"Hello worlds!\"\n",
    "l = [1, False, 'Ouch']\n",
    "\n",
    "print(t[0])\n",
    "print(s[2])\n",
    "print(l[1])"
   ]
  },
  {
   "cell_type": "markdown",
   "id": "4c2370c2",
   "metadata": {},
   "source": [
    "Query the sequence length using _len_"
   ]
  },
  {
   "cell_type": "code",
   "execution_count": null,
   "id": "9aea5990",
   "metadata": {},
   "outputs": [],
   "source": [
    "print(len(t))\n",
    "print(len(s))\n",
    "print(len(l))"
   ]
  },
  {
   "cell_type": "markdown",
   "id": "4b32d13e",
   "metadata": {},
   "source": [
    "You can mix sequences at any number of levels"
   ]
  },
  {
   "cell_type": "code",
   "execution_count": null,
   "id": "5dcb8d42",
   "metadata": {},
   "outputs": [],
   "source": [
    "mix = [2, (True, 4, 'cat', 3.245), 'Hello']\n",
    "print(type(mix))\n",
    "print(len(mix))"
   ]
  },
  {
   "cell_type": "code",
   "execution_count": null,
   "id": "95b51a47",
   "metadata": {},
   "outputs": [],
   "source": [
    "print(mix[1])\n",
    "print(type(mix[1]))\n",
    "print(len(mix[1]))"
   ]
  },
  {
   "cell_type": "code",
   "execution_count": null,
   "id": "aa18f972",
   "metadata": {},
   "outputs": [],
   "source": [
    "print(mix[1][2])\n",
    "print(type(mix[1][2]))"
   ]
  },
  {
   "cell_type": "markdown",
   "id": "b1dadc0a",
   "metadata": {},
   "source": [
    "Negative indices are used to access elements from the sequence in reverse order, starting from the end:\n",
    "- The index -1 corresponds to the last element, -2 corresponds to the second-to-last element, and so on.\n",
    "- Negative indices are particularly useful when you want to access elements from the end of a sequence without knowing its length."
   ]
  },
  {
   "cell_type": "code",
   "execution_count": null,
   "id": "6c6dc276",
   "metadata": {},
   "outputs": [],
   "source": [
    "l = [1, 2, 3, 4, 5, 6, 7, 8]\n",
    "\n",
    "print(l[-1])\n",
    "\n",
    "print(l[-2])\n",
    "\n",
    "print(l[-3])"
   ]
  },
  {
   "cell_type": "markdown",
   "id": "24f9367c",
   "metadata": {},
   "source": [
    "Sequence slicing in Python allows you to extract a portion or a subsequence from a sequence, such as a list, tuple, or string. Slicing is performed using the square bracket notation with a start index, stop index, and an optional step value.\n",
    "\n",
    "Basic Syntax:\n",
    "- The syntax for slicing is sequence[start:stop:step].\n",
    "- The start index is inclusive (included in the slice), and the stop index is exclusive (not included in the slice).\n",
    "- The step value specifies the increment between indices. It is optional and defaults to 1 if not provided."
   ]
  },
  {
   "cell_type": "code",
   "execution_count": null,
   "id": "c0ad4f88",
   "metadata": {},
   "outputs": [],
   "source": [
    "animals = [\"lion\", \"elephant\", \"tiger\", \"giraffe\", \"zebra\", \"monkey\", \"panda\", \"koala\"]\n",
    "print(animals[2:4])"
   ]
  },
  {
   "cell_type": "markdown",
   "id": "97978602",
   "metadata": {},
   "source": [
    "If start index is missing, slice is taken from the beginning"
   ]
  },
  {
   "cell_type": "code",
   "execution_count": null,
   "id": "cb794729",
   "metadata": {},
   "outputs": [],
   "source": [
    "print(animals[:4])"
   ]
  },
  {
   "cell_type": "markdown",
   "id": "09e16b32",
   "metadata": {},
   "source": [
    "If the stop index is missing, slice took to the last element"
   ]
  },
  {
   "cell_type": "code",
   "execution_count": null,
   "id": "061dc54a",
   "metadata": {},
   "outputs": [],
   "source": [
    "print(animals[3:])"
   ]
  },
  {
   "cell_type": "markdown",
   "id": "57ce2681",
   "metadata": {},
   "source": [
    "If start and stop indexes are empty, a copy of the list is created"
   ]
  },
  {
   "cell_type": "code",
   "execution_count": null,
   "id": "de6796e9",
   "metadata": {},
   "outputs": [],
   "source": [
    "animal_copy = animals[:]\n",
    "animal_copy"
   ]
  },
  {
   "cell_type": "code",
   "execution_count": null,
   "id": "fd02ec82",
   "metadata": {},
   "outputs": [],
   "source": [
    "print(animals == animal_copy)\n",
    "\n",
    "print(animals is animal_copy)"
   ]
  },
  {
   "cell_type": "markdown",
   "id": "ebff23a1",
   "metadata": {},
   "source": [
    "Negative indexes can be used in slices"
   ]
  },
  {
   "cell_type": "code",
   "execution_count": null,
   "id": "7ea5432e",
   "metadata": {},
   "outputs": [],
   "source": [
    "animals"
   ]
  },
  {
   "cell_type": "code",
   "execution_count": null,
   "id": "a302f34a",
   "metadata": {},
   "outputs": [],
   "source": [
    "animals[2:-2]"
   ]
  },
  {
   "cell_type": "markdown",
   "id": "fcd20881",
   "metadata": {},
   "source": [
    "The step value specifies the increment between indices."
   ]
  },
  {
   "cell_type": "code",
   "execution_count": null,
   "id": "9c98a727",
   "metadata": {},
   "outputs": [],
   "source": [
    "animals"
   ]
  },
  {
   "cell_type": "code",
   "execution_count": null,
   "id": "975613a7",
   "metadata": {
    "scrolled": true
   },
   "outputs": [],
   "source": [
    "animals[::3]"
   ]
  },
  {
   "cell_type": "code",
   "execution_count": null,
   "id": "26845722",
   "metadata": {},
   "outputs": [],
   "source": [
    "animals[1::2]"
   ]
  },
  {
   "cell_type": "markdown",
   "id": "52cfa9c7",
   "metadata": {},
   "source": [
    "If the step is negative, elements are reversed"
   ]
  },
  {
   "cell_type": "code",
   "execution_count": null,
   "id": "a835196f",
   "metadata": {},
   "outputs": [],
   "source": [
    "animals[::-1]"
   ]
  },
  {
   "cell_type": "code",
   "execution_count": null,
   "id": "c5cfe1ad",
   "metadata": {},
   "outputs": [],
   "source": [
    "animals[-2::-2]"
   ]
  },
  {
   "cell_type": "markdown",
   "id": "585428f0",
   "metadata": {},
   "source": [
    "Operator **in** query if an element belong to a sequence"
   ]
  },
  {
   "cell_type": "code",
   "execution_count": null,
   "id": "aae9781b",
   "metadata": {},
   "outputs": [],
   "source": [
    "2 in (1, 2, 3, 4)"
   ]
  },
  {
   "cell_type": "code",
   "execution_count": null,
   "id": "acf39ff0",
   "metadata": {},
   "outputs": [],
   "source": [
    "3.14 in [1, 2, 3, 4]"
   ]
  },
  {
   "cell_type": "markdown",
   "id": "1ec8360e",
   "metadata": {},
   "source": [
    "In the case of strings, substrings are searched"
   ]
  },
  {
   "cell_type": "code",
   "execution_count": null,
   "id": "9258fa10",
   "metadata": {},
   "outputs": [],
   "source": [
    "\"world\" in \"Hello world!\""
   ]
  },
  {
   "cell_type": "code",
   "execution_count": null,
   "id": "f0b8dc8e",
   "metadata": {},
   "outputs": [],
   "source": [
    "\"hello\" in \"Hello world!\""
   ]
  },
  {
   "cell_type": "markdown",
   "id": "c5e64392",
   "metadata": {},
   "source": [
    "More complex cases can be used"
   ]
  },
  {
   "cell_type": "code",
   "execution_count": null,
   "id": "5b5df065",
   "metadata": {},
   "outputs": [],
   "source": [
    "(4, 5) in [2, 3, (4, 5), (6, (7, 8))]"
   ]
  },
  {
   "cell_type": "code",
   "execution_count": null,
   "id": "e7de796a",
   "metadata": {},
   "outputs": [],
   "source": [
    "7 in [2, 3, (4, 5), (6, (7, 8))]"
   ]
  },
  {
   "cell_type": "markdown",
   "id": "5c7bb377",
   "metadata": {},
   "source": [
    "The **+** operator is used for concatenation or combining sequences together. It is used to concatenate two or more sequences, creating a new sequence that contains the elements of both operands in the order they appear. "
   ]
  },
  {
   "cell_type": "code",
   "execution_count": null,
   "id": "f473eb0d",
   "metadata": {},
   "outputs": [],
   "source": [
    "[1, 2, 3] + [4, 5, 6]"
   ]
  },
  {
   "cell_type": "code",
   "execution_count": null,
   "id": "dd61283c",
   "metadata": {},
   "outputs": [],
   "source": [
    "('a', 'b') + ('c', 'd')"
   ]
  },
  {
   "cell_type": "code",
   "execution_count": null,
   "id": "9399f505",
   "metadata": {},
   "outputs": [],
   "source": [
    "\"Hello \"+\"world!\""
   ]
  },
  {
   "cell_type": "markdown",
   "id": "2d690b2a",
   "metadata": {},
   "source": [
    "Only sequences of the same type can be concatenated"
   ]
  },
  {
   "cell_type": "code",
   "execution_count": null,
   "id": "a3aa6294",
   "metadata": {
    "scrolled": true
   },
   "outputs": [],
   "source": [
    "[1,2]+(3,4)"
   ]
  },
  {
   "cell_type": "markdown",
   "id": "1129318b",
   "metadata": {},
   "source": [
    "Method _index_ returns the position of an element"
   ]
  },
  {
   "cell_type": "code",
   "execution_count": null,
   "id": "42f1e7f4",
   "metadata": {},
   "outputs": [],
   "source": [
    "(3, 5, 6, 4).index(5)"
   ]
  },
  {
   "cell_type": "markdown",
   "id": "c0b3ad52",
   "metadata": {},
   "source": [
    "Lists have aditional operators"
   ]
  },
  {
   "cell_type": "code",
   "execution_count": null,
   "id": "478e5c63",
   "metadata": {},
   "outputs": [],
   "source": [
    "l = ['a', 'b', 'c']\n",
    "l.append('d')\n",
    "l"
   ]
  },
  {
   "cell_type": "code",
   "execution_count": null,
   "id": "4a67fc10",
   "metadata": {},
   "outputs": [],
   "source": [
    "l.insert(1, 'qq')\n",
    "l"
   ]
  },
  {
   "cell_type": "code",
   "execution_count": null,
   "id": "eac21cac",
   "metadata": {},
   "outputs": [],
   "source": [
    "l.extend([3, 4, 5])\n",
    "l"
   ]
  },
  {
   "cell_type": "code",
   "execution_count": null,
   "id": "f0746fc8",
   "metadata": {},
   "outputs": [],
   "source": [
    "# Be carefull!\n",
    "l = ['a', 'b', 'c']\n",
    "l.append([3, 4, 5])\n",
    "l"
   ]
  },
  {
   "cell_type": "code",
   "execution_count": null,
   "id": "46c10e38",
   "metadata": {},
   "outputs": [],
   "source": [
    "l = [1, 2, 3, 4, 4, 2, 1, 3, 1, 2]\n",
    "l.count(2)"
   ]
  },
  {
   "cell_type": "code",
   "execution_count": null,
   "id": "e024b146",
   "metadata": {},
   "outputs": [],
   "source": [
    "l.remove(4)\n",
    "l"
   ]
  },
  {
   "cell_type": "code",
   "execution_count": null,
   "id": "980d7208",
   "metadata": {},
   "outputs": [],
   "source": [
    "l = [1, 2, 3, 4, 5, 6]\n",
    "l.reverse()\n",
    "l"
   ]
  },
  {
   "cell_type": "code",
   "execution_count": null,
   "id": "b4247768",
   "metadata": {},
   "outputs": [],
   "source": [
    "l = [3, 6, 9, 2, 4, 5]\n",
    "l.sort()\n",
    "l"
   ]
  },
  {
   "cell_type": "markdown",
   "id": "c049ef00",
   "metadata": {},
   "source": [
    "### Some comments on tuples"
   ]
  },
  {
   "cell_type": "markdown",
   "id": "987cb006",
   "metadata": {},
   "source": [
    "The comma is the tuple initialization operator, while parentheses are typically used to clarify the notation, although they are not strictly required."
   ]
  },
  {
   "cell_type": "code",
   "execution_count": null,
   "id": "1c9ea960",
   "metadata": {},
   "outputs": [],
   "source": [
    "a = 2, 3\n",
    "type(a)"
   ]
  },
  {
   "cell_type": "markdown",
   "id": "2b134c2e",
   "metadata": {},
   "source": [
    "Parentheses without commas are primarily used for indicating precedence in expressions, allowing you to control the order of operations."
   ]
  },
  {
   "cell_type": "code",
   "execution_count": null,
   "id": "8056c8c1",
   "metadata": {},
   "outputs": [],
   "source": [
    "b = (2)\n",
    "type(b)"
   ]
  },
  {
   "cell_type": "markdown",
   "id": "6283fbf3",
   "metadata": {},
   "source": [
    "To initialize a tuple with a single element, you need to use the comma"
   ]
  },
  {
   "cell_type": "code",
   "execution_count": null,
   "id": "b5391dbe",
   "metadata": {},
   "outputs": [],
   "source": [
    "b = (2, )\n",
    "print(type(b))\n",
    "print(len(b))"
   ]
  },
  {
   "cell_type": "markdown",
   "id": "fd737d15",
   "metadata": {},
   "source": [
    "To define an empty tuple, you can use empty parentheses ()"
   ]
  },
  {
   "cell_type": "code",
   "execution_count": null,
   "id": "cb19495c",
   "metadata": {},
   "outputs": [],
   "source": [
    "c = ()\n",
    "print(type(c))\n",
    "print(len(c))"
   ]
  },
  {
   "cell_type": "markdown",
   "id": "4cf1fba3",
   "metadata": {},
   "source": [
    "Differences between tuples and lists:\n",
    "- Mutability: Tuples are immutable. Lists, on the other hand, are mutable. \n",
    "- Usage:\n",
    "    - Tuples are typically used for grouping related data together when the order of elements is important. For example, coordinates (x, y) or a person's information (name, age, gender).\n",
    "    - Lists are commonly used when you need a collection of elements that can be modified or extended. They are suitable for scenarios where you may add or remove elements dynamically.\n",
    "- Performance:\n",
    "    - Tuples are generally more memory-efficient and faster to create than lists. Since tuples are immutable, Python can optimize their storage and operations.\n",
    "    - Lists, being mutable, require more memory and may involve additional overhead when elements are added, removed, or modified.\n",
    "- Use Cases:\n",
    "    - Tuples are often used in situations where data integrity is important, and you want to ensure that the values remain unchanged. They are suitable for representing fixed collections of related items.\n",
    "    - Lists are commonly used when you need to store and manipulate a collection of data that can change over time. They provide flexibility for adding, removing, or modifying elements."
   ]
  },
  {
   "cell_type": "markdown",
   "id": "d5f57728",
   "metadata": {},
   "source": [
    "### Destructuring in Python\n",
    "\n",
    "Destructuring, also known as unpacking, is a feature in Python that allows you to extract individual elements from sequences and assign them to variables in a single statement. It provides a convenient way to access and work with the elements of a collection"
   ]
  },
  {
   "cell_type": "code",
   "execution_count": null,
   "id": "0d73a9cd",
   "metadata": {},
   "outputs": [],
   "source": [
    "x, y = (2, 3)  \n",
    "print(x)\n",
    "print(y)"
   ]
  },
  {
   "cell_type": "markdown",
   "id": "cb960378",
   "metadata": {},
   "source": [
    "If there are not enough elements to destructure, an exception will be raised"
   ]
  },
  {
   "cell_type": "code",
   "execution_count": null,
   "id": "0407c692",
   "metadata": {},
   "outputs": [],
   "source": [
    "x,y,z = [3, 4]"
   ]
  },
  {
   "cell_type": "markdown",
   "id": "df2df996",
   "metadata": {},
   "source": [
    "Values can be ignored using underscores: _"
   ]
  },
  {
   "cell_type": "code",
   "execution_count": null,
   "id": "389ad38c",
   "metadata": {},
   "outputs": [],
   "source": [
    "x, _, z = 3, 5, 6\n",
    "print(x, z)"
   ]
  },
  {
   "cell_type": "markdown",
   "id": "49aef38d",
   "metadata": {},
   "source": [
    "To capture collections of values, you can use the * operator"
   ]
  },
  {
   "cell_type": "code",
   "execution_count": null,
   "id": "f223cd67",
   "metadata": {},
   "outputs": [],
   "source": [
    "head, *tail = [1, 2, 3, 4, 5]\n",
    "print(head)\n",
    "print(tail)"
   ]
  },
  {
   "cell_type": "code",
   "execution_count": null,
   "id": "b8dde2ba",
   "metadata": {},
   "outputs": [],
   "source": [
    "*head, tail = [1, 2, 3, 4, 5]\n",
    "print(head)\n",
    "print(tail)"
   ]
  },
  {
   "cell_type": "code",
   "execution_count": null,
   "id": "9f361374",
   "metadata": {},
   "outputs": [],
   "source": [
    "head, *middle, tail = [1, 2, 3, 4, 5]\n",
    "print(head)\n",
    "print(middle)\n",
    "print(tail)"
   ]
  },
  {
   "cell_type": "code",
   "execution_count": null,
   "id": "31e9b34c",
   "metadata": {},
   "outputs": [],
   "source": [
    "# Any combination is possible, but no more than a single * can appear\n",
    "x, _, *z, h = [1, 2, 3, 4, 5, 6]\n",
    "print(x)\n",
    "print(z)\n",
    "print(h)"
   ]
  },
  {
   "cell_type": "code",
   "execution_count": null,
   "id": "327a6b77",
   "metadata": {},
   "outputs": [],
   "source": [
    "# The variable with * can be assigned to the empty list\n",
    "x, *y, z = [3, 5]\n",
    "print(x)\n",
    "print(y)\n",
    "print(z)"
   ]
  },
  {
   "cell_type": "markdown",
   "id": "fab46012",
   "metadata": {},
   "source": [
    "## Solved Exercises"
   ]
  },
  {
   "cell_type": "markdown",
   "id": "eb26b056",
   "metadata": {},
   "source": [
    "**Exercise**. Create a list of tuples, where each tuple contains the data of a person: name, age, gender. Initialize the list with data of 3 people."
   ]
  },
  {
   "cell_type": "code",
   "execution_count": null,
   "id": "5fac681c",
   "metadata": {},
   "outputs": [],
   "source": [
    "persons = [(\"Peter\", 12, \"M\"), \n",
    "           (\"Jane\", 23, \"F\"), \n",
    "           (\"Joseph\", 16, \"M\")]\n",
    "persons\n"
   ]
  },
  {
   "cell_type": "markdown",
   "id": "1205ca46",
   "metadata": {},
   "source": [
    "a) Print the data of the last person"
   ]
  },
  {
   "cell_type": "code",
   "execution_count": null,
   "id": "d0c8e234",
   "metadata": {},
   "outputs": [],
   "source": [
    "persons[-1]"
   ]
  },
  {
   "cell_type": "markdown",
   "id": "51a4f8d6",
   "metadata": {},
   "source": [
    "b) Print the name of the second person"
   ]
  },
  {
   "cell_type": "code",
   "execution_count": null,
   "id": "d9ac2798",
   "metadata": {
    "scrolled": true
   },
   "outputs": [],
   "source": [
    "print(persons[1][0])"
   ]
  },
  {
   "cell_type": "markdown",
   "id": "da2f6b6d",
   "metadata": {},
   "source": [
    "c) Print the data of a person given their name (input from the keyboard)"
   ]
  },
  {
   "cell_type": "code",
   "execution_count": null,
   "id": "833cd563",
   "metadata": {},
   "outputs": [],
   "source": [
    "name = input(\"Name: \")\n",
    "for idx in range(len(persons)):\n",
    "    if persons[idx][0] == name:\n",
    "        print(persons[idx])\n"
   ]
  },
  {
   "cell_type": "markdown",
   "id": "95a23f41",
   "metadata": {},
   "source": [
    "**Exercise**. From the following list:"
   ]
  },
  {
   "cell_type": "code",
   "execution_count": null,
   "id": "894fe08e",
   "metadata": {},
   "outputs": [],
   "source": [
    "l = [3, 5, 6, 2, 4, 6, 7, 9, 12, 2, 3, 5]"
   ]
  },
  {
   "cell_type": "markdown",
   "id": "bd50f1a2",
   "metadata": {},
   "source": [
    "a) Print the odd numbers:"
   ]
  },
  {
   "cell_type": "code",
   "execution_count": null,
   "id": "94f50069",
   "metadata": {},
   "outputs": [],
   "source": [
    "l = [3, 5, 6, 2, 4, 6, 7, 9, 12, 2, 3, 5]\n",
    "for v in l:\n",
    "    if v % 2 == 0:\n",
    "        print(v)"
   ]
  },
  {
   "cell_type": "markdown",
   "id": "14cb6cbd",
   "metadata": {},
   "source": [
    "b) Count odd numbers"
   ]
  },
  {
   "cell_type": "code",
   "execution_count": null,
   "id": "f6a2f861",
   "metadata": {},
   "outputs": [],
   "source": [
    "c = 0\n",
    "for v in l:\n",
    "    if v%2 == 1:\n",
    "        c += 1\n",
    "print(c)"
   ]
  },
  {
   "cell_type": "markdown",
   "id": "5317fad6",
   "metadata": {},
   "source": [
    "c) Add all the numbers"
   ]
  },
  {
   "cell_type": "code",
   "execution_count": null,
   "id": "3ecd9bbd",
   "metadata": {},
   "outputs": [],
   "source": [
    "s = 0\n",
    "for v in l:\n",
    "    s += v\n",
    "print(s)"
   ]
  },
  {
   "cell_type": "markdown",
   "id": "4ac91d78",
   "metadata": {},
   "source": [
    "**Exercise**. From the following list:"
   ]
  },
  {
   "cell_type": "code",
   "execution_count": null,
   "id": "55fa429d",
   "metadata": {},
   "outputs": [],
   "source": [
    "m = [2, 3, -5, 3, 4, -2, -7, 4, 7]"
   ]
  },
  {
   "cell_type": "markdown",
   "id": "eea92ac9",
   "metadata": {},
   "source": [
    "a) Determine if the sum (of absolute values) of positive numbers is greater than negative numbers. Use two variables to store the sums."
   ]
  },
  {
   "cell_type": "code",
   "execution_count": null,
   "id": "b11182fa",
   "metadata": {},
   "outputs": [],
   "source": [
    "sum_pos, sum_neg = 0, 0\n",
    "for v in m:\n",
    "    if v > 0:\n",
    "        sum_pos += v\n",
    "    else:\n",
    "        sum_neg += abs(v)\n",
    "print(sum_pos > sum_neg)\n"
   ]
  },
  {
   "cell_type": "markdown",
   "id": "8e1f65b7",
   "metadata": {},
   "source": [
    "b) Create a new list with positive numbers"
   ]
  },
  {
   "cell_type": "code",
   "execution_count": null,
   "id": "5851c52a",
   "metadata": {},
   "outputs": [],
   "source": [
    "l_pos = []\n",
    "for v in m:\n",
    "    if v > 0:\n",
    "        l_pos.append(v)\n",
    "print(l_pos)"
   ]
  },
  {
   "cell_type": "markdown",
   "id": "ae268ed4",
   "metadata": {},
   "source": [
    "**Exercise**. Given the following list"
   ]
  },
  {
   "cell_type": "code",
   "execution_count": null,
   "id": "9bc785b2",
   "metadata": {},
   "outputs": [],
   "source": [
    "n = [3, 5, -9, 7, 5, 7, 8, -10, -1, 9, -6, -5, 0, 1, -6, -7, -8, -6, 9, -4]"
   ]
  },
  {
   "cell_type": "markdown",
   "id": "4ff50d55",
   "metadata": {},
   "source": [
    "a) Extract a list with the first 5 values"
   ]
  },
  {
   "cell_type": "code",
   "execution_count": null,
   "id": "ac4de230",
   "metadata": {},
   "outputs": [],
   "source": [
    "print(n[:5])"
   ]
  },
  {
   "cell_type": "markdown",
   "id": "fa6ab521",
   "metadata": {},
   "source": [
    "b) Extract a list with the last 5 values"
   ]
  },
  {
   "cell_type": "code",
   "execution_count": null,
   "id": "d0dc0b2f",
   "metadata": {},
   "outputs": [],
   "source": [
    "print(n[-5:])"
   ]
  },
  {
   "cell_type": "markdown",
   "id": "20127a96",
   "metadata": {},
   "source": [
    "c) Extract a list with 5 intermediate values"
   ]
  },
  {
   "cell_type": "code",
   "execution_count": null,
   "id": "717e0fce",
   "metadata": {},
   "outputs": [],
   "source": [
    "print(n[len(n)//2-2:len(n)//2+3])"
   ]
  },
  {
   "cell_type": "markdown",
   "id": "b8025fca",
   "metadata": {},
   "source": [
    "d) Extract a list with the values at even positions"
   ]
  },
  {
   "cell_type": "code",
   "execution_count": null,
   "id": "0f0942e9",
   "metadata": {},
   "outputs": [],
   "source": [
    "print(n[::2])"
   ]
  },
  {
   "cell_type": "markdown",
   "id": "5680187a",
   "metadata": {},
   "source": [
    "e) Calculate the difference between the first half and second half of the values"
   ]
  },
  {
   "cell_type": "code",
   "execution_count": null,
   "id": "eb7d9cb6",
   "metadata": {},
   "outputs": [],
   "source": [
    "print(sum(n[:len(n)//2]) - sum(n[len(n)//2:]))"
   ]
  },
  {
   "cell_type": "markdown",
   "id": "f85af657",
   "metadata": {},
   "source": [
    "**Exercise**. Given the following list with integer values"
   ]
  },
  {
   "cell_type": "code",
   "execution_count": null,
   "id": "c0110bbc",
   "metadata": {},
   "outputs": [],
   "source": [
    "l = [19, 5, 6, 16, 1, 2, 6, 7, 2, 4]"
   ]
  },
  {
   "cell_type": "markdown",
   "id": "f178e6c9",
   "metadata": {},
   "source": [
    "a) Create a new list with dupplicated values"
   ]
  },
  {
   "cell_type": "code",
   "execution_count": null,
   "id": "47bd77d6",
   "metadata": {},
   "outputs": [],
   "source": [
    "l2 = []\n",
    "for idx in range(len(l)):\n",
    "    v = l[idx]\n",
    "    if v in l2:\n",
    "        print(v)\n",
    "    else:\n",
    "        l2.append(v)    "
   ]
  },
  {
   "cell_type": "markdown",
   "id": "ce325cae",
   "metadata": {},
   "source": [
    "b) Create a new list with the values between 0 and 20 that does not appear in the list."
   ]
  },
  {
   "cell_type": "code",
   "execution_count": null,
   "id": "2f8dd565",
   "metadata": {},
   "outputs": [],
   "source": [
    "l2 = []\n",
    "for idx in range(21):\n",
    "    if idx not in l:\n",
    "        l2.append(idx)\n",
    "print(l2)"
   ]
  },
  {
   "cell_type": "markdown",
   "id": "f1668c11",
   "metadata": {},
   "source": [
    "**Exercise**. Given the following string"
   ]
  },
  {
   "cell_type": "code",
   "execution_count": null,
   "id": "a2ab4aed",
   "metadata": {},
   "outputs": [],
   "source": [
    "cad = \"Once upon a midnight dreary, while I pondered, weak and weary\""
   ]
  },
  {
   "cell_type": "markdown",
   "id": "d2dfc00b",
   "metadata": {},
   "source": [
    "a) Extract the first word"
   ]
  },
  {
   "cell_type": "code",
   "execution_count": null,
   "id": "3277a807",
   "metadata": {},
   "outputs": [],
   "source": [
    "cad[:cad.index(' ')]"
   ]
  },
  {
   "cell_type": "markdown",
   "id": "8ece71f4",
   "metadata": {},
   "source": [
    "b) Extract the last word (harder)"
   ]
  },
  {
   "cell_type": "code",
   "execution_count": null,
   "id": "4744aa05",
   "metadata": {},
   "outputs": [],
   "source": [
    "last_pos = len(cad) - cad[::-1].index(' ')\n",
    "cad[last_pos:]"
   ]
  },
  {
   "cell_type": "markdown",
   "id": "9744d062",
   "metadata": {},
   "source": [
    "c) Extract a list with the words"
   ]
  },
  {
   "cell_type": "code",
   "execution_count": null,
   "id": "663361b1",
   "metadata": {},
   "outputs": [],
   "source": [
    "result = []\n",
    "c = \"Once upon a midnight dreary, while I pondered, weak and weary\"\n",
    "while len(c) > 0:\n",
    "    if ' ' in c:\n",
    "        idx = c.index(' ')\n",
    "        if idx == 0:\n",
    "            c = c[1:]\n",
    "        else:\n",
    "            word = c[:idx]\n",
    "            result.append(word)\n",
    "            c = c[idx:]\n",
    "    else:\n",
    "        if c != '':\n",
    "            result.append(c)\n",
    "            c = \"\"\n",
    "print(result)"
   ]
  },
  {
   "cell_type": "markdown",
   "id": "cd769e9e",
   "metadata": {},
   "source": [
    "There is a simpler version if we know the proper method"
   ]
  },
  {
   "cell_type": "code",
   "execution_count": null,
   "id": "4d63e34c",
   "metadata": {},
   "outputs": [],
   "source": [
    "c = \"Once upon a midnight dreary, while I pondered, weak and weary\"\n",
    "print(c.split(\" \"))"
   ]
  },
  {
   "cell_type": "code",
   "execution_count": null,
   "id": "b42f52d0",
   "metadata": {},
   "outputs": [],
   "source": []
  }
 ],
 "metadata": {
  "kernelspec": {
   "display_name": "python_lectures",
   "language": "python",
   "name": "python_lectures"
  },
  "language_info": {
   "codemirror_mode": {
    "name": "ipython",
    "version": 3
   },
   "file_extension": ".py",
   "mimetype": "text/x-python",
   "name": "python",
   "nbconvert_exporter": "python",
   "pygments_lexer": "ipython3",
   "version": "3.8.16"
  }
 },
 "nbformat": 4,
 "nbformat_minor": 5
}
