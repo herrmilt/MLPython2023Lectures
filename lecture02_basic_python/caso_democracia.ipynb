{
 "cells": [
  {
   "cell_type": "markdown",
   "id": "b5d82987",
   "metadata": {},
   "source": [
    "Queremos estimar la calidad del voto mayoritario como herramienta para elevar la calidad de los votos individuales de un conjunto de personas\n",
    "\n",
    "Para ello tomaremos como voto correcto siempre el 1, para simplificar el codigo."
   ]
  },
  {
   "cell_type": "code",
   "execution_count": 5,
   "id": "6e953685",
   "metadata": {},
   "outputs": [
    {
     "data": {
      "text/plain": [
       "[1, 1, 1, 1, 1, 0, 0, 1, 0, 1]"
      ]
     },
     "execution_count": 5,
     "metadata": {},
     "output_type": "execute_result"
    }
   ],
   "source": [
    "import random\n",
    "\n",
    "def voto_1_persona(count, prob_true):\n",
    "    result = []\n",
    "    for _ in range(count):\n",
    "        result.append(1 if random.random() < prob_true else 0)\n",
    "    return result\n",
    "\n",
    "voto_1_persona(10, 0.8)"
   ]
  },
  {
   "cell_type": "code",
   "execution_count": 30,
   "id": "76e0b481",
   "metadata": {},
   "outputs": [
    {
     "data": {
      "text/plain": [
       "0.75"
      ]
     },
     "execution_count": 30,
     "metadata": {},
     "output_type": "execute_result"
    }
   ],
   "source": [
    "def acc_voto(voto):\n",
    "    return sum(voto) / len(voto)\n",
    "\n",
    "acc_voto(voto_1_persona(20, 0.7))"
   ]
  },
  {
   "cell_type": "code",
   "execution_count": 31,
   "id": "d6e089b5",
   "metadata": {},
   "outputs": [],
   "source": [
    "def joint_voto(list_votos):\n",
    "    result = []\n",
    "    for i in range(len(list_votos[0])):\n",
    "        v = 0\n",
    "        for j in range(len(list_votos)):\n",
    "            v += list_votos[j][i]\n",
    "        result.append(1 if v > len(list_votos) // 2 else 0)\n",
    "    return result"
   ]
  },
  {
   "cell_type": "code",
   "execution_count": 32,
   "id": "82266a28",
   "metadata": {
    "scrolled": true
   },
   "outputs": [
    {
     "name": "stdout",
     "output_type": "stream",
     "text": [
      "[1, 1, 0, 0, 1, 0, 0, 0, 1, 0]\n",
      "[0, 0, 1, 1, 1, 1, 1, 0, 0, 0]\n",
      "[0, 0, 1, 0, 0, 0, 1, 1, 0, 1]\n",
      "[1, 1, 0, 0, 0, 1, 0, 1, 0, 1]\n",
      "[1, 0, 1, 1, 0, 0, 0, 0, 1, 0]\n",
      "********************\n",
      "[1, 0, 1, 0, 0, 0, 0, 0, 0, 0]\n"
     ]
    }
   ],
   "source": [
    "votos_5 = []\n",
    "for _ in range(5):\n",
    "    votos_5.append(voto_1_persona(10, 0.4))\n",
    "joint = joint_voto(votos_5)\n",
    "for v in votos_5:\n",
    "    print(v)\n",
    "print(\"*\" * 20)\n",
    "print(joint)"
   ]
  },
  {
   "cell_type": "markdown",
   "id": "6fc7fb56",
   "metadata": {},
   "source": [
    "Supongamos que le preguntamos a un conjunto de n personas sobre k temas, y comparemos la calidad de los votos mayoritarios con los votos individuales de cada uno."
   ]
  },
  {
   "cell_type": "code",
   "execution_count": 39,
   "id": "c56c9625",
   "metadata": {
    "scrolled": true
   },
   "outputs": [
    {
     "name": "stdout",
     "output_type": "stream",
     "text": [
      "Maxima calidad 1.0\n",
      "Minima calidad 0.9\n",
      "Promedio calidad 0.9600000000000002\n"
     ]
    }
   ],
   "source": [
    "n = 10\n",
    "k = 10\n",
    "p = 0.9\n",
    "\n",
    "votos = []\n",
    "for _ in range(n):\n",
    "    votos.append(voto_1_persona(k, p))\n",
    "\n",
    "calidad_individual = []\n",
    "for v in votos:\n",
    "    calidad_individual.append(sum(v) / k)\n",
    "    \n",
    "print(\"Maxima calidad\", max(calidad_individual))\n",
    "print(\"Minima calidad\", min(calidad_individual))\n",
    "print(\"Promedio calidad\", sum(calidad_individual) / n)"
   ]
  },
  {
   "cell_type": "markdown",
   "id": "fdbd965e",
   "metadata": {},
   "source": [
    "Veamos cuan estables son los resultados al repetirlos, y busquemos un buen valor de n"
   ]
  },
  {
   "cell_type": "code",
   "execution_count": 76,
   "id": "c9209fc6",
   "metadata": {
    "scrolled": true
   },
   "outputs": [
    {
     "name": "stdout",
     "output_type": "stream",
     "text": [
      "Maxima calidad 1.0\n",
      "Minima calidad 0.5\n",
      "Promedio calidad 0.8974999999999923\n"
     ]
    }
   ],
   "source": [
    "n = 1000\n",
    "k = 10\n",
    "p = 0.9\n",
    "\n",
    "votos = []\n",
    "for _ in range(n):\n",
    "    votos.append(voto_1_persona(k, p))\n",
    "\n",
    "calidad_individual = []\n",
    "for v in votos:\n",
    "    calidad_individual.append(sum(v) / k)\n",
    "    \n",
    "print(\"Maxima calidad\", max(calidad_individual))\n",
    "print(\"Minima calidad\", min(calidad_individual))\n",
    "print(\"Promedio calidad\", sum(calidad_individual) / n)"
   ]
  },
  {
   "cell_type": "markdown",
   "id": "4c969e3c",
   "metadata": {},
   "source": [
    "Calculemos la calidad del voto mayoritario y comparemos"
   ]
  },
  {
   "cell_type": "code",
   "execution_count": 81,
   "id": "a9d0eb1e",
   "metadata": {
    "scrolled": true
   },
   "outputs": [
    {
     "name": "stdout",
     "output_type": "stream",
     "text": [
      "Maxima calidad 1.0\n",
      "Minima calidad 0.6\n",
      "Promedio calidad 0.8967999999999914\n",
      "Calidad voto mayoritario 1.0\n"
     ]
    }
   ],
   "source": [
    "n = 1000\n",
    "k = 10\n",
    "p = 0.9\n",
    "\n",
    "votos = []\n",
    "for _ in range(n):\n",
    "    votos.append(voto_1_persona(k, p))\n",
    "\n",
    "calidad_individual = []\n",
    "for v in votos:\n",
    "    calidad_individual.append(sum(v) / k)\n",
    "    \n",
    "joint = joint_voto(votos)\n",
    "    \n",
    "print(\"Maxima calidad\", max(calidad_individual))\n",
    "print(\"Minima calidad\", min(calidad_individual))\n",
    "print(\"Promedio calidad\", sum(calidad_individual) / n)\n",
    "print(\"Calidad voto mayoritario\", sum(joint) / k)"
   ]
  },
  {
   "cell_type": "code",
   "execution_count": 80,
   "id": "9e3f997b",
   "metadata": {},
   "outputs": [],
   "source": [
    "# Convirtamos en una función\n",
    "def eval_votes(n, k, p):\n",
    "    votos = []\n",
    "    for _ in range(n):\n",
    "        votos.append(voto_1_persona(k, p))\n",
    "\n",
    "    calidad_individual = []\n",
    "    for v in votos:\n",
    "        calidad_individual.append(sum(v) / k)\n",
    "\n",
    "    joint = joint_voto(votos)\n",
    "\n",
    "    print(\"Maxima calidad\", max(calidad_individual))\n",
    "    print(\"Minima calidad\", min(calidad_individual))\n",
    "    print(\"Promedio calidad\", sum(calidad_individual) / n)\n",
    "    print(\"Calidad voto mayoritario\", sum(joint) / k)"
   ]
  },
  {
   "cell_type": "markdown",
   "id": "edc12a12",
   "metadata": {},
   "source": [
    "y probemos con distintos valores"
   ]
  },
  {
   "cell_type": "code",
   "execution_count": 82,
   "id": "cd2493c2",
   "metadata": {
    "scrolled": true
   },
   "outputs": [
    {
     "name": "stdout",
     "output_type": "stream",
     "text": [
      "Maxima calidad 1.0\n",
      "Minima calidad 0.3\n",
      "Promedio calidad 0.8024999999999962\n",
      "Calidad voto mayoritario 1.0\n"
     ]
    }
   ],
   "source": [
    "eval_votes(1000, 10, 0.8)"
   ]
  },
  {
   "cell_type": "code",
   "execution_count": 83,
   "id": "bffbe26a",
   "metadata": {
    "scrolled": true
   },
   "outputs": [
    {
     "name": "stdout",
     "output_type": "stream",
     "text": [
      "Maxima calidad 1.0\n",
      "Minima calidad 0.2\n",
      "Promedio calidad 0.6972000000000003\n",
      "Calidad voto mayoritario 1.0\n"
     ]
    }
   ],
   "source": [
    "eval_votes(1000, 10, 0.7)"
   ]
  },
  {
   "cell_type": "code",
   "execution_count": 84,
   "id": "14d809d7",
   "metadata": {
    "scrolled": true
   },
   "outputs": [
    {
     "name": "stdout",
     "output_type": "stream",
     "text": [
      "Maxima calidad 1.0\n",
      "Minima calidad 0.1\n",
      "Promedio calidad 0.5949000000000004\n",
      "Calidad voto mayoritario 1.0\n"
     ]
    }
   ],
   "source": [
    "eval_votes(1000, 10, 0.6)"
   ]
  },
  {
   "cell_type": "code",
   "execution_count": 85,
   "id": "ef5963ff",
   "metadata": {
    "scrolled": true
   },
   "outputs": [
    {
     "name": "stdout",
     "output_type": "stream",
     "text": [
      "Maxima calidad 1.0\n",
      "Minima calidad 0.1\n",
      "Promedio calidad 0.5052000000000004\n",
      "Calidad voto mayoritario 0.6\n"
     ]
    }
   ],
   "source": [
    "eval_votes(1000, 10, 0.5)"
   ]
  },
  {
   "cell_type": "code",
   "execution_count": 121,
   "id": "c28396ef",
   "metadata": {
    "scrolled": false
   },
   "outputs": [
    {
     "name": "stdout",
     "output_type": "stream",
     "text": [
      "Maxima calidad 0.9\n",
      "Minima calidad 0.0\n",
      "Promedio calidad 0.39930000000000004\n",
      "Calidad voto mayoritario 0.0\n"
     ]
    }
   ],
   "source": [
    "eval_votes(1000, 10, 0.4)"
   ]
  },
  {
   "cell_type": "code",
   "execution_count": 151,
   "id": "70c56eaf",
   "metadata": {},
   "outputs": [
    {
     "name": "stdout",
     "output_type": "stream",
     "text": [
      "Maxima calidad 0.7\n",
      "Minima calidad 0.0\n",
      "Promedio calidad 0.21059999999999923\n",
      "Calidad voto mayoritario 0.0\n"
     ]
    }
   ],
   "source": [
    "eval_votes(1000, 10, 0.2)"
   ]
  },
  {
   "cell_type": "markdown",
   "id": "e1731950",
   "metadata": {},
   "source": [
    "Conclusiones ...."
   ]
  }
 ],
 "metadata": {
  "kernelspec": {
   "display_name": "Python [conda env:python_lectures]",
   "language": "python",
   "name": "conda-env-python_lectures-py"
  },
  "language_info": {
   "codemirror_mode": {
    "name": "ipython",
    "version": 3
   },
   "file_extension": ".py",
   "mimetype": "text/x-python",
   "name": "python",
   "nbconvert_exporter": "python",
   "pygments_lexer": "ipython3",
   "version": "3.8.16"
  }
 },
 "nbformat": 4,
 "nbformat_minor": 5
}
