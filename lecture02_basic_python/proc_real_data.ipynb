{
 "cells": [
  {
   "cell_type": "markdown",
   "id": "cef5d934",
   "metadata": {},
   "source": [
    "# Processing real data with sequences"
   ]
  },
  {
   "cell_type": "code",
   "execution_count": null,
   "id": "0a3ed60d",
   "metadata": {},
   "outputs": [],
   "source": [
    "import csv"
   ]
  },
  {
   "cell_type": "code",
   "execution_count": null,
   "id": "7b91f35d",
   "metadata": {},
   "outputs": [],
   "source": [
    "with open(\"data/pop_year.csv\") as f:\n",
    "    reader = csv.reader(f)\n",
    "    raw_data = [r for r in reader]"
   ]
  },
  {
   "cell_type": "code",
   "execution_count": null,
   "id": "eed66756",
   "metadata": {
    "scrolled": true
   },
   "outputs": [],
   "source": [
    "raw_data"
   ]
  },
  {
   "cell_type": "code",
   "execution_count": null,
   "id": "6d84a65c",
   "metadata": {},
   "outputs": [],
   "source": [
    "# Get the column names\n",
    "column_names = raw_data[0]"
   ]
  },
  {
   "cell_type": "code",
   "execution_count": null,
   "id": "6558ff4e",
   "metadata": {
    "scrolled": true
   },
   "outputs": [],
   "source": [
    "# Remove the first row, and convert other rows to numbers\n",
    "data = []\n",
    "for row in raw_data[1:]:\n",
    "    data.append([int(row[0]), int(row[1]), int(row[2]), int(row[3])])\n",
    "data"
   ]
  },
  {
   "cell_type": "code",
   "execution_count": null,
   "id": "73a6ea2b",
   "metadata": {},
   "outputs": [],
   "source": [
    "# other solution\n",
    "data = []\n",
    "for row in raw_data[1:]:\n",
    "    n_row = []\n",
    "    for c in row:\n",
    "        n_row.append(int(c))\n",
    "    data.append(n_row)\n",
    "data"
   ]
  },
  {
   "cell_type": "code",
   "execution_count": null,
   "id": "a8f9b157",
   "metadata": {
    "scrolled": true
   },
   "outputs": [],
   "source": [
    "# Extract all columns to different lists\n",
    "all_years = []\n",
    "all_total = []\n",
    "all_male = []\n",
    "all_female = []\n",
    "for d in data:\n",
    "    all_years.append(d[0])\n",
    "    all_total.append(d[1])\n",
    "    all_male.append(d[2])\n",
    "    all_female.append(d[3])\n",
    "print(all_years)"
   ]
  },
  {
   "cell_type": "code",
   "execution_count": null,
   "id": "8811cd6c",
   "metadata": {},
   "outputs": [],
   "source": [
    "# other solution, destructuring ...\n",
    "all_years = []\n",
    "all_total = []\n",
    "all_male = []\n",
    "all_female = []\n",
    "for d in data:\n",
    "    year, total, male, female = d\n",
    "    all_years.append(year)\n",
    "    all_total.append(total)\n",
    "    all_male.append(male)\n",
    "    all_female.append(female)\n",
    "print(all_years)"
   ]
  },
  {
   "cell_type": "code",
   "execution_count": null,
   "id": "4a9093a9",
   "metadata": {},
   "outputs": [],
   "source": [
    "# Verify that total is correctly calculated\n",
    "for idx in range(len(all_years)):\n",
    "    if all_male[idx] + all_female[idx] != all_total[idx]:\n",
    "        print(\"ERROR in line\", idx)\n",
    "        break\n",
    "else:\n",
    "    print(\"No errors\")"
   ]
  },
  {
   "cell_type": "code",
   "execution_count": null,
   "id": "6499dc2b",
   "metadata": {},
   "outputs": [],
   "source": [
    "# Largest total population\n",
    "max_pop = 0\n",
    "for p in all_total:\n",
    "    if p > max_pop:\n",
    "        max_pop = p\n",
    "max_pop"
   ]
  },
  {
   "cell_type": "code",
   "execution_count": null,
   "id": "81573ccd",
   "metadata": {},
   "outputs": [],
   "source": [
    "# other solution\n",
    "max_pop = 0\n",
    "for p in all_total:\n",
    "    max_pop = max(max_pop, p)\n",
    "max_pop"
   ]
  },
  {
   "cell_type": "code",
   "execution_count": null,
   "id": "c9cd7e58",
   "metadata": {},
   "outputs": [],
   "source": [
    "import sys\n",
    "# Smallest male population\n",
    "min_pop = sys.maxsize\n",
    "for p in all_male:\n",
    "    min_pop = min(min_pop, p)\n",
    "min_pop"
   ]
  },
  {
   "cell_type": "code",
   "execution_count": null,
   "id": "cf8b60a0",
   "metadata": {},
   "outputs": [],
   "source": [
    "# Year with largest total population\n",
    "max_pop = 0\n",
    "max_year = None\n",
    "for idx in range(len(all_years)):\n",
    "    if all_total[idx] > max_pop:\n",
    "        max_pop = all_total[idx]\n",
    "        max_year = all_years[idx]\n",
    "max_year"
   ]
  },
  {
   "cell_type": "code",
   "execution_count": null,
   "id": "a1111cbb",
   "metadata": {},
   "outputs": [],
   "source": [
    "# other solution\n",
    "max_idx = 0\n",
    "for idx in range(1, len(all_years)):\n",
    "    if all_total[idx] > all_total[max_idx]:\n",
    "        max_idx = idx\n",
    "all_years[max_idx]"
   ]
  },
  {
   "cell_type": "code",
   "execution_count": null,
   "id": "47afdc4f",
   "metadata": {
    "scrolled": true
   },
   "outputs": [],
   "source": [
    "# Maximum difference between two male populations\n",
    "all_total_dif = []\n",
    "for idx in range(1, len(all_years)):\n",
    "    all_total_dif.append(abs(all_male[idx-1] - all_male[idx]))\n",
    "print(all_total_dif)"
   ]
  },
  {
   "cell_type": "code",
   "execution_count": null,
   "id": "0e093a33",
   "metadata": {},
   "outputs": [],
   "source": [
    "max_total_dif = 0\n",
    "for p in all_total_dif:\n",
    "    max_total_dif = max(max_total_dif, p)\n",
    "max_total_dif"
   ]
  },
  {
   "cell_type": "code",
   "execution_count": null,
   "id": "f4b61f64",
   "metadata": {},
   "outputs": [],
   "source": [
    "# Which are the years of the maximum difference in total population?\n",
    "max_dif = 0\n",
    "max_dif_idx = 0\n",
    "for idx in range(1, len(all_years)):\n",
    "    current_dif = abs(all_total[idx-1] - all_total[idx])\n",
    "    if current_dif > max_dif:\n",
    "        max_dif = current_dif\n",
    "        max_dif_idx = idx\n",
    "max_period = (all_years[max_dif_idx-1], all_years[max_dif_idx])\n",
    "max_period"
   ]
  },
  {
   "cell_type": "code",
   "execution_count": null,
   "id": "f04687ba",
   "metadata": {},
   "outputs": [],
   "source": [
    "# What is the largest difference between the male and female population\n",
    "max_dif = 0\n",
    "max_year = None\n",
    "for idx in range(0, len(all_years)):\n",
    "    current_dif = abs(all_male[idx] - all_female[idx])\n",
    "    if current_dif > max_dif:\n",
    "        max_dif = current_dif\n",
    "        max_year = all_years[idx]\n",
    "max_dif, max_year"
   ]
  }
 ],
 "metadata": {
  "kernelspec": {
   "display_name": "Python [conda env:python_lectures]",
   "language": "python",
   "name": "conda-env-python_lectures-py"
  },
  "language_info": {
   "codemirror_mode": {
    "name": "ipython",
    "version": 3
   },
   "file_extension": ".py",
   "mimetype": "text/x-python",
   "name": "python",
   "nbconvert_exporter": "python",
   "pygments_lexer": "ipython3",
   "version": "3.8.16"
  }
 },
 "nbformat": 4,
 "nbformat_minor": 5
}
