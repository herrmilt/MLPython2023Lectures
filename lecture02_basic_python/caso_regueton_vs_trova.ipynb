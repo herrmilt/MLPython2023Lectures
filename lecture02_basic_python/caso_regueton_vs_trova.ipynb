{
 "cells": [
  {
   "cell_type": "markdown",
   "id": "74043cb4",
   "metadata": {},
   "source": [
    "Se desea obtener un modelo de ML para clasificar canciones entre trova y regueton."
   ]
  },
  {
   "cell_type": "code",
   "execution_count": null,
   "id": "1589c972",
   "metadata": {},
   "outputs": [],
   "source": [
    "lyrics_hacha='''\n",
    "Ropa de marca, una cadena\n",
    "La cartera llena y salió pa' la pista\n",
    "Lleva la puteria en vena\n",
    "Llega y exagera y anda fuera de vista\n",
    "Los que hablen de ella le resbala\n",
    "Esa jeva es bala de la que detona\n",
    "Ella cierra con su mirada\n",
    "Carita de malvada y boquita enfermona\n",
    "Y cuando se emborracha, hacha\n",
    "Que rico lo pacha, hacha\n",
    "Esta pa' darle brocha, ocha\n",
    "Está pa' darle hacha, hacha\n",
    "Y cuando se emborracha\n",
    "Que rico lo pacha\n",
    "Esta pa' darle brocha\n",
    "Está pa' darle hacha\n",
    "Ella está pa' darle brocha\n",
    "Pintarla yo como un pintor\n",
    "Y despues darle leña como un leñador\n",
    "Dandola, viendola y to' el mundo mirandola\n",
    "Y unos dicen a moverse que llegó el avión\n",
    "'''"
   ]
  },
  {
   "cell_type": "code",
   "execution_count": null,
   "id": "494f15f3",
   "metadata": {},
   "outputs": [],
   "source": [
    "# Cuente los caracteres\n",
    "from unidecode import unidecode\n",
    "letter = []\n",
    "cnt = []\n",
    "for l in unidecode(lyrics_hacha).lower():\n",
    "    if l in letter:\n",
    "        idx = letter.index(l)\n",
    "        cnt[idx] += 1\n",
    "    else:\n",
    "        letter.append(l)\n",
    "        cnt.append(1)"
   ]
  },
  {
   "cell_type": "code",
   "execution_count": null,
   "id": "de5ff74e",
   "metadata": {
    "scrolled": true
   },
   "outputs": [],
   "source": [
    "l_cnt = []\n",
    "for i in range(len(letter)):\n",
    "    l_cnt.append((cnt[i], letter[i]))\n",
    "l_cnt[:4]"
   ]
  },
  {
   "cell_type": "code",
   "execution_count": null,
   "id": "4099809d",
   "metadata": {
    "scrolled": true
   },
   "outputs": [],
   "source": [
    "l_cnt.sort(reverse=True)\n",
    "l_cnt[:5]"
   ]
  },
  {
   "cell_type": "code",
   "execution_count": null,
   "id": "337c4db1",
   "metadata": {},
   "outputs": [],
   "source": [
    "# Lets create a function for that\n",
    "def count_chars(lines):\n",
    "    lines = lines.replace(\" \", \"\").replace(\"\\n\", \"\")\n",
    "    letter = []\n",
    "    cnt = []\n",
    "    for l in unidecode(lines).lower():\n",
    "        if l in letter:\n",
    "            idx = letter.index(l)\n",
    "            cnt[idx] += 1\n",
    "        else:\n",
    "            letter.append(l)\n",
    "            cnt.append(1)\n",
    "    l_cnt = []\n",
    "    for i in range(len(letter)):\n",
    "        l_cnt.append((cnt[i], letter[i]))\n",
    "    l_cnt.sort(reverse=True)\n",
    "    return l_cnt"
   ]
  },
  {
   "cell_type": "code",
   "execution_count": null,
   "id": "4ebe468f",
   "metadata": {},
   "outputs": [],
   "source": [
    "cnt_hacha = count_chars(letra_hacha)\n",
    "cnt_hacha[:10]"
   ]
  },
  {
   "cell_type": "code",
   "execution_count": null,
   "id": "04cf7862",
   "metadata": {},
   "outputs": [],
   "source": [
    "letra_angel = '''\n",
    "Cuentan que cuando un silencio\n",
    "Aparecía entre dos\n",
    "Era que pasaba un ángel\n",
    "Que les robaba la voz\n",
    "Y hubo tal silencio el día\n",
    "Que nos tocaba olvidar\n",
    "Que de tal suerte yo todavía\n",
    "No terminé de callar\n",
    "Todo empezó en la sorpresa\n",
    "En un encuentro casual\n",
    "Pero la noche es traviesa\n",
    "Cuando se teje el azar\n",
    "Sin querer se hace una ofrenda\n",
    "Que pacta con el dolor\n",
    "O pasa un ángel\n",
    "Se hace leyenda\n",
    "Y se convierte en amor\n",
    "Ahora comprendo\n",
    "Cual era el ángel\n",
    "Que entre nosotros pasó\n",
    "Era el más terrible, el implacable\n",
    "El más feroz\n",
    "Ahora comprendo en total\n",
    "Este silencio mortal\n",
    "Ángel que pasa\n",
    "Besa y te abraza\n",
    "Ángel para un\n",
    "Final'''"
   ]
  },
  {
   "cell_type": "code",
   "execution_count": null,
   "id": "7fd081f0",
   "metadata": {
    "scrolled": true
   },
   "outputs": [],
   "source": [
    "cnt_angel = count_chars(letra_angel)\n",
    "cnt_angel[:10]"
   ]
  },
  {
   "cell_type": "markdown",
   "id": "3b51e630",
   "metadata": {},
   "source": [
    "Cómo podríamos clasificar automáticamente los géneros usando ML?"
   ]
  },
  {
   "cell_type": "markdown",
   "id": "bb354dbe",
   "metadata": {},
   "source": [
    "Usemos ahora otra representación. Cada letra se representará como un vector de frecuencias de cada caracter"
   ]
  },
  {
   "cell_type": "code",
   "execution_count": null,
   "id": "cc779edb",
   "metadata": {},
   "outputs": [],
   "source": [
    "caracts = list('abcdefghijklmnopqrstuvwxyz')\n",
    "\n",
    "vect_hacha = []\n",
    "for l in caracts:\n",
    "    vect_hacha.append(0)\n",
    "    \n",
    "for c in unidecode(letra_hacha).lower():\n",
    "    if c in caracts:\n",
    "        vect_hacha[caracts.index(c)] += 1"
   ]
  },
  {
   "cell_type": "code",
   "execution_count": null,
   "id": "585ee7ed",
   "metadata": {
    "scrolled": true
   },
   "outputs": [],
   "source": [
    "print(vect_hacha)"
   ]
  },
  {
   "cell_type": "code",
   "execution_count": null,
   "id": "165712b1",
   "metadata": {},
   "outputs": [],
   "source": [
    "# crear una función\n",
    "caracts = list('abcdefghijklmnopqrstuvwxyz')\n",
    "\n",
    "def get_lyrics_vector(text):\n",
    "    result = []\n",
    "    for l in caracts:\n",
    "        result.append(0)\n",
    "\n",
    "    for c in unidecode(text).lower():\n",
    "        if c in caracts:\n",
    "            result[caracts.index(c)] += 1\n",
    "            \n",
    "    return result"
   ]
  },
  {
   "cell_type": "code",
   "execution_count": null,
   "id": "fcc6080e",
   "metadata": {},
   "outputs": [],
   "source": [
    "print(caracts)\n",
    "print(get_lyrics_vector(letra_hacha))\n",
    "print(get_lyrics_vector(letra_angel))"
   ]
  },
  {
   "cell_type": "code",
   "execution_count": null,
   "id": "e6b56270",
   "metadata": {},
   "outputs": [],
   "source": [
    "# normalicemos los vectores\n",
    "def normalize(vect):\n",
    "    total = sum(vect)\n",
    "    result = []\n",
    "    for v in vect:\n",
    "        result.append(v / total)\n",
    "    return result"
   ]
  },
  {
   "cell_type": "code",
   "execution_count": null,
   "id": "1468b3a7",
   "metadata": {
    "scrolled": true
   },
   "outputs": [],
   "source": [
    "print(caracts)\n",
    "print(normalize(get_lyrics_vector(letra_hacha)))\n",
    "print(normalize(get_lyrics_vector(letra_angel)))"
   ]
  },
  {
   "cell_type": "code",
   "execution_count": null,
   "id": "dff160a5",
   "metadata": {},
   "outputs": [],
   "source": [
    "# Uppssss ... formateemos la salida\n",
    "def print_formatted(values):\n",
    "    for v in values:\n",
    "        print(f\"{v:.2f}\", end=',')\n",
    "    print()"
   ]
  },
  {
   "cell_type": "code",
   "execution_count": null,
   "id": "8691339a",
   "metadata": {
    "scrolled": false
   },
   "outputs": [],
   "source": [
    "print(caracts)\n",
    "vect_hacha = normalize(get_lyrics_vector(letra_hacha))\n",
    "vect_angel = normalize(get_lyrics_vector(letra_angel))\n",
    "print_formatted(vect_hacha)\n",
    "print_formatted(vect_angel)"
   ]
  },
  {
   "cell_type": "code",
   "execution_count": null,
   "id": "acec094a",
   "metadata": {
    "scrolled": true
   },
   "outputs": [],
   "source": [
    "# Implementemos la distancia euclideana entre dos vectores, para comparar entre canciones ...\n",
    "import math \n",
    "\n",
    "def dist_euclid(v1, v2):\n",
    "    total = 0\n",
    "    for idx in range(len(v1)):\n",
    "        total += (v1[idx]-v2[idx])**2\n",
    "    return math.sqrt(total)\n",
    "\n",
    "dist_euclid(vect_hacha, vect_angel)"
   ]
  },
  {
   "cell_type": "code",
   "execution_count": null,
   "id": "1cf4d7cf",
   "metadata": {},
   "outputs": [],
   "source": [
    "letra_bajanda = '''\n",
    "Cuando el gato no está en casa\n",
    "Empiezan los carnavales y las comparsas\n",
    "Los ratones guarachean\n",
    "Y se botan pa' la calle pa' que to' el mundo los vea\n",
    "Una pila 'e ratas flacas de cloaca\n",
    "Arrollando por to' el muro 'e la Malenca'\n",
    "Los ratones calentando La Piragüa\n",
    "Y las ratas La Tribuna 'siéndose los repas\n",
    "Gatos dicen miau\n",
    "Miau, miau, miau\n",
    "Eso es el gato y él es súper asfixia'o\n",
    "Anda con un tigre, y con dos leones\n",
    "Barriendo a las ratas\n",
    "Y a to' los ratones\n",
    "Gatos dicen miau\n",
    "Miau, miau, miau\n",
    "Eso es el gato y él es súper asfixiao'\n",
    "Anda con un tigre, y con dos leones\n",
    "Barriendo a las ratas\n",
    "Y a to' los ratones\n",
    "'''"
   ]
  },
  {
   "cell_type": "code",
   "execution_count": null,
   "id": "334f6b24",
   "metadata": {},
   "outputs": [],
   "source": [
    "vect_bajanda = normalize(get_lyrics_vector(letra_bajanda))\n",
    "print(dist_euclid(vect_bajanda, vect_hacha))\n",
    "print(dist_euclid(vect_bajanda, vect_angel))"
   ]
  },
  {
   "cell_type": "code",
   "execution_count": null,
   "id": "597f3f5b",
   "metadata": {},
   "outputs": [],
   "source": [
    "letra_el_sol = '''\n",
    "Al tibio amparo de la 214\n",
    "Se desnudaba mi canción de amor\n",
    "Llegaba el día, indiscreto y torpe\n",
    "Y la belleza nos hacía más pobres\n",
    "Más esclavos de la ronda del reloj\n",
    "Así pasaron los momentos pocos\n",
    "Así pasaba la felicidad\n",
    "Huyendo siempre de mirada de otros\n",
    "Entretejiendo un universo loco\n",
    "De caricias, dudas y complicidad\n",
    "Toma de mí, todo\n",
    "Bébetelo bien\n",
    "Hay que ayunar al filo\n",
    "Del amanecer\n",
    "Toma de mí, todo\n",
    "Y todavía más\n",
    "Hay que esperar un largo\n",
    "No de claridad\n",
    "Toma de mí, todo\n",
    "Cuanto pueda ser\n",
    "El sol no da de beber'''"
   ]
  },
  {
   "cell_type": "code",
   "execution_count": null,
   "id": "d71e819b",
   "metadata": {
    "scrolled": true
   },
   "outputs": [],
   "source": [
    "vect_el_sol = normalize(get_lyrics_vector(letra_el_sol))\n",
    "print(dist_euclid(vect_bajanda, vect_hacha))\n",
    "print(dist_euclid(vect_bajanda, vect_angel))\n",
    "print(dist_euclid(vect_hacha, vect_angel))\n",
    "print(dist_euclid(vect_el_sol, vect_angel))\n",
    "print(dist_euclid(vect_el_sol, vect_bajanda))\n",
    "print(dist_euclid(vect_el_sol, vect_hacha))\n"
   ]
  },
  {
   "cell_type": "markdown",
   "id": "02059ca6",
   "metadata": {},
   "source": [
    "Otra representación ..."
   ]
  },
  {
   "cell_type": "code",
   "execution_count": null,
   "id": "cbd7d62f",
   "metadata": {},
   "outputs": [],
   "source": [
    "def count_bigrams(text):\n",
    "    text = unidecode(text).lower()\n",
    "    text = text.replace(\" \", \"\").replace(\"\\n\", \"\")\n",
    "    what = []\n",
    "    cnt = []\n",
    "    for i in range(1, len(text)):\n",
    "        bi_gram = text[i:i+2]\n",
    "        if bi_gram in what:\n",
    "            idx = what.index(bi_gram)\n",
    "            cnt[idx] += 1\n",
    "        else:\n",
    "            what.append(bi_gram)\n",
    "            cnt.append(1)\n",
    "    l_cnt = []\n",
    "    for i in range(len(what)):\n",
    "        l_cnt.append((cnt[i], what[i]))\n",
    "    l_cnt.sort(reverse=True)\n",
    "    return l_cnt"
   ]
  },
  {
   "cell_type": "code",
   "execution_count": null,
   "id": "8e8fa7e4",
   "metadata": {
    "scrolled": true
   },
   "outputs": [],
   "source": [
    "bigrams_hacha = count_bigrams(letra_hacha)\n",
    "bigrams_hacha[:10]"
   ]
  },
  {
   "cell_type": "code",
   "execution_count": null,
   "id": "6634294f",
   "metadata": {
    "scrolled": false
   },
   "outputs": [],
   "source": [
    "bigrams_angel = count_bigrams(letra_angel)\n",
    "bigrams_angel[:10]"
   ]
  },
  {
   "cell_type": "markdown",
   "id": "2b114cfd",
   "metadata": {},
   "source": [
    "Tarea de ML?"
   ]
  },
  {
   "cell_type": "markdown",
   "id": "6be0a91f",
   "metadata": {},
   "source": [
    "## Para ser real, buscar bases de datos en internet"
   ]
  },
  {
   "cell_type": "code",
   "execution_count": null,
   "id": "55bca7f6",
   "metadata": {},
   "outputs": [],
   "source": [
    "file_name = \"/mnt/hdd/__Docencia/DataAnalysisWithPython/!!2023SepUH/lectures/large_datasets/lyrics/lyrics-data.csv\"\n",
    "!ls -l --block-size=M {file_name}"
   ]
  },
  {
   "cell_type": "code",
   "execution_count": null,
   "id": "0e5a16d1",
   "metadata": {},
   "outputs": [],
   "source": [
    "import pandas as pd\n",
    "data = pd.read_csv(file_name)"
   ]
  },
  {
   "cell_type": "code",
   "execution_count": null,
   "id": "42826872",
   "metadata": {},
   "outputs": [],
   "source": [
    "data.shape"
   ]
  },
  {
   "cell_type": "code",
   "execution_count": null,
   "id": "9a1ada47",
   "metadata": {
    "scrolled": true
   },
   "outputs": [],
   "source": [
    "data.head(5)"
   ]
  },
  {
   "cell_type": "code",
   "execution_count": null,
   "id": "af7d62f9",
   "metadata": {
    "scrolled": true
   },
   "outputs": [],
   "source": [
    "data.groupby('language')['Lyric'].count()"
   ]
  },
  {
   "cell_type": "markdown",
   "id": "b1b203c5",
   "metadata": {},
   "source": [
    "Ideas:\n",
    "- Clasificar automaticamente el idioma\n",
    "\n",
    "Para identificar el género de una canción, utilizaremos otro fichero de la misma base de datos"
   ]
  },
  {
   "cell_type": "code",
   "execution_count": null,
   "id": "404e2460",
   "metadata": {},
   "outputs": [],
   "source": [
    "import csv\n",
    "with open(\"/mnt/hdd/__Docencia/DataAnalysisWithPython/!!2023SepUH/lectures/large_datasets/lyrics/artists-data.csv\") as f:\n",
    "    reader = csv.reader(f)\n",
    "    raw_data = [r for r in reader]\n",
    "raw_data[:5]"
   ]
  },
  {
   "cell_type": "markdown",
   "id": "1fa300ca",
   "metadata": {},
   "source": [
    "Noten, el género no está en la canción, sino en el autor. Cada autor tiene muchos géneros. Cómo procesamos esto entonces?"
   ]
  },
  {
   "cell_type": "code",
   "execution_count": null,
   "id": "14ed540f",
   "metadata": {
    "scrolled": true
   },
   "outputs": [],
   "source": [
    "data = []\n",
    "for r in raw_data[1:]:\n",
    "    artist, genres_raw, _, popularity, _ = r\n",
    "    if popularity == \"NA\":\n",
    "        popularity = 0\n",
    "    genres_raw = genres_raw.split(\";\")\n",
    "    genres = []\n",
    "    for g in genres_raw:\n",
    "        genres.append(g.strip().lower())\n",
    "    data.append((float(popularity), artist, genres))\n",
    "data[:5]"
   ]
  },
  {
   "cell_type": "markdown",
   "id": "baed8dc1",
   "metadata": {},
   "source": [
    "Cuál es el género mas común?"
   ]
  },
  {
   "cell_type": "code",
   "execution_count": null,
   "id": "9a38de34",
   "metadata": {},
   "outputs": [],
   "source": [
    "generos = []\n",
    "count = []\n",
    "for _, _, genres in data:\n",
    "    for g in genres:\n",
    "        if g in generos:\n",
    "            idx = generos.index(g)\n",
    "            count[idx] += 1\n",
    "        else:\n",
    "            generos.append(g)\n",
    "            count.append(1)"
   ]
  },
  {
   "cell_type": "code",
   "execution_count": null,
   "id": "24091ba3",
   "metadata": {},
   "outputs": [],
   "source": [
    "together = []\n",
    "for idx in range(len(generos)):\n",
    "    together.append((count[idx], generos[idx]))\n",
    "together.sort(reverse=True)"
   ]
  },
  {
   "cell_type": "code",
   "execution_count": null,
   "id": "7dd20f71",
   "metadata": {
    "scrolled": true
   },
   "outputs": [],
   "source": [
    "together[:10]"
   ]
  },
  {
   "cell_type": "markdown",
   "id": "917c3fb7",
   "metadata": {},
   "source": [
    "Cuáles generos son mas populares?"
   ]
  },
  {
   "cell_type": "code",
   "execution_count": null,
   "id": "54b30410",
   "metadata": {},
   "outputs": [],
   "source": [
    "def count_genres(data):\n",
    "    generos = []\n",
    "    count = []\n",
    "    for _, _, genres in data:\n",
    "        for g in genres:\n",
    "            if g in generos:\n",
    "                idx = generos.index(g)\n",
    "                count[idx] += 1\n",
    "            else:\n",
    "                generos.append(g)\n",
    "                count.append(1)\n",
    "    together = []\n",
    "    for idx in range(len(generos)):\n",
    "        together.append((count[idx], generos[idx]))\n",
    "    together.sort(reverse=True)\n",
    "    return together"
   ]
  },
  {
   "cell_type": "code",
   "execution_count": null,
   "id": "fd66a351",
   "metadata": {},
   "outputs": [],
   "source": [
    "# Valores de la popularidad\n",
    "max_popularity = 0\n",
    "for pop, *_ in data:\n",
    "    max_popularity = max(max_popularity, float(pop))\n",
    "max_popularity"
   ]
  },
  {
   "cell_type": "code",
   "execution_count": null,
   "id": "1ebbc408",
   "metadata": {},
   "outputs": [],
   "source": [
    "# Definamos un umbral de popularidad\n",
    "threshold = 100\n",
    "count = 0\n",
    "for pop, *_ in data:\n",
    "    if pop > threshold:\n",
    "        count += 1\n",
    "count, len(data)"
   ]
  },
  {
   "cell_type": "code",
   "execution_count": null,
   "id": "6e1bbd52",
   "metadata": {},
   "outputs": [],
   "source": [
    "count_genres(data)[:5]"
   ]
  },
  {
   "cell_type": "code",
   "execution_count": null,
   "id": "e3104a2e",
   "metadata": {
    "scrolled": true
   },
   "outputs": [],
   "source": [
    "populares = []\n",
    "for pop, artist, genres in data:\n",
    "    if pop > 20:\n",
    "        populares.append((pop, artist, genres))\n",
    "count_genres(populares)[:5]"
   ]
  },
  {
   "cell_type": "markdown",
   "id": "a0239a76",
   "metadata": {},
   "source": [
    "Otras ideas para hacer machine learning con estos datos???"
   ]
  }
 ],
 "metadata": {
  "kernelspec": {
   "display_name": "Python [conda env:python_lectures]",
   "language": "python",
   "name": "conda-env-python_lectures-py"
  },
  "language_info": {
   "codemirror_mode": {
    "name": "ipython",
    "version": 3
   },
   "file_extension": ".py",
   "mimetype": "text/x-python",
   "name": "python",
   "nbconvert_exporter": "python",
   "pygments_lexer": "ipython3",
   "version": "3.8.16"
  }
 },
 "nbformat": 4,
 "nbformat_minor": 5
}
