{
 "cells": [
  {
   "cell_type": "markdown",
   "id": "74043cb4",
   "metadata": {},
   "source": [
    "Se desea obtener un modelo de ML para clasificar canciones entre trova y regueton."
   ]
  },
  {
   "cell_type": "code",
   "execution_count": 4,
   "id": "1589c972",
   "metadata": {},
   "outputs": [],
   "source": [
    "lyrics_hacha='''\n",
    "Ropa de marca, una cadena\n",
    "La cartera llena y salió pa' la pista\n",
    "Lleva la puteria en vena\n",
    "Llega y exagera y anda fuera de vista\n",
    "Los que hablen de ella le resbala\n",
    "Esa jeva es bala de la que detona\n",
    "Ella cierra con su mirada\n",
    "Carita de malvada y boquita enfermona\n",
    "Y cuando se emborracha, hacha\n",
    "Que rico lo pacha, hacha\n",
    "Esta pa' darle brocha, ocha\n",
    "Está pa' darle hacha, hacha\n",
    "Y cuando se emborracha\n",
    "Que rico lo pacha\n",
    "Esta pa' darle brocha\n",
    "Está pa' darle hacha\n",
    "Ella está pa' darle brocha\n",
    "Pintarla yo como un pintor\n",
    "Y despues darle leña como un leñador\n",
    "Dandola, viendola y to' el mundo mirandola\n",
    "Y unos dicen a moverse que llegó el avión\n",
    "'''"
   ]
  },
  {
   "cell_type": "code",
   "execution_count": 19,
   "id": "494f15f3",
   "metadata": {},
   "outputs": [],
   "source": [
    "# Cuente los caracteres\n",
    "from unidecode import unidecode\n",
    "letter = []\n",
    "cnt = []\n",
    "for l in unidecode(lyrics_hacha).lower():\n",
    "    if l in letter:\n",
    "        idx = letter.index(l)\n",
    "        cnt[idx] += 1\n",
    "    else:\n",
    "        letter.append(l)\n",
    "        cnt.append(1)"
   ]
  },
  {
   "cell_type": "code",
   "execution_count": 17,
   "id": "de5ff74e",
   "metadata": {
    "scrolled": true
   },
   "outputs": [
    {
     "data": {
      "text/plain": [
       "[(22, '\\n'), (33, 'r'), (35, 'o'), (14, 'p')]"
      ]
     },
     "execution_count": 17,
     "metadata": {},
     "output_type": "execute_result"
    }
   ],
   "source": [
    "l_cnt = []\n",
    "for i in range(len(letter)):\n",
    "    l_cnt.append((cnt[i], letter[i]))\n",
    "l_cnt[:4]"
   ]
  },
  {
   "cell_type": "code",
   "execution_count": 18,
   "id": "4099809d",
   "metadata": {
    "scrolled": true
   },
   "outputs": [
    {
     "data": {
      "text/plain": [
       "[(100, ' '), (98, 'a'), (60, 'e'), (41, 'l'), (35, 'o')]"
      ]
     },
     "execution_count": 18,
     "metadata": {},
     "output_type": "execute_result"
    }
   ],
   "source": [
    "l_cnt.sort(reverse=True)\n",
    "l_cnt[:5]"
   ]
  },
  {
   "cell_type": "code",
   "execution_count": 29,
   "id": "337c4db1",
   "metadata": {},
   "outputs": [],
   "source": [
    "# Lets create a function for that\n",
    "def count_chars(lines):\n",
    "    lines = lines.replace(\" \", \"\").replace(\"\\n\", \"\")\n",
    "    letter = []\n",
    "    cnt = []\n",
    "    for l in unidecode(lines).lower():\n",
    "        if l in letter:\n",
    "            idx = letter.index(l)\n",
    "            cnt[idx] += 1\n",
    "        else:\n",
    "            letter.append(l)\n",
    "            cnt.append(1)\n",
    "    l_cnt = []\n",
    "    for i in range(len(letter)):\n",
    "        l_cnt.append((cnt[i], letter[i]))\n",
    "    l_cnt.sort(reverse=True)\n",
    "    return l_cnt"
   ]
  },
  {
   "cell_type": "code",
   "execution_count": 30,
   "id": "4ebe468f",
   "metadata": {},
   "outputs": [
    {
     "data": {
      "text/plain": [
       "[(98, 'a'),\n",
       " (60, 'e'),\n",
       " (41, 'l'),\n",
       " (35, 'o'),\n",
       " (33, 'r'),\n",
       " (26, 'n'),\n",
       " (26, 'd'),\n",
       " (26, 'c'),\n",
       " (19, 's'),\n",
       " (19, 'h')]"
      ]
     },
     "execution_count": 30,
     "metadata": {},
     "output_type": "execute_result"
    }
   ],
   "source": [
    "cnt_hacha = count_chars(letra_hacha)\n",
    "cnt_hacha[:10]"
   ]
  },
  {
   "cell_type": "code",
   "execution_count": 31,
   "id": "04cf7862",
   "metadata": {},
   "outputs": [],
   "source": [
    "letra_angel = '''\n",
    "Cuentan que cuando un silencio\n",
    "Aparecía entre dos\n",
    "Era que pasaba un ángel\n",
    "Que les robaba la voz\n",
    "Y hubo tal silencio el día\n",
    "Que nos tocaba olvidar\n",
    "Que de tal suerte yo todavía\n",
    "No terminé de callar\n",
    "Todo empezó en la sorpresa\n",
    "En un encuentro casual\n",
    "Pero la noche es traviesa\n",
    "Cuando se teje el azar\n",
    "Sin querer se hace una ofrenda\n",
    "Que pacta con el dolor\n",
    "O pasa un ángel\n",
    "Se hace leyenda\n",
    "Y se convierte en amor\n",
    "Ahora comprendo\n",
    "Cual era el ángel\n",
    "Que entre nosotros pasó\n",
    "Era el más terrible, el implacable\n",
    "El más feroz\n",
    "Ahora comprendo en total\n",
    "Este silencio mortal\n",
    "Ángel que pasa\n",
    "Besa y te abraza\n",
    "Ángel para un\n",
    "Final'''"
   ]
  },
  {
   "cell_type": "code",
   "execution_count": 32,
   "id": "7fd081f0",
   "metadata": {
    "scrolled": true
   },
   "outputs": [
    {
     "data": {
      "text/plain": [
       "[(77, 'e'),\n",
       " (70, 'a'),\n",
       " (42, 'o'),\n",
       " (39, 'n'),\n",
       " (34, 'r'),\n",
       " (34, 'l'),\n",
       " (27, 's'),\n",
       " (23, 'u'),\n",
       " (22, 't'),\n",
       " (21, 'c')]"
      ]
     },
     "execution_count": 32,
     "metadata": {},
     "output_type": "execute_result"
    }
   ],
   "source": [
    "cnt_angel = count_chars(letra_angel)\n",
    "cnt_angel[:10]"
   ]
  },
  {
   "cell_type": "markdown",
   "id": "3b51e630",
   "metadata": {},
   "source": [
    "Cómo podríamos clasificar automáticamente los géneros usando ML?"
   ]
  },
  {
   "cell_type": "markdown",
   "id": "bb354dbe",
   "metadata": {},
   "source": [
    "Usemos ahora otra representación. Cada letra se representará como un vector de frecuencias de cada caracter"
   ]
  },
  {
   "cell_type": "code",
   "execution_count": 49,
   "id": "cc779edb",
   "metadata": {},
   "outputs": [],
   "source": [
    "caracts = list('abcdefghijklmnopqrstuvwxyz')\n",
    "\n",
    "vect_hacha = []\n",
    "for l in caracts:\n",
    "    vect_hacha.append(0)\n",
    "    \n",
    "for c in unidecode(letra_hacha).lower():\n",
    "    if c in caracts:\n",
    "        vect_hacha[caracts.index(c)] += 1"
   ]
  },
  {
   "cell_type": "code",
   "execution_count": 51,
   "id": "585ee7ed",
   "metadata": {
    "scrolled": true
   },
   "outputs": [
    {
     "name": "stdout",
     "output_type": "stream",
     "text": [
      "[98, 9, 26, 26, 60, 2, 3, 19, 16, 1, 0, 41, 11, 26, 35, 14, 6, 33, 19, 15, 17, 8, 0, 1, 10, 0]\n"
     ]
    }
   ],
   "source": [
    "print(vect_hacha)"
   ]
  },
  {
   "cell_type": "code",
   "execution_count": 57,
   "id": "165712b1",
   "metadata": {},
   "outputs": [],
   "source": [
    "# crear una función\n",
    "caracts = list('abcdefghijklmnopqrstuvwxyz')\n",
    "\n",
    "def get_lyrics_vector(text):\n",
    "    result = []\n",
    "    for l in caracts:\n",
    "        result.append(0)\n",
    "\n",
    "    for c in unidecode(text).lower():\n",
    "        if c in caracts:\n",
    "            result[caracts.index(c)] += 1\n",
    "            \n",
    "    return result"
   ]
  },
  {
   "cell_type": "code",
   "execution_count": 59,
   "id": "fcc6080e",
   "metadata": {},
   "outputs": [
    {
     "name": "stdout",
     "output_type": "stream",
     "text": [
      "['a', 'b', 'c', 'd', 'e', 'f', 'g', 'h', 'i', 'j', 'k', 'l', 'm', 'n', 'o', 'p', 'q', 'r', 's', 't', 'u', 'v', 'w', 'x', 'y', 'z']\n",
      "[98, 9, 26, 26, 60, 2, 3, 19, 16, 1, 0, 41, 11, 26, 35, 14, 6, 33, 19, 15, 17, 8, 0, 1, 10, 0]\n",
      "[70, 9, 21, 14, 77, 3, 5, 6, 17, 1, 0, 34, 9, 39, 42, 13, 9, 34, 27, 22, 23, 5, 0, 0, 5, 5]\n"
     ]
    }
   ],
   "source": [
    "print(caracts)\n",
    "print(get_lyrics_vector(letra_hacha))\n",
    "print(get_lyrics_vector(letra_angel))"
   ]
  },
  {
   "cell_type": "code",
   "execution_count": 62,
   "id": "e6b56270",
   "metadata": {},
   "outputs": [],
   "source": [
    "# normalicemos los vectores\n",
    "def normalize(vect):\n",
    "    total = sum(vect)\n",
    "    result = []\n",
    "    for v in vect:\n",
    "        result.append(v / total)\n",
    "    return result"
   ]
  },
  {
   "cell_type": "code",
   "execution_count": 63,
   "id": "1468b3a7",
   "metadata": {
    "scrolled": true
   },
   "outputs": [
    {
     "name": "stdout",
     "output_type": "stream",
     "text": [
      "['a', 'b', 'c', 'd', 'e', 'f', 'g', 'h', 'i', 'j', 'k', 'l', 'm', 'n', 'o', 'p', 'q', 'r', 's', 't', 'u', 'v', 'w', 'x', 'y', 'z']\n",
      "[0.1975806451612903, 0.018145161290322582, 0.05241935483870968, 0.05241935483870968, 0.12096774193548387, 0.004032258064516129, 0.006048387096774193, 0.038306451612903226, 0.03225806451612903, 0.0020161290322580645, 0.0, 0.08266129032258064, 0.02217741935483871, 0.05241935483870968, 0.07056451612903226, 0.028225806451612902, 0.012096774193548387, 0.06653225806451613, 0.038306451612903226, 0.03024193548387097, 0.034274193548387094, 0.016129032258064516, 0.0, 0.0020161290322580645, 0.020161290322580645, 0.0]\n",
      "[0.14285714285714285, 0.018367346938775512, 0.04285714285714286, 0.02857142857142857, 0.15714285714285714, 0.006122448979591836, 0.01020408163265306, 0.012244897959183673, 0.03469387755102041, 0.0020408163265306124, 0.0, 0.06938775510204082, 0.018367346938775512, 0.07959183673469387, 0.08571428571428572, 0.026530612244897958, 0.018367346938775512, 0.06938775510204082, 0.05510204081632653, 0.044897959183673466, 0.04693877551020408, 0.01020408163265306, 0.0, 0.0, 0.01020408163265306, 0.01020408163265306]\n"
     ]
    }
   ],
   "source": [
    "print(caracts)\n",
    "print(normalize(get_lyrics_vector(letra_hacha)))\n",
    "print(normalize(get_lyrics_vector(letra_angel)))"
   ]
  },
  {
   "cell_type": "code",
   "execution_count": 73,
   "id": "dff160a5",
   "metadata": {},
   "outputs": [],
   "source": [
    "# Uppssss ... formateemos la salida\n",
    "def print_formatted(values):\n",
    "    for v in values:\n",
    "        print(f\"{v:.2f}\", end=',')\n",
    "    print()"
   ]
  },
  {
   "cell_type": "code",
   "execution_count": 75,
   "id": "8691339a",
   "metadata": {
    "scrolled": false
   },
   "outputs": [
    {
     "name": "stdout",
     "output_type": "stream",
     "text": [
      "['a', 'b', 'c', 'd', 'e', 'f', 'g', 'h', 'i', 'j', 'k', 'l', 'm', 'n', 'o', 'p', 'q', 'r', 's', 't', 'u', 'v', 'w', 'x', 'y', 'z']\n",
      "0.20,0.02,0.05,0.05,0.12,0.00,0.01,0.04,0.03,0.00,0.00,0.08,0.02,0.05,0.07,0.03,0.01,0.07,0.04,0.03,0.03,0.02,0.00,0.00,0.02,0.00,\n",
      "0.14,0.02,0.04,0.03,0.16,0.01,0.01,0.01,0.03,0.00,0.00,0.07,0.02,0.08,0.09,0.03,0.02,0.07,0.06,0.04,0.05,0.01,0.00,0.00,0.01,0.01,\n"
     ]
    }
   ],
   "source": [
    "print(caracts)\n",
    "vect_hacha = normalize(get_lyrics_vector(letra_hacha))\n",
    "vect_angel = normalize(get_lyrics_vector(letra_angel))\n",
    "print_formatted(vect_hacha)\n",
    "print_formatted(vect_angel)"
   ]
  },
  {
   "cell_type": "code",
   "execution_count": 76,
   "id": "acec094a",
   "metadata": {
    "scrolled": true
   },
   "outputs": [
    {
     "data": {
      "text/plain": [
       "0.08819817731051234"
      ]
     },
     "execution_count": 76,
     "metadata": {},
     "output_type": "execute_result"
    }
   ],
   "source": [
    "# Implementemos la distancia euclideana entre dos vectores, para comparar entre canciones ...\n",
    "import math \n",
    "\n",
    "def dist_euclid(v1, v2):\n",
    "    total = 0\n",
    "    for idx in range(len(v1)):\n",
    "        total += (v1[idx]-v2[idx])**2\n",
    "    return math.sqrt(total)\n",
    "\n",
    "dist_euclid(vect_hacha, vect_angel)"
   ]
  },
  {
   "cell_type": "code",
   "execution_count": 77,
   "id": "1cf4d7cf",
   "metadata": {},
   "outputs": [],
   "source": [
    "letra_bajanda = '''\n",
    "Cuando el gato no está en casa\n",
    "Empiezan los carnavales y las comparsas\n",
    "Los ratones guarachean\n",
    "Y se botan pa' la calle pa' que to' el mundo los vea\n",
    "Una pila 'e ratas flacas de cloaca\n",
    "Arrollando por to' el muro 'e la Malenca'\n",
    "Los ratones calentando La Piragüa\n",
    "Y las ratas La Tribuna 'siéndose los repas\n",
    "Gatos dicen miau\n",
    "Miau, miau, miau\n",
    "Eso es el gato y él es súper asfixia'o\n",
    "Anda con un tigre, y con dos leones\n",
    "Barriendo a las ratas\n",
    "Y a to' los ratones\n",
    "Gatos dicen miau\n",
    "Miau, miau, miau\n",
    "Eso es el gato y él es súper asfixiao'\n",
    "Anda con un tigre, y con dos leones\n",
    "Barriendo a las ratas\n",
    "Y a to' los ratones\n",
    "'''"
   ]
  },
  {
   "cell_type": "code",
   "execution_count": 79,
   "id": "334f6b24",
   "metadata": {},
   "outputs": [
    {
     "name": "stdout",
     "output_type": "stream",
     "text": [
      "0.09556458794684385\n",
      "0.08655737488376432\n"
     ]
    }
   ],
   "source": [
    "vect_bajanda = normalize(get_lyrics_vector(letra_bajanda))\n",
    "print(dist_euclid(vect_bajanda, vect_hacha))\n",
    "print(dist_euclid(vect_bajanda, vect_angel))"
   ]
  },
  {
   "cell_type": "code",
   "execution_count": 80,
   "id": "597f3f5b",
   "metadata": {},
   "outputs": [],
   "source": [
    "letra_el_sol = '''\n",
    "Al tibio amparo de la 214\n",
    "Se desnudaba mi canción de amor\n",
    "Llegaba el día, indiscreto y torpe\n",
    "Y la belleza nos hacía más pobres\n",
    "Más esclavos de la ronda del reloj\n",
    "Así pasaron los momentos pocos\n",
    "Así pasaba la felicidad\n",
    "Huyendo siempre de mirada de otros\n",
    "Entretejiendo un universo loco\n",
    "De caricias, dudas y complicidad\n",
    "Toma de mí, todo\n",
    "Bébetelo bien\n",
    "Hay que ayunar al filo\n",
    "Del amanecer\n",
    "Toma de mí, todo\n",
    "Y todavía más\n",
    "Hay que esperar un largo\n",
    "No de claridad\n",
    "Toma de mí, todo\n",
    "Cuanto pueda ser\n",
    "El sol no da de beber'''"
   ]
  },
  {
   "cell_type": "code",
   "execution_count": 81,
   "id": "d71e819b",
   "metadata": {
    "scrolled": true
   },
   "outputs": [
    {
     "name": "stdout",
     "output_type": "stream",
     "text": [
      "0.09556458794684385\n",
      "0.08655737488376432\n",
      "0.08819817731051234\n",
      "0.09427936900244724\n",
      "0.0923574646683549\n",
      "0.10158230278717023\n"
     ]
    }
   ],
   "source": [
    "vect_el_sol = normalize(get_lyrics_vector(letra_el_sol))\n",
    "print(dist_euclid(vect_bajanda, vect_hacha))\n",
    "print(dist_euclid(vect_bajanda, vect_angel))\n",
    "print(dist_euclid(vect_hacha, vect_angel))\n",
    "print(dist_euclid(vect_el_sol, vect_angel))\n",
    "print(dist_euclid(vect_el_sol, vect_bajanda))\n",
    "print(dist_euclid(vect_el_sol, vect_hacha))\n"
   ]
  },
  {
   "cell_type": "markdown",
   "id": "02059ca6",
   "metadata": {},
   "source": [
    "Otra representación ..."
   ]
  },
  {
   "cell_type": "code",
   "execution_count": 43,
   "id": "cbd7d62f",
   "metadata": {},
   "outputs": [],
   "source": [
    "def count_bigrams(text):\n",
    "    text = unidecode(text).lower()\n",
    "    text = text.replace(\" \", \"\").replace(\"\\n\", \"\")\n",
    "    what = []\n",
    "    cnt = []\n",
    "    for i in range(1, len(text)):\n",
    "        bi_gram = text[i:i+2]\n",
    "        if bi_gram in what:\n",
    "            idx = what.index(bi_gram)\n",
    "            cnt[idx] += 1\n",
    "        else:\n",
    "            what.append(bi_gram)\n",
    "            cnt.append(1)\n",
    "    l_cnt = []\n",
    "    for i in range(len(what)):\n",
    "        l_cnt.append((cnt[i], what[i]))\n",
    "    l_cnt.sort(reverse=True)\n",
    "    return l_cnt"
   ]
  },
  {
   "cell_type": "code",
   "execution_count": 44,
   "id": "8e8fa7e4",
   "metadata": {
    "scrolled": true
   },
   "outputs": [
    {
     "data": {
      "text/plain": [
       "[(19, 'ha'),\n",
       " (15, 'ac'),\n",
       " (14, 'le'),\n",
       " (14, 'la'),\n",
       " (13, 'ch'),\n",
       " (11, 'al'),\n",
       " (11, 'ae'),\n",
       " (10, 'ta'),\n",
       " (10, 'es'),\n",
       " (10, 'er')]"
      ]
     },
     "execution_count": 44,
     "metadata": {},
     "output_type": "execute_result"
    }
   ],
   "source": [
    "bigrams_hacha = count_bigrams(letra_hacha)\n",
    "bigrams_hacha[:10]"
   ]
  },
  {
   "cell_type": "code",
   "execution_count": 45,
   "id": "6634294f",
   "metadata": {
    "scrolled": false
   },
   "outputs": [
    {
     "data": {
      "text/plain": [
       "[(18, 'en'),\n",
       " (14, 'el'),\n",
       " (12, 'ue'),\n",
       " (11, 'er'),\n",
       " (10, 'an'),\n",
       " (9, 'ra'),\n",
       " (9, 'qu'),\n",
       " (9, 'le'),\n",
       " (9, 'al'),\n",
       " (8, 're')]"
      ]
     },
     "execution_count": 45,
     "metadata": {},
     "output_type": "execute_result"
    }
   ],
   "source": [
    "bigrams_angel = count_bigrams(letra_angel)\n",
    "bigrams_angel[:10]"
   ]
  },
  {
   "cell_type": "markdown",
   "id": "2b114cfd",
   "metadata": {},
   "source": [
    "Tarea de ML?"
   ]
  }
 ],
 "metadata": {
  "kernelspec": {
   "display_name": "Python [conda env:python_lectures]",
   "language": "python",
   "name": "conda-env-python_lectures-py"
  },
  "language_info": {
   "codemirror_mode": {
    "name": "ipython",
    "version": 3
   },
   "file_extension": ".py",
   "mimetype": "text/x-python",
   "name": "python",
   "nbconvert_exporter": "python",
   "pygments_lexer": "ipython3",
   "version": "3.8.16"
  }
 },
 "nbformat": 4,
 "nbformat_minor": 5
}
