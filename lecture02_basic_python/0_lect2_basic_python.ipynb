{
 "cells": [
  {
   "cell_type": "markdown",
   "id": "9911371c",
   "metadata": {},
   "source": [
    "# Lecture 2. Basic Python\n",
    "\n",
    "Outline:\n",
    "- Preliminary call for data to final projects\n",
    "- [Basic Lenguage Skills](basic_lang_skills.ipynb)\n",
    "- [Sequence Types](sequence_types.ipynb)\n",
    "- [Processing Real Data with Sequences](proc_real_data.ipynb)"
   ]
  }
 ],
 "metadata": {
  "kernelspec": {
   "display_name": "python_lectures",
   "language": "python",
   "name": "python_lectures"
  },
  "language_info": {
   "codemirror_mode": {
    "name": "ipython",
    "version": 3
   },
   "file_extension": ".py",
   "mimetype": "text/x-python",
   "name": "python",
   "nbconvert_exporter": "python",
   "pygments_lexer": "ipython3",
   "version": "3.8.16"
  }
 },
 "nbformat": 4,
 "nbformat_minor": 5
}
