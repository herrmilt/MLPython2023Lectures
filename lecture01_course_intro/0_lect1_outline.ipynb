{
 "cells": [
  {
   "cell_type": "markdown",
   "id": "9911371c",
   "metadata": {},
   "source": [
    "# Lecture 1. Course Introduction\n",
    "\n",
    "Outline:\n",
    "- [Regular programming vs Machine learning](program_vs_ml.ipynb)\n",
    "- Real life examples\n",
    "    - [Exploratory Analysis: World top billionaries](explore_top_billionaries.ipynb)\n",
    "    - [Penguin vs Turtle image classification](penguin_vs_turtle.ipynb)\n",
    "    - [Face detection](face_detection.ipynb)"
   ]
  }
 ],
 "metadata": {
  "kernelspec": {
   "display_name": "python_lectures",
   "language": "python",
   "name": "python_lectures"
  },
  "language_info": {
   "codemirror_mode": {
    "name": "ipython",
    "version": 3
   },
   "file_extension": ".py",
   "mimetype": "text/x-python",
   "name": "python",
   "nbconvert_exporter": "python",
   "pygments_lexer": "ipython3",
   "version": "3.8.16"
  }
 },
 "nbformat": 4,
 "nbformat_minor": 5
}
