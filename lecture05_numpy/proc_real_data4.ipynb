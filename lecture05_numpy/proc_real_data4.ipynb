{
 "cells": [
  {
   "cell_type": "markdown",
   "id": "cef5d934",
   "metadata": {},
   "source": [
    "# Processing real data with Numpy"
   ]
  },
  {
   "cell_type": "code",
   "execution_count": null,
   "id": "0a3ed60d",
   "metadata": {},
   "outputs": [],
   "source": [
    "import numpy as np"
   ]
  },
  {
   "cell_type": "code",
   "execution_count": null,
   "id": "7b91f35d",
   "metadata": {},
   "outputs": [],
   "source": [
    "data = np.loadtxt(\"data/pop_year.csv\", skiprows=1, delimiter=\",\")\n",
    "data"
   ]
  },
  {
   "cell_type": "code",
   "execution_count": null,
   "id": "4a9093a9",
   "metadata": {},
   "outputs": [],
   "source": [
    "# Verify if all totals are correctly calculated\n",
    "if not all(np.equal(data[:,2] + data[:,3], data[:,1])):\n",
    "    print(\"ERRORS\")\n",
    "else:\n",
    "    print(\"No Errors\")"
   ]
  },
  {
   "cell_type": "code",
   "execution_count": null,
   "id": "6499dc2b",
   "metadata": {},
   "outputs": [],
   "source": [
    "# Largest total population\n",
    "np.max(data[:, 1])"
   ]
  },
  {
   "cell_type": "code",
   "execution_count": null,
   "id": "81573ccd",
   "metadata": {},
   "outputs": [],
   "source": [
    "# Largest male population\n",
    "np.max(data[:, 2])"
   ]
  },
  {
   "cell_type": "code",
   "execution_count": null,
   "id": "c9cd7e58",
   "metadata": {},
   "outputs": [],
   "source": [
    "# Smallest male population\n",
    "np.min(data[:, 2])"
   ]
  },
  {
   "cell_type": "code",
   "execution_count": null,
   "id": "cf8b60a0",
   "metadata": {},
   "outputs": [],
   "source": [
    "# Year with larger total population\n",
    "data[np.argmax(data[:,1])]"
   ]
  },
  {
   "cell_type": "code",
   "execution_count": null,
   "id": "47afdc4f",
   "metadata": {
    "scrolled": true
   },
   "outputs": [],
   "source": [
    "# Maximum difference between two male populations\n",
    "np.max(np.diff(data[:,2]))\n"
   ]
  },
  {
   "cell_type": "code",
   "execution_count": null,
   "id": "f4b61f64",
   "metadata": {},
   "outputs": [],
   "source": [
    "# Which are the years of the maximum difference in total population?\n",
    "idx_of_max = np.argmax(np.diff(data[:,1]))\n",
    "(data[idx_of_max][0], data[idx_of_max+1][0])"
   ]
  },
  {
   "cell_type": "code",
   "execution_count": null,
   "id": "f04687ba",
   "metadata": {},
   "outputs": [],
   "source": [
    "# What is the largest difference between the male and female population\n",
    "np.max(np.abs(data[:,2] - data[:,3]))"
   ]
  }
 ],
 "metadata": {
  "kernelspec": {
   "display_name": "Python [conda env:python_lectures]",
   "language": "python",
   "name": "conda-env-python_lectures-py"
  },
  "language_info": {
   "codemirror_mode": {
    "name": "ipython",
    "version": 3
   },
   "file_extension": ".py",
   "mimetype": "text/x-python",
   "name": "python",
   "nbconvert_exporter": "python",
   "pygments_lexer": "ipython3",
   "version": "3.8.16"
  }
 },
 "nbformat": 4,
 "nbformat_minor": 5
}
