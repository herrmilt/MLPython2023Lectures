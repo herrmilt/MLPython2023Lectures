{
 "cells": [
  {
   "cell_type": "markdown",
   "id": "24d212f6",
   "metadata": {},
   "source": [
    "# Comprehensions\n",
    "\n",
    "Python comprehensions are concise ways to create new sequences (lists, sets, dictionaries) by performing operations on existing sequences. \n",
    "- They allow you to write compact and readable code to generate sequences based on certain conditions or transformations. \n",
    "\n",
    "There are three types of comprehensions in Python: list comprehensions, set comprehensions, and dictionary comprehensions."
   ]
  },
  {
   "cell_type": "markdown",
   "id": "28ffee8d",
   "metadata": {},
   "source": [
    "## List comprehensions\n",
    "List comprehensions provide a concise way to create new lists based on existing lists or other iterable objects.\n",
    "\n",
    "Syntax: \n",
    "\n",
    "new_list = [expression for item in iterable if condition]\n",
    "\n",
    "Where:\n",
    "- expression: The operation or transformation to apply to each item.\n",
    "- item: The element from the iterable that is being processed.\n",
    "- iterable: The existing list, string, or any other iterable object.\n",
    "- condition (optional): A condition that filters the elements based on a certain criteria.\n",
    "\n",
    "Lets see some examples"
   ]
  },
  {
   "cell_type": "code",
   "execution_count": null,
   "id": "45c49ccb",
   "metadata": {},
   "outputs": [],
   "source": [
    "base_list = [1, 2, 3, 4, 5, 6, 7, 8]"
   ]
  },
  {
   "cell_type": "code",
   "execution_count": null,
   "id": "265851eb",
   "metadata": {},
   "outputs": [],
   "source": [
    "[x for x in base_list]"
   ]
  },
  {
   "cell_type": "markdown",
   "id": "5b15faf6",
   "metadata": {},
   "source": [
    "Lets apply some transformations"
   ]
  },
  {
   "cell_type": "code",
   "execution_count": null,
   "id": "34b83971",
   "metadata": {},
   "outputs": [],
   "source": [
    "[x ** 2 for x in base_list]"
   ]
  },
  {
   "cell_type": "code",
   "execution_count": null,
   "id": "9d1dbe13",
   "metadata": {},
   "outputs": [],
   "source": [
    "[x > 5 for x in base_list]"
   ]
  },
  {
   "cell_type": "markdown",
   "id": "dc0943f7",
   "metadata": {},
   "source": [
    "We can create structured types inside the resultant list"
   ]
  },
  {
   "cell_type": "code",
   "execution_count": null,
   "id": "17ed8a54",
   "metadata": {
    "scrolled": true
   },
   "outputs": [],
   "source": [
    "[(x, x**2) for x in base_list]"
   ]
  },
  {
   "cell_type": "code",
   "execution_count": null,
   "id": "14df6cd3",
   "metadata": {
    "scrolled": true
   },
   "outputs": [],
   "source": [
    "[[x, x+1, x+2] for x in base_list]"
   ]
  },
  {
   "cell_type": "code",
   "execution_count": null,
   "id": "7ff3aeaa",
   "metadata": {
    "scrolled": true
   },
   "outputs": [],
   "source": [
    "[\"<>\" * x for x in base_list]"
   ]
  },
  {
   "cell_type": "markdown",
   "id": "04d6cbf8",
   "metadata": {},
   "source": [
    "Filtering the results"
   ]
  },
  {
   "cell_type": "code",
   "execution_count": null,
   "id": "50cdcfe5",
   "metadata": {},
   "outputs": [],
   "source": [
    "base_list"
   ]
  },
  {
   "cell_type": "code",
   "execution_count": null,
   "id": "d608bb9a",
   "metadata": {},
   "outputs": [],
   "source": [
    "[x for x in base_list if x > 4]"
   ]
  },
  {
   "cell_type": "code",
   "execution_count": null,
   "id": "4227959b",
   "metadata": {},
   "outputs": [],
   "source": [
    "[x for x in base_list if x % 2 == 0]"
   ]
  },
  {
   "cell_type": "markdown",
   "id": "eec52eb9",
   "metadata": {},
   "source": [
    "### Nested comprehensions\n",
    "You can also nest comprehensions, where you every element you create using another comprehension"
   ]
  },
  {
   "cell_type": "code",
   "execution_count": null,
   "id": "c3825db5",
   "metadata": {
    "scrolled": true
   },
   "outputs": [],
   "source": [
    "[[v for v in range(x)] for x in base_list]"
   ]
  },
  {
   "cell_type": "code",
   "execution_count": null,
   "id": "6e5d9243",
   "metadata": {},
   "outputs": [],
   "source": [
    "[[row * col for col in range(1, 4)] for row in range(1, 4)]"
   ]
  },
  {
   "cell_type": "code",
   "execution_count": null,
   "id": "4b825cad",
   "metadata": {},
   "outputs": [],
   "source": [
    "# Flattening a nested list\n",
    "nested_list = [[1, 2, 3], [4, 5, 6], [7, 8, 9]]\n",
    "\n",
    "[v for sublist in nested_list for v in sublist]"
   ]
  },
  {
   "cell_type": "code",
   "execution_count": null,
   "id": "fe9a5a01",
   "metadata": {},
   "outputs": [],
   "source": [
    "# Creating a list of tuples\n",
    "numbers = [1, 2, 3, 4, 5]\n",
    "pairs = [(x, y) for x in numbers for y in numbers if x != y]\n",
    "print(pairs)"
   ]
  },
  {
   "cell_type": "markdown",
   "id": "9bbb1a08",
   "metadata": {},
   "source": [
    "## Dictionary Comprehensions\n",
    "Dictionary comprehensions in Python allow you to create dictionaries in a concise and expressive manner. They follow a similar syntax to list comprehensions but produce dictionaries as their result.\n",
    "\n",
    "Syntax:\n",
    "\n",
    "new_dict = {key_expression: value_expression for item in iterable if condition}\n",
    "\n",
    "Lets see some examples:"
   ]
  },
  {
   "cell_type": "code",
   "execution_count": null,
   "id": "3a986917",
   "metadata": {},
   "outputs": [],
   "source": [
    "values = [x for x in range(10)]\n",
    "values"
   ]
  },
  {
   "cell_type": "code",
   "execution_count": null,
   "id": "3e46b7dd",
   "metadata": {
    "scrolled": true
   },
   "outputs": [],
   "source": [
    "{x: 0 for x in values}"
   ]
  },
  {
   "cell_type": "code",
   "execution_count": null,
   "id": "91c90ab1",
   "metadata": {},
   "outputs": [],
   "source": [
    "{x: x**2 for x in values}"
   ]
  },
  {
   "cell_type": "code",
   "execution_count": null,
   "id": "67fa5740",
   "metadata": {
    "scrolled": false
   },
   "outputs": [],
   "source": [
    "{(x, x % 2 == 0): (x, x+1) for x in values}"
   ]
  },
  {
   "cell_type": "code",
   "execution_count": null,
   "id": "9bcc4a88",
   "metadata": {},
   "outputs": [],
   "source": [
    "stone_names = [\"Quartz\", \"Amethyst\", \"Diamond\", \"Ruby\", \"Emerald\", \"Sapphire\", \"Topaz\", \"Opal\", \"Jade\", \"Citrine\"]"
   ]
  },
  {
   "cell_type": "code",
   "execution_count": null,
   "id": "534aeeb0",
   "metadata": {},
   "outputs": [],
   "source": [
    "# Associate name with length\n",
    "{name: len(name) for name in stone_names}"
   ]
  },
  {
   "cell_type": "code",
   "execution_count": null,
   "id": "1d58ef0c",
   "metadata": {},
   "outputs": [],
   "source": [
    "# count vowels\n",
    "{name: sum(1 for letter in name.lower() if letter in 'aeiou') for name in stone_names}"
   ]
  },
  {
   "cell_type": "code",
   "execution_count": null,
   "id": "bbab9f0a",
   "metadata": {},
   "outputs": [],
   "source": [
    "# Contains 'a'?\n",
    "{name: 'Yes' if 'a' in name.lower() else 'No' for name in stone_names}"
   ]
  },
  {
   "cell_type": "code",
   "execution_count": null,
   "id": "8fdacd12",
   "metadata": {},
   "outputs": [],
   "source": [
    "# Reverse names\n",
    "{name: name[::-1] for name in stone_names}"
   ]
  },
  {
   "cell_type": "markdown",
   "id": "5d5414f6",
   "metadata": {},
   "source": [
    "Filters can also be used"
   ]
  },
  {
   "cell_type": "code",
   "execution_count": null,
   "id": "64092d39",
   "metadata": {
    "scrolled": true
   },
   "outputs": [],
   "source": [
    "{s: len(s) for s in stone_names if s[0] in \"AEIOU\"}"
   ]
  },
  {
   "cell_type": "code",
   "execution_count": null,
   "id": "a051ffef",
   "metadata": {},
   "outputs": [],
   "source": [
    "{name: len(name) for name in stone_names if len(name) > 5}"
   ]
  },
  {
   "cell_type": "code",
   "execution_count": null,
   "id": "8e8dad1c",
   "metadata": {},
   "outputs": [],
   "source": [
    "{name: sum(1 for letter in name.lower() if letter in 'aeiou') for name in stone_names if name[0].lower() in 'aeiou'}"
   ]
  },
  {
   "cell_type": "code",
   "execution_count": null,
   "id": "e8e578c2",
   "metadata": {},
   "outputs": [],
   "source": [
    "# Only for palyndromes\n",
    "words = ['opal', 'emerald', 'ruby', 'madam', 'sapphire', 'level', 'diamond']\n",
    "{name: None for name in words if name.lower() == name.lower()[::-1]}\n"
   ]
  },
  {
   "cell_type": "markdown",
   "id": "d99b13fb",
   "metadata": {},
   "source": [
    "## Solved Exercises"
   ]
  },
  {
   "cell_type": "markdown",
   "id": "1035ef96",
   "metadata": {},
   "source": [
    "### List Comprehensions"
   ]
  },
  {
   "cell_type": "markdown",
   "id": "7982506b",
   "metadata": {},
   "source": [
    "**Exercise**. Create an identical list from the first list using list comprehension."
   ]
  },
  {
   "cell_type": "code",
   "execution_count": null,
   "id": "ff147b8e",
   "metadata": {},
   "outputs": [],
   "source": [
    "l = [2, 3, 4, 5, 6]\n",
    "[x for x in l]"
   ]
  },
  {
   "cell_type": "code",
   "execution_count": null,
   "id": "7d5cc18a",
   "metadata": {},
   "outputs": [],
   "source": []
  },
  {
   "cell_type": "markdown",
   "id": "069601c9",
   "metadata": {},
   "source": [
    "**Exercise**. Create a list from the elements of a range from 1200 to 2000 with steps of 130, using list comprehension."
   ]
  },
  {
   "cell_type": "code",
   "execution_count": null,
   "id": "212bb328",
   "metadata": {},
   "outputs": [],
   "source": [
    "[x for x in range(1200, 2001, 130)]"
   ]
  },
  {
   "cell_type": "markdown",
   "id": "3fb451ec",
   "metadata": {},
   "source": [
    "**Exercise**. Use list comprehension to contruct a new list but add 6 to each item."
   ]
  },
  {
   "cell_type": "code",
   "execution_count": null,
   "id": "19dea746",
   "metadata": {},
   "outputs": [],
   "source": [
    "l = [2, 3, 4, 5, 6]\n",
    "[x + 6 for x in l]"
   ]
  },
  {
   "cell_type": "markdown",
   "id": "f5d73807",
   "metadata": {},
   "source": [
    "**Exercise**. Using list comprehension, construct a list from the squares of each element in the list."
   ]
  },
  {
   "cell_type": "code",
   "execution_count": null,
   "id": "3e5309b3",
   "metadata": {},
   "outputs": [],
   "source": [
    "l = [2, 4, 6, 8, 10, 12, 14]\n",
    "[x ** 2 for x in l]"
   ]
  },
  {
   "cell_type": "markdown",
   "id": "3dd06263",
   "metadata": {},
   "source": [
    "**Exercise**. Using list comprehension, construct a list from the squares of each element in the list, if the square is greater than 50."
   ]
  },
  {
   "cell_type": "code",
   "execution_count": null,
   "id": "4bb88732",
   "metadata": {},
   "outputs": [],
   "source": [
    "l = [2, 4, 6, 8, 10, 12, 14]\n",
    "[x ** 2 for x in l if x**2 > 50]"
   ]
  },
  {
   "cell_type": "markdown",
   "id": "aa7dbf23",
   "metadata": {},
   "source": [
    "a) Modify the solution in order to avoid to calculate the power two times"
   ]
  },
  {
   "cell_type": "code",
   "execution_count": null,
   "id": "27262b1c",
   "metadata": {},
   "outputs": [],
   "source": [
    "[v for v in [x**2 for x in l] if v > 50]"
   ]
  },
  {
   "cell_type": "markdown",
   "id": "63b31c72",
   "metadata": {},
   "source": [
    "**Exercise**. Given dictionary is consisted of vehicles and their weights in kilograms. Contruct a list of the names of vehicles with weight below 5000 kilograms. In the same list comprehension make the key names all upper case."
   ]
  },
  {
   "cell_type": "code",
   "execution_count": null,
   "id": "0b32be2f",
   "metadata": {},
   "outputs": [],
   "source": [
    "dict={\"Sedan\": 1500, \"SUV\": 2000, \"Pickup\": 2500, \"Minivan\": 1600, \n",
    "      \"Van\": 2400, \"Semi\": 13600, \"Bicycle\": 7, \"Motorcycle\": 110}\n",
    "[k.upper() for k, v in dict.items() if v < 5000]"
   ]
  },
  {
   "cell_type": "markdown",
   "id": "19cd5308",
   "metadata": {},
   "source": [
    "**Exercise**. Find all of the numbers from 1–1000 that are divisible by 8"
   ]
  },
  {
   "cell_type": "code",
   "execution_count": null,
   "id": "0b59eb87",
   "metadata": {
    "scrolled": true
   },
   "outputs": [],
   "source": [
    "[x for x in range(1, 1001) if x % 8 == 0]"
   ]
  },
  {
   "cell_type": "markdown",
   "id": "7bd9c85e",
   "metadata": {},
   "source": [
    "**Exercise**. Find all of the numbers from 1–1000 that have a 6 in them"
   ]
  },
  {
   "cell_type": "code",
   "execution_count": null,
   "id": "b92c7adc",
   "metadata": {},
   "outputs": [],
   "source": [
    "[x for x in range(1, 1001) if '6' in str(x)]"
   ]
  },
  {
   "cell_type": "code",
   "execution_count": null,
   "id": "9da9d183",
   "metadata": {},
   "outputs": [],
   "source": [
    "# A more elegant solution\n",
    "def has_digit(n, digit):\n",
    "    while n > 0:\n",
    "        r = n % 10\n",
    "        if r == digit:\n",
    "            return True\n",
    "        n = n // 10\n",
    "    return False\n",
    "\n",
    "[x for x in range(1,1001) if has_digit(x, 6)]"
   ]
  },
  {
   "cell_type": "markdown",
   "id": "c11d310c",
   "metadata": {},
   "source": [
    "**Exercise**. Find all numbers from 1 to 1000 that have exactly two occurrences of the digit 4"
   ]
  },
  {
   "cell_type": "code",
   "execution_count": null,
   "id": "b47d0eab",
   "metadata": {},
   "outputs": [],
   "source": [
    "def count_digit(n, digit):\n",
    "    result = 0\n",
    "    while n > 0:\n",
    "        r = n % 10\n",
    "        if r == digit:\n",
    "            result += 1\n",
    "        n = n // 10\n",
    "    return result\n",
    "\n",
    "print([x for x in range(1001) if count_digit(x, 4) == 2])"
   ]
  },
  {
   "cell_type": "markdown",
   "id": "e36cb1c6",
   "metadata": {},
   "source": [
    "**Exercise**. Use a nested comprehension to find all numbers from 1 to 200 that are not divisible by any digit from 2 to 9"
   ]
  },
  {
   "cell_type": "code",
   "execution_count": null,
   "id": "30e576ff",
   "metadata": {},
   "outputs": [],
   "source": [
    "[n for n in range(1, 200) if all(n%d != 0 for d in range(2,10))]"
   ]
  },
  {
   "cell_type": "markdown",
   "id": "6321616f",
   "metadata": {},
   "source": [
    "**Exercise**. Use a nested comprehension to find all numbers from 1 to 200 that have exactly two non-trivial divisors"
   ]
  },
  {
   "cell_type": "code",
   "execution_count": null,
   "id": "2429b674",
   "metadata": {},
   "outputs": [],
   "source": [
    "[n for n in range(1, 201) if sum([1 for d in range(2,n) if n%d == 0]) == 2]"
   ]
  },
  {
   "cell_type": "markdown",
   "id": "0e6e7da7",
   "metadata": {},
   "source": [
    "a) What you need to modify to the code to get prime numbers"
   ]
  },
  {
   "cell_type": "code",
   "execution_count": null,
   "id": "ae661041",
   "metadata": {},
   "outputs": [],
   "source": [
    "[n for n in range(1, 201) if sum([1 for d in range(2,n) if n%d == 0]) == 0]"
   ]
  },
  {
   "cell_type": "markdown",
   "id": "d98ed22d",
   "metadata": {},
   "source": [
    "**Exercise**. Remove all of the vowels in a string"
   ]
  },
  {
   "cell_type": "code",
   "execution_count": null,
   "id": "5c71e6f2",
   "metadata": {},
   "outputs": [],
   "source": [
    "string = \"Practice Problems to Drill List Comprehension in Your Head.\"\n",
    "\"\".join([c for c in string if c.lower() not in 'aeiou'])"
   ]
  },
  {
   "cell_type": "markdown",
   "id": "f5d16291",
   "metadata": {},
   "source": [
    "**Exercise**. Find all of the words in a string that are less than 5 letters (use string above)"
   ]
  },
  {
   "cell_type": "code",
   "execution_count": null,
   "id": "71a8a305",
   "metadata": {},
   "outputs": [],
   "source": [
    "[s for s in string.split() if len(s) < 5]"
   ]
  },
  {
   "cell_type": "markdown",
   "id": "81789320",
   "metadata": {},
   "source": [
    "**Exercise**. Use a nested list comprehension to find all of the numbers from 1–10000 that are divisible by all single digit besides 1 (2–9)"
   ]
  },
  {
   "cell_type": "code",
   "execution_count": null,
   "id": "24f6da4b",
   "metadata": {},
   "outputs": [],
   "source": [
    "[x for x in range(1, 10001) if all([x % d == 0 for d in range(2, 10)])]"
   ]
  },
  {
   "cell_type": "markdown",
   "id": "3c8771d5",
   "metadata": {},
   "source": [
    "**Exercise**. Create a list of all the consonants in the string “Yellow Yaks like yelling and yawning and yesturday they yodled while eating yuky yams”"
   ]
  },
  {
   "cell_type": "code",
   "execution_count": null,
   "id": "c2148c11",
   "metadata": {},
   "outputs": [],
   "source": [
    "phrase = \"Yellow Yaks like yelling and yawning and yesterday they yodled while eating yuky yams\"\n",
    "[c for c in phrase if c.lower() not in \"aeiou\"]"
   ]
  },
  {
   "cell_type": "markdown",
   "id": "fe3e2f13",
   "metadata": {},
   "source": [
    "**Exercise**. Get the index and the value as a tuple for items in the list “hi”, 4, 8.99, ‘apple’, (‘t,b’,’n’). Result would look like (index, value), (index, value)"
   ]
  },
  {
   "cell_type": "code",
   "execution_count": null,
   "id": "50bce8f7",
   "metadata": {},
   "outputs": [],
   "source": [
    "l = ['hi', 4, 8.99, 'apple', ('t,b','n')]\n",
    "[(idx, l[idx]) for idx in range(len(l))]"
   ]
  },
  {
   "cell_type": "markdown",
   "id": "e049e301",
   "metadata": {},
   "source": [
    "**Exercise**. Find the common numbers in two lists (without using a tuple or set) list_a = 1, 2, 3, 4, list_b = 2, 3, 4, 5"
   ]
  },
  {
   "cell_type": "code",
   "execution_count": null,
   "id": "c1c6dbcd",
   "metadata": {},
   "outputs": [],
   "source": [
    "list_a = [1, 2, 3, 4]\n",
    "list_b = [2, 3, 4, 5]\n",
    "[a for a in list_a if a in list_b]"
   ]
  },
  {
   "cell_type": "markdown",
   "id": "aeea1754",
   "metadata": {},
   "source": [
    "**Exercise**. Given numbers = range(20), produce a list containing the word ‘even’ if a number in the numbers is even, and the word ‘odd’ if the number is odd. Result would look like ‘odd’,’odd’, ‘even’"
   ]
  },
  {
   "cell_type": "code",
   "execution_count": null,
   "id": "3d135cad",
   "metadata": {},
   "outputs": [],
   "source": [
    "['even' if n % 2 == 0 else 'odd' for n in range(20)]"
   ]
  },
  {
   "cell_type": "markdown",
   "id": "af146bba",
   "metadata": {},
   "source": [
    "**Exercise**. Create a single string that contains the second-to-last letter of each word in text, sorted alphabetically and in lowercase. If a word is less than two letters in length, use the single character available."
   ]
  },
  {
   "cell_type": "code",
   "execution_count": null,
   "id": "8b9b1637",
   "metadata": {},
   "outputs": [],
   "source": [
    "text = \"Alice was beginning to get very tired of sitting \\\n",
    "by her sister on the bank, and of having nothing to do: \\\n",
    "once or twice she had peeped into the book her sister \\\n",
    "was reading, but it had no pictures or conversations in \\\n",
    "it, 'and what is the use of a book,' thought Alice, \\\n",
    "'without pictures or conversations?\"\n",
    "\n",
    "filtered_text = text.replace(\"'\", \"\").replace(\",\", \"\")\n",
    "selected_letters = [(l[-2] if len(l) > 1 else l).lower() for l in filtered_text.split(\" \")]\n",
    "\"\".join(sorted(selected_letters))"
   ]
  },
  {
   "cell_type": "markdown",
   "id": "2b2eaedf",
   "metadata": {},
   "source": [
    "**Exercice**. Find the average number of characters per word in text, rounded to the nearest hundredth. This value should exclude special characters, such as quotation marks and semicolons. "
   ]
  },
  {
   "cell_type": "code",
   "execution_count": null,
   "id": "8a01d69f",
   "metadata": {},
   "outputs": [],
   "source": [
    "filtered_text = text.replace(\"'\", \"\").replace(\",\", \"\")\n",
    "character_count = [len(l) for l in filtered_text.split()]\n",
    "round(sum(character_count) / len(character_count), 2)"
   ]
  },
  {
   "cell_type": "markdown",
   "id": "5cf1aafe",
   "metadata": {},
   "source": [
    "**Exercise**. The following code loads a list of Marvel names downloaded from the internet"
   ]
  },
  {
   "cell_type": "code",
   "execution_count": null,
   "id": "dd07567a",
   "metadata": {
    "scrolled": true
   },
   "outputs": [],
   "source": [
    "with open('data/Marvel-names.txt', 'r', encoding='iso-8859-1',\n",
    "                 errors='ignore') as f:\n",
    "    lines = f.readlines()\n",
    "lines[:10]"
   ]
  },
  {
   "cell_type": "markdown",
   "id": "caaa4a1e",
   "metadata": {},
   "source": [
    "a) Create a list with the character names"
   ]
  },
  {
   "cell_type": "code",
   "execution_count": null,
   "id": "9d66f804",
   "metadata": {},
   "outputs": [],
   "source": [
    "def process_line(l):\n",
    "    idx1 = l.find('\"')\n",
    "    l = l[idx1+1:]\n",
    "    idx2 = l.find('\"')\n",
    "    return l[:idx2].strip()\n",
    "\n",
    "names = [process_line(l) for l in lines]\n",
    "names[1:10]"
   ]
  },
  {
   "cell_type": "markdown",
   "id": "a13adcd1",
   "metadata": {},
   "source": [
    "b) Some characters have multiple names, separated by '/'. Modify the list so that each element becomes a list of these values. Remove empty values"
   ]
  },
  {
   "cell_type": "code",
   "execution_count": null,
   "id": "e1a74e9d",
   "metadata": {},
   "outputs": [],
   "source": [
    "all_names = [[v for v in n.split(\"/\") if len(v)>0] for n in names]\n",
    "all_names = [n for n in all_names if len(n) > 0]\n",
    "all_names[:10]"
   ]
  },
  {
   "cell_type": "markdown",
   "id": "93f1253d",
   "metadata": {},
   "source": [
    "c) Find the heroes with the largest number of names"
   ]
  },
  {
   "cell_type": "code",
   "execution_count": null,
   "id": "7e35b7e5",
   "metadata": {},
   "outputs": [],
   "source": [
    "max_cant = max((len(n) for n in all_names))\n",
    "print(max_cant)\n",
    "more_names = [v for v in all_names if len(v) == max_cant]\n",
    "more_names[:30]"
   ]
  },
  {
   "cell_type": "markdown",
   "id": "e3c258f1",
   "metadata": {},
   "source": [
    "d) Remove those characters where the first name contains less than three characters"
   ]
  },
  {
   "cell_type": "code",
   "execution_count": null,
   "id": "b0d3633b",
   "metadata": {},
   "outputs": [],
   "source": [
    "selected = [m for m in all_names if len(m[0]) > 2]\n",
    "selected"
   ]
  },
  {
   "cell_type": "markdown",
   "id": "18c1acc7",
   "metadata": {},
   "source": [
    "e) Add to each name in the list a '%' character in the begining and end"
   ]
  },
  {
   "cell_type": "code",
   "execution_count": null,
   "id": "34ce1af1",
   "metadata": {},
   "outputs": [],
   "source": [
    "[['%'+n+'%' for n in m] for m in selected]"
   ]
  },
  {
   "cell_type": "markdown",
   "id": "3c76ae93",
   "metadata": {},
   "source": [
    "### Dictionary comprehensions"
   ]
  },
  {
   "cell_type": "markdown",
   "id": "69048920",
   "metadata": {},
   "source": [
    "**Exercise**. Create a dictionary from the list with same key:value pairs, such as: {\"key\": \"key\"}."
   ]
  },
  {
   "cell_type": "code",
   "execution_count": null,
   "id": "82e31c16",
   "metadata": {
    "scrolled": true
   },
   "outputs": [],
   "source": [
    "lst=[\"NY\", \"FL\", \"CA\", \"VT\"]\n",
    "{k: k for k in lst}"
   ]
  },
  {
   "cell_type": "markdown",
   "id": "0eac9f80",
   "metadata": {},
   "source": [
    "**Exercise**. Create a dictionary where each number in the range from 100 to 160 with steps of 10 is the key and each item divided by 100 is the value."
   ]
  },
  {
   "cell_type": "code",
   "execution_count": null,
   "id": "d7cb3ce3",
   "metadata": {},
   "outputs": [],
   "source": [
    "{v: v/100 for v in range(100, 161, 10)}"
   ]
  },
  {
   "cell_type": "markdown",
   "id": "370e35fc",
   "metadata": {},
   "source": [
    "**Exercise**. Create a dictionary from the current dictionary where only the key:value pairs with value above 2000 are taken to the new dictionary."
   ]
  },
  {
   "cell_type": "code",
   "execution_count": null,
   "id": "66fb5b48",
   "metadata": {},
   "outputs": [],
   "source": [
    "dict1={\"NFLX\":4950,\"TREX\":2400,\"FIZZ\":1800, \"XPO\":1700}\n",
    "{k: v for k, v in dict1.items() if v > 2000}"
   ]
  },
  {
   "cell_type": "markdown",
   "id": "49418242",
   "metadata": {},
   "source": [
    "**Exercise**. Use a dictionary comprehension to count the length of each word in a sentence "
   ]
  },
  {
   "cell_type": "code",
   "execution_count": null,
   "id": "e9df77f1",
   "metadata": {},
   "outputs": [],
   "source": [
    "string = \"Practice Problems to Drill List Comprehension in Your Head\"\n",
    "{s: len(s) for s in string.split()}"
   ]
  },
  {
   "cell_type": "markdown",
   "id": "2c1dfb28",
   "metadata": {},
   "source": [
    "**Exercise**. For all the numbers 1–1000, use a nested list/dictionary comprehension to find the highest single digit any of the numbers is divisible by"
   ]
  },
  {
   "cell_type": "code",
   "execution_count": null,
   "id": "56df35d5",
   "metadata": {
    "scrolled": true
   },
   "outputs": [],
   "source": [
    "{x: max([d for d in range(2, 10) if x%d == 0],default=None) for x in range(1, 1001)}"
   ]
  },
  {
   "cell_type": "markdown",
   "id": "17d0f2a1",
   "metadata": {},
   "source": [
    "**Exercise**. Write a Python program to convert two lists into a dictionary in a way that item from list1 is the key and item from list2 is the value"
   ]
  },
  {
   "cell_type": "code",
   "execution_count": null,
   "id": "f8709c17",
   "metadata": {},
   "outputs": [],
   "source": [
    "keys = ['Ten', 'Twenty', 'Thirty']\n",
    "values = [10, 20, 30]\n",
    "{keys[idx]: values[idx] for idx in range(min(len(keys), len(values)))}"
   ]
  },
  {
   "cell_type": "markdown",
   "id": "748e3f3b",
   "metadata": {},
   "source": [
    "**Exercise**. Initialize dictionary with default values: create a new dictionary with provided keys an default values."
   ]
  },
  {
   "cell_type": "code",
   "execution_count": null,
   "id": "79b2f30f",
   "metadata": {},
   "outputs": [],
   "source": [
    "employees = ['Kelly', 'Emma']\n",
    "defaults = {\"designation\": 'Developer', \"salary\": 8000}\n",
    "\n",
    "{k: defaults for k in employees}"
   ]
  },
  {
   "cell_type": "markdown",
   "id": "b02ca6c6",
   "metadata": {},
   "source": [
    "**Exercise**. Create a dictionary by extracting the keys from a given dictionary"
   ]
  },
  {
   "cell_type": "code",
   "execution_count": null,
   "id": "5b5135bf",
   "metadata": {},
   "outputs": [],
   "source": [
    "sample_dict = {\n",
    "    \"name\": \"Kelly\",\n",
    "    \"age\": 25,\n",
    "    \"salary\": 8000,\n",
    "    \"city\": \"New york\"}\n",
    "\n",
    "# Keys to extract\n",
    "keys = [\"name\", \"salary\"]\n",
    "\n",
    "{k: v for k, v in sample_dict.items() if k in keys}"
   ]
  },
  {
   "cell_type": "markdown",
   "id": "a58b6b3d",
   "metadata": {},
   "source": [
    "**Exercise**. Delete a list of keys from a dictionary"
   ]
  },
  {
   "cell_type": "code",
   "execution_count": null,
   "id": "260817d2",
   "metadata": {},
   "outputs": [],
   "source": [
    "sample_dict = {\n",
    "    \"name\": \"Kelly\",\n",
    "    \"age\": 25,\n",
    "    \"salary\": 8000,\n",
    "    \"city\": \"New york\"\n",
    "}\n",
    "\n",
    "# Keys to remove\n",
    "keys = [\"name\", \"salary\"]\n",
    "\n",
    "{k: v for k, v in sample_dict.items() if k not in keys}"
   ]
  },
  {
   "cell_type": "code",
   "execution_count": null,
   "id": "c89fc7fa",
   "metadata": {},
   "outputs": [],
   "source": []
  }
 ],
 "metadata": {
  "kernelspec": {
   "display_name": "Python [conda env:python_lectures]",
   "language": "python",
   "name": "conda-env-python_lectures-py"
  },
  "language_info": {
   "codemirror_mode": {
    "name": "ipython",
    "version": 3
   },
   "file_extension": ".py",
   "mimetype": "text/x-python",
   "name": "python",
   "nbconvert_exporter": "python",
   "pygments_lexer": "ipython3",
   "version": "3.8.16"
  }
 },
 "nbformat": 4,
 "nbformat_minor": 5
}
