{
 "cells": [
  {
   "cell_type": "markdown",
   "id": "bcdac419",
   "metadata": {},
   "source": [
    "# Functional Programming\n",
    "Functional programming is a programming paradigm that treats computation as the evaluation of mathematical functions and avoids changing state and mutable data. In Python, functional programming can be achieved using various techniques and concepts. Here are some key concepts and features of functional programming in Python:\n",
    "\n",
    "- Pure Functions: Pure functions are functions that return the same output for the same input and have no side effects. \n",
    "\n",
    "- Immutability: Functional programming favors immutability, where data structures and values are not modified after they are created.\n",
    "\n",
    "- Higher-order Functions: In functional programming, functions are first-class citizens, which means they can be assigned to variables, passed as arguments to other functions, and returned as values from functions. \n",
    "\n",
    "- Lambda Functions: Lambda functions, also known as anonymous functions, are small, one-line functions that are defined without a name. \n",
    "\n",
    "\n",
    "## Python functions are first-class citizens\n",
    "\n",
    "In Python, functions are treated as objects that can be assigned to variables, passed as arguments\n",
    "to other functions, and returned as values from functions.\n",
    "This means that functions are not just a means of organizing code into reusable blocks, but they're\n",
    "also a powerful tool for building complex programs.\n",
    "\n",
    "Here's an example of how you can assign a function to a variable:"
   ]
  },
  {
   "cell_type": "code",
   "execution_count": null,
   "id": "99d796d4",
   "metadata": {},
   "outputs": [],
   "source": [
    "def square(x):\n",
    "    return x ** 2\n",
    "\n",
    "f = square"
   ]
  },
  {
   "cell_type": "markdown",
   "id": "087df138",
   "metadata": {},
   "source": [
    "In this example, we've defined a function called square that takes one argument x and returns its square. We've then assigned this function to a variable named f. This means that we can now call f the same way that the original function:"
   ]
  },
  {
   "cell_type": "code",
   "execution_count": null,
   "id": "83db4f5c",
   "metadata": {},
   "outputs": [],
   "source": [
    "result = f(5)\n",
    "print(result)"
   ]
  },
  {
   "cell_type": "markdown",
   "id": "a528a037",
   "metadata": {},
   "source": [
    "Functions can also be passed as arguments to other functions. Here's an example:"
   ]
  },
  {
   "cell_type": "code",
   "execution_count": null,
   "id": "99dc8dbe",
   "metadata": {},
   "outputs": [],
   "source": [
    "def apply_func(func, x):\n",
    "    return func(x)\n",
    "\n",
    "result = apply_func(square, 5)\n",
    "print(result)"
   ]
  },
  {
   "cell_type": "markdown",
   "id": "bc5f4e9c",
   "metadata": {},
   "source": [
    "Passing functions has many useful applications in python. For example, in the **map** function."
   ]
  },
  {
   "cell_type": "code",
   "execution_count": null,
   "id": "4a355f2a",
   "metadata": {},
   "outputs": [],
   "source": [
    "numbers = [2, 3, 4, 5, 6]\n",
    "\n",
    "def double(x):\n",
    "    return x * 2\n",
    "\n",
    "def power2(x):\n",
    "    return x**2\n",
    "\n",
    "def my_map(values, fn):\n",
    "    return [fn(v) for v in values]\n",
    "\n",
    "my_map(numbers, double)"
   ]
  },
  {
   "cell_type": "code",
   "execution_count": null,
   "id": "a4f5a015",
   "metadata": {},
   "outputs": [],
   "source": [
    "my_map(numbers, power2)"
   ]
  },
  {
   "cell_type": "markdown",
   "id": "ad1e3e6a",
   "metadata": {},
   "source": [
    "We can chain maps together, like in this example"
   ]
  },
  {
   "cell_type": "code",
   "execution_count": null,
   "id": "756d617e",
   "metadata": {},
   "outputs": [],
   "source": [
    "my_map(my_map(numbers, double), power2)"
   ]
  },
  {
   "cell_type": "markdown",
   "id": "0f8396a1",
   "metadata": {},
   "source": [
    "Function can also be returned by other functions, like in this example:"
   ]
  },
  {
   "cell_type": "code",
   "execution_count": null,
   "id": "1e25e331",
   "metadata": {},
   "outputs": [],
   "source": [
    "def create_adder(x):\n",
    "    def adder(y):\n",
    "        return x + y\n",
    "    return adder"
   ]
  },
  {
   "cell_type": "code",
   "execution_count": null,
   "id": "2a03fbf5",
   "metadata": {},
   "outputs": [],
   "source": [
    "add5 = create_adder(5)\n",
    "print(add5(3))\n",
    "print(add5(12))"
   ]
  },
  {
   "cell_type": "code",
   "execution_count": null,
   "id": "5faaf954",
   "metadata": {},
   "outputs": [],
   "source": [
    "add10 = create_adder(10)\n",
    "print(add10(24))\n",
    "print(add10(124))"
   ]
  },
  {
   "cell_type": "markdown",
   "id": "687eeb35",
   "metadata": {},
   "source": [
    "In this example, we define a function called create_adder() that takes a single argument x. The\n",
    "create_adder() function defines a new function called adder() inside of it, which takes a single\n",
    "argument y and returns the sum of x and y.\n",
    "\n",
    "The create_adder() function then returns the adder() function. When we call create_adder() and\n",
    "pass it a value of 5, for example, we get back a function that adds 5 to its argument.\n",
    "We can then assign the returned function to a new variable, such as add5.\n",
    "\n",
    "When we call add5(3), it calls the adder() function that was returned by create_adder(5) and passes in 3 as the argument. This results in the value 8 being returned.\n",
    "Similarly, we can call create_adder() again with a value of 10, and assign the returned function to\n",
    "a new variable called add10. When we call add10(24), it calls the adder() function that was returned\n",
    "by create_adder(10) and passes in 3 as the argument. This results in the value 343 being returned.\n",
    "\n",
    "Note: add5 and add10 are functions, indistinguible from other statically created functions"
   ]
  },
  {
   "cell_type": "code",
   "execution_count": null,
   "id": "886f5fa1",
   "metadata": {},
   "outputs": [],
   "source": [
    "type(add5)"
   ]
  },
  {
   "cell_type": "markdown",
   "id": "ffc426aa",
   "metadata": {},
   "source": [
    "Here are some additional examples of functions returning functions in Python. Practicing with\n",
    "these examples can help students master the concept."
   ]
  },
  {
   "cell_type": "code",
   "execution_count": null,
   "id": "f0eb5994",
   "metadata": {},
   "outputs": [],
   "source": [
    "def create_divisibility_checker(divisor):\n",
    "    def is_divisible(n):\n",
    "        return n % divisor == 0\n",
    "    \n",
    "    return is_divisible\n",
    "\n",
    "check_for_2 = create_divisibility_checker(2)\n",
    "check_for_3 = create_divisibility_checker(3)\n",
    "print(check_for_2(10))\n",
    "print(check_for_2(7))\n",
    "print(check_for_3(9))\n",
    "print(check_for_3(8))"
   ]
  },
  {
   "cell_type": "code",
   "execution_count": null,
   "id": "e490b592",
   "metadata": {},
   "outputs": [],
   "source": [
    "def power(n):\n",
    "    def inner(x):\n",
    "        return x ** n\n",
    "    \n",
    "    return inner\n",
    "\n",
    "cube = power(3)\n",
    "print(cube(2))"
   ]
  },
  {
   "cell_type": "code",
   "execution_count": null,
   "id": "6f6fbb3b",
   "metadata": {},
   "outputs": [],
   "source": [
    "def contains_substring(substring):\n",
    "    def inner(s):\n",
    "        return substring in s\n",
    "    return inner\n",
    "\n",
    "contains_hello = contains_substring(\"hello\")\n",
    "print(contains_hello(\"hello world\")) # Output: True\n",
    "\n",
    "print(contains_hello(\"goodbye\"))"
   ]
  },
  {
   "cell_type": "markdown",
   "id": "c2b476f2",
   "metadata": {},
   "source": [
    "## Function decorators\n",
    "\n",
    "Decorators are a powerful pattern in Python that allows modifying or extending the behavior of functions or classes. Decorators often involve returning a function from another function."
   ]
  },
  {
   "cell_type": "code",
   "execution_count": null,
   "id": "8e415299",
   "metadata": {},
   "outputs": [],
   "source": [
    "import time\n",
    "\n",
    "def log_execution_time(func):\n",
    "    def wrapper(*args, **kwargs):\n",
    "        start_time = time.time()\n",
    "        result = func(*args, **kwargs)\n",
    "        end_time = time.time()\n",
    "        execution_time = end_time - start_time\n",
    "        print(f\"Function '{func.__name__}' took {execution_time} seconds to execute.\")\n",
    "        return result\n",
    "    return wrapper"
   ]
  },
  {
   "cell_type": "code",
   "execution_count": null,
   "id": "b5f1957f",
   "metadata": {},
   "outputs": [],
   "source": [
    "@log_execution_time\n",
    "def sum_numbers():\n",
    "    v = 0\n",
    "    for i in range(100000):\n",
    "        v += i\n",
    "    return v\n",
    "\n",
    "sum_numbers()  # Executes the function and logs the execution time"
   ]
  },
  {
   "cell_type": "code",
   "execution_count": null,
   "id": "2eb68ac1",
   "metadata": {},
   "outputs": [],
   "source": [
    "@log_execution_time\n",
    "def factorial(n):\n",
    "    result = 1\n",
    "    for i in range(2,n+1):\n",
    "        result *= i\n",
    "    return result\n",
    "    \n",
    "factorial(100)"
   ]
  },
  {
   "cell_type": "markdown",
   "id": "07f6f3a6",
   "metadata": {},
   "source": [
    "## Lambda functions\n",
    "\n",
    "Lambda functions, also known as anonymous functions, are small, one-line functions in Python that are defined without a name. They are a convenient way to create simple, inline functions without the need for a formal function definition.\n",
    "\n",
    "Here's the general syntax of a lambda function:\n",
    "\n",
    "**lambda** _arguments_: _expression_\n",
    "\n",
    "Lets see some examples:"
   ]
  },
  {
   "cell_type": "code",
   "execution_count": null,
   "id": "dac32a60",
   "metadata": {},
   "outputs": [],
   "source": [
    "add = lambda x, y: x + y\n",
    "\n",
    "add(3, 5)  "
   ]
  },
  {
   "cell_type": "markdown",
   "id": "b2cc1496",
   "metadata": {},
   "source": [
    "This is equivalent to the following function:"
   ]
  },
  {
   "cell_type": "code",
   "execution_count": null,
   "id": "71269b79",
   "metadata": {},
   "outputs": [],
   "source": [
    "def add2(x, y):\n",
    "    return x + y\n",
    "\n",
    "add2(3, 5)"
   ]
  },
  {
   "cell_type": "markdown",
   "id": "464021b1",
   "metadata": {},
   "source": [
    "Other examples:"
   ]
  },
  {
   "cell_type": "code",
   "execution_count": null,
   "id": "5790c6c8",
   "metadata": {},
   "outputs": [],
   "source": [
    "square = lambda x: x ** 2\n",
    "square(4)  "
   ]
  },
  {
   "cell_type": "code",
   "execution_count": null,
   "id": "93c79eb4",
   "metadata": {},
   "outputs": [],
   "source": [
    "my_max = lambda x, y: x if x > y else y\n",
    "my_max(4, 8)"
   ]
  },
  {
   "cell_type": "markdown",
   "id": "284f9359",
   "metadata": {},
   "source": [
    "Now, lets get lambda in action together in frequent contexts"
   ]
  },
  {
   "cell_type": "code",
   "execution_count": null,
   "id": "1aa69e31",
   "metadata": {},
   "outputs": [],
   "source": [
    "data = [(3, 'apple'), (1, 'banana'), (2, 'cherry')]\n",
    "sorted(data, key=lambda x: x[0])"
   ]
  },
  {
   "cell_type": "code",
   "execution_count": null,
   "id": "780363b9",
   "metadata": {},
   "outputs": [],
   "source": [
    "sorted(data, key=lambda x: -x[0])"
   ]
  },
  {
   "cell_type": "code",
   "execution_count": null,
   "id": "5cb99b0b",
   "metadata": {},
   "outputs": [],
   "source": [
    "sorted(data, key=lambda x: x[1])"
   ]
  },
  {
   "cell_type": "code",
   "execution_count": null,
   "id": "95e5e519",
   "metadata": {},
   "outputs": [],
   "source": [
    "values = [3, 6, 2, 8, 10, 45, 4, 32, 17]\n",
    "list(map(lambda x: x**2, values))"
   ]
  },
  {
   "cell_type": "code",
   "execution_count": null,
   "id": "51f7873e",
   "metadata": {},
   "outputs": [],
   "source": [
    "list(filter(lambda x: x >= 10, values))"
   ]
  },
  {
   "cell_type": "code",
   "execution_count": null,
   "id": "ad37a65d",
   "metadata": {},
   "outputs": [],
   "source": [
    "names = ['Alice', 'Bob', 'Charlie']\n",
    "ages = [25, 18, 22]\n",
    "\n",
    "list(map(lambda x: f\"Name: {x[0]}, Age: {x[1]}\", zip(names, ages)))"
   ]
  },
  {
   "cell_type": "code",
   "execution_count": null,
   "id": "df32166a",
   "metadata": {},
   "outputs": [],
   "source": [
    "students = [{'name': 'Alice', 'age': 25}, {'name': 'Bob', 'age': 18}, {'name': 'Charlie', 'age': 22}]\n",
    "students.sort(key=lambda x: x['age'])\n",
    "students"
   ]
  },
  {
   "cell_type": "code",
   "execution_count": null,
   "id": "92c042df",
   "metadata": {},
   "outputs": [],
   "source": [
    "list1 = [1, 2, 3, 4, 5]\n",
    "list2 = [10, 20, 30, 40, 50]\n",
    "list(map(lambda x, y: x * y, list1, list2))"
   ]
  },
  {
   "cell_type": "markdown",
   "id": "e35b3f68",
   "metadata": {},
   "source": [
    "## Some functional programming tools in action\n",
    "\n",
    "**partial**: Allows you to fix a certain number of arguments of a function and generate a new function with those fixed arguments. Here's an example:"
   ]
  },
  {
   "cell_type": "code",
   "execution_count": null,
   "id": "2a331aae",
   "metadata": {},
   "outputs": [],
   "source": [
    "from functools import partial, reduce, lru_cache\n",
    "\n",
    "def power(base, exponent):\n",
    "    return base ** exponent\n",
    "\n",
    "square = partial(power, exponent=2)\n",
    "cube = partial(power, exponent=3)\n",
    "\n",
    "# Call the new functions\n",
    "result1 = square(5)  # Equivalent to power(5, 2)\n",
    "result2 = cube(3)  # Equivalent to power(3, 3)\n",
    "\n",
    "print(result1)  \n",
    "print(result2)  "
   ]
  },
  {
   "cell_type": "markdown",
   "id": "d5cf5aae",
   "metadata": {},
   "source": [
    "**reduce**"
   ]
  },
  {
   "cell_type": "code",
   "execution_count": null,
   "id": "bab4f378",
   "metadata": {},
   "outputs": [],
   "source": [
    "values = [3, 6, 2, 8, 10, 45, 4, 32, 17]\n",
    "reduce(lambda x, y: x+y, values)"
   ]
  },
  {
   "cell_type": "code",
   "execution_count": null,
   "id": "91c0fa51",
   "metadata": {
    "scrolled": true
   },
   "outputs": [],
   "source": [
    "reduce(lambda x, y: max(x, y), values)"
   ]
  },
  {
   "cell_type": "code",
   "execution_count": null,
   "id": "b2589823",
   "metadata": {},
   "outputs": [],
   "source": [
    "reduce(lambda x, y: min(x, y), values)"
   ]
  },
  {
   "cell_type": "code",
   "execution_count": null,
   "id": "0317791f",
   "metadata": {},
   "outputs": [],
   "source": [
    "reduce(lambda x, y: x + y, [(2, 4, 6), (5, 1, 8), (0, 10)])"
   ]
  },
  {
   "cell_type": "markdown",
   "id": "644fcc1d",
   "metadata": {},
   "source": [
    "**lru_cache**(maxsize=128): Decorator to cache the results of a function."
   ]
  },
  {
   "cell_type": "code",
   "execution_count": null,
   "id": "52bf870e",
   "metadata": {},
   "outputs": [],
   "source": [
    "import time\n",
    "\n",
    "# Without lru_cache\n",
    "def fibonacci_without_cache(n):\n",
    "    if n <= 1:\n",
    "        return n\n",
    "    else:\n",
    "        return fibonacci_without_cache(n - 1) + fibonacci_without_cache(n - 2)\n",
    "\n",
    "# With lru_cache\n",
    "@lru_cache(maxsize=None)\n",
    "def fibonacci_with_cache(n):\n",
    "    if n <= 1:\n",
    "        return n\n",
    "    else:\n",
    "        return fibonacci_with_cache(n - 1) + fibonacci_with_cache(n - 2)\n",
    "\n",
    "# Calculate Fibonacci without lru_cache\n",
    "start_time = time.time()\n",
    "fibonacci_without_cache(30)  # Adjust the value as needed\n",
    "end_time = time.time()\n",
    "time_taken_without_cache = end_time - start_time\n",
    "\n",
    "# Calculate Fibonacci with lru_cache\n",
    "start_time = time.time()\n",
    "fibonacci_with_cache(30)  # Adjust the value as needed\n",
    "end_time = time.time()\n",
    "time_taken_with_cache = end_time - start_time\n",
    "\n",
    "# Compare time taken\n",
    "print(\"Time taken without lru_cache: {:.6f} seconds\".format(time_taken_without_cache))\n",
    "print(\"Time taken with lru_cache: {:.6f} seconds\".format(time_taken_with_cache))\n",
    "\n"
   ]
  },
  {
   "cell_type": "markdown",
   "id": "e5d45b1d",
   "metadata": {},
   "source": [
    "## Solved exercises"
   ]
  },
  {
   "cell_type": "markdown",
   "id": "962bc76f",
   "metadata": {},
   "source": [
    "**Exercise**. Create a function to add two numbers. Assign it to a variable. Call the function using the variable"
   ]
  },
  {
   "cell_type": "code",
   "execution_count": null,
   "id": "48a5e934",
   "metadata": {},
   "outputs": [],
   "source": [
    "def adder(x, y):\n",
    "    return x + y\n",
    "\n",
    "fn = adder\n",
    "fn(3, 4)"
   ]
  },
  {
   "cell_type": "code",
   "execution_count": null,
   "id": "42ae0264",
   "metadata": {
    "scrolled": true
   },
   "outputs": [],
   "source": [
    "adder2 = lambda x, y: x+y\n",
    "adder2(3, 4)"
   ]
  },
  {
   "cell_type": "markdown",
   "id": "99e9b9dc",
   "metadata": {},
   "source": [
    "**Exercise**. Create a function to add 10 to a number. Reuse previously created function"
   ]
  },
  {
   "cell_type": "code",
   "execution_count": null,
   "id": "84a83be8",
   "metadata": {},
   "outputs": [],
   "source": [
    "def add10(x):\n",
    "    return adder(10, x)\n",
    "\n",
    "add10(24)"
   ]
  },
  {
   "cell_type": "code",
   "execution_count": null,
   "id": "d6692a92",
   "metadata": {
    "scrolled": true
   },
   "outputs": [],
   "source": [
    "add10 = lambda x: adder(10, x)\n",
    "add10(24)"
   ]
  },
  {
   "cell_type": "code",
   "execution_count": null,
   "id": "43d3ab75",
   "metadata": {},
   "outputs": [],
   "source": [
    "add10 = partial(adder, y=10)\n",
    "add10(24)"
   ]
  },
  {
   "cell_type": "markdown",
   "id": "ab583853",
   "metadata": {},
   "source": [
    "**Exercise**. Create a function that apply a list of functions to a given value"
   ]
  },
  {
   "cell_type": "code",
   "execution_count": null,
   "id": "22d6bd7f",
   "metadata": {},
   "outputs": [],
   "source": [
    "add = lambda x, y: x + y\n",
    "multiply = lambda x, y: x * y\n",
    "substract = lambda x, y: x - y"
   ]
  },
  {
   "cell_type": "code",
   "execution_count": null,
   "id": "aac51a3c",
   "metadata": {},
   "outputs": [],
   "source": [
    "add10 = partial(add, 10)\n",
    "double = partial(multiply, 2)\n",
    "substract5 = partial(substract, y=2)"
   ]
  },
  {
   "cell_type": "code",
   "execution_count": null,
   "id": "2531f97b",
   "metadata": {},
   "outputs": [],
   "source": [
    "def apply_fn(functions, value):\n",
    "    result = value\n",
    "    for fn in functions:\n",
    "        result = fn(result)\n",
    "    return result"
   ]
  },
  {
   "cell_type": "code",
   "execution_count": null,
   "id": "35960b25",
   "metadata": {},
   "outputs": [],
   "source": [
    "apply_fn([add10], 23)"
   ]
  },
  {
   "cell_type": "code",
   "execution_count": null,
   "id": "c7f36603",
   "metadata": {},
   "outputs": [],
   "source": [
    "apply_fn([double, add10, substract5], 9)"
   ]
  },
  {
   "cell_type": "code",
   "execution_count": null,
   "id": "68734826",
   "metadata": {},
   "outputs": [],
   "source": [
    "apply_fn([double, add10, substract5, str], 9)"
   ]
  },
  {
   "cell_type": "code",
   "execution_count": null,
   "id": "ad66b10e",
   "metadata": {
    "scrolled": true
   },
   "outputs": [],
   "source": [
    "apply_fn([double, add10, substract5, str, len], 9)"
   ]
  },
  {
   "cell_type": "code",
   "execution_count": null,
   "id": "1beab999",
   "metadata": {},
   "outputs": [],
   "source": [
    "apply_fn([double, add10, substract5, str, len, double], 9)"
   ]
  },
  {
   "cell_type": "markdown",
   "id": "6d6f9fb2",
   "metadata": {},
   "source": [
    "**Exercise**. Similar to the previous one, but create a dictionary with the existing operations. Then, define a pipeline as a comma separated string."
   ]
  },
  {
   "cell_type": "code",
   "execution_count": null,
   "id": "66ce4558",
   "metadata": {},
   "outputs": [],
   "source": [
    "ops = {\n",
    "    'double': double,\n",
    "    'add10': add10,\n",
    "    'substract5': substract5,\n",
    "    'str': str,\n",
    "    'len': len\n",
    "}\n",
    "\n",
    "def apply_pipeline(pipeline, value):\n",
    "    result = value\n",
    "    for p in pipeline.split(\",\"):\n",
    "        result = ops[p.strip()](result)\n",
    "    return result\n",
    "    \n",
    "apply_pipeline(\"double,add10,substract5,str,len,double\", 9)"
   ]
  },
  {
   "cell_type": "markdown",
   "id": "d2a77e7c",
   "metadata": {},
   "source": [
    "**Exercise**. Create a function to dynamically create arithmetic operators. The operator is provided in a string parameter"
   ]
  },
  {
   "cell_type": "code",
   "execution_count": null,
   "id": "fee2edba",
   "metadata": {},
   "outputs": [],
   "source": [
    "def create_arithmetic_function(operator):\n",
    "    if operator == \"+\":\n",
    "        return lambda x, y: x + y\n",
    "    elif operator == \"-\":\n",
    "        return lambda x, y: x - y\n",
    "    elif operator == \"*\":\n",
    "        return lambda x, y: x - y\n",
    "    elif operator == \"/\":\n",
    "        return lambda x, y: x / y\n",
    "    else:\n",
    "        raise ValueError(\"Unsupported operator\")\n",
    "\n",
    "adder = create_arithmetic_function(\"+\")\n",
    "adder(5, 3)  "
   ]
  },
  {
   "cell_type": "code",
   "execution_count": null,
   "id": "14d2f67f",
   "metadata": {},
   "outputs": [],
   "source": [
    "divider = create_arithmetic_function(\"/\")\n",
    "divider(14, 7)"
   ]
  },
  {
   "cell_type": "markdown",
   "id": "b5143f9d",
   "metadata": {},
   "source": [
    "**Exercise**. A list contains dictionaries with name, gender, and age. "
   ]
  },
  {
   "cell_type": "code",
   "execution_count": null,
   "id": "af86eb24",
   "metadata": {},
   "outputs": [],
   "source": [
    "people = [\n",
    "    {\"name\": \"Grace\", \"age\": 51, \"gender\": \"female\"},\n",
    "    {\"name\": \"Alice\", \"age\": 25, \"gender\": \"female\"},\n",
    "    {\"name\": \"Bob\", \"age\": 32, \"gender\": \"male\"},\n",
    "    {\"name\": \"Frank\", \"age\": 38, \"gender\": \"male\"},\n",
    "    {\"name\": \"Charlie\", \"age\": 42, \"gender\": \"male\"},\n",
    "    {\"name\": \"David\", \"age\": 19, \"gender\": \"male\"},\n",
    "    {\"name\": \"Eve\", \"age\": 29, \"gender\": \"female\"},\n",
    "]"
   ]
  },
  {
   "cell_type": "markdown",
   "id": "5e5e29bd",
   "metadata": {},
   "source": [
    "a) Sort persons by name"
   ]
  },
  {
   "cell_type": "code",
   "execution_count": null,
   "id": "27a36ba9",
   "metadata": {},
   "outputs": [],
   "source": [
    "sorted(people, key=lambda x: x['name'])"
   ]
  },
  {
   "cell_type": "markdown",
   "id": "f50eb2bd",
   "metadata": {},
   "source": [
    "b) Sort persons by age descendent"
   ]
  },
  {
   "cell_type": "code",
   "execution_count": null,
   "id": "24c1075c",
   "metadata": {
    "scrolled": true
   },
   "outputs": [],
   "source": [
    "sorted(people, key=lambda x: x['age'], reverse=True)"
   ]
  },
  {
   "cell_type": "markdown",
   "id": "1a9a7a7f",
   "metadata": {},
   "source": [
    "c) Sort alphabetically by the last character of the name"
   ]
  },
  {
   "cell_type": "code",
   "execution_count": null,
   "id": "7abfdfe5",
   "metadata": {},
   "outputs": [],
   "source": [
    "sorted(people, key=lambda x: x['name'][-1])"
   ]
  },
  {
   "cell_type": "markdown",
   "id": "3ef82665",
   "metadata": {},
   "source": [
    "d) Calculate how many are female and male"
   ]
  },
  {
   "cell_type": "code",
   "execution_count": null,
   "id": "6cd86816",
   "metadata": {},
   "outputs": [],
   "source": [
    "import itertools as it\n",
    "\n",
    "sorted_by_gender = sorted(people, key=lambda x: x['gender'])\n",
    "[{\"gender\": k, \"count\": len(list(v))} for k, v in it.groupby(sorted_by_gender, key=lambda x : x['gender'])]"
   ]
  },
  {
   "cell_type": "markdown",
   "id": "c716e3f8",
   "metadata": {},
   "source": [
    "e) Get the total age for each gender"
   ]
  },
  {
   "cell_type": "code",
   "execution_count": null,
   "id": "95f1ad80",
   "metadata": {},
   "outputs": [],
   "source": [
    "[(k, sum(v['age'] for v in group)) for k, group in it.groupby(sorted_by_gender, key=lambda x : x['gender'])]"
   ]
  },
  {
   "cell_type": "markdown",
   "id": "4fde10bd",
   "metadata": {},
   "source": [
    "**Exercise**. The following lines of code load exchange data for EUR / USD convertion rates in a time period"
   ]
  },
  {
   "cell_type": "code",
   "execution_count": null,
   "id": "9c79eb3e",
   "metadata": {},
   "outputs": [],
   "source": [
    "import csv\n",
    "from datetime import datetime\n",
    "\n",
    "def parse_float(value):\n",
    "    try:\n",
    "        # Attempt to parse the value as a float\n",
    "        result = float(value)\n",
    "        return result\n",
    "    except ValueError:\n",
    "        # If an error occurs, return None or any other default value\n",
    "        return None\n",
    "    \n",
    "with open(\"data/Foreign_Exchange_Rates.csv\", 'r') as file:\n",
    "    csv_reader = csv.reader(file)\n",
    "    lines = [l for l in csv_reader]\n",
    "rates = [t for t in ((datetime.strptime(l[1], \"%Y-%m-%d\").date(), parse_float(l[3])) for l in  lines if l[0] !=\"\") if t[1] is not None]\n",
    "rates[:5]"
   ]
  },
  {
   "cell_type": "markdown",
   "id": "9771b615",
   "metadata": {},
   "source": [
    "a) Get the day where the exchange is maximum"
   ]
  },
  {
   "cell_type": "code",
   "execution_count": null,
   "id": "b2439d87",
   "metadata": {},
   "outputs": [],
   "source": [
    "def get_rate(t):\n",
    "    return t[1]\n",
    "\n",
    "max(rates, key=get_rate)"
   ]
  },
  {
   "cell_type": "code",
   "execution_count": null,
   "id": "39b75df7",
   "metadata": {},
   "outputs": [],
   "source": [
    "max(rates, key=lambda t: t[1])"
   ]
  },
  {
   "cell_type": "markdown",
   "id": "d577ea60",
   "metadata": {},
   "source": [
    "b) Get the time interval where data is available"
   ]
  },
  {
   "cell_type": "code",
   "execution_count": null,
   "id": "a034c15a",
   "metadata": {},
   "outputs": [],
   "source": [
    "min(rates, key=lambda t: t[0]), max(rates, key=lambda t: t[0])"
   ]
  },
  {
   "cell_type": "markdown",
   "id": "d26f40d2",
   "metadata": {},
   "source": [
    "c) sort all the rates in descent order"
   ]
  },
  {
   "cell_type": "code",
   "execution_count": null,
   "id": "12d40459",
   "metadata": {},
   "outputs": [],
   "source": [
    "sorted(rates, key=lambda x: -x[1])"
   ]
  },
  {
   "cell_type": "markdown",
   "id": "065a4d9a",
   "metadata": {},
   "source": [
    "d) Get the maximum rate by month in available data"
   ]
  },
  {
   "cell_type": "code",
   "execution_count": null,
   "id": "65a43722",
   "metadata": {
    "scrolled": true
   },
   "outputs": [],
   "source": [
    "ordered_rates = sorted(rates, key=lambda t: t[0])\n",
    "rates_by_month = [(month, list(g[1] for g in group_elements)) for month, group_elements in \n",
    "                  it.groupby(ordered_rates, key=lambda t: (t[0].month, t[0].year))]\n",
    "\n",
    "[(month, max(values)) for month, values in rates_by_month]"
   ]
  },
  {
   "cell_type": "markdown",
   "id": "3dd06263",
   "metadata": {},
   "source": [
    "**Exercise**. Using map and filter, construct a list from the squares of each element in the list, if the square is greater than 50."
   ]
  },
  {
   "cell_type": "code",
   "execution_count": null,
   "id": "4bb88732",
   "metadata": {},
   "outputs": [],
   "source": [
    "l = [2, 4, 6, 8, 10, 12, 14]\n",
    "result = filter(lambda x: x < 50, map(lambda x: x**2, l))\n",
    "list(result)"
   ]
  },
  {
   "cell_type": "markdown",
   "id": "641049f3",
   "metadata": {},
   "source": [
    "**Exercise**. Using map and filter, construct a list from the squares of numbers greather than 8"
   ]
  },
  {
   "cell_type": "code",
   "execution_count": null,
   "id": "3dfa389e",
   "metadata": {},
   "outputs": [],
   "source": [
    "l = [2, 4, 6, 8, 10, 12, 14]\n",
    "result = map(lambda x: x**2, filter(lambda x: x > 8, l))\n",
    "list(result)"
   ]
  },
  {
   "cell_type": "markdown",
   "id": "2ddf19c5",
   "metadata": {},
   "source": [
    "**Exercise**. Using map and filter, find all of the numbers from 1–1000 that are divisible by 8"
   ]
  },
  {
   "cell_type": "code",
   "execution_count": null,
   "id": "e10278ee",
   "metadata": {},
   "outputs": [],
   "source": [
    "result = filter(lambda x: x%8==0, range(1, 1001))\n",
    "list(result)"
   ]
  },
  {
   "cell_type": "markdown",
   "id": "7bd9c85e",
   "metadata": {},
   "source": [
    "**Exercise**. Using map and filter, return the count of the digit 6 for each number in the range 1-100, excluding numbers that do not contain any 6s."
   ]
  },
  {
   "cell_type": "code",
   "execution_count": null,
   "id": "b92c7adc",
   "metadata": {},
   "outputs": [],
   "source": [
    "result = map(lambda x: x[0], filter(lambda x: x[1] > 0,  map(lambda x: (x, str(x).count('6')), range(1, 101))))\n",
    "list(result)"
   ]
  },
  {
   "cell_type": "markdown",
   "id": "aeea1754",
   "metadata": {},
   "source": [
    "**Exercise**. Given numbers = range(20), produce a list using map and filter containing tuples of the numbers and the word ‘even’ if a number in the numbers is even, and the word ‘odd’ if the number is odd. Result would look like ‘odd’,’odd’, ‘even’"
   ]
  },
  {
   "cell_type": "code",
   "execution_count": null,
   "id": "3d135cad",
   "metadata": {
    "scrolled": true
   },
   "outputs": [],
   "source": [
    "result = map(lambda x: (x, \"even\" if x%2==0 else \"odd\"), range(20))\n",
    "list(result)"
   ]
  },
  {
   "cell_type": "code",
   "execution_count": null,
   "id": "aadd6f54",
   "metadata": {},
   "outputs": [],
   "source": [
    "from itertools import cycle\n",
    "result = zip(range(20), cycle([\"even\", \"odd\"]))\n",
    "list(result)"
   ]
  },
  {
   "cell_type": "markdown",
   "id": "5f4b78f3",
   "metadata": {},
   "source": [
    "**Exercise**. Find the Product of a List of Numbers"
   ]
  },
  {
   "cell_type": "code",
   "execution_count": null,
   "id": "9d9ba41d",
   "metadata": {},
   "outputs": [],
   "source": [
    "numbers = [2, 3, 4, 5]\n",
    "reduce(lambda x, y: x * y, numbers)"
   ]
  },
  {
   "cell_type": "markdown",
   "id": "9f2aadbd",
   "metadata": {},
   "source": [
    "**Exercise**. Using reduce, concatenate a list of tuples"
   ]
  },
  {
   "cell_type": "code",
   "execution_count": null,
   "id": "34b186e8",
   "metadata": {},
   "outputs": [],
   "source": [
    "reduce(lambda x, y: x + y, [(2, 3, 4), (5, 6), (7, 6)])"
   ]
  },
  {
   "cell_type": "markdown",
   "id": "c1af7b74",
   "metadata": {},
   "source": [
    "**Exercise**. Calculate the factorial of a number"
   ]
  },
  {
   "cell_type": "code",
   "execution_count": null,
   "id": "9d4a34fc",
   "metadata": {
    "scrolled": true
   },
   "outputs": [],
   "source": [
    "def factorial(n):\n",
    "    return reduce(lambda x, y: x * y, range(1, n + 1))\n",
    "\n",
    "factorial(5)"
   ]
  },
  {
   "cell_type": "markdown",
   "id": "f9e23489",
   "metadata": {},
   "source": [
    "**Exercise**. Check if all elements in a list satisfy a condition:"
   ]
  },
  {
   "cell_type": "code",
   "execution_count": null,
   "id": "59e10045",
   "metadata": {},
   "outputs": [],
   "source": [
    "def check_all(l, condition):\n",
    "    return reduce(lambda x, y: x and condition(y), l)\n",
    "\n",
    "check_all([10, 20, 30, 40, 50], lambda x: x > 0)"
   ]
  },
  {
   "cell_type": "markdown",
   "id": "b41053f7",
   "metadata": {},
   "source": [
    "**Exercise**. Find the longest word in a list"
   ]
  },
  {
   "cell_type": "code",
   "execution_count": null,
   "id": "05ffd47b",
   "metadata": {},
   "outputs": [],
   "source": [
    "words = [\"apple\", \"banana\", \"oranges\", \"kiwi\"]\n",
    "reduce(lambda x, y: x if len(x) > len(y) else y, words)"
   ]
  },
  {
   "cell_type": "markdown",
   "id": "5c2a8d15",
   "metadata": {},
   "source": [
    "**Exercise**. Count the Frequency of Elements in a List"
   ]
  },
  {
   "cell_type": "code",
   "execution_count": null,
   "id": "76a070c9",
   "metadata": {},
   "outputs": [],
   "source": [
    "numbers = [5, 2, 4, 2, 1, 3, 2, 3, 5]\n",
    "\n",
    "reduce(lambda x, y: {**x, y: x.get(y, 0) + 1}, numbers, {})"
   ]
  },
  {
   "cell_type": "markdown",
   "id": "82da2d91",
   "metadata": {},
   "source": [
    "**Exercise**. Find the Intersection of Multiple Sets:"
   ]
  },
  {
   "cell_type": "code",
   "execution_count": null,
   "id": "89a5f6e3",
   "metadata": {},
   "outputs": [],
   "source": [
    "sets = [{1, 2, 3}, {2, 3, 4}, {3, 4, 5}]\n",
    "\n",
    "reduce(lambda x, y: x.intersection(y), sets)"
   ]
  },
  {
   "cell_type": "markdown",
   "id": "af35d5ff",
   "metadata": {},
   "source": [
    "Use reduce to apply a chain of functions\n",
    "- Note: use the same functions we used before in apply_fn([double, add10, substract5, str, len, double], 9)"
   ]
  },
  {
   "cell_type": "code",
   "execution_count": null,
   "id": "2afe920b",
   "metadata": {},
   "outputs": [],
   "source": [
    "reduce(lambda x, fn: fn(x), [double, add10, substract5, str, len, double], 9)"
   ]
  }
 ],
 "metadata": {
  "kernelspec": {
   "display_name": "Python [conda env:python_lectures]",
   "language": "python",
   "name": "conda-env-python_lectures-py"
  },
  "language_info": {
   "codemirror_mode": {
    "name": "ipython",
    "version": 3
   },
   "file_extension": ".py",
   "mimetype": "text/x-python",
   "name": "python",
   "nbconvert_exporter": "python",
   "pygments_lexer": "ipython3",
   "version": "3.8.16"
  }
 },
 "nbformat": 4,
 "nbformat_minor": 5
}
