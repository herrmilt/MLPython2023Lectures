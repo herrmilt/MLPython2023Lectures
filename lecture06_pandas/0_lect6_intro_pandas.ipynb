{
 "cells": [
  {
   "cell_type": "markdown",
   "id": "9911371c",
   "metadata": {},
   "source": [
    "# Lecture 6. Introduction to Pandas\n",
    "\n",
    "Outline:\n",
    "- [Introduction to Pandas](pandas_intro.ipynb)\n",
    "- [Processing Real Data with Pandas](proc_real_data5.ipynb)\n",
    "- [Exercises](exercises.ipynb)"
   ]
  }
 ],
 "metadata": {
  "kernelspec": {
   "display_name": "python_lectures",
   "language": "python",
   "name": "python_lectures"
  },
  "language_info": {
   "codemirror_mode": {
    "name": "ipython",
    "version": 3
   },
   "file_extension": ".py",
   "mimetype": "text/x-python",
   "name": "python",
   "nbconvert_exporter": "python",
   "pygments_lexer": "ipython3",
   "version": "3.8.16"
  }
 },
 "nbformat": 4,
 "nbformat_minor": 5
}
