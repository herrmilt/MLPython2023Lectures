{
 "cells": [
  {
   "cell_type": "code",
   "execution_count": 8,
   "id": "ed49d646",
   "metadata": {
    "scrolled": true
   },
   "outputs": [
    {
     "name": "stdout",
     "output_type": "stream",
     "text": [
      "   1          BD+44 4550      3 36042          46           000001.1+444022000509.9+451345114.44-16.88 6.70  +0.07 +0.08         A1Vn               -0.012-0.018      -018      195  4.2  21.6AC   3\r\n",
      "   2          BD-01 4525      6128569                       235956.2-010330000503.8-003011 98.33-61.14 6.29  +1.10 +1.02        gG9                 +0.045-0.060      +014V\r\n",
      "   3 33    PscBD-06 6357     281285721002I         Var?     000013.0-061601000520.1-054227 93.75-65.93 4.61  +1.04 +0.89 +0.54   K0IIIbCN-0.5       -0.009+0.089 +.014-006SB1O < 17  2.5   0.0     3*\r\n",
      "   4 86    PegBD+12 5063     87 917012004                   000033.8+125023000542.0+132346106.19-47.98 5.51  +0.90               G5III              +0.045-0.012      -002V?\r\n",
      "   5          BD+57 2865    123 21085          61  V640 Cas 000101.8+575245000616.0+582612117.03-03.92 5.96  +0.67 +0.20         G5V                +0.263+0.030 +.047-012V          0.8   1.4      *\r\n"
     ]
    }
   ],
   "source": [
    "!head -n 5 data/bsc5.dat"
   ]
  },
  {
   "cell_type": "code",
   "execution_count": 12,
   "id": "aa95d532",
   "metadata": {
    "scrolled": false
   },
   "outputs": [
    {
     "name": "stdout",
     "output_type": "stream",
     "text": [
      " 167-170  I4     km/s    RadVel   ? Heliocentric Radial Velocity\r\n",
      " 171-174  A4     ---   n_RadVel  *[V?SB123O ] Radial velocity comments\r\n",
      " 175-176  A2     ---   l_RotVel   [<=> ] Rotational velocity limit characters\r\n",
      " 177-179  I3     km/s    RotVel   ? Rotational velocity, v sin i\r\n",
      "     180  A1     ---   u_RotVel   [ :v] uncertainty and variability flag on RotVel\r\n",
      " 181-184  F4.1   mag     Dmag     ? Magnitude difference of double, or brightest multiple\r\n",
      " 185-190  F6.1   arcsec  Sep      ? Separation of components in Dmag if occultation binary.\r\n",
      " 191-194  A4     ---     MultID   Identifications of components in Dmag\r\n",
      " 195-196  I2     ---     MultCnt  ? Number of components assigned to a multiple\r\n",
      "     197  A1     ---     NoteFlag [*] a star indicates that there is a note (see file notes)\r\n"
     ]
    }
   ],
   "source": [
    "!tail -n 10 data/bsc_label.txt"
   ]
  },
  {
   "cell_type": "code",
   "execution_count": 36,
   "id": "b5aa0055",
   "metadata": {},
   "outputs": [],
   "source": [
    "import pandas as pd\n",
    "col_def = pd.read_fwf('data/bsc_label.txt', header=None, colspecs=(\n",
    "    (0,4),\n",
    "    (5,9),\n",
    "    (9,17),\n",
    "    (17,23),\n",
    "    (23,34)\n",
    "))"
   ]
  },
  {
   "cell_type": "code",
   "execution_count": 37,
   "id": "b779c44b",
   "metadata": {},
   "outputs": [
    {
     "data": {
      "text/html": [
       "<div>\n",
       "<style scoped>\n",
       "    .dataframe tbody tr th:only-of-type {\n",
       "        vertical-align: middle;\n",
       "    }\n",
       "\n",
       "    .dataframe tbody tr th {\n",
       "        vertical-align: top;\n",
       "    }\n",
       "\n",
       "    .dataframe thead th {\n",
       "        text-align: right;\n",
       "    }\n",
       "</style>\n",
       "<table border=\"1\" class=\"dataframe\">\n",
       "  <thead>\n",
       "    <tr style=\"text-align: right;\">\n",
       "      <th></th>\n",
       "      <th>0</th>\n",
       "      <th>1</th>\n",
       "      <th>2</th>\n",
       "      <th>3</th>\n",
       "      <th>4</th>\n",
       "    </tr>\n",
       "  </thead>\n",
       "  <tbody>\n",
       "    <tr>\n",
       "      <th>0</th>\n",
       "      <td>1.0</td>\n",
       "      <td>4</td>\n",
       "      <td>I4</td>\n",
       "      <td>---</td>\n",
       "      <td>HR</td>\n",
       "    </tr>\n",
       "    <tr>\n",
       "      <th>1</th>\n",
       "      <td>5.0</td>\n",
       "      <td>14</td>\n",
       "      <td>A10</td>\n",
       "      <td>---</td>\n",
       "      <td>Name</td>\n",
       "    </tr>\n",
       "    <tr>\n",
       "      <th>2</th>\n",
       "      <td>15.0</td>\n",
       "      <td>25</td>\n",
       "      <td>A11</td>\n",
       "      <td>---</td>\n",
       "      <td>DM</td>\n",
       "    </tr>\n",
       "    <tr>\n",
       "      <th>3</th>\n",
       "      <td>26.0</td>\n",
       "      <td>31</td>\n",
       "      <td>I6</td>\n",
       "      <td>---</td>\n",
       "      <td>HD</td>\n",
       "    </tr>\n",
       "    <tr>\n",
       "      <th>4</th>\n",
       "      <td>32.0</td>\n",
       "      <td>37</td>\n",
       "      <td>I6</td>\n",
       "      <td>---</td>\n",
       "      <td>SAO</td>\n",
       "    </tr>\n",
       "  </tbody>\n",
       "</table>\n",
       "</div>"
      ],
      "text/plain": [
       "      0   1    2    3     4\n",
       "0   1.0   4   I4  ---    HR\n",
       "1   5.0  14  A10  ---  Name\n",
       "2  15.0  25  A11  ---    DM\n",
       "3  26.0  31   I6  ---    HD\n",
       "4  32.0  37   I6  ---   SAO"
      ]
     },
     "execution_count": 37,
     "metadata": {},
     "output_type": "execute_result"
    }
   ],
   "source": [
    "col_def[:5]"
   ]
  },
  {
   "cell_type": "code",
   "execution_count": 38,
   "id": "ac12ae5f",
   "metadata": {},
   "outputs": [],
   "source": [
    "star_col_def = []\n",
    "column_names = []\n",
    "for _, (n1, n2, _, _, name) in col_def.iterrows():\n",
    "    if not pd.isna(n1):\n",
    "        star_col_def.append((int(n1)-1, int(n2)))\n",
    "    else:\n",
    "        star_col_def.append((int(n2)-1, int(n2)))\n",
    "    column_names.append(name)"
   ]
  },
  {
   "cell_type": "code",
   "execution_count": 49,
   "id": "22dd5a53",
   "metadata": {
    "scrolled": true
   },
   "outputs": [
    {
     "data": {
      "text/plain": [
       "[((0, 4), 'HR'),\n",
       " ((4, 14), 'Name'),\n",
       " ((14, 25), 'DM'),\n",
       " ((25, 31), 'HD'),\n",
       " ((31, 37), 'SAO'),\n",
       " ((37, 41), 'FK5'),\n",
       " ((41, 42), 'IRflag'),\n",
       " ((42, 43), 'r_IRflag  *'),\n",
       " ((43, 44), 'Multiple *'),\n",
       " ((44, 49), 'ADS'),\n",
       " ((49, 51), 'ADScomp'),\n",
       " ((51, 60), 'VarID'),\n",
       " ((60, 62), 'RAh1900'),\n",
       " ((62, 64), 'RAm1900'),\n",
       " ((64, 68), 'RAs1900'),\n",
       " ((68, 69), 'DE-1900'),\n",
       " ((69, 71), 'DEd1900'),\n",
       " ((71, 73), 'DEm1900'),\n",
       " ((73, 75), 'DEs1900'),\n",
       " ((75, 77), 'RAh'),\n",
       " ((77, 79), 'RAm'),\n",
       " ((79, 83), 'RAs'),\n",
       " ((83, 84), 'DE-'),\n",
       " ((84, 86), 'DEd'),\n",
       " ((86, 88), 'DEm'),\n",
       " ((88, 90), 'DEs'),\n",
       " ((90, 96), 'GLON'),\n",
       " ((96, 102), 'GLAT'),\n",
       " ((102, 107), 'Vmag'),\n",
       " ((107, 108), 'n_Vmag    *'),\n",
       " ((108, 109), 'u_Vmag'),\n",
       " ((109, 114), 'B-V'),\n",
       " ((114, 115), 'u_B-V'),\n",
       " ((115, 120), 'U-B'),\n",
       " ((120, 121), 'u_U-B'),\n",
       " ((121, 126), 'R-I'),\n",
       " ((126, 127), 'n_R-I'),\n",
       " ((127, 147), 'SpType'),\n",
       " ((147, 148), 'n_SpType'),\n",
       " ((148, 154), 'r pmRA    *'),\n",
       " ((154, 160), 'r pmDE'),\n",
       " ((160, 161), 'n_Parallax'),\n",
       " ((161, 166), 'Parallax'),\n",
       " ((166, 170), 'RadVel'),\n",
       " ((170, 174), 'n_RadVel  *'),\n",
       " ((174, 176), 'l_RotVel'),\n",
       " ((176, 179), 'RotVel'),\n",
       " ((179, 180), 'u_RotVel'),\n",
       " ((180, 184), 'Dmag'),\n",
       " ((184, 190), 'Sep'),\n",
       " ((190, 194), 'MultID'),\n",
       " ((194, 196), 'MultCnt'),\n",
       " ((196, 197), 'NoteFlag')]"
      ]
     },
     "execution_count": 49,
     "metadata": {},
     "output_type": "execute_result"
    }
   ],
   "source": [
    "list(zip(star_col_def, column_names))"
   ]
  },
  {
   "cell_type": "code",
   "execution_count": 45,
   "id": "8223020b",
   "metadata": {},
   "outputs": [],
   "source": [
    "star_def = pd.read_fwf('data/bsc5.dat', header=None, colspecs=star_col_def)\n",
    "star_def.columns = column_names"
   ]
  },
  {
   "cell_type": "code",
   "execution_count": 47,
   "id": "e86502c9",
   "metadata": {
    "scrolled": true
   },
   "outputs": [
    {
     "data": {
      "text/html": [
       "<div>\n",
       "<style scoped>\n",
       "    .dataframe tbody tr th:only-of-type {\n",
       "        vertical-align: middle;\n",
       "    }\n",
       "\n",
       "    .dataframe tbody tr th {\n",
       "        vertical-align: top;\n",
       "    }\n",
       "\n",
       "    .dataframe thead th {\n",
       "        text-align: right;\n",
       "    }\n",
       "</style>\n",
       "<table border=\"1\" class=\"dataframe\">\n",
       "  <thead>\n",
       "    <tr style=\"text-align: right;\">\n",
       "      <th></th>\n",
       "      <th>HR</th>\n",
       "      <th>Name</th>\n",
       "      <th>DM</th>\n",
       "      <th>HD</th>\n",
       "      <th>SAO</th>\n",
       "      <th>FK5</th>\n",
       "      <th>IRflag</th>\n",
       "      <th>r_IRflag  *</th>\n",
       "      <th>Multiple *</th>\n",
       "      <th>ADS</th>\n",
       "      <th>...</th>\n",
       "      <th>RadVel</th>\n",
       "      <th>n_RadVel  *</th>\n",
       "      <th>l_RotVel</th>\n",
       "      <th>RotVel</th>\n",
       "      <th>u_RotVel</th>\n",
       "      <th>Dmag</th>\n",
       "      <th>Sep</th>\n",
       "      <th>MultID</th>\n",
       "      <th>MultCnt</th>\n",
       "      <th>NoteFlag</th>\n",
       "    </tr>\n",
       "  </thead>\n",
       "  <tbody>\n",
       "    <tr>\n",
       "      <th>0</th>\n",
       "      <td>1</td>\n",
       "      <td>NaN</td>\n",
       "      <td>BD+44 4550</td>\n",
       "      <td>3.0</td>\n",
       "      <td>36042.0</td>\n",
       "      <td>NaN</td>\n",
       "      <td>NaN</td>\n",
       "      <td>NaN</td>\n",
       "      <td>NaN</td>\n",
       "      <td>46.0</td>\n",
       "      <td>...</td>\n",
       "      <td>-18.0</td>\n",
       "      <td>NaN</td>\n",
       "      <td>NaN</td>\n",
       "      <td>195.0</td>\n",
       "      <td>NaN</td>\n",
       "      <td>4.2</td>\n",
       "      <td>21.6</td>\n",
       "      <td>AC</td>\n",
       "      <td>3.0</td>\n",
       "      <td>NaN</td>\n",
       "    </tr>\n",
       "    <tr>\n",
       "      <th>1</th>\n",
       "      <td>2</td>\n",
       "      <td>NaN</td>\n",
       "      <td>BD-01 4525</td>\n",
       "      <td>6.0</td>\n",
       "      <td>128569.0</td>\n",
       "      <td>NaN</td>\n",
       "      <td>NaN</td>\n",
       "      <td>NaN</td>\n",
       "      <td>NaN</td>\n",
       "      <td>NaN</td>\n",
       "      <td>...</td>\n",
       "      <td>14.0</td>\n",
       "      <td>V</td>\n",
       "      <td>NaN</td>\n",
       "      <td>NaN</td>\n",
       "      <td>NaN</td>\n",
       "      <td>NaN</td>\n",
       "      <td>NaN</td>\n",
       "      <td>NaN</td>\n",
       "      <td>NaN</td>\n",
       "      <td>NaN</td>\n",
       "    </tr>\n",
       "    <tr>\n",
       "      <th>2</th>\n",
       "      <td>3</td>\n",
       "      <td>33    Psc</td>\n",
       "      <td>BD-06 6357</td>\n",
       "      <td>28.0</td>\n",
       "      <td>128572.0</td>\n",
       "      <td>1002.0</td>\n",
       "      <td>I</td>\n",
       "      <td>NaN</td>\n",
       "      <td>NaN</td>\n",
       "      <td>NaN</td>\n",
       "      <td>...</td>\n",
       "      <td>-6.0</td>\n",
       "      <td>SB1O</td>\n",
       "      <td>&lt;</td>\n",
       "      <td>17.0</td>\n",
       "      <td>NaN</td>\n",
       "      <td>2.5</td>\n",
       "      <td>0.0</td>\n",
       "      <td>NaN</td>\n",
       "      <td>3.0</td>\n",
       "      <td>*</td>\n",
       "    </tr>\n",
       "    <tr>\n",
       "      <th>3</th>\n",
       "      <td>4</td>\n",
       "      <td>86    Peg</td>\n",
       "      <td>BD+12 5063</td>\n",
       "      <td>87.0</td>\n",
       "      <td>91701.0</td>\n",
       "      <td>2004.0</td>\n",
       "      <td>NaN</td>\n",
       "      <td>NaN</td>\n",
       "      <td>NaN</td>\n",
       "      <td>NaN</td>\n",
       "      <td>...</td>\n",
       "      <td>-2.0</td>\n",
       "      <td>V?</td>\n",
       "      <td>NaN</td>\n",
       "      <td>NaN</td>\n",
       "      <td>NaN</td>\n",
       "      <td>NaN</td>\n",
       "      <td>NaN</td>\n",
       "      <td>NaN</td>\n",
       "      <td>NaN</td>\n",
       "      <td>NaN</td>\n",
       "    </tr>\n",
       "    <tr>\n",
       "      <th>4</th>\n",
       "      <td>5</td>\n",
       "      <td>NaN</td>\n",
       "      <td>BD+57 2865</td>\n",
       "      <td>123.0</td>\n",
       "      <td>21085.0</td>\n",
       "      <td>NaN</td>\n",
       "      <td>NaN</td>\n",
       "      <td>NaN</td>\n",
       "      <td>NaN</td>\n",
       "      <td>61.0</td>\n",
       "      <td>...</td>\n",
       "      <td>-12.0</td>\n",
       "      <td>V</td>\n",
       "      <td>NaN</td>\n",
       "      <td>NaN</td>\n",
       "      <td>NaN</td>\n",
       "      <td>0.8</td>\n",
       "      <td>1.4</td>\n",
       "      <td>NaN</td>\n",
       "      <td>NaN</td>\n",
       "      <td>*</td>\n",
       "    </tr>\n",
       "  </tbody>\n",
       "</table>\n",
       "<p>5 rows × 53 columns</p>\n",
       "</div>"
      ],
      "text/plain": [
       "   HR       Name          DM     HD       SAO     FK5 IRflag r_IRflag  *  \\\n",
       "0   1        NaN  BD+44 4550    3.0   36042.0     NaN    NaN         NaN   \n",
       "1   2        NaN  BD-01 4525    6.0  128569.0     NaN    NaN         NaN   \n",
       "2   3  33    Psc  BD-06 6357   28.0  128572.0  1002.0      I         NaN   \n",
       "3   4  86    Peg  BD+12 5063   87.0   91701.0  2004.0    NaN         NaN   \n",
       "4   5        NaN  BD+57 2865  123.0   21085.0     NaN    NaN         NaN   \n",
       "\n",
       "  Multiple *   ADS  ... RadVel n_RadVel  *  l_RotVel  RotVel  u_RotVel Dmag  \\\n",
       "0        NaN  46.0  ...  -18.0         NaN       NaN   195.0       NaN  4.2   \n",
       "1        NaN   NaN  ...   14.0           V       NaN     NaN       NaN  NaN   \n",
       "2        NaN   NaN  ...   -6.0        SB1O         <    17.0       NaN  2.5   \n",
       "3        NaN   NaN  ...   -2.0          V?       NaN     NaN       NaN  NaN   \n",
       "4        NaN  61.0  ...  -12.0           V       NaN     NaN       NaN  0.8   \n",
       "\n",
       "    Sep  MultID  MultCnt  NoteFlag  \n",
       "0  21.6      AC      3.0       NaN  \n",
       "1   NaN     NaN      NaN       NaN  \n",
       "2   0.0     NaN      3.0         *  \n",
       "3   NaN     NaN      NaN       NaN  \n",
       "4   1.4     NaN      NaN         *  \n",
       "\n",
       "[5 rows x 53 columns]"
      ]
     },
     "execution_count": 47,
     "metadata": {},
     "output_type": "execute_result"
    }
   ],
   "source": [
    "star_def.head()"
   ]
  },
  {
   "cell_type": "code",
   "execution_count": 87,
   "id": "91b3efa9",
   "metadata": {},
   "outputs": [],
   "source": [
    "class Star():\n",
    "    \"\"\"\n",
    "    A class representing a star, with name, magnitude, right ascension (ra),\n",
    "    declination (dec) and projected co-ordinates x,y calculated by a class\n",
    "    method.\n",
    "    \"\"\"\n",
    "\n",
    "    def __init__(self, name, mag, ra, dec):\n",
    "        \"\"\"\n",
    "        Initializes the star object with its name and magnitude, and position\n",
    "        as right ascension (ra) and declination (dec), both in radians.\n",
    "        \"\"\"\n",
    "        self.mag = mag\n",
    "        self.ra = ra\n",
    "        self.dec = dec\n",
    "        self.const = \"\"\n",
    "        if not pd.isna(name):\n",
    "            self.name = name\n",
    "            if len(name) >= 3:\n",
    "                self.const = name[-3:]\n",
    "                self.name = name[:-3]\n",
    "        else:\n",
    "            self.name = \"\"\n",
    "        self.name = self.name.strip()\n",
    "        self.project_orthographic(0, 0)\n",
    "                \n",
    "    def project_orthographic(self, ra0, dec0):\n",
    "        \"\"\"\n",
    "        Calculates, stores and returns the projected co-ordinates (x, y) of\n",
    "        this star's position using an orthographic projection about the\n",
    "        angular position (ra0, dec0).\n",
    "\n",
    "        \"\"\"\n",
    "\n",
    "        delta_ra = self.ra - ra0\n",
    "        self.x = math.cos(self.dec) * math.sin(delta_ra)\n",
    "        self.y = math.sin(self.dec) * math.cos(dec0)\\\n",
    "             - math.cos(self.dec) * math.cos(delta_ra) * math.sin(dec0)\n",
    "        return self.x, self.y\n",
    "    \n",
    "    def __repr__(self):\n",
    "        return f\"Name:{self.name},Const:{self.const},Mag:{self.mag},RA:{self.ra},DEC:{self.dec}\""
   ]
  },
  {
   "cell_type": "code",
   "execution_count": 88,
   "id": "941b9a4d",
   "metadata": {},
   "outputs": [],
   "source": [
    "import math\n",
    "\n",
    "stars = []\n",
    "\n",
    "for _, line in star_def.iterrows():\n",
    "    if pd.isna(line['Vmag']):\n",
    "        continue\n",
    "    mag = float(line['Vmag'])\n",
    "    # Right ascension (hrs, mins, secs), equinox J2000, epoch 2000.0\n",
    "    ra_hrs, ra_min, ra_sec = [float(x) for x in (line['RAh'],\n",
    "                                                 line['RAm'], line['RAs'])]\n",
    "    # Declination (hrs, mins, secs), equinox J2000, epoch 2000.0\n",
    "    dec_deg, dec_min, dec_sec = [float(x) for x in (str(line['DE-'])+str(line['DEd']),\n",
    "                                                 line['DEm'], line['DEs'])]\n",
    "    # Convert both RA and declination to radians\n",
    "    ra = math.radians((ra_hrs + ra_min/60 + ra_sec/3600) * 15.)\n",
    "    # NB in the Southern Hemisphere be careful to subtract the minutes and\n",
    "    # seconds from the (negative) degrees.\n",
    "    sgn = math.copysign(1, dec_deg)\n",
    "    dec = math.radians(dec_deg + sgn * dec_min/60 + sgn * dec_sec/3600)\n",
    "\n",
    "    # Create a new Star object and add it to the list of stars\n",
    "    stars.append(Star(line['Name'], mag, ra, dec))"
   ]
  },
  {
   "cell_type": "code",
   "execution_count": 89,
   "id": "12b00de1",
   "metadata": {
    "scrolled": true
   },
   "outputs": [
    {
     "data": {
      "text/plain": [
       "[Name:,Const:,Mag:6.7,RA:0.02253656396637678,DEC:0.7893978762666021,\n",
       " Name:,Const:,Mag:6.29,RA:0.022092959448161555,DEC:-0.008779975764893698,\n",
       " Name:33,Const:Psc,Mag:4.61,RA:0.023278328898474365,DEC:-0.09961466705757636,\n",
       " Name:86,Const:Peg,Mag:5.51,RA:0.024870941840919196,DEC:0.2338062458518848,\n",
       " Name:,Const:,Mag:5.96,RA:0.027343491614577834,DEC:1.019912237223753,\n",
       " Name:,Const:,Mag:5.7,RA:0.027561657771077122,DEC:-0.8565203304162172,\n",
       " Name:10,Const:Cas,Mag:5.59,RA:0.02810707316232535,DEC:1.1204335058650041,\n",
       " Name:,Const:,Mag:6.13,RA:0.02885611029963958,DEC:0.5065187896128099,\n",
       " Name:,Const:,Mag:6.18,RA:0.029823313593453107,DEC:-0.40330195690458975,\n",
       " Name:,Const:,Mag:6.19,RA:0.0318668032593298,DEC:-0.3034497311432697]"
      ]
     },
     "execution_count": 89,
     "metadata": {},
     "output_type": "execute_result"
    }
   ],
   "source": [
    "stars[:10]"
   ]
  },
  {
   "cell_type": "code",
   "execution_count": 137,
   "id": "42b99c35",
   "metadata": {},
   "outputs": [
    {
     "data": {
      "text/plain": [
       "[(0.012233179030132931, 0.9002892284895923, 5.59),\n",
       " (0.02053099924751021, 0.8585102421274577, 2.27),\n",
       " (0.05096642393498952, 0.8815599130957448, 5.4),\n",
       " (0.054455996835144974, 0.9171953448756, 6.18),\n",
       " (0.08020581274079047, 0.8143406833077155, 4.73)]"
      ]
     },
     "execution_count": 137,
     "metadata": {},
     "output_type": "execute_result"
    }
   ],
   "source": [
    "[(s.x, s.y, s.mag) for s in stars if s.const=='Cas'][:5]"
   ]
  },
  {
   "cell_type": "code",
   "execution_count": 142,
   "id": "bbaadd3d",
   "metadata": {},
   "outputs": [],
   "source": [
    "import cv2\n",
    "\n",
    "# Define the image size\n",
    "image_width = 800\n",
    "image_height = 600\n",
    "color = (0,255,255)  # BGR color (red in this case)\n",
    "\n",
    "def paint_stars(data):\n",
    "\n",
    "    image = 255 * np.zeros((image_height, image_width, 3), dtype=np.uint8)\n",
    "    \n",
    "    max_x = max(item[0] for item in data)\n",
    "    max_y = max(item[1] for item in data)\n",
    "    min_x = min(item[0] for item in data)\n",
    "    min_y = min(item[1] for item in data)\n",
    "    \n",
    "    mag_data = [item[2] for item in data]\n",
    "    min_mag = np.percentile(data, 25)\n",
    "    max_mag = np.percentile(data, 95)\n",
    "\n",
    "    for x, y, mag in data:\n",
    "        # Scale the (x, y) coordinates\n",
    "        scaled_x = int((x-min_x)/(max_x-min_x) * image_width)\n",
    "        scaled_y = int((y-min_y)/(max_y-min_y) * image_height)\n",
    "\n",
    "        # Scale the magnitude to determine the radius\n",
    "        mag = min(max(mag, min_mag), max_mag)\n",
    "        scaled_mag = int((mag-min_mag)/(max_mag-min_mag)) * 4\n",
    "\n",
    "        # Draw a filled circle on the image\n",
    "\n",
    "        cv2.circle(image, (scaled_x, scaled_y), scaled_mag, \n",
    "                   color, -1)  # -1 for filled circle\n",
    "\n",
    "    # Save or display the resulting image\n",
    "    cv2.imshow(\"Result Image\", image)\n",
    "    cv2.waitKey(0)\n",
    "    cv2.destroyAllWindows()\n",
    "\n",
    "paint_stars([(s.x, s.y, s.mag) for s in stars if s.const=='Ori'])"
   ]
  },
  {
   "cell_type": "code",
   "execution_count": 123,
   "id": "e4da03ad",
   "metadata": {},
   "outputs": [
    {
     "name": "stdout",
     "output_type": "stream",
     "text": [
      "['', 'Pav', 'Psc', 'Boo', 'Cae', 'Dra', 'Mon', 'Oph', 'Tau', 'CVn', 'Vir', 'Ant', 'Tuc', 'Del', 'Lep', 'Peg', 'Pup', 'Phe', 'Aql', 'Lib', 'CMa', 'Hor', 'LMi', 'Hya', 'Sgr', 'Cet', 'Gru', 'Scl', 'Dor', 'Cep', 'CrA', 'UMi', 'Pyx', 'Pic', 'Hyi', 'Aps', 'Vul', 'Sex', 'Ret', 'TrA', 'Equ', 'Cen', 'Per', 'CMi', 'Oct', 'Tri', 'Cas', 'Col', 'Leo', 'Ser', 'Sct', 'Aur', 'Ind', 'Eri', 'Lyn', 'Com', 'Sco', 'Sge', 'Tel', 'CrB', 'Mic', 'Cam', 'Cir', 'Men', 'Crv', 'Cyg', 'UMa', 'Ara', 'And', 'Vel', 'Crt', 'Lyr', 'For', 'Vol', 'Cru', 'Her', 'Mus', 'Ari', 'Cnc', 'Lac', 'Cha', 'Nor', 'Cap', 'Lup', 'PsA', 'Ori', 'Gem', 'Car', 'Aqr']\n"
     ]
    }
   ],
   "source": [
    "print(list(set(s.const for s in stars)))"
   ]
  },
  {
   "cell_type": "code",
   "execution_count": 141,
   "id": "bdcfce4f",
   "metadata": {},
   "outputs": [],
   "source": [
    "paint_stars([(s.x, s.y, s.mag) for s in stars if s.const=='UMa'])"
   ]
  },
  {
   "cell_type": "code",
   "execution_count": 139,
   "id": "8fdf87f8",
   "metadata": {},
   "outputs": [],
   "source": [
    "paint_stars([(s.x, s.y, s.mag) for s in stars if s.const=='Cas'])"
   ]
  }
 ],
 "metadata": {
  "kernelspec": {
   "display_name": "Python [conda env:python_lectures]",
   "language": "python",
   "name": "conda-env-python_lectures-py"
  },
  "language_info": {
   "codemirror_mode": {
    "name": "ipython",
    "version": 3
   },
   "file_extension": ".py",
   "mimetype": "text/x-python",
   "name": "python",
   "nbconvert_exporter": "python",
   "pygments_lexer": "ipython3",
   "version": "3.8.16"
  }
 },
 "nbformat": 4,
 "nbformat_minor": 5
}
