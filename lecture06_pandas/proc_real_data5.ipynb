{
 "cells": [
  {
   "cell_type": "markdown",
   "id": "cef5d934",
   "metadata": {},
   "source": [
    "# Processing real data with Pandas"
   ]
  },
  {
   "cell_type": "code",
   "execution_count": null,
   "id": "0a3ed60d",
   "metadata": {},
   "outputs": [],
   "source": [
    "import pandas as pd"
   ]
  },
  {
   "cell_type": "code",
   "execution_count": null,
   "id": "7b91f35d",
   "metadata": {},
   "outputs": [],
   "source": [
    "data = pd.read_csv(\"data/pop_year.csv\")\n",
    "data"
   ]
  },
  {
   "cell_type": "code",
   "execution_count": null,
   "id": "4a9093a9",
   "metadata": {},
   "outputs": [],
   "source": [
    "# Verify if all totals are correctly calculated\n",
    "if any(data.total != (data.male + data.female)):\n",
    "    print(\"ERRORS\")\n",
    "else:\n",
    "    print(\"No Errors\")"
   ]
  },
  {
   "cell_type": "code",
   "execution_count": null,
   "id": "6499dc2b",
   "metadata": {},
   "outputs": [],
   "source": [
    "# Largest total population\n",
    "max(data.total)\n",
    "\n",
    "# np.max(data[:, 1])"
   ]
  },
  {
   "cell_type": "code",
   "execution_count": null,
   "id": "81573ccd",
   "metadata": {},
   "outputs": [],
   "source": [
    "# Largest male population\n",
    "max(data.male)"
   ]
  },
  {
   "cell_type": "code",
   "execution_count": null,
   "id": "c9cd7e58",
   "metadata": {},
   "outputs": [],
   "source": [
    "# Smallest male population\n",
    "min(data.male)"
   ]
  },
  {
   "cell_type": "code",
   "execution_count": null,
   "id": "cf8b60a0",
   "metadata": {},
   "outputs": [],
   "source": [
    "# Year with larger total population\n",
    "data.iloc[data.total.argmax()]\n",
    "# data[np.argmax(data[:,1])]"
   ]
  },
  {
   "cell_type": "code",
   "execution_count": null,
   "id": "47afdc4f",
   "metadata": {
    "scrolled": true
   },
   "outputs": [],
   "source": [
    "# Maximum difference between two male populations\n",
    "max(data.male.diff().dropna())"
   ]
  },
  {
   "cell_type": "code",
   "execution_count": null,
   "id": "f4b61f64",
   "metadata": {},
   "outputs": [],
   "source": [
    "# Which are the years of the maximum difference in total population?\n",
    "idx_of_max = data.total.diff(1).argmax()\n",
    "data.iloc[idx_of_max-1].year, data.iloc[idx_of_max].year"
   ]
  },
  {
   "cell_type": "code",
   "execution_count": null,
   "id": "f04687ba",
   "metadata": {},
   "outputs": [],
   "source": [
    "# What is the largest difference between the male and female population\n",
    "max((data.male - data.female).abs())"
   ]
  },
  {
   "cell_type": "markdown",
   "id": "b405a719",
   "metadata": {},
   "source": [
    "Now, we can also create all sort of fancy graphs with matplotlib and seaborn"
   ]
  },
  {
   "cell_type": "code",
   "execution_count": null,
   "id": "5b09dae3",
   "metadata": {
    "scrolled": false
   },
   "outputs": [],
   "source": [
    "import seaborn as sns\n",
    "import matplotlib.pyplot as plt\n",
    "\n",
    "sns.lineplot(x='year', y='male', data=data, label='Male')\n",
    "sns.lineplot(x='year', y='female', data=data, label='Female')\n",
    "plt.xlabel('Year')\n",
    "plt.ylabel('Population')\n",
    "plt.legend()\n",
    "plt.title('Population Comparison Over the Years')\n",
    "plt.show()"
   ]
  },
  {
   "cell_type": "code",
   "execution_count": null,
   "id": "8bbd5dfe",
   "metadata": {
    "scrolled": true
   },
   "outputs": [],
   "source": [
    "import seaborn as sns\n",
    "import matplotlib.pyplot as plt\n",
    "\n",
    "# Assuming your DataFrame is named 'data'\n",
    "sns.set(style=\"whitegrid\")\n",
    "\n",
    "# Stacked area plot\n",
    "plt.figure(figsize=(6, 4))\n",
    "plt.stackplot(data['year'], data['male'], data['female'], labels=['Male', 'Female'], alpha=0.7)\n",
    "plt.xlabel('Year')\n",
    "plt.ylabel('Population')\n",
    "plt.legend(loc='upper left')\n",
    "plt.title('Population Distribution Over the Years (Male vs. Female)')\n",
    "plt.show()\n"
   ]
  },
  {
   "cell_type": "code",
   "execution_count": null,
   "id": "b0b1415c",
   "metadata": {},
   "outputs": [],
   "source": [
    "import matplotlib.pyplot as plt\n",
    "\n",
    "# Assuming your DataFrame is named 'data'\n",
    "# Assuming 'year' column contains the years you want to plot\n",
    "years_to_plot = [1960, 1980, 2000, 2020]\n",
    "\n",
    "# Create a subplot with 2 rows and 2 columns for four pie charts\n",
    "fig, axes = plt.subplots(2, 2, figsize=(7, 7))\n",
    "fig.suptitle('Population Distribution by Gender for Different Years')\n",
    "\n",
    "for i, year in enumerate(years_to_plot):\n",
    "    row = i // 2\n",
    "    col = i % 2\n",
    "    ax = axes[row, col]\n",
    "\n",
    "    # Filter the data for the current year\n",
    "    year_data = data[data['year'] == year]\n",
    "\n",
    "    # Calculate the sum of male and female populations for the current year\n",
    "    male_population = year_data['male'].sum()\n",
    "    female_population = year_data['female'].sum()\n",
    "\n",
    "    # Create a pie chart for the current year\n",
    "    labels = ['Male', 'Female']\n",
    "    sizes = [male_population, female_population]\n",
    "    ax.pie(sizes, labels=labels, autopct='%1.1f%%', startangle=90)\n",
    "    ax.set_title(f'Year {year}')\n",
    "\n",
    "# Adjust the layout to prevent overlapping\n",
    "plt.tight_layout()\n",
    "plt.subplots_adjust(top=0.85)\n",
    "\n",
    "plt.show()\n"
   ]
  }
 ],
 "metadata": {
  "kernelspec": {
   "display_name": "Python [conda env:python_lectures]",
   "language": "python",
   "name": "conda-env-python_lectures-py"
  },
  "language_info": {
   "codemirror_mode": {
    "name": "ipython",
    "version": 3
   },
   "file_extension": ".py",
   "mimetype": "text/x-python",
   "name": "python",
   "nbconvert_exporter": "python",
   "pygments_lexer": "ipython3",
   "version": "3.8.16"
  }
 },
 "nbformat": 4,
 "nbformat_minor": 5
}
