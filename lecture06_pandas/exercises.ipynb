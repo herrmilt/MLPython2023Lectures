{
 "cells": [
  {
   "cell_type": "code",
   "execution_count": null,
   "metadata": {},
   "outputs": [],
   "source": [
    "import pandas as pd\n",
    "import numpy as np\n",
    "import matplotlib.pyplot as plt"
   ]
  },
  {
   "cell_type": "code",
   "execution_count": null,
   "metadata": {},
   "outputs": [],
   "source": [
    "# Para todos los ejercicios usaremos una base de datos de diamantes. \n",
    "# Las columnas 'x', 'y' y 'z' son el tamaño del diamante.\n",
    "\n",
    "# Con esta función se pude cargar la base de datos antes de cada ejercicio, para que un ejercicio \n",
    "# no afecte al resto\n",
    "\n",
    "def get_dataset():\n",
    "    return pd.read_csv('data/diamonds.csv')\n",
    "    # return pd.read_csv('https://raw.githubusercontent.com/mwaskom/seaborn-data/master/diamonds.csv')\n",
    "    \n",
    "diamonds = get_dataset()\n",
    "print(diamonds)"
   ]
  },
  {
   "cell_type": "code",
   "execution_count": null,
   "metadata": {},
   "outputs": [],
   "source": [
    "# 1. Imprima las primeras 5 filas\n",
    "diamonds.head(5)"
   ]
  },
  {
   "cell_type": "code",
   "execution_count": null,
   "metadata": {},
   "outputs": [],
   "source": [
    "# 2. Imprima las primeras 5 filas, pero solamente las columnas carat, cut y price\n",
    "diamonds[['carat', 'cut', 'price']].head(5)"
   ]
  },
  {
   "cell_type": "code",
   "execution_count": null,
   "metadata": {},
   "outputs": [],
   "source": [
    "# 3. Seleccione e imprima una serie\n",
    "diamonds['carat']"
   ]
  },
  {
   "cell_type": "code",
   "execution_count": null,
   "metadata": {},
   "outputs": [],
   "source": [
    "# 4. Cree una nueva serie formada por 'cut' y 'color', separados por un guion\n",
    "diamonds['cut'] + '-' + diamonds['color']"
   ]
  },
  {
   "cell_type": "code",
   "execution_count": null,
   "metadata": {},
   "outputs": [],
   "source": [
    "# 5. Adicione la serie anterios al dataframe diamonds como Quality-color\n",
    "diamonds['Quality-color'] = diamonds['cut'] + '-' + diamonds['color']\n",
    "diamonds.head(5)"
   ]
  },
  {
   "cell_type": "code",
   "execution_count": null,
   "metadata": {},
   "outputs": [],
   "source": [
    "# 6. Muestre la cantidad de filas y columnas de diamonds. Muestre el tipo de cada columna\n",
    "print(diamonds.shape)\n",
    "print(diamonds.dtypes)"
   ]
  },
  {
   "cell_type": "code",
   "execution_count": null,
   "metadata": {},
   "outputs": [],
   "source": [
    "# 7. Muestre la descripcion de las columnas que son objetos\n",
    "print(diamonds.describe(include=['object']))"
   ]
  },
  {
   "cell_type": "code",
   "execution_count": null,
   "metadata": {},
   "outputs": [],
   "source": [
    "# 8. Renombre dos columnas del dataframe\n",
    "diamonds = get_dataset()\n",
    "diamonds.rename(columns={'cut':'corte', 'clarity': \"claridad\"}, inplace=True)\n",
    "diamonds.head(5)"
   ]
  },
  {
   "cell_type": "code",
   "execution_count": null,
   "metadata": {},
   "outputs": [],
   "source": [
    "# 9. Elimine la columna 'cut'\n",
    "diamonds = get_dataset()\n",
    "diamonds.drop(['cut'], axis=1).head(5)"
   ]
  },
  {
   "cell_type": "code",
   "execution_count": null,
   "metadata": {},
   "outputs": [],
   "source": [
    "# 10. Elimine 3 columnas\n",
    "diamonds = get_dataset()\n",
    "diamonds.drop(['cut', 'clarity', 'table'], axis=1).head(4)"
   ]
  },
  {
   "cell_type": "code",
   "execution_count": null,
   "metadata": {},
   "outputs": [],
   "source": [
    "# 11. Elimine las filas de la 0 a la 29\n",
    "diamonds = get_dataset()\n",
    "diamonds.drop(range(30), axis=0).head(4)"
   ]
  },
  {
   "cell_type": "code",
   "execution_count": null,
   "metadata": {},
   "outputs": [],
   "source": [
    "# 12. Ordene la serie asociada a 'cut' en orden ascencente. Retorne una serie.\n",
    "diamonds = get_dataset()\n",
    "diamonds['cut'].sort_values(ascending=True)\n"
   ]
  },
  {
   "cell_type": "code",
   "execution_count": null,
   "metadata": {},
   "outputs": [],
   "source": [
    "# 13. Ordene la serie asociada con 'price' en orden descendente. Retorne una serie\n",
    "diamonds['price'].sort_values(ascending=False)"
   ]
  },
  {
   "cell_type": "code",
   "execution_count": null,
   "metadata": {},
   "outputs": [],
   "source": [
    "# 14. Ordene toda la base de datos por 'carat' de forma ascencente\n",
    "diamonds.sort_values(['carat'])"
   ]
  },
  {
   "cell_type": "code",
   "execution_count": null,
   "metadata": {},
   "outputs": [],
   "source": [
    "# 15. Seleccione las filas con carat de al menos 0.3\n",
    "diamonds[diamonds.carat >= 0.3].head(5)"
   ]
  },
  {
   "cell_type": "code",
   "execution_count": null,
   "metadata": {},
   "outputs": [],
   "source": [
    "# 16. Obtenga una nueva serie con la suma x+y+z. Correlacionela con depth y price\n",
    "diamonds['suma'] = diamonds.x+diamonds.y+diamonds.z\n",
    "diamonds[['suma', 'depth', 'price']].corr()\n"
   ]
  },
  {
   "cell_type": "code",
   "execution_count": null,
   "metadata": {},
   "outputs": [],
   "source": [
    "# 17. Seleccione los diamantes con x>5, y>5 and z>5\n",
    "diamonds[(diamonds.x > 5) & (diamonds.y > 5) & (diamonds.z > 5)].head(5)"
   ]
  },
  {
   "cell_type": "code",
   "execution_count": null,
   "metadata": {},
   "outputs": [],
   "source": [
    "# 18. Mueste los diamantes que son Premium o Ideal\n",
    "diamonds[(diamonds.cut == 'Premium') | (diamonds.cut == 'Ideal')].head(5)"
   ]
  },
  {
   "cell_type": "code",
   "execution_count": null,
   "metadata": {},
   "outputs": [],
   "source": [
    "# otra solucion\n",
    "diamonds[diamonds.cut.isin({'Premium', 'Ideal'})].head(5)"
   ]
  },
  {
   "cell_type": "code",
   "execution_count": null,
   "metadata": {},
   "outputs": [],
   "source": [
    "# 19. Muestre los diamantes que son Fair, Good o Premium\n",
    "diamonds[diamonds.cut.isin({'Fair', 'Good', 'Premium'})].head(5)"
   ]
  },
  {
   "cell_type": "code",
   "execution_count": null,
   "metadata": {},
   "outputs": [],
   "source": [
    "# 20. Construya una cadena de caracteres con todos los nombres de las columnas, separados por coma\n",
    "\", \".join(d for d in diamonds.columns)"
   ]
  },
  {
   "cell_type": "code",
   "execution_count": null,
   "metadata": {},
   "outputs": [],
   "source": [
    "# 21. Similar al anterior, pero deben estar entre comillas, y el ultimo separador debe ser 'y'\n",
    "comps = [f'\"{d}\"' for d in diamonds.columns]\n",
    "\", \".join(comps[:-1]) + ' y ' + comps[-1]"
   ]
  },
  {
   "cell_type": "code",
   "execution_count": null,
   "metadata": {},
   "outputs": [],
   "source": [
    "# 22. Itere por las primeras 10 filas de la base de datos, imprimiendo sus valores separados\n",
    "# por ->\n",
    "count = 0\n",
    "for _, r in diamonds.iterrows():\n",
    "    print(\",\".join(str(a) for a in r))\n",
    "    count += 1\n",
    "    if count == 10:\n",
    "        break"
   ]
  },
  {
   "cell_type": "code",
   "execution_count": null,
   "metadata": {},
   "outputs": [],
   "source": [
    "# 23. Elimine todas las columnas no numéricas. \n",
    "diamonds = get_dataset()\n",
    "print(diamonds.dtypes)\n",
    "non_numerics = [d for d in diamonds.dtypes.index  \n",
    "                if diamonds.dtypes[d] != np.float64 and \n",
    "               diamonds.dtypes[d] != np.int64]\n",
    "diamonds.drop(non_numerics, axis=1).head(5)"
   ]
  },
  {
   "cell_type": "code",
   "execution_count": null,
   "metadata": {},
   "outputs": [],
   "source": [
    "# otra solucion, mas simple\n",
    "diamonds.select_dtypes(['number']).head(5)"
   ]
  },
  {
   "cell_type": "code",
   "execution_count": null,
   "metadata": {},
   "outputs": [],
   "source": [
    "# 24. Calcule la media de cada columna numerica\n",
    "num_features = diamonds.select_dtypes(['number'])\n",
    "num_features.mean()"
   ]
  },
  {
   "cell_type": "code",
   "execution_count": null,
   "metadata": {},
   "outputs": [],
   "source": [
    "# 25. Calcule le media de cada fila (lo que no tiene mucho sentido ...)\n",
    "num_features.mean(axis=1)"
   ]
  },
  {
   "cell_type": "code",
   "execution_count": null,
   "metadata": {},
   "outputs": [],
   "source": [
    "# 26. Calcule la cantidad de valores, el minimo, y el maximo precio por cada valor de 'cut' \n",
    "diamonds.groupby(\"cut\")['price'].describe()[['count', 'min', 'max']]"
   ]
  },
  {
   "cell_type": "code",
   "execution_count": null,
   "metadata": {},
   "outputs": [],
   "source": [
    "# 27. Obtenga una serie con cuantes veces aparece cada valor de 'cut'\n",
    "diamonds.groupby('cut')['carat'].count()"
   ]
  },
  {
   "cell_type": "code",
   "execution_count": null,
   "metadata": {},
   "outputs": [],
   "source": [
    "# 28. Calcule el porcentaje que aparecen los valores de 'cut'\n",
    "counts = diamonds.groupby('cut')['carat'].count()\n",
    "counts / sum(counts) * 100"
   ]
  },
  {
   "cell_type": "code",
   "execution_count": null,
   "metadata": {},
   "outputs": [],
   "source": [
    "# Una mas simple\n",
    "print(diamonds.cut.value_counts(normalize=True) * 100)"
   ]
  },
  {
   "cell_type": "code",
   "execution_count": null,
   "metadata": {},
   "outputs": [],
   "source": [
    "# 29. Muestre los valores diferentes de 'cut'\n",
    "diamonds.cut.unique()"
   ]
  },
  {
   "cell_type": "code",
   "execution_count": null,
   "metadata": {},
   "outputs": [],
   "source": [
    "# 30. Muestre un histograma de los valores de 'carat' \n",
    "diamonds.carat.hist()\n",
    "plt.show()"
   ]
  },
  {
   "cell_type": "code",
   "execution_count": null,
   "metadata": {},
   "outputs": [],
   "source": [
    "# 31. Muestre un grafico de barras con la cantidad de cada valor diferente de 'cut'\n",
    "diamonds.cut.value_counts().plot(kind=\"bar\")"
   ]
  },
  {
   "cell_type": "markdown",
   "metadata": {},
   "source": [
    "## Un poco de investigacion\n",
    "En la base de datos de diamantes investigue:\n",
    "1. Que factores son los que mas afectan el precio\n",
    "2. Podria construir un modelo para predecir el precio de un nuevo diamante, dadas sus otras caracteristicas? Mientras menos atributos, mejor!"
   ]
  },
  {
   "cell_type": "code",
   "execution_count": null,
   "metadata": {},
   "outputs": [],
   "source": [
    "diamonds = get_dataset()\n",
    "diamonds.head(5)"
   ]
  }
 ],
 "metadata": {
  "kernelspec": {
   "display_name": "Python [conda env:python_lectures]",
   "language": "python",
   "name": "conda-env-python_lectures-py"
  },
  "language_info": {
   "codemirror_mode": {
    "name": "ipython",
    "version": 3
   },
   "file_extension": ".py",
   "mimetype": "text/x-python",
   "name": "python",
   "nbconvert_exporter": "python",
   "pygments_lexer": "ipython3",
   "version": "3.8.16"
  }
 },
 "nbformat": 4,
 "nbformat_minor": 2
}
