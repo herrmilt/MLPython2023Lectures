{
 "cells": [
  {
   "cell_type": "markdown",
   "id": "186e5627",
   "metadata": {},
   "source": [
    "# Resultados de futbol entre 1872 y 2017\n",
    "Fuente: Kaggle"
   ]
  },
  {
   "cell_type": "code",
   "execution_count": null,
   "id": "5431dfb8",
   "metadata": {
    "scrolled": true
   },
   "outputs": [],
   "source": [
    "import csv\n",
    "with open(\"data/footbal_results.csv\") as f:\n",
    "    reader = csv.reader(f)\n",
    "    raw_data = [r for r in reader]\n",
    "raw_data[:2]"
   ]
  },
  {
   "cell_type": "code",
   "execution_count": null,
   "id": "ddee4a84",
   "metadata": {
    "scrolled": true
   },
   "outputs": [],
   "source": [
    "# Paso 1. Transformar los datos apropiadamente\n",
    "\n",
    "from datetime import datetime\n",
    "data = []\n",
    "for date, home_team, away_team, home_score, \\\n",
    "    away_score, tournament,city,country,neutral in raw_data[1:]:\n",
    "    data.append((\n",
    "        datetime.strptime(date, '%Y-%m-%d'),\n",
    "        home_team,\n",
    "        away_team,\n",
    "        int(home_score),\n",
    "        int(away_score),\n",
    "        tournament,\n",
    "        city,\n",
    "        country,\n",
    "        bool(neutral)\n",
    "    ))\n",
    "data[:2]    "
   ]
  },
  {
   "cell_type": "code",
   "execution_count": null,
   "id": "195066ce",
   "metadata": {},
   "outputs": [],
   "source": [
    "col_idx = {}\n",
    "idx = 0\n",
    "for col_name in raw_data[0]:\n",
    "    col_idx[col_name] = idx\n",
    "    idx += 1\n",
    "col_idx"
   ]
  },
  {
   "cell_type": "code",
   "execution_count": null,
   "id": "c7ca5fbf",
   "metadata": {},
   "outputs": [],
   "source": [
    "# Que torneos cubre esta base de datos\n",
    "def get_column(data, col_idx):\n",
    "    result = []\n",
    "    for d in data:\n",
    "        result.append(d[col_idx])\n",
    "    return result\n",
    "\n",
    "set(get_column(data, col_idx['tournament']))"
   ]
  },
  {
   "cell_type": "code",
   "execution_count": null,
   "id": "f96b2c20",
   "metadata": {},
   "outputs": [],
   "source": [
    "# Cual es la mayor cantidad de goles que ha anotado un equipo como visitante\n",
    "max(get_column(data, col_idx['away_score']))"
   ]
  },
  {
   "cell_type": "code",
   "execution_count": null,
   "id": "088032f7",
   "metadata": {
    "scrolled": true
   },
   "outputs": [],
   "source": [
    "# A quién se los anotó?\n",
    "def get_rows(data, col_name, col_value):\n",
    "    result = []\n",
    "    for d in data:\n",
    "        if d[col_idx[col_name]] == col_value:\n",
    "            result.append(d)\n",
    "    return result\n",
    "\n",
    "get_rows(data, 'away_score', 21)"
   ]
  },
  {
   "cell_type": "code",
   "execution_count": null,
   "id": "87daf295",
   "metadata": {},
   "outputs": [],
   "source": [
    "# Cuantos goles ha anotado Cuba en la copa de oro en la historia\n",
    "rows = get_rows(get_rows(data, 'home_team', 'Cuba'), 'tournament', 'Gold Cup')\n",
    "goals_home = sum(get_column(rows, col_idx['home_score']))\n",
    "rows = get_rows(get_rows(data, 'away_team', 'Cuba'), 'tournament', 'Gold Cup')\n",
    "goals_away = sum(get_column(rows, col_idx['away_score']))\n",
    "goals_home, goals_away, goals_home + goals_away"
   ]
  },
  {
   "cell_type": "code",
   "execution_count": null,
   "id": "0019c3cc",
   "metadata": {},
   "outputs": [],
   "source": [
    "# Pais con mas goles en la copa mundial de la FIFA\n",
    "def get_cols(data, col_names):\n",
    "    result = []\n",
    "    for d in data:\n",
    "        row = []\n",
    "        for col_name in col_names:\n",
    "            row.append(d[col_idx[col_name]])\n",
    "        result.append(row)\n",
    "    return result\n",
    "\n",
    "get_cols(data, ['home_team', 'home_score'])[:5]"
   ]
  },
  {
   "cell_type": "code",
   "execution_count": null,
   "id": "bf42c1fd",
   "metadata": {},
   "outputs": [],
   "source": [
    "# Seleccionemos los goles\n",
    "fifa_rows = get_rows(data, 'tournament', 'FIFA World Cup')\n",
    "goals_home = get_cols(fifa_rows, ['home_team', 'home_score'])\n",
    "goals_away = get_cols(fifa_rows, ['away_team', 'away_score'])\n",
    "all_goals = goals_home + goals_away\n",
    "all_goals[:5]"
   ]
  },
  {
   "cell_type": "code",
   "execution_count": null,
   "id": "a77d796e",
   "metadata": {},
   "outputs": [],
   "source": [
    "# Ahora sumemos por pais ...\n",
    "goals_country = {}\n",
    "for country, count in all_goals:\n",
    "    goals_country[country] = goals_country.get(country, 0) + count"
   ]
  },
  {
   "cell_type": "code",
   "execution_count": null,
   "id": "9dc3d4d5",
   "metadata": {
    "scrolled": true
   },
   "outputs": [],
   "source": [
    "goals_country"
   ]
  },
  {
   "cell_type": "code",
   "execution_count": null,
   "id": "1f60dfbe",
   "metadata": {
    "scrolled": true
   },
   "outputs": [],
   "source": [
    "# y ordenemos ... pero los dict no tienen orden ...\n",
    "goals_country_tuples = []\n",
    "for k, v in goals_country.items():\n",
    "    goals_country_tuples.append((v, k))\n",
    "goals_country_tuples.sort(reverse=True)\n",
    "goals_country_tuples[:10]"
   ]
  },
  {
   "cell_type": "code",
   "execution_count": null,
   "id": "7458c0f4",
   "metadata": {
    "scrolled": true
   },
   "outputs": [],
   "source": [
    "# Quien tiene mas goles por partido\n",
    "country_count = {}\n",
    "for country, _ in all_goals:\n",
    "    country_count[country] = country_count.get(country, 0) + 1\n",
    "country_count"
   ]
  },
  {
   "cell_type": "code",
   "execution_count": null,
   "id": "a0e950cc",
   "metadata": {},
   "outputs": [],
   "source": [
    "# Ahora hay que \"dividir\" un diccionario por otro ....\n",
    "ratio_tuples = []\n",
    "for k, v in goals_country.items():\n",
    "    ratio_tuples.append((v / country_count[k], k))\n",
    "ratio_tuples.sort(reverse=True)\n",
    "ratio_tuples[:15]"
   ]
  }
 ],
 "metadata": {
  "kernelspec": {
   "display_name": "Python [conda env:python_lectures]",
   "language": "python",
   "name": "conda-env-python_lectures-py"
  },
  "language_info": {
   "codemirror_mode": {
    "name": "ipython",
    "version": 3
   },
   "file_extension": ".py",
   "mimetype": "text/x-python",
   "name": "python",
   "nbconvert_exporter": "python",
   "pygments_lexer": "ipython3",
   "version": "3.8.16"
  }
 },
 "nbformat": 4,
 "nbformat_minor": 5
}
