{
 "cells": [
  {
   "cell_type": "markdown",
   "id": "cef5d934",
   "metadata": {},
   "source": [
    "# Processing real data using functions"
   ]
  },
  {
   "cell_type": "code",
   "execution_count": null,
   "id": "0a3ed60d",
   "metadata": {},
   "outputs": [],
   "source": [
    "import csv"
   ]
  },
  {
   "cell_type": "code",
   "execution_count": null,
   "id": "7b91f35d",
   "metadata": {},
   "outputs": [],
   "source": [
    "with open(\"data/pop_year.csv\") as f:\n",
    "    reader = csv.reader(f)\n",
    "    raw_data = [r for r in reader]"
   ]
  },
  {
   "cell_type": "code",
   "execution_count": null,
   "id": "eed66756",
   "metadata": {
    "scrolled": true
   },
   "outputs": [],
   "source": [
    "raw_data"
   ]
  },
  {
   "cell_type": "code",
   "execution_count": null,
   "id": "6558ff4e",
   "metadata": {
    "scrolled": true
   },
   "outputs": [],
   "source": [
    "# Remove the first row, and convert other rows to numbers\n",
    "data = []\n",
    "for row in raw_data[1:]:\n",
    "    data.append([int(row[0]), int(row[1]), int(row[2]), int(row[3])])\n",
    "data"
   ]
  },
  {
   "cell_type": "code",
   "execution_count": null,
   "id": "8811cd6c",
   "metadata": {},
   "outputs": [],
   "source": [
    "# Extract all columns to different lists\n",
    "all_years = []\n",
    "all_total = []\n",
    "all_male = []\n",
    "all_female = []\n",
    "for d in data:\n",
    "    year, total, male, female = d\n",
    "    all_years.append(year)\n",
    "    all_total.append(total)\n",
    "    all_male.append(male)\n",
    "    all_female.append(female)\n",
    "print(all_years)"
   ]
  },
  {
   "cell_type": "code",
   "execution_count": null,
   "id": "4a9093a9",
   "metadata": {},
   "outputs": [],
   "source": [
    "# Verify that total is correctly calculated\n",
    "for idx in range(len(all_years)):\n",
    "    if all_male[idx] + all_female[idx] != all_total[idx]:\n",
    "        print(\"ERROR in line\", idx)\n",
    "        break\n",
    "else:\n",
    "    print(\"No errors\")"
   ]
  },
  {
   "cell_type": "code",
   "execution_count": null,
   "id": "6499dc2b",
   "metadata": {},
   "outputs": [],
   "source": [
    "# Largest total population\n",
    "def max_value(l):\n",
    "    result = 0\n",
    "    for v in l:\n",
    "        if v > result:\n",
    "            result = v\n",
    "    return result\n",
    "\n",
    "max_value(all_total)"
   ]
  },
  {
   "cell_type": "code",
   "execution_count": null,
   "id": "81573ccd",
   "metadata": {},
   "outputs": [],
   "source": [
    "# Largest male population\n",
    "max_value(all_male)"
   ]
  },
  {
   "cell_type": "markdown",
   "id": "7f365f25",
   "metadata": {},
   "source": [
    "By the way, we can use this 'max_value' function for any data type that has the '>' operator defined"
   ]
  },
  {
   "cell_type": "code",
   "execution_count": null,
   "id": "0a9b3ca1",
   "metadata": {},
   "outputs": [],
   "source": [
    "max_value([3.3, 5.6, 8.0, 4.5])"
   ]
  },
  {
   "cell_type": "markdown",
   "id": "362d0770",
   "metadata": {},
   "source": [
    "We could also use it for strings, but we need to make a modification"
   ]
  },
  {
   "cell_type": "code",
   "execution_count": null,
   "id": "f2cb9702",
   "metadata": {},
   "outputs": [],
   "source": [
    "max_value(['aaa', 'bbb', 'abdc'])"
   ]
  },
  {
   "cell_type": "code",
   "execution_count": null,
   "id": "c036b23d",
   "metadata": {},
   "outputs": [],
   "source": [
    "def max_value(l, default_value=0):\n",
    "    result = default_value\n",
    "    for v in l:\n",
    "        if v > result:\n",
    "            result = v\n",
    "    return result"
   ]
  },
  {
   "cell_type": "code",
   "execution_count": null,
   "id": "607fbf29",
   "metadata": {
    "scrolled": true
   },
   "outputs": [],
   "source": [
    "max_value(['aaa', 'bbb', 'abdc'], '')"
   ]
  },
  {
   "cell_type": "code",
   "execution_count": null,
   "id": "55d49a18",
   "metadata": {},
   "outputs": [],
   "source": [
    "# Other 'smarter' modification\n",
    "def max_value(l):\n",
    "    if len(l) == 0:\n",
    "        return None\n",
    "    result = l[0]\n",
    "    for v in l[1:]:\n",
    "        if v > result:\n",
    "            result = v\n",
    "    return result"
   ]
  },
  {
   "cell_type": "code",
   "execution_count": null,
   "id": "fca4b3b1",
   "metadata": {},
   "outputs": [],
   "source": [
    "max_value(['aaa', 'bbb', 'abdc'])"
   ]
  },
  {
   "cell_type": "code",
   "execution_count": null,
   "id": "c9cd7e58",
   "metadata": {},
   "outputs": [],
   "source": [
    "import sys\n",
    "# Smallest male population\n",
    "\n",
    "def min_value(l):\n",
    "    result = sys.maxsize\n",
    "    for v in l:\n",
    "        if v < result:\n",
    "            result = v\n",
    "    return result\n",
    "\n",
    "min_value(all_male)"
   ]
  },
  {
   "cell_type": "code",
   "execution_count": null,
   "id": "cf8b60a0",
   "metadata": {},
   "outputs": [],
   "source": [
    "# Year with largest total population\n",
    "def index_of_max(l):\n",
    "    if len(l) == 0:\n",
    "        return None\n",
    "    result = 0\n",
    "    for idx in range(1, len(l)):\n",
    "        if l[idx] > l[result]:\n",
    "            result = idx\n",
    "    return result\n",
    "\n",
    "index_of_max(all_total)"
   ]
  },
  {
   "cell_type": "code",
   "execution_count": null,
   "id": "a78b5d78",
   "metadata": {},
   "outputs": [],
   "source": [
    "all_total[32], all_years[32]"
   ]
  },
  {
   "cell_type": "code",
   "execution_count": null,
   "id": "47afdc4f",
   "metadata": {
    "scrolled": true
   },
   "outputs": [],
   "source": [
    "# Maximum difference between two male populations\n",
    "all_male_dif = []\n",
    "for idx in range(1, len(all_years)):\n",
    "    all_male_dif.append(abs(all_male[idx-1] - all_male[idx]))\n",
    "max_value(all_male_dif)"
   ]
  },
  {
   "cell_type": "code",
   "execution_count": null,
   "id": "f4b61f64",
   "metadata": {},
   "outputs": [],
   "source": [
    "# Which are the years of the maximum difference in total population?\n",
    "all_total_dif = []\n",
    "for idx in range(1, len(all_years)):\n",
    "    all_total_dif.append(abs(all_total[idx-1] - all_total[idx]))\n",
    "    \n",
    "max_dif_idx = index_of_max(all_total_dif)\n",
    "\n",
    "max_period = (all_years[max_dif_idx], all_years[max_dif_idx+1])\n",
    "max_period"
   ]
  },
  {
   "cell_type": "code",
   "execution_count": null,
   "id": "f04687ba",
   "metadata": {},
   "outputs": [],
   "source": [
    "# What is the largest difference between the male and female population\n",
    "max_dif = 0\n",
    "max_year = None\n",
    "for idx in range(0, len(all_years)):\n",
    "    current_dif = abs(all_male[idx] - all_female[idx])\n",
    "    if current_dif > max_dif:\n",
    "        max_dif = current_dif\n",
    "        max_year = all_years[idx]\n",
    "max_dif, max_year"
   ]
  }
 ],
 "metadata": {
  "kernelspec": {
   "display_name": "Python [conda env:python_lectures]",
   "language": "python",
   "name": "conda-env-python_lectures-py"
  },
  "language_info": {
   "codemirror_mode": {
    "name": "ipython",
    "version": 3
   },
   "file_extension": ".py",
   "mimetype": "text/x-python",
   "name": "python",
   "nbconvert_exporter": "python",
   "pygments_lexer": "ipython3",
   "version": "3.8.16"
  }
 },
 "nbformat": 4,
 "nbformat_minor": 5
}
