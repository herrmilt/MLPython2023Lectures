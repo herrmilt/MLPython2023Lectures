{
 "cells": [
  {
   "cell_type": "markdown",
   "id": "b18d67f2",
   "metadata": {},
   "source": [
    "# Functions\n",
    "<a id='sec_functions'></a>"
   ]
  },
  {
   "cell_type": "markdown",
   "id": "26ec61c2",
   "metadata": {},
   "source": [
    "A function is a block of code that performs a specific task and can be called from other parts of a program. It has the following syntax"
   ]
  },
  {
   "cell_type": "code",
   "execution_count": null,
   "id": "5d24d916",
   "metadata": {},
   "outputs": [],
   "source": [
    "def function_name(parameters):\n",
    "    \"\"\"docstring\"\"\"\n",
    "    statement(s)"
   ]
  },
  {
   "cell_type": "markdown",
   "id": "7ebe7244",
   "metadata": {},
   "source": [
    "Here an example"
   ]
  },
  {
   "cell_type": "code",
   "execution_count": null,
   "id": "dce72b32",
   "metadata": {},
   "outputs": [],
   "source": [
    "def greet(name):\n",
    "    \"\"\"This function greets the person passed in as a parameter.\"\"\"\n",
    "    print(\"Hello, \" + name + \". How are you?\")\n",
    "greet(\"John\") \n",
    "greet(\"Mary\") "
   ]
  },
  {
   "cell_type": "markdown",
   "id": "0430596e",
   "metadata": {},
   "source": [
    "The return statement is used to exit a function and return a value to the caller.\n",
    "\n",
    "Syntax: return [expression]"
   ]
  },
  {
   "cell_type": "code",
   "execution_count": null,
   "id": "660ad5aa",
   "metadata": {},
   "outputs": [],
   "source": [
    "def multiply(num1, num2):\n",
    "    \"\"\"This function multiplies two numbers and returns the result.\"\"\"\n",
    "    return num1 * num2\n",
    "result = multiply(2, 5)\n",
    "print(result)"
   ]
  },
  {
   "cell_type": "markdown",
   "id": "7e863beb",
   "metadata": {},
   "source": [
    "**Note**: In Python, it is not bug if a function execution path does not include a\n",
    "In those cases, the function returns None"
   ]
  },
  {
   "cell_type": "code",
   "execution_count": null,
   "id": "6e92f4f1",
   "metadata": {},
   "outputs": [],
   "source": [
    "def no_return():\n",
    "    a = \"what?\"\n",
    "    \n",
    "result = no_return()\n",
    "print(result)"
   ]
  },
  {
   "cell_type": "markdown",
   "id": "1de9832f",
   "metadata": {},
   "source": [
    "Default parameters are used to assign a default value to a parameter if no value is provided when the function is called.\n",
    "\n",
    "Syntax: def function_name(parameter1, parameter2=default_value):"
   ]
  },
  {
   "cell_type": "code",
   "execution_count": null,
   "id": "b4f49d5a",
   "metadata": {},
   "outputs": [],
   "source": [
    "def greet(name, greeting=\"Hello\"):\n",
    "    print(greeting, name)\n",
    "    \n",
    "greet(\"John\")\n",
    "greet(\"Mary\", \"Hi\")"
   ]
  },
  {
   "cell_type": "markdown",
   "id": "fbcd6442",
   "metadata": {},
   "source": [
    "Keyword arguments are used to specify the name of the parameter being passed to the function,\n",
    "allowing parameters to be passed in any order.\n",
    "\n",
    "Syntax: \n",
    "\n",
    "def function_name(parameter1, parameter2):\n",
    "    \n",
    "function_name(parameter2=value2, parameter1=value1)"
   ]
  },
  {
   "cell_type": "code",
   "execution_count": null,
   "id": "39359467",
   "metadata": {},
   "outputs": [],
   "source": [
    "def greet(name, greeting):\n",
    "    print(greeting, name)\n",
    "    \n",
    "greet(greeting=\"Hello\", name=\"John\")\n",
    "greet(name=\"Mary\", greeting=\"Hi\")"
   ]
  },
  {
   "cell_type": "markdown",
   "id": "1138e86b",
   "metadata": {},
   "source": [
    "Variable-length arguments allow a function to accept any number of arguments, which are passed as a tuple.\n",
    "\n",
    "Syntax: def function_name(*args):"
   ]
  },
  {
   "cell_type": "code",
   "execution_count": null,
   "id": "d6ff1971",
   "metadata": {},
   "outputs": [],
   "source": [
    "def calculate_average(*args):\n",
    "    total = 0\n",
    "    for a in args:\n",
    "        total += a\n",
    "    return total / len(args)\n",
    "\n",
    "print(calculate_average(2, 4, 7))\n",
    "print(calculate_average(5, 9, 12.3, 24.5, 8))"
   ]
  },
  {
   "cell_type": "markdown",
   "id": "2ba61c21",
   "metadata": {},
   "source": [
    "You can pass a variable number of named parameters to a functions, which are captured in a\n",
    "dictionary. For example:"
   ]
  },
  {
   "cell_type": "code",
   "execution_count": null,
   "id": "0456ad65",
   "metadata": {},
   "outputs": [],
   "source": [
    "def print_details(**kwargs):\n",
    "    for key, value in kwargs.items():\n",
    "        print(key, \":\", value)\n",
    "        \n",
    "print_details(name=\"Peter\", age=23, gender=\"Female\")"
   ]
  },
  {
   "cell_type": "markdown",
   "id": "8737a588",
   "metadata": {},
   "source": [
    "# Solved Exercises"
   ]
  },
  {
   "cell_type": "markdown",
   "id": "4411a2f9",
   "metadata": {},
   "source": [
    "**Exercise**. Write a function to calculate the area of a circle."
   ]
  },
  {
   "cell_type": "code",
   "execution_count": null,
   "id": "b35705a0",
   "metadata": {},
   "outputs": [],
   "source": [
    "def circle_area(radius):\n",
    "    return 3.1415 * radius**2\n",
    "\n",
    "circle_area(2)"
   ]
  },
  {
   "cell_type": "markdown",
   "id": "90e4f12a",
   "metadata": {},
   "source": [
    "**Exercise**. Write a function to calculate the volume of a cylinder.\n",
    "- Note: Use the previous function"
   ]
  },
  {
   "cell_type": "code",
   "execution_count": null,
   "id": "601dfe29",
   "metadata": {},
   "outputs": [],
   "source": [
    "def cylinder_volume(radius, height):\n",
    "    return circle_area(radius) * height\n",
    "\n",
    "cylinder_volume(2, 10)"
   ]
  },
  {
   "cell_type": "markdown",
   "id": "7af9ee4f",
   "metadata": {},
   "source": [
    "**Exercise**. Function to sum all elements in a list"
   ]
  },
  {
   "cell_type": "code",
   "execution_count": null,
   "id": "1bd97cf3",
   "metadata": {},
   "outputs": [],
   "source": [
    "def sum_list(lst):\n",
    "    result = 0\n",
    "    for element in lst:\n",
    "        result = result + element\n",
    "    return result\n",
    "\n",
    "sum_list([2, 3, 4, 7])"
   ]
  },
  {
   "cell_type": "markdown",
   "id": "f9f49760",
   "metadata": {},
   "source": [
    "a) Modify it by allowing to concatenate strings and sequences\n",
    "- Hint: Pass a parameter for default value"
   ]
  },
  {
   "cell_type": "code",
   "execution_count": null,
   "id": "fcd9caae",
   "metadata": {},
   "outputs": [],
   "source": [
    "def sum_list(lst, default=0):\n",
    "    result = default\n",
    "    for element in lst:\n",
    "        result = result + element\n",
    "    return result\n",
    "\n",
    "sum_list(['the ', 'cat ', 'is uggly'], '')"
   ]
  },
  {
   "cell_type": "markdown",
   "id": "b970bcc3",
   "metadata": {},
   "source": [
    "Note: A better option is to use the first element for initializing result"
   ]
  },
  {
   "cell_type": "code",
   "execution_count": null,
   "id": "6d41b8b0",
   "metadata": {},
   "outputs": [],
   "source": [
    "def sum_list(lst):\n",
    "    if len(lst) == 0:\n",
    "        return []\n",
    "    result = lst[0]\n",
    "    for element in lst[1:]:\n",
    "        result = result + element\n",
    "    return result\n",
    "\n",
    "sum_list([(2, 3,4), (3, 4, 5, 6), (3, 7)])"
   ]
  },
  {
   "cell_type": "markdown",
   "id": "ba84a0b9",
   "metadata": {},
   "source": [
    "**Exercise**. Function to sum all elements in a list. The list can contain other sublists, which need to be summed as well.\n",
    "- Tip: type(l)==list returns True if the element is a list"
   ]
  },
  {
   "cell_type": "code",
   "execution_count": null,
   "id": "732cf890",
   "metadata": {},
   "outputs": [],
   "source": [
    "def sum_nested_list(lst):\n",
    "    result = 0\n",
    "    for element in lst:\n",
    "        if type(element) == list:\n",
    "            result += sum_nested_list(element)\n",
    "        else:\n",
    "            result += element\n",
    "    return result\n",
    "\n",
    "sum_nested_list([2, [2, [3, 5, 6]], 4, [5, 6]])"
   ]
  }
 ],
 "metadata": {
  "kernelspec": {
   "display_name": "python_lectures",
   "language": "python",
   "name": "python_lectures"
  },
  "language_info": {
   "codemirror_mode": {
    "name": "ipython",
    "version": 3
   },
   "file_extension": ".py",
   "mimetype": "text/x-python",
   "name": "python",
   "nbconvert_exporter": "python",
   "pygments_lexer": "ipython3",
   "version": "3.8.16"
  }
 },
 "nbformat": 4,
 "nbformat_minor": 5
}
