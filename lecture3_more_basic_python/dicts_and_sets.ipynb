{
 "cells": [
  {
   "cell_type": "markdown",
   "id": "b693e51c",
   "metadata": {},
   "source": [
    "# Dictionaries and Sets\n",
    "<a id='sec_dicts_and_sets'></a>\n",
    "\n",
    "Let's start by understanding what dictionaries are in Python. A dictionary is a data structure that\n",
    "stores key-value pairs. We can create a dictionary in Python using curly braces {}. For example:"
   ]
  },
  {
   "cell_type": "code",
   "execution_count": null,
   "id": "8cb4e692",
   "metadata": {},
   "outputs": [],
   "source": [
    "my_dictionary = {'name': 'John', 'age': 28, 'profession': 'programmer'}\n",
    "my_dictionary"
   ]
  },
  {
   "cell_type": "markdown",
   "id": "922af882",
   "metadata": {},
   "source": [
    "Keys and values can be of different data types"
   ]
  },
  {
   "cell_type": "code",
   "execution_count": null,
   "id": "4da403c8",
   "metadata": {},
   "outputs": [],
   "source": [
    "a_dict = {2: \"two\", False: 23, \"values\": [3, 4, 5]}\n",
    "a_dict"
   ]
  },
  {
   "cell_type": "markdown",
   "id": "602a71fb",
   "metadata": {},
   "source": [
    "Keys must be inmutable"
   ]
  },
  {
   "cell_type": "code",
   "execution_count": null,
   "id": "79d1fca0",
   "metadata": {},
   "outputs": [],
   "source": [
    "{(2, 3): True, \"text\": False}"
   ]
  },
  {
   "cell_type": "code",
   "execution_count": null,
   "id": "d5664e37",
   "metadata": {},
   "outputs": [],
   "source": [
    "{[3, 4, 5]: 45}"
   ]
  },
  {
   "cell_type": "markdown",
   "id": "b03c6871",
   "metadata": {},
   "source": [
    "We can access the values of the dictionary using the corresponding key. For example:"
   ]
  },
  {
   "cell_type": "code",
   "execution_count": null,
   "id": "5c07f1db",
   "metadata": {
    "scrolled": true
   },
   "outputs": [],
   "source": [
    "my_dictionary"
   ]
  },
  {
   "cell_type": "code",
   "execution_count": null,
   "id": "7ac7cbcd",
   "metadata": {},
   "outputs": [],
   "source": [
    "my_dictionary['name']"
   ]
  },
  {
   "cell_type": "markdown",
   "id": "d9dee1a9",
   "metadata": {},
   "source": [
    "If an element is not in the dictionary, a KeyError exception is thrown"
   ]
  },
  {
   "cell_type": "code",
   "execution_count": null,
   "id": "d956a4e7",
   "metadata": {},
   "outputs": [],
   "source": [
    "my_dictionary['gender']"
   ]
  },
  {
   "cell_type": "markdown",
   "id": "11fc0a02",
   "metadata": {},
   "source": [
    "We can add a new key-value pair to the dictionary:"
   ]
  },
  {
   "cell_type": "code",
   "execution_count": null,
   "id": "8e90e6f5",
   "metadata": {},
   "outputs": [],
   "source": [
    "my_dictionary['location'] = 'New York'\n",
    "my_dictionary"
   ]
  },
  {
   "cell_type": "markdown",
   "id": "1980aa93",
   "metadata": {},
   "source": [
    "We can also update an existing value:"
   ]
  },
  {
   "cell_type": "code",
   "execution_count": null,
   "id": "bc57e385",
   "metadata": {
    "scrolled": true
   },
   "outputs": [],
   "source": [
    "my_dictionary['age'] = 50\n",
    "my_dictionary"
   ]
  },
  {
   "cell_type": "markdown",
   "id": "982845e5",
   "metadata": {},
   "source": [
    "And we can delete a key-value pair using the del keyword:"
   ]
  },
  {
   "cell_type": "code",
   "execution_count": null,
   "id": "4448f82b",
   "metadata": {},
   "outputs": [],
   "source": [
    "del my_dictionary['age']\n",
    "my_dictionary"
   ]
  },
  {
   "cell_type": "markdown",
   "id": "fc43ab82",
   "metadata": {},
   "source": [
    "Checking if a key exists in a dictionary:"
   ]
  },
  {
   "cell_type": "code",
   "execution_count": null,
   "id": "b2852922",
   "metadata": {},
   "outputs": [],
   "source": [
    "my_dict = {'name': 'John', 'age': 30, 'city': 'New York'}\n",
    "'name' in my_dict"
   ]
  },
  {
   "cell_type": "code",
   "execution_count": null,
   "id": "fe13574e",
   "metadata": {},
   "outputs": [],
   "source": [
    "30 in my_dict"
   ]
  },
  {
   "cell_type": "markdown",
   "id": "0c1fce55",
   "metadata": {},
   "source": [
    "Getting all keys or values from a dictionary:"
   ]
  },
  {
   "cell_type": "code",
   "execution_count": null,
   "id": "51a76de4",
   "metadata": {},
   "outputs": [],
   "source": [
    "print(my_dict.keys())\n",
    "print(my_dict.values())"
   ]
  },
  {
   "cell_type": "markdown",
   "id": "fee61ef3",
   "metadata": {},
   "source": [
    "Looping through the key, value pairs in a dictionary"
   ]
  },
  {
   "cell_type": "code",
   "execution_count": null,
   "id": "0db9f960",
   "metadata": {},
   "outputs": [],
   "source": [
    "for key, value in my_dict.items():\n",
    "    print(key, value)"
   ]
  },
  {
   "cell_type": "markdown",
   "id": "1ccfa097",
   "metadata": {},
   "source": [
    "Clearing the dictionary"
   ]
  },
  {
   "cell_type": "code",
   "execution_count": null,
   "id": "daca0085",
   "metadata": {},
   "outputs": [],
   "source": [
    "my_dict = {'name': 'John', 'age': 30, 'city': 'New York'}\n",
    "my_dict.clear()\n",
    "my_dict"
   ]
  },
  {
   "cell_type": "markdown",
   "id": "12594441",
   "metadata": {},
   "source": [
    "The get() method is used to retrieve the value for a given key from a dictionary. It takes two arguments - the key and a default value to return if the key is not found in the dictionary. \n",
    "\n",
    "If the key is found, the corresponding value is returned. Otherwise, the default\n",
    "value is returned."
   ]
  },
  {
   "cell_type": "code",
   "execution_count": null,
   "id": "08fd29be",
   "metadata": {
    "scrolled": true
   },
   "outputs": [],
   "source": [
    "my_dict = {'name': 'John', 'age': 30, 'city': 'New York'}\n",
    "print(my_dict.get('name', 23))\n",
    "print(my_dict.get('gender', 14))"
   ]
  },
  {
   "cell_type": "markdown",
   "id": "ff0d706c",
   "metadata": {},
   "source": [
    "### Sets\n",
    "\n",
    "A set is an unordered collection of unique elements. It is a built-in data type that provides a convenient way to store and manipulate distinct values"
   ]
  },
  {
   "cell_type": "code",
   "execution_count": null,
   "id": "86848023",
   "metadata": {},
   "outputs": [],
   "source": [
    "my_set = {1, 2, 3}\n",
    "my_set"
   ]
  },
  {
   "cell_type": "markdown",
   "id": "ee36cae6",
   "metadata": {},
   "source": [
    "Sets only contain unique elements. If duplicate values are specified during set creation, they are automatically eliminated, leaving only unique values in the set"
   ]
  },
  {
   "cell_type": "code",
   "execution_count": null,
   "id": "71efe398",
   "metadata": {},
   "outputs": [],
   "source": [
    "my_set = {1, 2, 2, 3, 3, 3}\n",
    "my_set"
   ]
  },
  {
   "cell_type": "markdown",
   "id": "9c947a26",
   "metadata": {},
   "source": [
    "Sets support various operations such as union, intersection, difference, and more. These operations can be performed using built-in methods or operators"
   ]
  },
  {
   "cell_type": "code",
   "execution_count": null,
   "id": "c63bc4ed",
   "metadata": {},
   "outputs": [],
   "source": [
    "set1 = {1, 2, 3}\n",
    "set2 = {2, 3, 4}\n",
    "set1.union(set2)       "
   ]
  },
  {
   "cell_type": "code",
   "execution_count": null,
   "id": "2c4a46c3",
   "metadata": {},
   "outputs": [],
   "source": [
    "set1.intersection(set2)  "
   ]
  },
  {
   "cell_type": "code",
   "execution_count": null,
   "id": "e2258fde",
   "metadata": {},
   "outputs": [],
   "source": [
    "set1.difference(set2)   "
   ]
  },
  {
   "cell_type": "markdown",
   "id": "99c28c6f",
   "metadata": {},
   "source": [
    "Sets are mutable, which means you can add or remove elements from a set after its creation"
   ]
  },
  {
   "cell_type": "code",
   "execution_count": null,
   "id": "d084ee19",
   "metadata": {},
   "outputs": [],
   "source": [
    "my_set = {1, 2, 3}\n",
    "my_set.add(4)      # Add a single element\n",
    "my_set.update({5, 6})  # Add multiple elements\n",
    "my_set.remove(2)   # Remove an element\n",
    "my_set"
   ]
  },
  {
   "cell_type": "markdown",
   "id": "7bf2d03c",
   "metadata": {},
   "source": [
    "You can check if an element is present in a set using the in operator"
   ]
  },
  {
   "cell_type": "code",
   "execution_count": null,
   "id": "21b09b31",
   "metadata": {},
   "outputs": [],
   "source": [
    "my_set = {1, 2, 3}\n",
    "print(2 in my_set)  \n",
    "print(4 in my_set)  "
   ]
  },
  {
   "cell_type": "markdown",
   "id": "3c7f4d78",
   "metadata": {},
   "source": [
    "## Solved Exercises"
   ]
  },
  {
   "cell_type": "markdown",
   "id": "e0789217",
   "metadata": {},
   "source": [
    "**Exercise**. Create a dictionary representing a student's information (name, age, grade) and print each key-value pair."
   ]
  },
  {
   "cell_type": "code",
   "execution_count": null,
   "id": "d4598180",
   "metadata": {},
   "outputs": [],
   "source": [
    "student = {\n",
    "    \"name\": \"John Smith\",\n",
    "    \"age\": 17,\n",
    "    \"grade\": \"11th\"\n",
    "}\n",
    "\n",
    "for key, value in student.items():\n",
    "    print(key, \":\", value)"
   ]
  },
  {
   "cell_type": "markdown",
   "id": "5b148504",
   "metadata": {},
   "source": [
    "**Exercise**. Given a list of names, create a dictionary where the names are the keys and the values represent their lengths."
   ]
  },
  {
   "cell_type": "code",
   "execution_count": null,
   "id": "bf3f6560",
   "metadata": {},
   "outputs": [],
   "source": [
    "names = [\"Alice\", \"Bob\", \"Charlie\", \"David\"]\n",
    "\n",
    "name_lengths = {}\n",
    "for name in names:\n",
    "    name_lengths[name] = len(name)\n",
    "\n",
    "name_lengths"
   ]
  },
  {
   "cell_type": "markdown",
   "id": "9a7df1f2",
   "metadata": {},
   "source": [
    "**Exercise**. Count the frequency of each character in a given string and store it in a dictionary."
   ]
  },
  {
   "cell_type": "code",
   "execution_count": null,
   "id": "7a022538",
   "metadata": {},
   "outputs": [],
   "source": [
    "string = \"hello world\"\n",
    "\n",
    "char_frequency = {}\n",
    "for char in string:\n",
    "    if char in char_frequency:\n",
    "        char_frequency[char] += 1\n",
    "    else:\n",
    "        char_frequency[char] = 1\n",
    "\n",
    "char_frequency"
   ]
  },
  {
   "cell_type": "code",
   "execution_count": null,
   "id": "6aaae204",
   "metadata": {},
   "outputs": [],
   "source": [
    "string = \"hello world\"\n",
    "\n",
    "char_frequency = {}\n",
    "for char in string:\n",
    "    char_frequency[char] = char_frequency.get(char, 0) + 1\n",
    "\n",
    "char_frequency"
   ]
  },
  {
   "cell_type": "markdown",
   "id": "5e46a1d8",
   "metadata": {},
   "source": [
    "**Exercise**. Create a dictionary that maps grades to corresponding grade points (A: 4, B: 3, C: 2, D: 1, F: 0). Given a list of grades, calculate the GPA (Grade Point Average)."
   ]
  },
  {
   "cell_type": "code",
   "execution_count": null,
   "id": "284bf754",
   "metadata": {},
   "outputs": [],
   "source": [
    "grades = [\"A\", \"B\", \"C\", \"A\", \"B\"]\n",
    "\n",
    "grade_points = {\n",
    "    \"A\": 4,\n",
    "    \"B\": 3,\n",
    "    \"C\": 2,\n",
    "    \"D\": 1,\n",
    "    \"F\": 0\n",
    "}\n",
    "\n",
    "total_points = sum(grade_points[grade] for grade in grades)\n",
    "gpa = total_points / len(grades)\n",
    "\n",
    "print(\"GPA:\", gpa)"
   ]
  },
  {
   "cell_type": "markdown",
   "id": "66f45d61",
   "metadata": {},
   "source": [
    "**Exercise**. Create a dictionary of fruit prices per pound. \n",
    "Enter the name of the fruit and the quantity, print the total price"
   ]
  },
  {
   "cell_type": "code",
   "execution_count": null,
   "id": "00a2fd91",
   "metadata": {},
   "outputs": [],
   "source": [
    "fruits = {\"mango\": 2.3, \"strawberry\": 3.5, \"melon\": 2.4}\n",
    "name = input(\"Enter fruit:\")\n",
    "quantity = float(input(\"Enter quantity:\"))\n",
    "price = fruits.get(name, None)\n",
    "if price is not None:\n",
    "    print(\"Total price:\", price * quantity)\n",
    "else:\n",
    "    print(\"Unregistered fruit:\", name)"
   ]
  },
  {
   "cell_type": "markdown",
   "id": "d6886949",
   "metadata": {},
   "source": [
    "**Exercise**. Enter the amount of RMB from a person and the currency to convert.\n",
    "Print the converted amount.\n",
    "The exchange rate for each currency and its symbol (for the result) should be stored in a dictionary."
   ]
  },
  {
   "cell_type": "code",
   "execution_count": null,
   "id": "eb0ec03c",
   "metadata": {},
   "outputs": [],
   "source": [
    "rates = {\n",
    "    \"eur\": {\"rate\": 8.2, \"symbol\": \"€\"},\n",
    "    \"cup\": {\"rate\": 0.3, \"symbol\": \"₱\"},\n",
    "    \"usd\": {\"rate\": 7.6, \"symbol\": \"$\"}\n",
    "}\n",
    "\n",
    "rmb = float(input(\"Enter RMB amount:\"))\n",
    "currency = input(\"Enter destination currency (eur, cup, usd):\")\n",
    "rate = rates.get(currency.lower(), None)\n",
    "if rate is not None:\n",
    "    converted = rmb / rate['rate']\n",
    "    print(\"The result is\", converted, rate['symbol'])\n",
    "else:\n",
    "    print(\"Invalid currency:\", currency)"
   ]
  },
  {
   "cell_type": "markdown",
   "id": "8e859d32",
   "metadata": {},
   "source": [
    "**Exercise**. Write a program that creates an empty dictionary and gradually fills it with information about a person (such as name, age, gender, phone number, email, etc.) prompted from the user. The input format should be <name>=<value> (e.g., age=24). Each time a new data is added, the contents of the dictionary should be printed."
   ]
  },
  {
   "cell_type": "code",
   "execution_count": null,
   "id": "681fabee",
   "metadata": {},
   "outputs": [],
   "source": [
    "d = {}\n",
    "finish = False\n",
    "while not finish:\n",
    "    info = input(\"Enter property (<name>=<value>)\")\n",
    "    if info == \"\":\n",
    "        finish = True\n",
    "        print(\"Finished\")\n",
    "    else:\n",
    "        comps = info.split(\"=\")\n",
    "        if len(comps) != 2:\n",
    "            print(\"Incorrect format, should be <name>=<value>\")\n",
    "        else:\n",
    "            d[comps[0].strip()] = comps[1].strip()\n",
    "            print(d)"
   ]
  },
  {
   "cell_type": "markdown",
   "id": "45bdaba1",
   "metadata": {},
   "source": [
    "The following lines load all the lines from an online dictionary"
   ]
  },
  {
   "cell_type": "code",
   "execution_count": null,
   "id": "da4eab49",
   "metadata": {},
   "outputs": [],
   "source": [
    "import re\n",
    "with open(\"data/dict_EngEsp.txt\", \"r\", encoding='iso-8859-1',\n",
    "                 errors='ignore') as f:\n",
    "    lines = [re.sub(r\"\\[.*\\]|\\(.*\\)|/\",\"\",l) for l in f.readlines()]"
   ]
  },
  {
   "cell_type": "code",
   "execution_count": null,
   "id": "47d4927d",
   "metadata": {},
   "outputs": [],
   "source": [
    "lines"
   ]
  },
  {
   "cell_type": "markdown",
   "id": "ba92d8c8",
   "metadata": {},
   "source": [
    "**Exercise**. Load the first translation of each word into a dictionary\n",
    "Take into account that:\n",
    "- Comment lines start with '#' and should be ignored\n",
    "- The English term is separated from the translation by a tab (\\t)\n",
    "- A word can have multiple translations separated by commas: Select the first one\n",
    "- A word can be defined on multiple lines; choose the first one"
   ]
  },
  {
   "cell_type": "code",
   "execution_count": null,
   "id": "56927a38",
   "metadata": {},
   "outputs": [],
   "source": [
    "translate = {}\n",
    "for l in lines:\n",
    "    if l[0] != \"#\" and l != \"\":\n",
    "        l = l[:-1] # remove the \\n in the end\n",
    "        term_eng, all_spa = l.split('\\t')\n",
    "        terms_spa = all_spa.split(',')\n",
    "        term_spa = terms_spa[0]\n",
    "        if term_eng not in translate:\n",
    "            translate[term_eng.lower()] = term_spa.lower()      "
   ]
  },
  {
   "cell_type": "code",
   "execution_count": null,
   "id": "d3edf690",
   "metadata": {},
   "outputs": [],
   "source": [
    "translate"
   ]
  },
  {
   "cell_type": "markdown",
   "id": "065518eb",
   "metadata": {},
   "source": [
    "**Exercise**. Using the previous dictionary, enter a phrase and translate it word by word. If a word has no translation, leave it as is surrounded by <>."
   ]
  },
  {
   "cell_type": "code",
   "execution_count": null,
   "id": "57b3ebe2",
   "metadata": {},
   "outputs": [],
   "source": [
    "frase = \"the sun is shine\"\n",
    "words = frase.split(' ')\n",
    "results = []\n",
    "for w in words:\n",
    "    trans = translate.get(w.lower(), None)\n",
    "    if trans is None:\n",
    "        trans = \"<\" + w + \">\"\n",
    "    results.append(trans)\n",
    "result = \" \".join(results)\n",
    "print(result)"
   ]
  },
  {
   "cell_type": "code",
   "execution_count": null,
   "id": "c49ba6ee",
   "metadata": {},
   "outputs": [],
   "source": []
  }
 ],
 "metadata": {
  "kernelspec": {
   "display_name": "python_lectures",
   "language": "python",
   "name": "python_lectures"
  },
  "language_info": {
   "codemirror_mode": {
    "name": "ipython",
    "version": 3
   },
   "file_extension": ".py",
   "mimetype": "text/x-python",
   "name": "python",
   "nbconvert_exporter": "python",
   "pygments_lexer": "ipython3",
   "version": "3.8.16"
  }
 },
 "nbformat": 4,
 "nbformat_minor": 5
}
